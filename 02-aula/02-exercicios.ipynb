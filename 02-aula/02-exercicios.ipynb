{
 "cells": [
  {
   "cell_type": "markdown",
   "id": "5d60b098",
   "metadata": {},
   "source": [
    "# Solução dos exercícios da aula 02"
   ]
  },
  {
   "cell_type": "markdown",
   "id": "32032479",
   "metadata": {},
   "source": [
    "## Exercício 1\n",
    "Tente concatenar uma string com um número inteiro\n"
   ]
  },
  {
   "cell_type": "code",
   "execution_count": 1,
   "id": "0414e15a",
   "metadata": {},
   "outputs": [
    {
     "ename": "TypeError",
     "evalue": "can only concatenate str (not \"int\") to str",
     "output_type": "error",
     "traceback": [
      "\u001b[0;31m---------------------------------------------------------------------------\u001b[0m",
      "\u001b[0;31mTypeError\u001b[0m                                 Traceback (most recent call last)",
      "\u001b[0;32m/tmp/ipykernel_5173/276236657.py\u001b[0m in \u001b[0;36m<module>\u001b[0;34m\u001b[0m\n\u001b[1;32m      1\u001b[0m \u001b[0ms\u001b[0m \u001b[0;34m=\u001b[0m \u001b[0;34m\"Uma string\"\u001b[0m\u001b[0;34m\u001b[0m\u001b[0;34m\u001b[0m\u001b[0m\n\u001b[1;32m      2\u001b[0m \u001b[0mx\u001b[0m \u001b[0;34m=\u001b[0m \u001b[0;36m10\u001b[0m\u001b[0;34m\u001b[0m\u001b[0;34m\u001b[0m\u001b[0m\n\u001b[0;32m----> 3\u001b[0;31m \u001b[0ms\u001b[0m \u001b[0;34m+\u001b[0m \u001b[0mx\u001b[0m\u001b[0;34m\u001b[0m\u001b[0;34m\u001b[0m\u001b[0m\n\u001b[0m",
      "\u001b[0;31mTypeError\u001b[0m: can only concatenate str (not \"int\") to str"
     ]
    }
   ],
   "source": [
    "s = \"Uma string\"\n",
    "x = 10\n",
    "s + x"
   ]
  },
  {
   "cell_type": "markdown",
   "id": "5b82bd05",
   "metadata": {},
   "source": [
    "## Exercício 2\n",
    "Faça um programa que peça dois números inteiros. Imprima na tela a soma desses números\n"
   ]
  },
  {
   "cell_type": "code",
   "execution_count": 4,
   "id": "e74cf8d1",
   "metadata": {},
   "outputs": [
    {
     "name": "stdout",
     "output_type": "stream",
     "text": [
      "Entre com um número inteiro: 10\n",
      "Entre com outro número inteiro: 20\n",
      "30\n"
     ]
    }
   ],
   "source": [
    "x1 = int(input(\"Entre com um número inteiro: \"))\n",
    "x2 = int(input(\"Entre com outro número inteiro: \"))\n",
    "soma = x1 + x2\n",
    "print(soma)"
   ]
  },
  {
   "cell_type": "markdown",
   "id": "661a15d0",
   "metadata": {},
   "source": [
    "## Exercício 3\n",
    "Escreve um  programa que leia um valor em metros e o exiba na tela em milímetros.\n"
   ]
  },
  {
   "cell_type": "code",
   "execution_count": 10,
   "id": "a2852ba8",
   "metadata": {},
   "outputs": [
    {
     "name": "stdout",
     "output_type": "stream",
     "text": [
      "Entre com o comprimento em metros: 0.34\n",
      "0.34m = 340.0mm\n"
     ]
    }
   ],
   "source": [
    "xm = float(input(\"Entre com o comprimento em metros: \"))\n",
    "xmm = xm * 1000\n",
    "\n",
    "print(f\"{xm}m = {xmm}mm\")"
   ]
  },
  {
   "cell_type": "markdown",
   "id": "1a23a34d",
   "metadata": {},
   "source": [
    "## Exercício 4\n",
    "Escreva um programa que leia uma quantidade de dias, horas e minutos e calcule o total de segundos\n"
   ]
  },
  {
   "cell_type": "code",
   "execution_count": 11,
   "id": "4a40e039",
   "metadata": {},
   "outputs": [
    {
     "name": "stdout",
     "output_type": "stream",
     "text": [
      "Entre com 'número de dias: 3\n",
      "Entre com 'número de horas: 8\n",
      "Entre com 'número de minutos: 56\n"
     ]
    }
   ],
   "source": [
    "dias = int(input(\"Entre com 'número de dias: \"))\n",
    "horas = int(input(\"Entre com 'número de horas: \"))\n",
    "minutos = int(input(\"Entre com 'número de minutos: \"))\n"
   ]
  },
  {
   "cell_type": "code",
   "execution_count": 13,
   "id": "23553fd0",
   "metadata": {},
   "outputs": [
    {
     "data": {
      "text/plain": [
       "291360"
      ]
     },
     "execution_count": 13,
     "metadata": {},
     "output_type": "execute_result"
    }
   ],
   "source": [
    "segundos = 60*(minutos + 60*(horas + 24*dias))\n",
    "segundos"
   ]
  },
  {
   "cell_type": "markdown",
   "id": "d4ad2702",
   "metadata": {},
   "source": [
    "## Exercício 5\n",
    "Escreve um programa que converta a temperatura digitada em °C em °F.\n"
   ]
  },
  {
   "cell_type": "code",
   "execution_count": 23,
   "id": "fd5af5f1",
   "metadata": {},
   "outputs": [
    {
     "name": "stdout",
     "output_type": "stream",
     "text": [
      "Entre com a temperatura em °C: 10\n"
     ]
    },
    {
     "data": {
      "text/plain": [
       "50.0"
      ]
     },
     "execution_count": 23,
     "metadata": {},
     "output_type": "execute_result"
    }
   ],
   "source": [
    "oC = float(input(\"Entre com a temperatura em °C: \"))\n",
    "oF = oC * 9/5 + 32\n",
    "oF"
   ]
  },
  {
   "cell_type": "markdown",
   "id": "2b53f2a3",
   "metadata": {},
   "source": [
    "## Exercício 6\n",
    "O que acontece se `a == b`? Teste!"
   ]
  },
  {
   "cell_type": "code",
   "execution_count": 25,
   "id": "b83e9526",
   "metadata": {},
   "outputs": [
    {
     "name": "stdout",
     "output_type": "stream",
     "text": [
      "Primeiro valor: 10\n",
      "Segundo valor: 10\n"
     ]
    }
   ],
   "source": [
    "a = int(input(\"Primeiro valor: \"))\n",
    "b = int(input(\"Segundo valor: \"))\n",
    "if a>b:\n",
    "    print(\"O primeiro valor é maior!\")\n",
    "    \n",
    "if b>a:\n",
    "    print(\"O segundo valor é maior!\")\n",
    "\n"
   ]
  },
  {
   "cell_type": "markdown",
   "id": "0d256a40",
   "metadata": {},
   "source": [
    "## Exercício 7\n",
    "Escreva um programa que pergunte a velocidade do carro de um usuário. Caso ultrapasse 80 km/h, exiba uma mensagem dizendo que o usuário foi multado. Nesse caso, exiba o valor da multa cobrando R$ 5 por km/h acima de 80 km/h.\n"
   ]
  },
  {
   "cell_type": "code",
   "execution_count": 27,
   "id": "6e76ca60",
   "metadata": {},
   "outputs": [
    {
     "name": "stdout",
     "output_type": "stream",
     "text": [
      "Entre com a velocidade do carro em km/h: 90\n",
      "Você estava a 90.0km/h. Você foi multado em R$50.00\n"
     ]
    }
   ],
   "source": [
    "V = float(input(\"Entre com a velocidade do carro em km/h: \"))\n",
    "if V > 80:\n",
    "    multa = (V-80) * 5\n",
    "    msg = f\"Você estava a {V}km/h. Você foi multado em R${multa:5.2f}\"\n",
    "    print(msg)"
   ]
  },
  {
   "cell_type": "markdown",
   "id": "7b557913",
   "metadata": {},
   "source": [
    "## Exercicio 8\n",
    "Escreva um programa que lê três números e imprima o valor do maior\n"
   ]
  },
  {
   "cell_type": "code",
   "execution_count": 31,
   "id": "b7cb77d0",
   "metadata": {},
   "outputs": [
    {
     "name": "stdout",
     "output_type": "stream",
     "text": [
      "Entre com o primeiro número: 2\n",
      "Entre com o segundo número: 5\n",
      "Entre com o terceiro número: 3\n",
      "O número 5 é o maior número!\n"
     ]
    }
   ],
   "source": [
    "n1 = int(input(\"Entre com o primeiro número: \"))\n",
    "n2 = int(input(\"Entre com o segundo número: \"))\n",
    "n3 = int(input(\"Entre com o terceiro número: \"))\n",
    "\n",
    "if n1 >= n2:\n",
    "    maior = n1\n",
    "if n2 > n1:\n",
    "    maior = n2\n",
    "if n3 > n2:\n",
    "    maior = n3\n",
    "\n",
    "print(f\"O número {maior} é o maior número!\")\n"
   ]
  },
  {
   "cell_type": "markdown",
   "id": "e3fde35f",
   "metadata": {},
   "source": [
    "## Exercício 9\n",
    "Brinque com os programas acima entrando diferentes valores\n"
   ]
  },
  {
   "cell_type": "code",
   "execution_count": 34,
   "id": "0015d730",
   "metadata": {},
   "outputs": [
    {
     "name": "stdout",
     "output_type": "stream",
     "text": [
      "Primeiro valor: 1\n",
      "Segundo valor: 5\n",
      "O segundo valor é maior ou igual!\n"
     ]
    }
   ],
   "source": [
    "# Programa do exercício 6:\n",
    "a = int(input(\"Primeiro valor: \"))\n",
    "b = int(input(\"Segundo valor: \"))\n",
    "if a>b:\n",
    "    print(\"O primeiro valor é maior!\")\n",
    "else:\n",
    "    print(\"O segundo valor é maior ou igual!\")\n"
   ]
  },
  {
   "cell_type": "code",
   "execution_count": 39,
   "id": "fa037d77",
   "metadata": {},
   "outputs": [
    {
     "name": "stdout",
     "output_type": "stream",
     "text": [
      "Entre com o primeiro número: 1\n",
      "Entre com o segundo número: 3\n",
      "Entre com o terceiro número: 2\n",
      "O número 3 é o maior número!\n"
     ]
    }
   ],
   "source": [
    "# Programa do exercício 8\n",
    "n1 = int(input(\"Entre com o primeiro número: \"))\n",
    "n2 = int(input(\"Entre com o segundo número: \"))\n",
    "n3 = int(input(\"Entre com o terceiro número: \"))\n",
    "\n",
    "if n1 >= n2:\n",
    "    maior = n1\n",
    "else:\n",
    "    maior = n2\n",
    "\n",
    "if n3 > n2:\n",
    "    maior = n3\n",
    "\n",
    "print(f\"O número {maior} é o maior número!\")\n"
   ]
  },
  {
   "cell_type": "markdown",
   "id": "f99bfeb3",
   "metadata": {},
   "source": [
    "## Exercício 10\n",
    "Escreva um programa que pergunte a distância que um passageiro vai percorrer em km. Calcule o preço da passagem, cobrando R$ 0,50 por km para viagens de até 200 km e R 0,45 para viagens mais longas\n",
    "\n"
   ]
  },
  {
   "cell_type": "code",
   "execution_count": 41,
   "id": "30ad5a66",
   "metadata": {},
   "outputs": [
    {
     "name": "stdout",
     "output_type": "stream",
     "text": [
      "Entre com a distância (km) a ser percorrida: 201\n",
      "A o preço da viagem é de R$90.45 com preço por km de R$ 0.45\n"
     ]
    }
   ],
   "source": [
    "distancia = float(input(\"Entre com a distância (km) a ser percorrida: \"))\n",
    "\n",
    "if distancia <= 200:\n",
    "    preco_km = 0.5\n",
    "else:\n",
    "    preco_km = 0.45\n",
    "\n",
    "preco_total = distancia * preco_km\n",
    "\n",
    "print(f\"A o preço da viagem é de R${preco_total:5.2f} com preço por km de R${preco_km:5.2f}\")"
   ]
  },
  {
   "cell_type": "markdown",
   "id": "fedcc2ec",
   "metadata": {},
   "source": [
    "## Exercício 11\n",
    "Escreva um programa que leia dois números e que pergunte qual operação o usuário quer realizar e calcule esta operação. As operações válidas são:\n"
   ]
  },
  {
   "cell_type": "code",
   "execution_count": 47,
   "id": "31489eaf",
   "metadata": {},
   "outputs": [
    {
     "name": "stdout",
     "output_type": "stream",
     "text": [
      "Entre com um número: 4\n",
      "Entre com outro número: 5\n",
      "Entre com uma operação (+,-,*,/,**): **\n",
      "4.0 ** 5.0 = 1024.0\n"
     ]
    }
   ],
   "source": [
    "x1 = float(input(\"Entre com um número: \")) \n",
    "x2 = float(input(\"Entre com outro número: \")) \n",
    "op = input(\"Entre com uma operação (+,-,*,/,**): \")\n",
    "\n",
    "if op == '+':\n",
    "    r = x1 + x2\n",
    "elif op == '-':\n",
    "    r = x1 - x2\n",
    "elif op == '*':\n",
    "    r = x1 * x2\n",
    "elif op == '/':\n",
    "    r = x1 / x2\n",
    "elif op == '**':\n",
    "    r = x1 ** x2\n",
    "else:\n",
    "    print(\"Operação desconhecida!\")\n",
    "    r = 0\n",
    "\n",
    "print(f\"{x1} {op} {x2} = {r}\")\n",
    "    "
   ]
  },
  {
   "cell_type": "markdown",
   "id": "b33f228c",
   "metadata": {},
   "source": [
    "## Exercício 12\n",
    "Escreva um programa que calcule o preço a pagar pelo fornecimento de energia elétrica. Pergunte a quantidade de kWh conmsumida e o tipo de instalação:\n",
    "\n",
    " - `R`: residências\n",
    " - `I`: indústrias\n",
    " - `C`: comércios\n",
    "\n",
    "Calcule o preço da conta de luz de acordo com as regras a seguir:\n",
    "\n",
    "| Tipo  | Faixa (kWh)   | Preço   |\n",
    "| :- | :-: | -:  |\n",
    "| Residencial  | Até 500       | R\\$ 0,40 |\n",
    "|   | Acima de 500  | R\\$ 0,65 |\n",
    "| Comercial    | Até 1000      | R\\$ 0,55 |\n",
    "|     | Acima de 1000 | R\\$ 0,60 |\n",
    "| Industrial   | Até 5000      | R\\$ 0,55 |\n",
    "|    | Acima de 5000 | R\\$ 0,60 |\n"
   ]
  },
  {
   "cell_type": "code",
   "execution_count": 53,
   "id": "2aa24e51",
   "metadata": {},
   "outputs": [
    {
     "name": "stdout",
     "output_type": "stream",
     "text": [
      "Entre com o consumo (kWh): 123\n",
      "Entre com o tipo de instalação (R/C/I)? sdfg\n",
      "Erro: sdfg não é um tipo de instalação conhecido!\n"
     ]
    }
   ],
   "source": [
    "Q = float(input(\"Entre com o consumo (kWh): \"))\n",
    "inst = input(\"Entre com o tipo de instalação (R/C/I)? \")\n",
    "\n",
    "if inst == 'R':\n",
    "    if Q <= 500:\n",
    "        print(f\"A conta é de R${0.40*Q:5.2f}.\")\n",
    "    else:\n",
    "        print(f\"A conta é de R${0.65*Q:5.2f}.\")\n",
    "elif inst == 'C':\n",
    "    if Q <= 1000:\n",
    "        print(f\"A conta é de R${0.55*Q:5.2f}.\")\n",
    "    else:\n",
    "        print(f\"A conta é de R${0.60*Q:5.2f}.\")\n",
    "elif inst == 'I':\n",
    "    if Q <= 5000:\n",
    "        print(f\"A conta é de R${0.55*Q:5.2f}.\")\n",
    "    else:\n",
    "        print(f\"A conta é de R${0.60*Q:5.2f}.\")\n",
    "else:\n",
    "    print(f'Erro: {inst} não é um tipo de instalação conhecido!')    "
   ]
  },
  {
   "cell_type": "markdown",
   "id": "f7fd7ad6",
   "metadata": {},
   "source": [
    "## Exercício 13\n",
    "Faça um programa para exibir os números de 1 a 100\n"
   ]
  },
  {
   "cell_type": "code",
   "execution_count": 54,
   "id": "c6e29aab",
   "metadata": {},
   "outputs": [
    {
     "name": "stdout",
     "output_type": "stream",
     "text": [
      "1\n",
      "2\n",
      "3\n",
      "4\n",
      "5\n",
      "6\n",
      "7\n",
      "8\n",
      "9\n",
      "10\n",
      "11\n",
      "12\n",
      "13\n",
      "14\n",
      "15\n",
      "16\n",
      "17\n",
      "18\n",
      "19\n",
      "20\n",
      "21\n",
      "22\n",
      "23\n",
      "24\n",
      "25\n",
      "26\n",
      "27\n",
      "28\n",
      "29\n",
      "30\n",
      "31\n",
      "32\n",
      "33\n",
      "34\n",
      "35\n",
      "36\n",
      "37\n",
      "38\n",
      "39\n",
      "40\n",
      "41\n",
      "42\n",
      "43\n",
      "44\n",
      "45\n",
      "46\n",
      "47\n",
      "48\n",
      "49\n",
      "50\n",
      "51\n",
      "52\n",
      "53\n",
      "54\n",
      "55\n",
      "56\n",
      "57\n",
      "58\n",
      "59\n",
      "60\n",
      "61\n",
      "62\n",
      "63\n",
      "64\n",
      "65\n",
      "66\n",
      "67\n",
      "68\n",
      "69\n",
      "70\n",
      "71\n",
      "72\n",
      "73\n",
      "74\n",
      "75\n",
      "76\n",
      "77\n",
      "78\n",
      "79\n",
      "80\n",
      "81\n",
      "82\n",
      "83\n",
      "84\n",
      "85\n",
      "86\n",
      "87\n",
      "88\n",
      "89\n",
      "90\n",
      "91\n",
      "92\n",
      "93\n",
      "94\n",
      "95\n",
      "96\n",
      "97\n",
      "98\n",
      "99\n",
      "100\n"
     ]
    }
   ],
   "source": [
    "i = 1\n",
    "N = 100\n",
    "while i <= N:\n",
    "    print(i)\n",
    "    i += 1\n"
   ]
  },
  {
   "cell_type": "markdown",
   "id": "429d88a1",
   "metadata": {},
   "source": [
    "## Exercício 14\n",
    "Modifique o programa para exibir os números de 50 a 100"
   ]
  },
  {
   "cell_type": "code",
   "execution_count": 55,
   "id": "1cbf6dab",
   "metadata": {},
   "outputs": [
    {
     "name": "stdout",
     "output_type": "stream",
     "text": [
      "50\n",
      "51\n",
      "52\n",
      "53\n",
      "54\n",
      "55\n",
      "56\n",
      "57\n",
      "58\n",
      "59\n",
      "60\n",
      "61\n",
      "62\n",
      "63\n",
      "64\n",
      "65\n",
      "66\n",
      "67\n",
      "68\n",
      "69\n",
      "70\n",
      "71\n",
      "72\n",
      "73\n",
      "74\n",
      "75\n",
      "76\n",
      "77\n",
      "78\n",
      "79\n",
      "80\n",
      "81\n",
      "82\n",
      "83\n",
      "84\n",
      "85\n",
      "86\n",
      "87\n",
      "88\n",
      "89\n",
      "90\n",
      "91\n",
      "92\n",
      "93\n",
      "94\n",
      "95\n",
      "96\n",
      "97\n",
      "98\n",
      "99\n",
      "100\n"
     ]
    }
   ],
   "source": [
    "i = 50\n",
    "N = 100\n",
    "while i <= N:\n",
    "    print(i)\n",
    "    i += 1"
   ]
  },
  {
   "cell_type": "markdown",
   "id": "89a46f2e",
   "metadata": {},
   "source": [
    "## Exercício 15\n",
    "Escreva um programa que faz a contagem regressiva para o lançamento de um foguete: 10,9,...,1,Fogo\n"
   ]
  },
  {
   "cell_type": "code",
   "execution_count": 56,
   "id": "274c04e3",
   "metadata": {},
   "outputs": [
    {
     "name": "stdout",
     "output_type": "stream",
     "text": [
      "Iniciando contagem regressiva...\n",
      "10\n",
      "9\n",
      "8\n",
      "7\n",
      "6\n",
      "5\n",
      "4\n",
      "3\n",
      "2\n",
      "1\n",
      "Fogo!\n"
     ]
    }
   ],
   "source": [
    "print('Iniciando contagem regressiva...')\n",
    "i = 10\n",
    "while i > 0:\n",
    "    print(i)\n",
    "    i -= 1\n",
    "print(\"Fogo!\")"
   ]
  },
  {
   "cell_type": "markdown",
   "id": "dabb0827",
   "metadata": {},
   "source": [
    "## Exercício 16\n",
    "Modifique os programas anteriores para imprimir os números ímpares.\n"
   ]
  },
  {
   "cell_type": "code",
   "execution_count": 57,
   "id": "c7b5edad",
   "metadata": {},
   "outputs": [
    {
     "name": "stdout",
     "output_type": "stream",
     "text": [
      "Digite o último número a imprimir: 13\n",
      "1\n",
      "3\n",
      "5\n",
      "7\n",
      "9\n",
      "11\n",
      "13\n"
     ]
    }
   ],
   "source": [
    "fim = int(input(\"Digite o último número a imprimir: \"))\n",
    "x = 1\n",
    "while x <= fim:\n",
    "    if x %2 == 1:\n",
    "        print(x)\n",
    "    x += 1\n"
   ]
  },
  {
   "cell_type": "code",
   "execution_count": 58,
   "id": "5c50ae72",
   "metadata": {},
   "outputs": [
    {
     "name": "stdout",
     "output_type": "stream",
     "text": [
      "Digite o último número a imprimir: 13\n",
      "1\n",
      "3\n",
      "5\n",
      "7\n",
      "9\n",
      "11\n",
      "13\n"
     ]
    }
   ],
   "source": [
    "fim = int(input(\"Digite o último número a imprimir: \"))\n",
    "x = 1\n",
    "while x <= fim:\n",
    "    print(x)\n",
    "    x += 2\n"
   ]
  },
  {
   "cell_type": "markdown",
   "id": "b2efb06a",
   "metadata": {},
   "source": [
    "## Exercício 17\n",
    "Reescreva o programa para escrever os 10 primeiros múltiplos de 3"
   ]
  },
  {
   "cell_type": "code",
   "execution_count": 62,
   "id": "7ed11aa3",
   "metadata": {},
   "outputs": [
    {
     "name": "stdout",
     "output_type": "stream",
     "text": [
      "3\n",
      "6\n",
      "9\n",
      "12\n",
      "15\n",
      "18\n",
      "21\n",
      "24\n",
      "27\n",
      "30\n"
     ]
    }
   ],
   "source": [
    "i = 1\n",
    "while i <= 10:\n",
    "    print(i*3)\n",
    "    i += 1\n",
    "\n",
    "    "
   ]
  },
  {
   "cell_type": "markdown",
   "id": "f93e8a9d",
   "metadata": {},
   "source": [
    "## Exercício 18\n",
    "Escreve um programa que recebe um número e escreve a tabuada desse número. Exemplo do resultado para o número 2:\n",
    "\n",
    "`2 x 1 = 2`\n",
    "\n",
    "`2 x 2 = 4`\n",
    "\n",
    "...\n",
    "\n",
    "`2 x 10 = 20`\n"
   ]
  },
  {
   "cell_type": "code",
   "execution_count": 60,
   "id": "20052a64",
   "metadata": {},
   "outputs": [
    {
     "name": "stdout",
     "output_type": "stream",
     "text": [
      "Entre com um número: 5\n",
      "  5 x  1 = 5\n",
      "  5 x  2 = 10\n",
      "  5 x  3 = 15\n",
      "  5 x  4 = 20\n",
      "  5 x  5 = 25\n",
      "  5 x  6 = 30\n",
      "  5 x  7 = 35\n",
      "  5 x  8 = 40\n",
      "  5 x  9 = 45\n",
      "  5 x 10 = 50\n"
     ]
    }
   ],
   "source": [
    "num = int(input(\"Entre com um número: \"))\n",
    "\n",
    "i = 1\n",
    "while i <= 10:\n",
    "    print(f\"{num:>3} x {i:>2} = {num*i}\")\n",
    "    i += 1\n"
   ]
  },
  {
   "cell_type": "markdown",
   "id": "be1a3770",
   "metadata": {},
   "source": [
    "## Exercício 19\n",
    "Escreva um programa que calcula a divisão inteira entre dois números usando `+` apenas\n"
   ]
  },
  {
   "cell_type": "code",
   "execution_count": 63,
   "id": "ca6b41fc",
   "metadata": {},
   "outputs": [
    {
     "name": "stdout",
     "output_type": "stream",
     "text": [
      "Entre com um inteiro: 11\n",
      "Entre com um inteiro: 2\n",
      "11 / 2 = 5 com resto 1\n"
     ]
    }
   ],
   "source": [
    "x1 = int(input(\"Entre com um inteiro: \"))\n",
    "x2 = int(input(\"Entre com um inteiro: \"))\n",
    "\n",
    "divisão = 0\n",
    "total = x2\n",
    "while total <= x1:\n",
    "    total = total + x2\n",
    "    divisão = divisão + 1\n",
    "\n",
    "resto = total -x1\n",
    "if resto == x2:\n",
    "    resto = 0\n",
    "\n",
    "print(f\"{x1} / {x2} = {divisão} com resto {resto}\")\n"
   ]
  },
  {
   "cell_type": "markdown",
   "id": "b1efc28a",
   "metadata": {},
   "source": [
    "## Exercício 20\n",
    "Reescreva o programa de divisão acima com esses operadores de atribuição especial.\n"
   ]
  },
  {
   "cell_type": "code",
   "execution_count": 66,
   "id": "555df9f7",
   "metadata": {},
   "outputs": [
    {
     "name": "stdout",
     "output_type": "stream",
     "text": [
      "Entre com um inteiro: 12\n",
      "Entre com um inteiro: 4\n",
      "12 / 4 = 3 com resto 0\n"
     ]
    }
   ],
   "source": [
    "x1 = int(input(\"Entre com um inteiro: \"))\n",
    "x2 = int(input(\"Entre com um inteiro: \"))\n",
    "\n",
    "divisão = 0\n",
    "total = x2\n",
    "while total <= x1:\n",
    "    total += x2\n",
    "    divisão +=  + 1\n",
    "\n",
    "resto = total - x1\n",
    "if resto == x2:\n",
    "    resto = 0\n",
    "\n",
    "print(f\"{x1} / {x2} = {divisão} com resto {resto}\")"
   ]
  },
  {
   "cell_type": "markdown",
   "id": "ac4a39c5",
   "metadata": {},
   "source": [
    "## Exercício 21\n",
    "Escreva um programa que determina se um número é primo ou não. Um número é primo se ele é divisível por 1 e por ele mesmo apenas. Dica: use o operador resto (`%`) para saber se um número é divisível por outro.\n"
   ]
  },
  {
   "cell_type": "code",
   "execution_count": 90,
   "id": "4a46058d",
   "metadata": {},
   "outputs": [
    {
     "name": "stdout",
     "output_type": "stream",
     "text": [
      "Entre com um número inteiro: 17\n",
      "O número 17 é um número primo\n"
     ]
    }
   ],
   "source": [
    "num = int(input(\"Entre com um número inteiro: \"))\n",
    "\n",
    "ntot = 1\n",
    "i = 2\n",
    "while i < num:\n",
    "    if num % i == 0:\n",
    "        ntot += 1\n",
    "        break # Repare!\n",
    "    i += 1\n",
    "    \n",
    "if ntot > 1:\n",
    "    print(f\"O número {num} não é um número primo\")\n",
    "else:\n",
    "    print(f\"O número {num} é um número primo\")"
   ]
  },
  {
   "cell_type": "markdown",
   "id": "f424a746",
   "metadata": {},
   "source": [
    "## Exercício 22\n",
    "Escreva um programa que recebe um número inteiro `n` e determina os primeiros `n` números primos\n",
    "\n"
   ]
  },
  {
   "cell_type": "code",
   "execution_count": 89,
   "id": "ec8336c4",
   "metadata": {},
   "outputs": [
    {
     "name": "stdout",
     "output_type": "stream",
     "text": [
      "Entre com um número inteiro: 5\n",
      "1\n",
      "2\n",
      "3\n",
      "5\n",
      "7\n"
     ]
    }
   ],
   "source": [
    "N = int(input(\"Entre com um número inteiro: \"))\n",
    "nprim = 1\n",
    "num = 1\n",
    "print(1)\n",
    "while nprim < N:\n",
    "    i = 2\n",
    "    while i < num:\n",
    "        if num % i == 0:\n",
    "            break\n",
    "        i += 1\n",
    "    if i == num: # Não achou divisor! É um número primo!\n",
    "        print(num)\n",
    "        nprim += 1\n",
    "    num += 1\n",
    "    \n",
    "\n",
    "    \n"
   ]
  },
  {
   "cell_type": "markdown",
   "id": "a322593b",
   "metadata": {},
   "source": [
    "## Exercício 23\n",
    "Não foi dado na aula. Fica para a aula que vem\n",
    "\n"
   ]
  }
 ],
 "metadata": {
  "kernelspec": {
   "display_name": "Python 3 (ipykernel)",
   "language": "python",
   "name": "python3"
  },
  "language_info": {
   "codemirror_mode": {
    "name": "ipython",
    "version": 3
   },
   "file_extension": ".py",
   "mimetype": "text/x-python",
   "name": "python",
   "nbconvert_exporter": "python",
   "pygments_lexer": "ipython3",
   "version": "3.9.7"
  }
 },
 "nbformat": 4,
 "nbformat_minor": 5
}
