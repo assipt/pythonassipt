{
 "cells": [
  {
   "cell_type": "markdown",
   "id": "cd6399df",
   "metadata": {},
   "source": [
    "# Solução dos exercícios da aula 03"
   ]
  },
  {
   "cell_type": "markdown",
   "id": "82e15a6c",
   "metadata": {},
   "source": [
    "### Exercício 1\n",
    "Modifique os programas acima para ler 7 notas no lugar de 5."
   ]
  },
  {
   "cell_type": "code",
   "execution_count": null,
   "id": "e33fa677",
   "metadata": {},
   "outputs": [],
   "source": [
    "# Programa para cálculo da média de 7 notas\n",
    "notas = [6, 7, 5, 8, 9, 4, 8]\n",
    "soma = 0\n",
    "i = 0\n",
    "while i < 7:\n",
    "    soma += notas[i]\n",
    "    i += 1\n",
    "print(f\"Média: {soma/i:4.1f}\")\n",
    "    "
   ]
  },
  {
   "cell_type": "markdown",
   "id": "2c7b187b",
   "metadata": {},
   "source": [
    "<!-- TEASER_END -->"
   ]
  },
  {
   "cell_type": "code",
   "execution_count": null,
   "id": "076c0bde",
   "metadata": {},
   "outputs": [],
   "source": [
    "# Versão do programa onde o professor pode entrar com 7 notas\n",
    "notas = [0,0,0,0,0,0,0]\n",
    "soma = 0\n",
    "i = 0\n",
    "while i < 7:\n",
    "    notas[i] = float(input(f\"Nota {i}: \"))\n",
    "    soma += notas[i]\n",
    "    i += 1\n",
    "print(f\"Média: {soma/i:4.1f}\")\n"
   ]
  },
  {
   "cell_type": "markdown",
   "id": "d908b6e0",
   "metadata": {},
   "source": [
    "### Exercício 2\n",
    "Reescreva o programa para calcular médias de modo que o professor primeiro entra com o número de notas e em seguida o programa lê este número de notas e calcula a média.\n",
    "\n",
    "[6, 7, 5, 8, 9, 4, 8]"
   ]
  },
  {
   "cell_type": "code",
   "execution_count": null,
   "id": "56645e0f",
   "metadata": {},
   "outputs": [],
   "source": [
    "notas = []\n",
    "soma = 0\n",
    "i = 0\n",
    "num_notas = int(input(f\"Entre com o número de notas: \"))\n",
    "while i < num_notas:\n",
    "    notas.append(float(input(f\"Nota {i}: \")))\n",
    "    i += 1\n",
    "i = 0    \n",
    "while i < num_notas:\n",
    "    soma += notas[i]\n",
    "    i += 1\n",
    "print(f\"Média: {soma/i:4.1f}\")"
   ]
  },
  {
   "cell_type": "markdown",
   "id": "c3bdc265",
   "metadata": {},
   "source": [
    "### Exercício 3\n",
    "Faça um programa que percorra duas listas inteiras e gere uma terceira sem elementos repetidos"
   ]
  },
  {
   "cell_type": "code",
   "execution_count": null,
   "id": "c75a94db",
   "metadata": {},
   "outputs": [],
   "source": [
    "L1 = [1,2,3,5,6,7] # Primeira lista\n",
    "L2 = [1,0,3,4,0,7,8] # Segunda lista\n",
    "n1 = len(L1) # Comprimento da primeira lista\n",
    "n2 = len(L2) # Comprimento da segunda lista\n",
    "L = [] # Lista que será gerada\n",
    "i = 0 # Contador\n",
    "\n",
    "while i < n1: # Vamos percorrer a primeira lista\n",
    "    x = L1[i]\n",
    "    k = 0\n",
    "    n = len(L)\n",
    "    achou = False\n",
    "    while k < n:  # Vamos percorrer a terceira que estamos \n",
    "                  # construindo\n",
    "        y = L[k]\n",
    "        if y == x: # Achou um igual. Não pode ser inserido\n",
    "            achou = True\n",
    "            break\n",
    "        k += 1\n",
    "    if not achou:\n",
    "        L.append(x)\n",
    "    i += 1\n",
    "    \n",
    "# Repetir com a lista 2:\n",
    "i = 0\n",
    "while i < n2: # Vamos percorrer a primeira lista\n",
    "    x = L2[i]\n",
    "    k = 0\n",
    "    n = len(L)\n",
    "    achou = False\n",
    "    while k < n:  # Vamos percorrer a terceira que estamos \n",
    "                  # construindo\n",
    "        y = L[k]\n",
    "        if y == x: # Achou um igual. Não pode ser inserido\n",
    "            achou = True\n",
    "            break\n",
    "        k += 1\n",
    "    if not achou:\n",
    "        L.append(x)\n",
    "    i += 1\n",
    "\n",
    "        \n",
    "L"
   ]
  },
  {
   "cell_type": "markdown",
   "id": "a3715d56",
   "metadata": {},
   "source": [
    "### Exercício 4\n",
    "O que acontece quando não verificamos se a lista está vazia antes de chamar o método `pop`?\n",
    "\n",
    "\n",
    "Que tal testar? O bom do computador é que nada de ruim pode acontecer. (ou pode...)\n",
    "\n",
    "Para testar vamos diminuir o comprimento da file"
   ]
  },
  {
   "cell_type": "code",
   "execution_count": null,
   "id": "8d1a13e2",
   "metadata": {},
   "outputs": [],
   "source": [
    "# Simulação de fila de banco:\n",
    "último = 4  # Tamanho menor\n",
    "fila = list(range(1, último + 1))\n",
    "while True:\n",
    "    print(f\"\\nExistem {len(fila)} clientes na fila\")\n",
    "    print(f\"Fila atual: {fila}\")\n",
    "    print(\"Digite F para adicionar um cliente ao fim da fila, \")\n",
    "    print(\"ou A para realizar o atendimento. S para sair.\")\n",
    "    operação = input(\"Operação (F, A ou S): \")\n",
    "    if operação == \"A\":\n",
    "        atendido = fila.pop(0)\n",
    "        print(f\"Cliente {atendido} atendido\")\n",
    "    elif operação == \"F\":\n",
    "        último += 1 # Incrementa o ticket\n",
    "        fila.append(último)\n",
    "    elif operação == 'S':\n",
    "        break\n",
    "    else:\n",
    "        print(\"Operação inválida. Digite apenas A, F ou S!\")\n"
   ]
  },
  {
   "cell_type": "markdown",
   "id": "6218e193",
   "metadata": {},
   "source": [
    "**É dá erro! Não é possível tirar um elemento de uma lista vazia**"
   ]
  },
  {
   "cell_type": "markdown",
   "id": "aaacee15",
   "metadata": {},
   "source": [
    "### Exercício 5\n",
    "Altere o programa da fila de modo que se possa trabalhar com vários comandos digitados de uma só vez. No programa acima, apenas uma operação pode ser digitada por vez. Faça com que o programa aceite strings com vários comandos\n",
    "\n",
    "Exemplo: FFFAAAS significa três chegadas de novos clientes, três atendimentos e saída do programa."
   ]
  },
  {
   "cell_type": "code",
   "execution_count": null,
   "id": "5f1d0f87",
   "metadata": {},
   "outputs": [],
   "source": [
    "último = 10\n",
    "fila = list(range(1, último + 1))\n",
    "operações = \"FFFAAAS\"\n",
    "Nop = len(operações)\n",
    "i = 0\n",
    "while i < Nop:\n",
    "    print(f\"\\nExistem {len(fila)} clientes na fila\")\n",
    "    print(f\"Fila atual: {fila}\")\n",
    "    operação = operações[i]\n",
    "    print(f\"A operação é {operação}.\")\n",
    "    i += 1  # Não podemos esquecer...\n",
    "    if operação == \"A\":\n",
    "        if len(fila) > 0:\n",
    "            atendido = fila.pop(0)\n",
    "            print(f\"Cliente {atendido} atendido\")\n",
    "        else:\n",
    "            print(\"Fila vazia! Nenhum cliente para atender.\")\n",
    "    elif operação == \"F\":\n",
    "        último += 1 # Incrementa o ticket\n",
    "        fila.append(último)\n",
    "    elif operação == 'S':\n",
    "        break\n",
    "    else:\n",
    "        print(\"Operação inválida. Ela deve ser apenas A, F ou S!\")\n"
   ]
  },
  {
   "cell_type": "markdown",
   "id": "b0f1ed79",
   "metadata": {},
   "source": [
    "### Exercício 6\n",
    "Faça um programa que leia uma expressão com parênteses. Usando pilhas, verifique se os parênteses foram abertos e fechados na ordem correta. Exemplo:\n",
    "\n",
    " * (()) OK\n",
    " * ()()(()()) OK\n",
    " * ()) Erro\n"
   ]
  },
  {
   "cell_type": "code",
   "execution_count": null,
   "id": "d6bd915f",
   "metadata": {},
   "outputs": [],
   "source": [
    "expressão = \"((())()(())))\"\n",
    "n = len(expressão)\n",
    "pilha = []\n",
    "i = 0\n",
    "ocorreu_erro = False\n",
    "while i < n:\n",
    "    c = expressão[i]\n",
    "    i += 1\n",
    "    if c == ')':\n",
    "        if len(pilha) > 0:\n",
    "            pilha.pop(-1)\n",
    "        else:\n",
    "            ocorreu_erro = True\n",
    "            break\n",
    "    elif c == '(':\n",
    "        pilha.append(1)\n",
    "    else: # Qualquer outro caracter, ignorar!\n",
    "        continue  \n",
    "if len(pilha) > 0:  # Se sobrou algo na pila, tá desbalanceado\n",
    "    ocorreu_erro = True\n",
    "\n",
    "if ocorreu_erro:\n",
    "    print(\"Erro\")\n",
    "else:\n",
    "    print(\"Ok\")"
   ]
  },
  {
   "cell_type": "markdown",
   "id": "ede86916",
   "metadata": {},
   "source": [
    "### Exercício 7\n",
    "Modifique o programa de modo que  realize a mesma tarefa sem usar a variável `achou`. Dica: observe a condição de saída do `while`.\n"
   ]
  },
  {
   "cell_type": "code",
   "execution_count": null,
   "id": "95a7960f",
   "metadata": {},
   "outputs": [],
   "source": [
    "L = [15, 7, 27, 39]\n",
    "p = int(input(\"Digite o valor a procurar: \"))\n",
    "i = 0\n",
    "while i < len(L):\n",
    "    if L[i] == p:\n",
    "        print(f\"{p} foi encontrado na posição {i}.\")\n",
    "        break\n",
    "    i += 1\n",
    "else:\n",
    "    print(f\"{p} não foi encontrado na lista.\")"
   ]
  },
  {
   "cell_type": "markdown",
   "id": "b59b7351",
   "metadata": {},
   "source": [
    "### Exercício 8\n",
    "Modifique o exemplo para pesquisar dois valores. Em vez de apenas `p`, leia outro valor `v` que também será procurado. Na impressão, indique qual dos dois valores foi encontrado primeiro."
   ]
  },
  {
   "cell_type": "code",
   "execution_count": null,
   "id": "8aa3106f",
   "metadata": {},
   "outputs": [],
   "source": [
    "L = [15, 7, 27, 39]\n",
    "p = int(input(\"Digite o valor a procurar: \"))\n",
    "v = int(input(\"Digite o valor a procurar: \"))\n",
    "achou_p = False\n",
    "achou_v = False\n",
    "i = 0\n",
    "while i < len(L):\n",
    "    if L[i] == p:\n",
    "        achou_p = True\n",
    "        break\n",
    "    i += 1\n",
    "ip = i\n",
    "i = 0\n",
    "while i < len(L):\n",
    "    if L[i] == v:\n",
    "        achou_v = True\n",
    "        break\n",
    "    i += 1\n",
    "iv = i\n",
    "\n",
    "if achou_p:\n",
    "    print(f\"{p} foi encontrado na posição {ip}.\")\n",
    "else:\n",
    "    print(f\"{p} não foi encontrado na lista.\")\n",
    "\n",
    "if achou_v:\n",
    "    print(f\"{v} foi encontrado na posição {iv}.\")\n",
    "else:\n",
    "    print(f\"{v} não foi encontrado na lista.\")\n",
    "if achou_p and achou_v:\n",
    "    if ip < iv:\n",
    "        print(f\"{p} foi achado antes que {v}\")\n",
    "    elif iv < ip:\n",
    "        print(f\"{v} foi achado antes que {p}\")\n",
    "\n",
    "    \n",
    "    "
   ]
  },
  {
   "cell_type": "markdown",
   "id": "f0539d4d",
   "metadata": {},
   "source": [
    "### Exercício 9\n",
    "Tente converter este programa (exemplo acima)\n",
    "\n",
    "```python\n",
    "# Programa para adicionar números a uma lista\n",
    "L = []\n",
    "while True:\n",
    "    n = int(input(\"Digite um número (0 sai): \"))\n",
    "    if n == 0:\n",
    "        break\n",
    "    L.append(n)\n",
    "```\n",
    "usando `for`.\n",
    "\n",
    "Explique se `for` pode ser sempre usado no lugar de `while` e porquê."
   ]
  },
  {
   "cell_type": "markdown",
   "id": "f0cef00a",
   "metadata": {},
   "source": [
    "Estritamente falando, este programa não poderia ser escrito usando `for` pois não sabemos o número de repetições necessárias. O usuário pode parar a qualquer momento!"
   ]
  },
  {
   "cell_type": "markdown",
   "id": "62acf1e1",
   "metadata": {},
   "source": [
    "Tendo dito isso, este programa tem um problema: pode não sair nunca. É muito comum que se tenha um limite. Com esse limite (arbitrário vai depender do contexto), podemos usar o `for`. Sempre que possível, é recomendado fazer isso.\n",
    "    "
   ]
  },
  {
   "cell_type": "code",
   "execution_count": null,
   "id": "ceebb0ad",
   "metadata": {},
   "outputs": [],
   "source": [
    "nmax = 5\n",
    "L = []\n",
    "for i in range(nmax):\n",
    "    n = int(input(\"Digite um número (0 sai): \"))\n",
    "    if n == 0:\n",
    "        break\n",
    "    L.append(n)\n",
    "L"
   ]
  },
  {
   "cell_type": "markdown",
   "id": "e84532bd",
   "metadata": {},
   "source": [
    "### Exercício 10\n",
    "Escreva um programa que acha o menor elemento de uma lista"
   ]
  },
  {
   "cell_type": "code",
   "execution_count": null,
   "id": "04868c06",
   "metadata": {},
   "outputs": [],
   "source": [
    "L = [123,15, 12, 4352, 1, 4567]\n",
    "emin = L[0]\n",
    "for e in L:\n",
    "    if e < emin:\n",
    "        emin = e\n",
    "print(f\"O menor elemento da lista é {emin}.\")"
   ]
  },
  {
   "cell_type": "markdown",
   "id": "72c7ed10",
   "metadata": {},
   "source": [
    "### Exercício 11\n",
    "Modifique o programa para achar o máximo de modo que encontre o máximo mas também encontre o índice onde este máximo ocorre."
   ]
  },
  {
   "cell_type": "code",
   "execution_count": null,
   "id": "9900bc46",
   "metadata": {},
   "outputs": [],
   "source": [
    "L = [123,15, 12, 4352, 1, 4567]\n",
    "emax = L[0]\n",
    "imax = 0\n",
    "for i,e in enumerate(L):\n",
    "    if e > emax:\n",
    "        emax = e\n",
    "        imax = i\n",
    "print(f\"O maior elemento da lista é {emax} e ocorre no índice {imax}.\")"
   ]
  },
  {
   "cell_type": "markdown",
   "id": "9c294d5f",
   "metadata": {},
   "source": [
    "### Exercício 12\n",
    "Escreva um programa que encontra o máximo e o mínimo de uma lista"
   ]
  },
  {
   "cell_type": "code",
   "execution_count": null,
   "id": "944cb27a",
   "metadata": {},
   "outputs": [],
   "source": [
    "L = [123,15, 12, 4352, 1, 4567]\n",
    "emin = L[0]\n",
    "emax = emin\n",
    "for e in L:\n",
    "    if e < emin:\n",
    "        emin = e\n",
    "    elif e > emax:\n",
    "        emax = e\n",
    "        \n",
    "print(f\"O menor elemento da lista é {emin}.\")\n",
    "print(f\"O maior elemento da lista é {emax}.\")"
   ]
  },
  {
   "cell_type": "markdown",
   "id": "ec7b67b0",
   "metadata": {},
   "source": [
    "### Exercício 13\n",
    "Modifique o programa anterior para que ordene a lista em modo decrescente"
   ]
  },
  {
   "cell_type": "code",
   "execution_count": null,
   "id": "d1584d4d",
   "metadata": {},
   "outputs": [],
   "source": [
    "L = [9, 2, 4, 3, 8, 6]\n",
    "N = len(L)\n",
    "for i in range(N):\n",
    "    trocou = False\n",
    "    for k in range(N-i-1):\n",
    "        if L[k] < L[k+1]: # Inverter a posição\n",
    "            trocou = True\n",
    "            tmp = L[k]\n",
    "            L[k] = L[k+1]\n",
    "            L[k+1] = tmp\n",
    "    if not trocou:\n",
    "        break\n",
    "\n",
    "L\n",
    "        \n",
    "            "
   ]
  },
  {
   "cell_type": "markdown",
   "id": "59ea7ad4",
   "metadata": {},
   "source": [
    "### Exercício 14\n",
    "O que acontece se você tentar usar o programa acima com uma lista de strings? Tente e brinque um pouquinho.\n",
    "\n",
    "Por outro lado, o que acontece se misturarmos números e strings?\n"
   ]
  },
  {
   "cell_type": "code",
   "execution_count": null,
   "id": "0add304e",
   "metadata": {},
   "outputs": [],
   "source": [
    "L = [\"LIXO\", \"BOLA\", \"ZEBRA\", \"TELEFONE\", \"FACA\", \"PULGA\"]\n",
    "N = len(L)\n",
    "for i in range(N):\n",
    "    trocou = False\n",
    "    for k in range(N-i-1):\n",
    "        if L[k] < L[k+1]: # Inverter a posição\n",
    "            trocou = True\n",
    "            tmp = L[k]\n",
    "            L[k] = L[k+1]\n",
    "            L[k+1] = tmp\n",
    "    if not trocou:\n",
    "        break\n",
    "\n",
    "L\n",
    "        "
   ]
  },
  {
   "cell_type": "code",
   "execution_count": null,
   "id": "e1237b8e",
   "metadata": {},
   "outputs": [],
   "source": [
    "L = [\"LIXO\", 3, \"ZEBRA\", \"TELEFONE\", \"FACA\", \"PULGA\"]\n",
    "N = len(L)\n",
    "for i in range(N):\n",
    "    trocou = False\n",
    "    for k in range(N-i-1):\n",
    "        if L[k] < L[k+1]: # Inverter a posição\n",
    "            trocou = True\n",
    "            tmp = L[k]\n",
    "            L[k] = L[k+1]\n",
    "            L[k+1] = tmp\n",
    "    if not trocou:\n",
    "        break\n",
    "\n",
    "L\n",
    "        "
   ]
  },
  {
   "cell_type": "markdown",
   "id": "4de0fef5",
   "metadata": {},
   "source": [
    "### Exercício 15\n",
    "Um aspecto importante é saber p quão eficiente é este algorítimo. Para tanto, precisamos saber quanto tempo leva para ordenar a lista. \n",
    "\n",
    "Mas isso vai depender do tamanho da lista, do tipo de dados dentro da lista e do computador que está executando o programa. No entanto, para efeito comparativo, podemos estimar o número de operações. Neste caso, podemos falar em quantas comparações foram realizadas (A linha `L[k] > L[k+1]`). Também é interessante saber quantas inversões foram realizadas. Estime esse custo para os dois seguintes casos:\n",
    "\n",
    " 1. Uma lista ordenada de maneira crescente de comprimento N\n",
    " 2. Uma lista ordenada de maneira decrescente de comprimento N\n",
    " \n"
   ]
  },
  {
   "cell_type": "code",
   "execution_count": null,
   "id": "030ea8c1",
   "metadata": {},
   "outputs": [],
   "source": [
    "#L = [9, 2, 4, 3, 8, 6]\n",
    "#L = list(range(18))\n",
    "L = list(range(18))[::-1]\n",
    "N = len(L)\n",
    "ntroca = 0\n",
    "ncomp = 0\n",
    "for i in range(N):\n",
    "    trocou = False\n",
    "    for k in range(N-i-1):\n",
    "        ncomp += 1\n",
    "        if L[k] > L[k+1]: # Inverter a posição\n",
    "            ntroca += 1\n",
    "            trocou = True\n",
    "            tmp = L[k]\n",
    "            L[k] = L[k+1]\n",
    "            L[k+1] = tmp\n",
    "    if not trocou:\n",
    "        break\n",
    "\n",
    "N, ncomp, ntroca\n",
    "        \n",
    "            "
   ]
  },
  {
   "cell_type": "markdown",
   "id": "33079e22",
   "metadata": {},
   "source": [
    "| Lista       | Compr. | Núm comparações | Núm trocas |\n",
    "| ----------- | ------ | --------------- | ---------- |\n",
    "| Original    |  6     |    12           |   7        |\n",
    "| Crescente   |  6     |     5           |    0       |\n",
    "| Crescente   |  12    |     11          |    0       |\n",
    "| Crescente   |  18    |     17          |    0       |\n",
    "| Decrescente |   6    |     15          |   15       |\n",
    "| Decrescente |   12   |     66          |   66       |\n",
    "| Decrescente |   18   |     153         |   153      |\n"
   ]
  },
  {
   "cell_type": "markdown",
   "id": "ea3ee53f",
   "metadata": {},
   "source": [
    "Assim, para uma lista ordenada de N elementos, o algorítimo fará N-1 comparações e nenhuma troca. O custo é linear: $\\mathcal{O}(N)$\n",
    "\n",
    "Por outro lado se a lista estiver ordenada em ordem contrária, o custo aumenta rapidamente segundo esta equação:\n",
    "\n",
    "$$\n",
    "N = \\frac{N\\times(N-1)}{2}\n",
    "$$\n",
    "\n",
    "Isso é um custo de ordem $\\mathcal{O}(N^2)$. Dobrou o tamanho da lista, quadruplicou o custo! Este não é um algorítimo muito bom..."
   ]
  },
  {
   "cell_type": "markdown",
   "id": "37a287b2",
   "metadata": {},
   "source": [
    "### Exercício 16\n",
    "Explore os métodos das listas\n",
    "\n",
    "Não tem solução...\n"
   ]
  },
  {
   "cell_type": "markdown",
   "id": "702f9293",
   "metadata": {},
   "source": [
    "### Exercício 17\n",
    "Não são apenas as listas que têm métodos. Números e strings também têm métodos. Explore-os da mesma maneira que você fez com os métodos das listas.\n",
    "\n",
    "Não tem solução"
   ]
  }
 ],
 "metadata": {
  "kernelspec": {
   "display_name": "Python 3 (ipykernel)",
   "language": "python",
   "name": "python3"
  },
  "language_info": {
   "codemirror_mode": {
    "name": "ipython",
    "version": 3
   },
   "file_extension": ".py",
   "mimetype": "text/x-python",
   "name": "python",
   "nbconvert_exporter": "python",
   "pygments_lexer": "ipython3",
   "version": "3.10.1"
  }
 },
 "nbformat": 4,
 "nbformat_minor": 5
}
