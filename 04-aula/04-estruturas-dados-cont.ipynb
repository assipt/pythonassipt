{
 "cells": [
  {
   "cell_type": "markdown",
   "id": "given-replication",
   "metadata": {},
   "source": [
    "# Estrutura de dados (2)\n",
    "\n",
    "Na aula passada aprendemos a mexer com listas, uma das estruturas de dados mais importantes e flexíveis que existe.\n",
    "\n",
    "Nesta aula veremos outras estruturas de dados importantes como os dicionários, os conjuntos e as tuplas.\n",
    "\n",
    "Antes disso vamos rever o que aprendemos com as listas."
   ]
  },
  {
   "cell_type": "markdown",
   "id": "qualified-paragraph",
   "metadata": {},
   "source": [
    "## Revisão de listas\n"
   ]
  },
  {
   "cell_type": "code",
   "execution_count": null,
   "id": "mechanical-mouse",
   "metadata": {},
   "outputs": [],
   "source": [
    "L = [1,2,3,4] # Como criar uma lista\n",
    "L"
   ]
  },
  {
   "cell_type": "code",
   "execution_count": null,
   "id": "growing-constitutional",
   "metadata": {},
   "outputs": [],
   "source": [
    "len(L) # Comprimento de uma lista"
   ]
  },
  {
   "cell_type": "code",
   "execution_count": null,
   "id": "surrounded-college",
   "metadata": {},
   "outputs": [],
   "source": [
    "L[0] # Acessar os elementos da lista"
   ]
  },
  {
   "cell_type": "code",
   "execution_count": null,
   "id": "laden-wheat",
   "metadata": {},
   "outputs": [],
   "source": [
    "L[1:3] # Fatiamento das listas"
   ]
  },
  {
   "cell_type": "code",
   "execution_count": null,
   "id": "developing-ancient",
   "metadata": {},
   "outputs": [],
   "source": [
    "L.append(5) # Adicionar um elemento ao final da lista\n",
    "L"
   ]
  },
  {
   "cell_type": "code",
   "execution_count": null,
   "id": "potential-disclosure",
   "metadata": {},
   "outputs": [],
   "source": [
    "M = [1,2,3,] + [4,5,6,7,8] # Concatenar listas"
   ]
  },
  {
   "cell_type": "code",
   "execution_count": null,
   "id": "homeless-fever",
   "metadata": {},
   "outputs": [],
   "source": [
    "L.extend([6,7,8]) # Extender lista\n",
    "L"
   ]
  },
  {
   "cell_type": "code",
   "execution_count": null,
   "id": "lesser-transport",
   "metadata": {},
   "outputs": [],
   "source": [
    "del L[5:] # Remover elementos da lista\n",
    "L"
   ]
  },
  {
   "cell_type": "code",
   "execution_count": null,
   "id": "proprietary-suspension",
   "metadata": {},
   "outputs": [],
   "source": [
    "L.pop(-1)  # Retirar o último elemento da lista e retornar seu valor"
   ]
  },
  {
   "cell_type": "code",
   "execution_count": null,
   "id": "under-gathering",
   "metadata": {},
   "outputs": [],
   "source": [
    "L"
   ]
  },
  {
   "cell_type": "code",
   "execution_count": null,
   "id": "retained-treasury",
   "metadata": {},
   "outputs": [],
   "source": [
    "L.pop(0) # Retirar o primeiro elemento da lista e retornar seu valor"
   ]
  },
  {
   "cell_type": "code",
   "execution_count": null,
   "id": "yellow-cambridge",
   "metadata": {},
   "outputs": [],
   "source": [
    "L"
   ]
  },
  {
   "cell_type": "markdown",
   "id": "retained-avenue",
   "metadata": {},
   "source": [
    "### Vimos que existem vários métodos\n",
    "\n",
    "Estes métodos podem ser bastante úteis"
   ]
  },
  {
   "cell_type": "code",
   "execution_count": null,
   "id": "regional-lithuania",
   "metadata": {},
   "outputs": [],
   "source": [
    "L = [32,3456,124,687,523,456,23,634,576]\n",
    "M = L[:]  # Cuidado ao copiar a lista!!!"
   ]
  },
  {
   "cell_type": "code",
   "execution_count": null,
   "id": "concrete-syntax",
   "metadata": {},
   "outputs": [],
   "source": [
    "L.index(124) # Buscar índice de elemento da lista"
   ]
  },
  {
   "cell_type": "code",
   "execution_count": null,
   "id": "bound-advertiser",
   "metadata": {},
   "outputs": [],
   "source": [
    "[2,34,3,2,3,6,6,6,6,32,4,4,3,2].count(6)"
   ]
  },
  {
   "cell_type": "code",
   "execution_count": null,
   "id": "indian-aberdeen",
   "metadata": {},
   "outputs": [],
   "source": [
    "L.sort() # Reordenar"
   ]
  },
  {
   "cell_type": "code",
   "execution_count": null,
   "id": "english-exposure",
   "metadata": {},
   "outputs": [],
   "source": [
    "L"
   ]
  },
  {
   "cell_type": "markdown",
   "id": "registered-kitty",
   "metadata": {},
   "source": [
    "### Vimos o algorítimo de Bubble Sort para reordenar listas"
   ]
  },
  {
   "cell_type": "markdown",
   "id": "diagnostic-nature",
   "metadata": {},
   "source": [
    "## Dicionários\n",
    "\n",
    "Estrutura de dados semelhante à lista mas com acesso diferente.\n",
    "\n",
    "Os dicionários em Python são compostos por\n",
    " \n",
    " * Chaves\n",
    " * Valores\n",
    " \n",
    "O dicionário relaciona uma chava a um valor. A cada chave, existe um valor associado.\n",
    "\n",
    "De certo modo a lista pode ser vista como um dicionário: as chaves são números inteiros ordenados. \n",
    "\n",
    "\n",
    "Para se criar um dicionário, utilizam-se chaves ({})\n",
    "\n",
    "Imagine como exemplo, uma lista de preços de um supermercado:\n",
    "\n",
    "| Produto | Preço   |\n",
    "| ------- | ------- |\n",
    "| Alface  | R\\$ 0,45 |\n",
    "| Batata  | R\\$ 1,20 |\n",
    "| Tomate  | R\\$ 2,30 |\n",
    "| Feijão  | R\\$ 1,50 |\n",
    "\n"
   ]
  },
  {
   "cell_type": "code",
   "execution_count": null,
   "id": "binding-cross",
   "metadata": {},
   "outputs": [],
   "source": [
    "tabela = {\"Alface\": 0.45, \n",
    "         \"Batata\": 1.20, \n",
    "         \"Tomate\": 2.30, \n",
    "         \"Feijão\": 1.50}"
   ]
  },
  {
   "cell_type": "code",
   "execution_count": null,
   "id": "northern-secretariat",
   "metadata": {},
   "outputs": [],
   "source": [
    "tabela"
   ]
  },
  {
   "cell_type": "markdown",
   "id": "republican-clone",
   "metadata": {},
   "source": [
    "Em um dicionário, para se acessar um valor, usa-se a chave:"
   ]
  },
  {
   "cell_type": "code",
   "execution_count": null,
   "id": "naval-enclosure",
   "metadata": {},
   "outputs": [],
   "source": [
    "tabela[\"Alface\"]"
   ]
  },
  {
   "cell_type": "markdown",
   "id": "functional-chick",
   "metadata": {},
   "source": [
    "Também podemos atribuir um valor à chave:"
   ]
  },
  {
   "cell_type": "code",
   "execution_count": null,
   "id": "polish-crowd",
   "metadata": {},
   "outputs": [],
   "source": [
    "tabela[\"Alface\"] = 0.55  # Aumentamos o preço"
   ]
  },
  {
   "cell_type": "code",
   "execution_count": null,
   "id": "sized-conservation",
   "metadata": {},
   "outputs": [],
   "source": [
    "tabela"
   ]
  },
  {
   "cell_type": "markdown",
   "id": "retained-storm",
   "metadata": {},
   "source": [
    "Se atribuirmos um valor a uma chave que **não** existe, essa nova chave com este valor será adicionada ao dicionário:"
   ]
  },
  {
   "cell_type": "code",
   "execution_count": null,
   "id": "bigger-program",
   "metadata": {},
   "outputs": [],
   "source": [
    "tabela[\"Cebola\"] = 1.35\n",
    "tabela"
   ]
  },
  {
   "cell_type": "markdown",
   "id": "physical-camping",
   "metadata": {},
   "source": [
    "Se a chave não existir, ocorrerá um erro:"
   ]
  },
  {
   "cell_type": "code",
   "execution_count": null,
   "id": "regulated-kingston",
   "metadata": {},
   "outputs": [],
   "source": [
    "tabela[\"Picanha\"]"
   ]
  },
  {
   "cell_type": "markdown",
   "id": "convinced-toilet",
   "metadata": {},
   "source": [
    "Para se verificar se um chave faz parte do dicionário, use o operador `in`:"
   ]
  },
  {
   "cell_type": "code",
   "execution_count": null,
   "id": "aquatic-orbit",
   "metadata": {},
   "outputs": [],
   "source": [
    "\"Feijão\" in tabela"
   ]
  },
  {
   "cell_type": "code",
   "execution_count": null,
   "id": "empty-memphis",
   "metadata": {},
   "outputs": [],
   "source": [
    "\"Manga\" in tabela"
   ]
  },
  {
   "cell_type": "markdown",
   "id": "severe-disclaimer",
   "metadata": {},
   "source": [
    "O método `.keys()` retorna uma lista (algo parecido) com as chaves:"
   ]
  },
  {
   "cell_type": "code",
   "execution_count": null,
   "id": "exceptional-memphis",
   "metadata": {},
   "outputs": [],
   "source": [
    "tabela.keys()"
   ]
  },
  {
   "cell_type": "code",
   "execution_count": null,
   "id": "certified-foster",
   "metadata": {},
   "outputs": [],
   "source": [
    "# Programa para obter o preço da tabela:\n",
    "tabela = {\"Alface\": 0.45, \n",
    "         \"Batata\": 1.20, \n",
    "         \"Tomate\": 2.30, \n",
    "         \"Feijão\": 1.50}\n",
    "\n",
    "while True:\n",
    "    produto = input(\"Entre com o nome do produto, fim para terminar: \")\n",
    "    if produto == 'fim':\n",
    "        break\n",
    "    if produto in tabela:\n",
    "        print(f\"Preço {tabela[produto]:5.2f}\")\n",
    "    else:\n",
    "        print(\"Produto não encontrado!\")\n",
    "        "
   ]
  },
  {
   "cell_type": "markdown",
   "id": "historical-necklace",
   "metadata": {},
   "source": [
    "Assim como nas listas, podemos apagar uma chave com a instrução `del`:"
   ]
  },
  {
   "cell_type": "code",
   "execution_count": null,
   "id": "technical-lancaster",
   "metadata": {},
   "outputs": [],
   "source": [
    "tabela = {\"Alface\": 0.45, \n",
    "         \"Batata\": 1.20, \n",
    "         \"Tomate\": 2.30, \n",
    "         \"Feijão\": 1.50}\n",
    "\n",
    "del tabela[\"Tomate\"]\n",
    "tabela"
   ]
  },
  {
   "cell_type": "markdown",
   "id": "informational-provision",
   "metadata": {},
   "source": [
    "### Quando usar listas ou dicionários?\n",
    "\n",
    "Quando você quer acessar os dados pela chave. Observe que nas versões mais antigas de Python (antes da versão 3.7) **a ordem de inserção não\n",
    "era preservada**!\n",
    "\n",
    "O acesso de elementos de listas pode ser mais rápido. "
   ]
  },
  {
   "cell_type": "markdown",
   "id": "annual-feelings",
   "metadata": {},
   "source": [
    "**Cuidado** ao usar os f-strings com dicionários:"
   ]
  },
  {
   "cell_type": "code",
   "execution_count": null,
   "id": "illegal-folks",
   "metadata": {},
   "outputs": [],
   "source": [
    "d = {\"banana\": 2.00, \"maçã\": 5.00}\n",
    "#f\"Banana: R${d['banana']:5.2f} Maçã: R${d['maçã']5.2f}\""
   ]
  },
  {
   "cell_type": "code",
   "execution_count": null,
   "id": "indirect-passenger",
   "metadata": {},
   "outputs": [],
   "source": [
    "f\"Banana: R${d['banana']:5.2f} Maçã: R${d['maçã']:5.2f}\""
   ]
  },
  {
   "cell_type": "markdown",
   "id": "controlling-dressing",
   "metadata": {},
   "source": [
    "### O que pode ser usado como chave em um dicionário?\n",
    "\n",
    " * Strings\n",
    " * Números\n",
    " * Tuplas (veremos mais tarde)"
   ]
  },
  {
   "cell_type": "markdown",
   "id": "settled-magnet",
   "metadata": {},
   "source": [
    "### Os elementos de um dicionário podem ser qualquer coisa..."
   ]
  },
  {
   "cell_type": "code",
   "execution_count": null,
   "id": "familiar-donor",
   "metadata": {},
   "outputs": [],
   "source": [
    "estoque = {\"tomate\": [1000, 2.30],\n",
    "           \"alface\": [500, 0.45],\n",
    "           \"batata\": [2001, 1.20], \n",
    "           \"feijão\": [100, 1.5]}"
   ]
  },
  {
   "cell_type": "code",
   "execution_count": null,
   "id": "finished-disability",
   "metadata": {},
   "outputs": [],
   "source": [
    "# Programa para atualizar estoque após venda\n",
    "venda = [[\"tomate\", 5], [\"batata\",10], [\"alface\",5]]\n",
    "total = 0\n",
    "print(\"Vendas:\\n\")\n",
    "for operação in venda:\n",
    "    produto, quantidade = operação\n",
    "    preço = estoque[produto][1]\n",
    "    custo = preço * quantidade\n",
    "    print(f\"{produto:12s}: {quantidade:3d} x {preço:6.2f} = {custo:6.2f}\")\n",
    "    estoque[produto][0] -= quantidade\n",
    "    total += custo\n",
    "print(f\" Custo total: {total:21.2f}\\n\")\n",
    "print(\"Estoque:\\n\")\n",
    "for chave, dados in estoque.items():\n",
    "    print(\"Descrição: \", chave)\n",
    "    print(\"Quantidade: \", dados[0])\n",
    "    print(f\"Preço: {dados[1]:6.2f}\\n\")\n"
   ]
  },
  {
   "cell_type": "markdown",
   "id": "hungry-corps",
   "metadata": {},
   "source": [
    "### Exercício 1\n",
    "Altere o programa anterior de modo que o produto e a quantidade vendida seja solicitada ao usuário. Verifique se o produto digitado existe e só então efetue a baixa no estoque. Também verifique se o estoque é o suficiente para atender ao pedido.\n"
   ]
  },
  {
   "cell_type": "markdown",
   "id": "permanent-testing",
   "metadata": {},
   "source": [
    "### Exercício 2\n",
    "Escreva um programa que que gere um dicionário a partir de uma string onde a chave seja um caracter e o valor o número de vezes que este caracter aparece no dicionário\n",
    "\n",
    "o rolo -> {'o': 3, ' ': 1, 'l': 1}\n"
   ]
  },
  {
   "cell_type": "markdown",
   "id": "guided-thanks",
   "metadata": {},
   "source": [
    "### Dicionário com valores padrão\n",
    "\n",
    "Algo comum é que ao se recuperar o valor de uma chave, se essa chave não existir, utilizar um valor padrão"
   ]
  },
  {
   "cell_type": "code",
   "execution_count": null,
   "id": "united-alert",
   "metadata": {},
   "outputs": [],
   "source": [
    "d = {}\n",
    "for letra in \"abracadabra\":\n",
    "    if letra in d:\n",
    "        d[letra] += 1\n",
    "    else:\n",
    "        d[letra] = 1\n",
    "print(d)"
   ]
  },
  {
   "cell_type": "code",
   "execution_count": null,
   "id": "adjustable-wrong",
   "metadata": {},
   "outputs": [],
   "source": [
    "# Dicionário com valor padrão:\n",
    "d = {}\n",
    "for letra in \"abracadabra\":\n",
    "    d[letra] = d.get(letra,0) + 1\n",
    "print(d)\n"
   ]
  },
  {
   "cell_type": "markdown",
   "id": "surgical-drinking",
   "metadata": {},
   "source": [
    "## Tuplas\n",
    "\n",
    "Muito parecida com a lista mas com uma diferença: são imutáveis!\n",
    "\n",
    "O que quer dizer isso"
   ]
  },
  {
   "cell_type": "code",
   "execution_count": null,
   "id": "fresh-titanium",
   "metadata": {},
   "outputs": [],
   "source": []
  }
 ],
 "metadata": {
  "kernelspec": {
   "display_name": "Python 3 (ipykernel)",
   "language": "python",
   "name": "python3"
  },
  "language_info": {
   "codemirror_mode": {
    "name": "ipython",
    "version": 3
   },
   "file_extension": ".py",
   "mimetype": "text/x-python",
   "name": "python",
   "nbconvert_exporter": "python",
   "pygments_lexer": "ipython3",
   "version": "3.9.7"
  }
 },
 "nbformat": 4,
 "nbformat_minor": 5
}
