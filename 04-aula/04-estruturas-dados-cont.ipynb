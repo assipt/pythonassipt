{
 "cells": [
  {
   "cell_type": "markdown",
   "id": "given-replication",
   "metadata": {},
   "source": [
    "# Estrutura de dados (2) e strings\n",
    "\n",
    "Na aula passada aprendemos a mexer com listas, uma das estruturas de dados mais importantes e flexíveis que existe.\n",
    "\n",
    "Nesta aula veremos outras estruturas de dados importantes como os dicionários, os conjuntos e as tuplas.\n",
    "\n",
    "Antes disso vamos rever o que aprendemos com as listas.\n",
    "\n",
    "Também vamos ver mais funcionalidades de strings."
   ]
  },
  {
   "cell_type": "markdown",
   "id": "qualified-paragraph",
   "metadata": {},
   "source": [
    "## Revisão de listas\n",
    "<!-- TEASER_END -->\n"
   ]
  },
  {
   "cell_type": "code",
   "execution_count": null,
   "id": "mechanical-mouse",
   "metadata": {},
   "outputs": [],
   "source": [
    "L = [1,2,3,4] # Como criar uma lista\n",
    "L"
   ]
  },
  {
   "cell_type": "code",
   "execution_count": null,
   "id": "growing-constitutional",
   "metadata": {},
   "outputs": [],
   "source": [
    "len(L) # Comprimento de uma lista"
   ]
  },
  {
   "cell_type": "code",
   "execution_count": null,
   "id": "surrounded-college",
   "metadata": {},
   "outputs": [],
   "source": [
    "L[0] # Acessar os elementos da lista"
   ]
  },
  {
   "cell_type": "code",
   "execution_count": null,
   "id": "laden-wheat",
   "metadata": {},
   "outputs": [],
   "source": [
    "L[1:3] # Fatiamento das listas"
   ]
  },
  {
   "cell_type": "code",
   "execution_count": null,
   "id": "developing-ancient",
   "metadata": {},
   "outputs": [],
   "source": [
    "L.append(5) # Adicionar um elemento ao final da lista\n",
    "L"
   ]
  },
  {
   "cell_type": "code",
   "execution_count": null,
   "id": "potential-disclosure",
   "metadata": {},
   "outputs": [],
   "source": [
    "M = [1,2,3,] + [4,5,6,7,8] # Concatenar listas"
   ]
  },
  {
   "cell_type": "code",
   "execution_count": null,
   "id": "homeless-fever",
   "metadata": {},
   "outputs": [],
   "source": [
    "L.extend([6,7,8]) # Extender lista\n",
    "L"
   ]
  },
  {
   "cell_type": "code",
   "execution_count": null,
   "id": "lesser-transport",
   "metadata": {},
   "outputs": [],
   "source": [
    "del L[5:] # Remover elementos da lista\n",
    "L"
   ]
  },
  {
   "cell_type": "code",
   "execution_count": null,
   "id": "proprietary-suspension",
   "metadata": {},
   "outputs": [],
   "source": [
    "L.pop(-1)  # Retirar o último elemento da lista e retornar seu valor"
   ]
  },
  {
   "cell_type": "code",
   "execution_count": null,
   "id": "under-gathering",
   "metadata": {},
   "outputs": [],
   "source": [
    "L"
   ]
  },
  {
   "cell_type": "code",
   "execution_count": null,
   "id": "retained-treasury",
   "metadata": {},
   "outputs": [],
   "source": [
    "L.pop(0) # Retirar o primeiro elemento da lista e retornar seu valor"
   ]
  },
  {
   "cell_type": "code",
   "execution_count": null,
   "id": "yellow-cambridge",
   "metadata": {},
   "outputs": [],
   "source": [
    "L"
   ]
  },
  {
   "cell_type": "code",
   "execution_count": null,
   "id": "wicked-share",
   "metadata": {},
   "outputs": [],
   "source": [
    "# Algo que não vimos!\n",
    "L*3"
   ]
  },
  {
   "cell_type": "markdown",
   "id": "retained-avenue",
   "metadata": {},
   "source": [
    "### Vimos que existem vários métodos\n",
    "\n",
    "Estes métodos podem ser bastante úteis"
   ]
  },
  {
   "cell_type": "code",
   "execution_count": null,
   "id": "regional-lithuania",
   "metadata": {},
   "outputs": [],
   "source": [
    "L = [32,3456,124,687,523,456,23,634,576]\n",
    "M = L[:]  # Cuidado ao copiar a lista!!!"
   ]
  },
  {
   "cell_type": "code",
   "execution_count": null,
   "id": "concrete-syntax",
   "metadata": {},
   "outputs": [],
   "source": [
    "L.index(124) # Buscar índice de elemento da lista"
   ]
  },
  {
   "cell_type": "code",
   "execution_count": null,
   "id": "bound-advertiser",
   "metadata": {},
   "outputs": [],
   "source": [
    "[2,34,3,2,3,6,6,6,6,32,4,4,3,2].count(6)"
   ]
  },
  {
   "cell_type": "code",
   "execution_count": null,
   "id": "indian-aberdeen",
   "metadata": {},
   "outputs": [],
   "source": [
    "L.sort() # Reordenar"
   ]
  },
  {
   "cell_type": "code",
   "execution_count": null,
   "id": "english-exposure",
   "metadata": {},
   "outputs": [],
   "source": [
    "L"
   ]
  },
  {
   "cell_type": "markdown",
   "id": "registered-kitty",
   "metadata": {},
   "source": [
    "### Vimos o algorítimo de Bubble Sort para reordenar listas"
   ]
  },
  {
   "cell_type": "markdown",
   "id": "diagnostic-nature",
   "metadata": {},
   "source": [
    "## Dicionários\n",
    "\n",
    "Estrutura de dados semelhante à lista mas com acesso diferente.\n",
    "\n",
    "Os dicionários em Python são compostos por\n",
    " \n",
    " * Chaves\n",
    " * Valores\n",
    " \n",
    "O dicionário relaciona uma chava a um valor. A cada chave, existe um valor associado.\n",
    "\n",
    "De certo modo a lista pode ser vista como um dicionário: as chaves são números inteiros ordenados. \n",
    "\n",
    "\n",
    "Para se criar um dicionário, utilizam-se chaves ({})\n",
    "\n",
    "Imagine como exemplo, uma lista de preços de um supermercado:\n",
    "\n",
    "| Produto | Preço   |\n",
    "| ------- | ------- |\n",
    "| Alface  | R\\$ 0,45 |\n",
    "| Batata  | R\\$ 1,20 |\n",
    "| Tomate  | R\\$ 2,30 |\n",
    "| Feijão  | R\\$ 1,50 |\n",
    "\n"
   ]
  },
  {
   "cell_type": "code",
   "execution_count": null,
   "id": "binding-cross",
   "metadata": {},
   "outputs": [],
   "source": [
    "tabela = {\"Alface\": 0.45, \n",
    "         \"Batata\": 1.20, \n",
    "         \"Tomate\": 2.30, \n",
    "         \"Feijão\": 1.50}"
   ]
  },
  {
   "cell_type": "code",
   "execution_count": null,
   "id": "northern-secretariat",
   "metadata": {},
   "outputs": [],
   "source": [
    "tabela"
   ]
  },
  {
   "cell_type": "markdown",
   "id": "republican-clone",
   "metadata": {},
   "source": [
    "Em um dicionário, para se acessar um valor, usa-se a chave:"
   ]
  },
  {
   "cell_type": "code",
   "execution_count": null,
   "id": "naval-enclosure",
   "metadata": {},
   "outputs": [],
   "source": [
    "tabela[\"Alface\"]"
   ]
  },
  {
   "cell_type": "markdown",
   "id": "functional-chick",
   "metadata": {},
   "source": [
    "Também podemos atribuir um valor à chave:"
   ]
  },
  {
   "cell_type": "code",
   "execution_count": null,
   "id": "polish-crowd",
   "metadata": {},
   "outputs": [],
   "source": [
    "tabela[\"Alface\"] = 0.55  # Aumentamos o preço"
   ]
  },
  {
   "cell_type": "code",
   "execution_count": null,
   "id": "sized-conservation",
   "metadata": {},
   "outputs": [],
   "source": [
    "tabela"
   ]
  },
  {
   "cell_type": "markdown",
   "id": "retained-storm",
   "metadata": {},
   "source": [
    "Se atribuirmos um valor a uma chave que **não** existe, essa nova chave com este valor será adicionada ao dicionário:"
   ]
  },
  {
   "cell_type": "code",
   "execution_count": null,
   "id": "bigger-program",
   "metadata": {},
   "outputs": [],
   "source": [
    "tabela[\"Cebola\"] = 1.35\n",
    "tabela"
   ]
  },
  {
   "cell_type": "markdown",
   "id": "physical-camping",
   "metadata": {},
   "source": [
    "Se a chave não existir, ocorrerá um erro:"
   ]
  },
  {
   "cell_type": "code",
   "execution_count": null,
   "id": "regulated-kingston",
   "metadata": {},
   "outputs": [],
   "source": [
    "tabela[\"Picanha\"]"
   ]
  },
  {
   "cell_type": "markdown",
   "id": "convinced-toilet",
   "metadata": {},
   "source": [
    "Para se verificar se um chave faz parte do dicionário, use o operador `in`:"
   ]
  },
  {
   "cell_type": "code",
   "execution_count": null,
   "id": "aquatic-orbit",
   "metadata": {},
   "outputs": [],
   "source": [
    "\"Feijão\" in tabela"
   ]
  },
  {
   "cell_type": "code",
   "execution_count": null,
   "id": "empty-memphis",
   "metadata": {},
   "outputs": [],
   "source": [
    "\"Manga\" in tabela"
   ]
  },
  {
   "cell_type": "markdown",
   "id": "severe-disclaimer",
   "metadata": {},
   "source": [
    "O método `.keys()` retorna uma lista (algo parecido) com as chaves:"
   ]
  },
  {
   "cell_type": "code",
   "execution_count": null,
   "id": "exceptional-memphis",
   "metadata": {},
   "outputs": [],
   "source": [
    "tabela.keys()"
   ]
  },
  {
   "cell_type": "code",
   "execution_count": null,
   "id": "certified-foster",
   "metadata": {},
   "outputs": [],
   "source": [
    "# Programa para obter o preço da tabela:\n",
    "tabela = {\"Alface\": 0.45, \n",
    "         \"Batata\": 1.20, \n",
    "         \"Tomate\": 2.30, \n",
    "         \"Feijão\": 1.50}\n",
    "\n",
    "while True:\n",
    "    produto = input(\"Entre com o nome do produto, fim para terminar: \")\n",
    "    if produto == 'fim':\n",
    "        break\n",
    "    if produto in tabela:\n",
    "        print(f\"Preço {tabela[produto]:5.2f}\")\n",
    "    else:\n",
    "        print(\"Produto não encontrado!\")\n",
    "        "
   ]
  },
  {
   "cell_type": "markdown",
   "id": "historical-necklace",
   "metadata": {},
   "source": [
    "Assim como nas listas, podemos apagar uma chave com a instrução `del`:"
   ]
  },
  {
   "cell_type": "code",
   "execution_count": null,
   "id": "technical-lancaster",
   "metadata": {},
   "outputs": [],
   "source": [
    "tabela = {\"Alface\": 0.45, \n",
    "         \"Batata\": 1.20, \n",
    "         \"Tomate\": 2.30, \n",
    "         \"Feijão\": 1.50}\n",
    "\n",
    "del tabela[\"Tomate\"]\n",
    "tabela"
   ]
  },
  {
   "cell_type": "markdown",
   "id": "informational-provision",
   "metadata": {},
   "source": [
    "### Quando usar listas ou dicionários?\n",
    "\n",
    "Quando você quer acessar os dados pela chave. Observe que nas versões mais antigas de Python (antes da versão 3.7) **a ordem de inserção não\n",
    "era preservada**!\n",
    "\n",
    "O acesso de elementos de listas pode ser mais rápido. "
   ]
  },
  {
   "cell_type": "markdown",
   "id": "annual-feelings",
   "metadata": {},
   "source": [
    "**Cuidado** ao usar os f-strings com dicionários:"
   ]
  },
  {
   "cell_type": "code",
   "execution_count": null,
   "id": "illegal-folks",
   "metadata": {},
   "outputs": [],
   "source": [
    "d = {\"banana\": 2.00, \"maçã\": 5.00}\n",
    "f\"Banana: R${d['banana']:5.2f} Maçã: R${d['maçã']:5.2f}\""
   ]
  },
  {
   "cell_type": "markdown",
   "id": "controlling-dressing",
   "metadata": {},
   "source": [
    "### O que pode ser usado como chave em um dicionário?\n",
    "\n",
    " * Strings\n",
    " * Números\n",
    " * Tuplas (veremos mais tarde)"
   ]
  },
  {
   "cell_type": "markdown",
   "id": "settled-magnet",
   "metadata": {},
   "source": [
    "### Os elementos de um dicionário podem ser qualquer coisa..."
   ]
  },
  {
   "cell_type": "code",
   "execution_count": null,
   "id": "familiar-donor",
   "metadata": {},
   "outputs": [],
   "source": [
    "estoque = {\"tomate\": [1000, 2.30],\n",
    "           \"alface\": [500, 0.45],\n",
    "           \"batata\": [2001, 1.20], \n",
    "           \"feijão\": [100, 1.5]}"
   ]
  },
  {
   "cell_type": "code",
   "execution_count": null,
   "id": "finished-disability",
   "metadata": {},
   "outputs": [],
   "source": [
    "# Programa para atualizar estoque após venda\n",
    "venda = [[\"tomate\", 5], [\"batata\",10], [\"alface\",5]]\n",
    "total = 0\n",
    "print(\"Vendas:\\n\")\n",
    "for operação in venda:\n",
    "    produto, quantidade = operação\n",
    "    preço = estoque[produto][1]\n",
    "    custo = preço * quantidade\n",
    "    print(f\"{produto:12s}: {quantidade:3d} x {preço:6.2f} = {custo:6.2f}\")\n",
    "    estoque[produto][0] -= quantidade\n",
    "    total += custo\n",
    "print(f\" Custo total: {total:21.2f}\\n\")\n",
    "print(\"Estoque:\\n\")\n",
    "for chave, dados in estoque.items():\n",
    "    print(\"Descrição: \", chave)\n",
    "    print(\"Quantidade: \", dados[0])\n",
    "    print(f\"Preço: {dados[1]:6.2f}\\n\")\n"
   ]
  },
  {
   "cell_type": "markdown",
   "id": "hungry-corps",
   "metadata": {},
   "source": [
    "### Exercício 1\n",
    "Altere o programa anterior de modo que o produto e a quantidade vendida seja solicitada ao usuário. Verifique se o produto digitado existe e só então efetue a baixa no estoque. Também verifique se o estoque é o suficiente para atender ao pedido.\n"
   ]
  },
  {
   "cell_type": "markdown",
   "id": "permanent-testing",
   "metadata": {},
   "source": [
    "### Exercício 2\n",
    "Escreva um programa que que gere um dicionário a partir de uma string onde a chave seja um caracter e o valor o número de vezes que este caracter aparece no dicionário\n",
    "\n",
    "o rolo -> {'o': 3, ' ': 1, 'l': 1}\n"
   ]
  },
  {
   "cell_type": "markdown",
   "id": "guided-thanks",
   "metadata": {},
   "source": [
    "### Dicionário com valores padrão\n",
    "\n",
    "Algo comum é que ao se recuperar o valor de uma chave, se essa chave não existir, utilizar um valor padrão"
   ]
  },
  {
   "cell_type": "code",
   "execution_count": null,
   "id": "united-alert",
   "metadata": {},
   "outputs": [],
   "source": [
    "d = {}\n",
    "d[\"A\"] = 1\n",
    "d[\"B\"] = 2\n",
    "d"
   ]
  },
  {
   "cell_type": "code",
   "execution_count": null,
   "id": "looking-gamma",
   "metadata": {},
   "outputs": [],
   "source": [
    "d[\"C\"]"
   ]
  },
  {
   "cell_type": "code",
   "execution_count": null,
   "id": "adjustable-wrong",
   "metadata": {},
   "outputs": [],
   "source": [
    "\n",
    "x = d.get(\"C\")"
   ]
  },
  {
   "cell_type": "code",
   "execution_count": null,
   "id": "still-three",
   "metadata": {},
   "outputs": [],
   "source": [
    "x is None"
   ]
  },
  {
   "cell_type": "code",
   "execution_count": null,
   "id": "dying-thread",
   "metadata": {},
   "outputs": [],
   "source": [
    "x = d.get(\"C\", 999)\n",
    "x"
   ]
  },
  {
   "cell_type": "markdown",
   "id": "wanted-label",
   "metadata": {},
   "source": [
    "### Iterando um dicionário com `for`\n",
    "\n",
    "Também dá usar for em um dicionário."
   ]
  },
  {
   "cell_type": "code",
   "execution_count": null,
   "id": "loved-trust",
   "metadata": {},
   "outputs": [],
   "source": [
    "estoque = {\"tomate\": [1000, 2.30],\n",
    "           \"alface\": [500, 0.45],\n",
    "           \"batata\": [2001, 1.20], \n",
    "           \"feijão\": [100, 1.5]}"
   ]
  },
  {
   "cell_type": "code",
   "execution_count": null,
   "id": "mineral-growth",
   "metadata": {},
   "outputs": [],
   "source": [
    "for x in estoque:\n",
    "    print(x)"
   ]
  },
  {
   "cell_type": "markdown",
   "id": "indian-identity",
   "metadata": {},
   "source": [
    "E se você precisa da chave e do valor? Use o método `.items()`"
   ]
  },
  {
   "cell_type": "code",
   "execution_count": null,
   "id": "muslim-netherlands",
   "metadata": {},
   "outputs": [],
   "source": [
    "for c,v in estoque.items():\n",
    "    print(\"------------\")\n",
    "    print(f\"Chave: {c}\")\n",
    "    print(f\"Valor: {v}\")\n",
    "    "
   ]
  },
  {
   "cell_type": "code",
   "execution_count": null,
   "id": "alone-japanese",
   "metadata": {},
   "outputs": [],
   "source": [
    "estoque.items()"
   ]
  },
  {
   "cell_type": "markdown",
   "id": "surgical-drinking",
   "metadata": {},
   "source": [
    "## Tuplas\n",
    "\n",
    "Muito parecida com a lista mas com uma diferença: são imutáveis!\n",
    "\n",
    "Tem alguma semelhança com as strings. Strings se *parecem* com listas que não podem ser modificadas. Mas as strings são otimizadas para caracteres. \n",
    "\n",
    "Apesar de imutáveis, os elementos da tupla podem ter tipos distintos.\n",
    "\n"
   ]
  },
  {
   "cell_type": "markdown",
   "id": "geographic-infrared",
   "metadata": {},
   "source": [
    "### Tuplas são parecidas com listas!"
   ]
  },
  {
   "cell_type": "code",
   "execution_count": null,
   "id": "fresh-titanium",
   "metadata": {},
   "outputs": [],
   "source": [
    "tupla = (\"a\", \"b\", \"c\")"
   ]
  },
  {
   "cell_type": "code",
   "execution_count": null,
   "id": "continuous-performer",
   "metadata": {},
   "outputs": [],
   "source": [
    "tupla"
   ]
  },
  {
   "cell_type": "code",
   "execution_count": null,
   "id": "chicken-victoria",
   "metadata": {},
   "outputs": [],
   "source": [
    "tupla[0]"
   ]
  },
  {
   "cell_type": "code",
   "execution_count": null,
   "id": "chubby-stereo",
   "metadata": {},
   "outputs": [],
   "source": [
    "tupla[1]"
   ]
  },
  {
   "cell_type": "code",
   "execution_count": null,
   "id": "trained-tribute",
   "metadata": {},
   "outputs": [],
   "source": [
    "[1,2,3]*2 # repetição"
   ]
  },
  {
   "cell_type": "code",
   "execution_count": null,
   "id": "productive-labor",
   "metadata": {},
   "outputs": [],
   "source": [
    "tupla[1:]"
   ]
  },
  {
   "cell_type": "code",
   "execution_count": null,
   "id": "micro-prairie",
   "metadata": {},
   "outputs": [],
   "source": [
    "len(tupla)"
   ]
  },
  {
   "cell_type": "code",
   "execution_count": null,
   "id": "exotic-photograph",
   "metadata": {},
   "outputs": [],
   "source": [
    "for e in tupla:\n",
    "    print(e)\n",
    "    "
   ]
  },
  {
   "cell_type": "code",
   "execution_count": null,
   "id": "musical-humanitarian",
   "metadata": {},
   "outputs": [],
   "source": [
    "# Lembre-se as tuplas são imutáveis!\n",
    "tupla[1] = 'd'"
   ]
  },
  {
   "cell_type": "markdown",
   "id": "altered-auckland",
   "metadata": {},
   "source": [
    "### Tuplas como múltiplos valores, empacotamento e desempacotamento\n"
   ]
  },
  {
   "cell_type": "code",
   "execution_count": null,
   "id": "local-filename",
   "metadata": {},
   "outputs": [],
   "source": [
    "tupla = 100,200,300\n",
    "tupla"
   ]
  },
  {
   "cell_type": "code",
   "execution_count": null,
   "id": "historic-ceramic",
   "metadata": {},
   "outputs": [],
   "source": [
    "a, b, c = tupla"
   ]
  },
  {
   "cell_type": "code",
   "execution_count": null,
   "id": "existing-uniform",
   "metadata": {},
   "outputs": [],
   "source": [
    "print(f\"a = {a}, b = {b}, c = {c}\")"
   ]
  },
  {
   "cell_type": "code",
   "execution_count": null,
   "id": "lucky-innocent",
   "metadata": {},
   "outputs": [],
   "source": [
    "a, b = 10, 20\n",
    "a,b"
   ]
  },
  {
   "cell_type": "code",
   "execution_count": null,
   "id": "sized-saturday",
   "metadata": {},
   "outputs": [],
   "source": [
    "# Operação realizada de maneira 'paralela'\n",
    "a, b = b, a\n",
    "a,b"
   ]
  },
  {
   "cell_type": "markdown",
   "id": "impaired-zoning",
   "metadata": {},
   "source": [
    "Se lembram do bubble sort?"
   ]
  },
  {
   "cell_type": "code",
   "execution_count": null,
   "id": "female-mainstream",
   "metadata": {},
   "outputs": [],
   "source": [
    "L = [9, 2, 4, 3, 8, 6]\n",
    "N = len(L)\n",
    "for i in range(N):\n",
    "    trocou = False\n",
    "    for k in range(N-i-1):\n",
    "        if L[k] > L[k+1]: # Inverter a posição\n",
    "            trocou = True\n",
    "            # Como era antes\n",
    "            # tmp = L[k]\n",
    "            # L[k] = L[k+1]\n",
    "            #L[k+1] = tmp\n",
    "            L[k], L[k+1] = L[k+1], L[k] # Olha só que simples!\n",
    "    if not trocou:\n",
    "        break\n",
    "\n",
    "L\n",
    "        "
   ]
  },
  {
   "cell_type": "markdown",
   "id": "beneficial-yacht",
   "metadata": {},
   "source": [
    "### Tuplas com um elemento"
   ]
  },
  {
   "cell_type": "code",
   "execution_count": null,
   "id": "correct-rebecca",
   "metadata": {},
   "outputs": [],
   "source": [
    "t1 = (1)\n",
    "t1"
   ]
  },
  {
   "cell_type": "code",
   "execution_count": null,
   "id": "convinced-consultancy",
   "metadata": {},
   "outputs": [],
   "source": [
    "t2 = (1,)\n",
    "t2"
   ]
  },
  {
   "cell_type": "code",
   "execution_count": null,
   "id": "colored-guest",
   "metadata": {},
   "outputs": [],
   "source": [
    "# Tupla vazia\n",
    "t3 = ()\n",
    "t3"
   ]
  },
  {
   "cell_type": "markdown",
   "id": "indian-tackle",
   "metadata": {},
   "source": [
    "### Tuplas a partir de listas (e vice e versa):\n"
   ]
  },
  {
   "cell_type": "code",
   "execution_count": null,
   "id": "favorite-valuable",
   "metadata": {},
   "outputs": [],
   "source": [
    "L = [1,2,3]\n",
    "T = tuple(L)\n",
    "T"
   ]
  },
  {
   "cell_type": "code",
   "execution_count": null,
   "id": "express-twelve",
   "metadata": {},
   "outputs": [],
   "source": [
    "T = (1,2,3)\n",
    "L = list(T)\n",
    "L"
   ]
  },
  {
   "cell_type": "markdown",
   "id": "sonic-episode",
   "metadata": {},
   "source": [
    "\n",
    "### Concatenação\n"
   ]
  },
  {
   "cell_type": "code",
   "execution_count": null,
   "id": "dominican-officer",
   "metadata": {},
   "outputs": [],
   "source": [
    "(1,2,3) + (4,5,6)"
   ]
  },
  {
   "cell_type": "markdown",
   "id": "equipped-lithuania",
   "metadata": {},
   "source": [
    "### A tupla é imutável, não seus elementos (pode ou não ser!)"
   ]
  },
  {
   "cell_type": "code",
   "execution_count": null,
   "id": "parental-madagascar",
   "metadata": {},
   "outputs": [],
   "source": [
    "T = (1,[2,3,4])\n",
    "T"
   ]
  },
  {
   "cell_type": "code",
   "execution_count": null,
   "id": "metric-consideration",
   "metadata": {},
   "outputs": [],
   "source": [
    "T[1].append(5)"
   ]
  },
  {
   "cell_type": "code",
   "execution_count": null,
   "id": "pending-grave",
   "metadata": {},
   "outputs": [],
   "source": [
    "T"
   ]
  },
  {
   "cell_type": "markdown",
   "id": "basic-variance",
   "metadata": {},
   "source": [
    "### Exercício 3\n",
    "Explore os métodos disponíveis aos dicionários. Brinque com eles"
   ]
  },
  {
   "cell_type": "markdown",
   "id": "shared-colonial",
   "metadata": {},
   "source": [
    "### Mais empacotamento e desempacotamento (listas também podem)"
   ]
  },
  {
   "cell_type": "code",
   "execution_count": null,
   "id": "further-width",
   "metadata": {},
   "outputs": [],
   "source": [
    "tupla = 1,2\n",
    "a,b = tupla"
   ]
  },
  {
   "cell_type": "code",
   "execution_count": null,
   "id": "cardiovascular-bikini",
   "metadata": {},
   "outputs": [],
   "source": [
    "a,b = 1,2"
   ]
  },
  {
   "cell_type": "code",
   "execution_count": null,
   "id": "disabled-recovery",
   "metadata": {},
   "outputs": [],
   "source": [
    "c,d = [3,4]\n",
    "print(f\"c = {c}, d = {d}\")"
   ]
  },
  {
   "cell_type": "code",
   "execution_count": null,
   "id": "stuck-television",
   "metadata": {},
   "outputs": [],
   "source": [
    "*a, b = [1,2,3,4,5]\n",
    "b"
   ]
  },
  {
   "cell_type": "code",
   "execution_count": null,
   "id": "chinese-municipality",
   "metadata": {},
   "outputs": [],
   "source": [
    "a"
   ]
  },
  {
   "cell_type": "code",
   "execution_count": null,
   "id": "expressed-meditation",
   "metadata": {},
   "outputs": [],
   "source": [
    "*a,b = (1,2,3,4,5)"
   ]
  },
  {
   "cell_type": "code",
   "execution_count": null,
   "id": "informal-shannon",
   "metadata": {},
   "outputs": [],
   "source": [
    "a"
   ]
  },
  {
   "cell_type": "code",
   "execution_count": null,
   "id": "elder-postage",
   "metadata": {},
   "outputs": [],
   "source": [
    "b"
   ]
  },
  {
   "cell_type": "code",
   "execution_count": null,
   "id": "moving-messenger",
   "metadata": {},
   "outputs": [],
   "source": [
    "a,*b = [1,2,3,4,5]\n",
    "a"
   ]
  },
  {
   "cell_type": "code",
   "execution_count": null,
   "id": "popular-investing",
   "metadata": {},
   "outputs": [],
   "source": [
    "b"
   ]
  },
  {
   "cell_type": "code",
   "execution_count": null,
   "id": "tough-plane",
   "metadata": {},
   "outputs": [],
   "source": [
    "a,*b,c = [1,2,3,4,5]\n",
    "a"
   ]
  },
  {
   "cell_type": "code",
   "execution_count": null,
   "id": "balanced-peter",
   "metadata": {},
   "outputs": [],
   "source": [
    "b"
   ]
  },
  {
   "cell_type": "code",
   "execution_count": null,
   "id": "latter-development",
   "metadata": {},
   "outputs": [],
   "source": [
    "c"
   ]
  },
  {
   "cell_type": "code",
   "execution_count": null,
   "id": "miniature-graham",
   "metadata": {},
   "outputs": [],
   "source": [
    "*a,b,c = [1,2,3,4,5]\n",
    "a"
   ]
  },
  {
   "cell_type": "code",
   "execution_count": null,
   "id": "delayed-mustang",
   "metadata": {},
   "outputs": [],
   "source": [
    "b"
   ]
  },
  {
   "cell_type": "code",
   "execution_count": null,
   "id": "handed-allen",
   "metadata": {},
   "outputs": [],
   "source": [
    "c"
   ]
  },
  {
   "cell_type": "code",
   "execution_count": null,
   "id": "desperate-celebration",
   "metadata": {},
   "outputs": [],
   "source": [
    "a,b,*c = [1,2,3,4,5]\n",
    "a\n"
   ]
  },
  {
   "cell_type": "code",
   "execution_count": null,
   "id": "fitted-webmaster",
   "metadata": {},
   "outputs": [],
   "source": [
    "b"
   ]
  },
  {
   "cell_type": "code",
   "execution_count": null,
   "id": "accurate-international",
   "metadata": {},
   "outputs": [],
   "source": [
    "c"
   ]
  },
  {
   "cell_type": "markdown",
   "id": "indonesian-payroll",
   "metadata": {},
   "source": [
    "## Conjuntos (`set`)\n",
    "\n",
    "Os conjuntos em Python são uma estrutura de dados que funcionam como conjuntos que aprendemos na escola. \n",
    "\n",
    "Um conjunto é uma coleção de elementos que não são repetidos. \n",
    "\n",
    "Ah, podemos fazer as operações união e intersecção!"
   ]
  },
  {
   "cell_type": "code",
   "execution_count": null,
   "id": "lesser-fourth",
   "metadata": {},
   "outputs": [],
   "source": [
    "a = {1,2,3} # Notação para conjuntos\n",
    "a"
   ]
  },
  {
   "cell_type": "code",
   "execution_count": null,
   "id": "surprising-scholarship",
   "metadata": {},
   "outputs": [],
   "source": [
    "a.add(4)\n",
    "a.add(5)\n",
    "a.add(6)\n",
    "a"
   ]
  },
  {
   "cell_type": "code",
   "execution_count": null,
   "id": "naval-tuesday",
   "metadata": {},
   "outputs": [],
   "source": [
    "a.add(1)\n",
    "a"
   ]
  },
  {
   "cell_type": "code",
   "execution_count": null,
   "id": "sonic-rapid",
   "metadata": {},
   "outputs": [],
   "source": [
    "a.add(-1)\n",
    "a"
   ]
  },
  {
   "cell_type": "code",
   "execution_count": null,
   "id": "simple-meditation",
   "metadata": {},
   "outputs": [],
   "source": [
    "len(a)"
   ]
  },
  {
   "cell_type": "markdown",
   "id": "enabling-seattle",
   "metadata": {},
   "source": [
    "### Ver se um elemento pertence a um conjunto:"
   ]
  },
  {
   "cell_type": "code",
   "execution_count": null,
   "id": "permanent-cycle",
   "metadata": {},
   "outputs": [],
   "source": [
    " 2 in a"
   ]
  },
  {
   "cell_type": "code",
   "execution_count": null,
   "id": "promotional-graduate",
   "metadata": {},
   "outputs": [],
   "source": [
    "123 in a"
   ]
  },
  {
   "cell_type": "markdown",
   "id": "activated-cinema",
   "metadata": {},
   "source": [
    "### Criando conjuntos a partir de listas"
   ]
  },
  {
   "cell_type": "code",
   "execution_count": null,
   "id": "interstate-blanket",
   "metadata": {},
   "outputs": [],
   "source": [
    "b = set([1,2,3,4,5])\n",
    "b"
   ]
  },
  {
   "cell_type": "code",
   "execution_count": null,
   "id": "general-czech",
   "metadata": {},
   "outputs": [],
   "source": [
    "b = set([1,2,3,4,5,1,2,3,4,5])\n",
    "b"
   ]
  },
  {
   "cell_type": "markdown",
   "id": "binary-alabama",
   "metadata": {},
   "source": [
    "### Operações com conjuntos\n",
    "\n",
    "Diferença entre conjuntos:\n",
    "```python\n",
    "a - b\n",
    "```\n",
    "O resultado é um conjunto com os elementos de `a` que não estão em `b`\n"
   ]
  },
  {
   "cell_type": "code",
   "execution_count": null,
   "id": "infectious-petite",
   "metadata": {},
   "outputs": [],
   "source": [
    "a = {0, 1, 2, 3, -1}\n",
    "b = {2, 3}\n",
    "a-b"
   ]
  },
  {
   "cell_type": "code",
   "execution_count": null,
   "id": "communist-technique",
   "metadata": {},
   "outputs": [],
   "source": [
    "a = {0, 1, 2, 3, -1, 4, 5}\n",
    "b = {2, 3}\n",
    "a-b"
   ]
  },
  {
   "cell_type": "code",
   "execution_count": null,
   "id": "native-console",
   "metadata": {},
   "outputs": [],
   "source": [
    "a = {0, 1, 2, 3, -1}\n",
    "b = {2, 3, 4}\n",
    "a-b"
   ]
  },
  {
   "cell_type": "markdown",
   "id": "curious-rider",
   "metadata": {},
   "source": [
    "União entre conjuntos:\n",
    "```python\n",
    "a | b\n",
    "```"
   ]
  },
  {
   "cell_type": "code",
   "execution_count": null,
   "id": "complimentary-reduction",
   "metadata": {},
   "outputs": [],
   "source": [
    "a = {0,1,2,3,-1}\n",
    "b = {2,3}\n",
    "a | b"
   ]
  },
  {
   "cell_type": "code",
   "execution_count": null,
   "id": "indoor-control",
   "metadata": {},
   "outputs": [],
   "source": [
    "c = {4,5,6}\n",
    "a | c"
   ]
  },
  {
   "cell_type": "markdown",
   "id": "final-precipitation",
   "metadata": {},
   "source": [
    "Interseção de conjuntos"
   ]
  },
  {
   "cell_type": "code",
   "execution_count": null,
   "id": "bright-contract",
   "metadata": {},
   "outputs": [],
   "source": [
    "a & b"
   ]
  },
  {
   "cell_type": "code",
   "execution_count": null,
   "id": "composite-batman",
   "metadata": {},
   "outputs": [],
   "source": [
    "a & c"
   ]
  },
  {
   "cell_type": "markdown",
   "id": "aerial-nickname",
   "metadata": {},
   "source": [
    "### Exercício 4\n",
    "Veja os métodos disponíveis aos conjuntos. Brinque com eles"
   ]
  },
  {
   "cell_type": "markdown",
   "id": "lucky-repeat",
   "metadata": {},
   "source": [
    "### Exercício 5\n",
    "Escreva um programa que compare duas listas. Utilizando operações com conjuntos, imprima:\n",
    "\n",
    " * Os valores comuns às duas listas\n",
    " * Os valores que só existem na primeira\n",
    " * Os valores que existem apenas na segunda\n",
    " * Uma lista com os elementos não repetidos das duas listas\n",
    " * A primeira lista sem os elementos repetidos na segunda"
   ]
  },
  {
   "cell_type": "markdown",
   "id": "dried-induction",
   "metadata": {},
   "source": [
    "## Qual estrutura de dados utilizar?\n",
    "\n",
    "|             |  Listas    |  Tuplas   | Dicionários   | Conjuntos   |\n",
    "| ----------- | ---------- | --------- | ------------- | ----------- |\n",
    "| Ordem dos elementos | Fixa | Fixa | Fixa a partir da versão 3.7 | Indeterminada |\n",
    "| Tamanho | Variável | Fixo | Variável | Variável |\n",
    "| Elementos repetidos | Sim | Sim | Valores mas não chaves| Não |\n",
    "| Pesquisa | Sequencial | Sequencial | Direto pela chave | Direta pelo valor |\n",
    "| Alterações | Sim | Não | Sim | Sim |\n",
    "| Uso primário | Sequências | Sequências constantes | Dados indexados por chave | Verificação de unicidade |"
   ]
  },
  {
   "cell_type": "markdown",
   "id": "heavy-villa",
   "metadata": {},
   "source": [
    "# Trabalhando com strings\n",
    "\n",
    "Temos usado strings desde a primeira aula. Strings são úteis e extremamente importantes. Vimos que existem algumas semelhanças entre strings e listas e entre strings e tuplas: strings são sequências *imutáveis* de caracteres."
   ]
  },
  {
   "cell_type": "code",
   "execution_count": null,
   "id": "cosmetic-shell",
   "metadata": {},
   "outputs": [],
   "source": [
    "s = \"Alô mundo\"\n",
    "s[0]\n"
   ]
  },
  {
   "cell_type": "code",
   "execution_count": null,
   "id": "placed-strip",
   "metadata": {},
   "outputs": [],
   "source": [
    "s[0] = 'X'"
   ]
  },
  {
   "cell_type": "code",
   "execution_count": null,
   "id": "maritime-integral",
   "metadata": {},
   "outputs": [],
   "source": [
    "L = list(s)\n",
    "L"
   ]
  },
  {
   "cell_type": "markdown",
   "id": "upper-cover",
   "metadata": {},
   "source": [
    "### Strings também têm métodos! "
   ]
  },
  {
   "cell_type": "code",
   "execution_count": null,
   "id": "immediate-shipping",
   "metadata": {},
   "outputs": [],
   "source": [
    "s1 = \"\".join(L)\n",
    "s1"
   ]
  },
  {
   "cell_type": "code",
   "execution_count": null,
   "id": "prospective-pierce",
   "metadata": {},
   "outputs": [],
   "source": [
    "L = ['a','b','c']\n",
    "print(\"\".join(L))\n",
    "print(\" \".join(L))\n",
    "print(\".\".join(L))\n",
    "print(\"_|_\".join(L))"
   ]
  },
  {
   "cell_type": "code",
   "execution_count": null,
   "id": "whole-reunion",
   "metadata": {},
   "outputs": [],
   "source": [
    "s."
   ]
  },
  {
   "cell_type": "markdown",
   "id": "gross-standing",
   "metadata": {},
   "source": [
    "### Verificação parcial de strings\n"
   ]
  },
  {
   "cell_type": "code",
   "execution_count": null,
   "id": "mechanical-elder",
   "metadata": {},
   "outputs": [],
   "source": [
    "nome = \"Instituto de Pesquisas Tecnológicas\"\n",
    "nome.startswith(\"Inst\")"
   ]
  },
  {
   "cell_type": "code",
   "execution_count": null,
   "id": "incoming-bowling",
   "metadata": {},
   "outputs": [],
   "source": [
    "nome.startswith(\"inst\")"
   ]
  },
  {
   "cell_type": "markdown",
   "id": "circular-firmware",
   "metadata": {},
   "source": [
    "### Maíusculas e minúsculas\n"
   ]
  },
  {
   "cell_type": "code",
   "execution_count": null,
   "id": "informed-digest",
   "metadata": {},
   "outputs": [],
   "source": [
    "nome.upper()"
   ]
  },
  {
   "cell_type": "code",
   "execution_count": null,
   "id": "colonial-shepherd",
   "metadata": {},
   "outputs": [],
   "source": [
    "nome.lower()"
   ]
  },
  {
   "cell_type": "code",
   "execution_count": null,
   "id": "willing-solid",
   "metadata": {},
   "outputs": [],
   "source": [
    "nome.lower().startswith(\"inst\")"
   ]
  },
  {
   "cell_type": "code",
   "execution_count": null,
   "id": "weird-heater",
   "metadata": {},
   "outputs": [],
   "source": [
    "nome.upper().startswith(\"INST\")"
   ]
  },
  {
   "cell_type": "code",
   "execution_count": null,
   "id": "acquired-thermal",
   "metadata": {},
   "outputs": [],
   "source": [
    "\"uma frase simples com letras minúsculas\".capitalize()"
   ]
  },
  {
   "cell_type": "markdown",
   "id": "continuing-jacket",
   "metadata": {},
   "source": [
    "### Pesquisando em strings"
   ]
  },
  {
   "cell_type": "code",
   "execution_count": null,
   "id": "stock-innocent",
   "metadata": {},
   "outputs": [],
   "source": [
    "s = \"o rato roeu a roupa do rei de roma\""
   ]
  },
  {
   "cell_type": "code",
   "execution_count": null,
   "id": "floating-uniform",
   "metadata": {},
   "outputs": [],
   "source": [
    "\"rato\" in s"
   ]
  },
  {
   "cell_type": "code",
   "execution_count": null,
   "id": "fixed-lawrence",
   "metadata": {},
   "outputs": [],
   "source": [
    "\"Rato\" in s"
   ]
  },
  {
   "cell_type": "code",
   "execution_count": null,
   "id": "abroad-location",
   "metadata": {},
   "outputs": [],
   "source": [
    "\"u a r\" in s"
   ]
  },
  {
   "cell_type": "code",
   "execution_count": null,
   "id": "objective-louisiana",
   "metadata": {},
   "outputs": [],
   "source": [
    "\"santos\" not in s"
   ]
  },
  {
   "cell_type": "code",
   "execution_count": null,
   "id": "delayed-trunk",
   "metadata": {},
   "outputs": [],
   "source": [
    "'roupa' not in s"
   ]
  },
  {
   "cell_type": "markdown",
   "id": "sporting-beginning",
   "metadata": {},
   "source": [
    "Cuidado com acentos!!!"
   ]
  },
  {
   "cell_type": "code",
   "execution_count": null,
   "id": "endangered-uzbekistan",
   "metadata": {},
   "outputs": [],
   "source": [
    "s = \"além da cúpula do trovão\""
   ]
  },
  {
   "cell_type": "code",
   "execution_count": null,
   "id": "expected-convention",
   "metadata": {},
   "outputs": [],
   "source": [
    "\"além\" in s"
   ]
  },
  {
   "cell_type": "code",
   "execution_count": null,
   "id": "thrown-camcorder",
   "metadata": {},
   "outputs": [],
   "source": [
    "\"alem\" in s"
   ]
  },
  {
   "cell_type": "markdown",
   "id": "governmental-belarus",
   "metadata": {},
   "source": [
    "Algumas vezes queremos saber onde se encontra uma substring"
   ]
  },
  {
   "cell_type": "code",
   "execution_count": null,
   "id": "creative-tuner",
   "metadata": {},
   "outputs": [],
   "source": [
    "s = \"o rato roeu a roupa do rei de roma\""
   ]
  },
  {
   "cell_type": "code",
   "execution_count": null,
   "id": "incredible-chuck",
   "metadata": {},
   "outputs": [],
   "source": [
    "i = s.find(\"roeu\")\n",
    "i"
   ]
  },
  {
   "cell_type": "code",
   "execution_count": null,
   "id": "empirical-surface",
   "metadata": {},
   "outputs": [],
   "source": [
    "s[i:i+4]"
   ]
  },
  {
   "cell_type": "code",
   "execution_count": null,
   "id": "featured-cover",
   "metadata": {},
   "outputs": [],
   "source": [
    "s.find(\"gato\")"
   ]
  },
  {
   "cell_type": "markdown",
   "id": "lightweight-symposium",
   "metadata": {},
   "source": [
    "Buscando pelo fim\n"
   ]
  },
  {
   "cell_type": "code",
   "execution_count": null,
   "id": "important-principal",
   "metadata": {},
   "outputs": [],
   "source": [
    "s = \"o rato roeu a roupa do rato de roma\"\n",
    "i = s.find(\"rato\")\n",
    "i"
   ]
  },
  {
   "cell_type": "code",
   "execution_count": null,
   "id": "angry-chemical",
   "metadata": {},
   "outputs": [],
   "source": [
    "s[i:i+4]"
   ]
  },
  {
   "cell_type": "code",
   "execution_count": null,
   "id": "threaded-demand",
   "metadata": {},
   "outputs": [],
   "source": [
    "i = s.rfind(\"rato\")\n",
    "i"
   ]
  },
  {
   "cell_type": "code",
   "execution_count": null,
   "id": "configured-designation",
   "metadata": {},
   "outputs": [],
   "source": [
    "s[i:i+4]"
   ]
  },
  {
   "cell_type": "markdown",
   "id": "reported-jurisdiction",
   "metadata": {},
   "source": [
    "Dá para falar de onde queremos começar a procurar!\n"
   ]
  },
  {
   "cell_type": "code",
   "execution_count": null,
   "id": "canadian-profit",
   "metadata": {},
   "outputs": [],
   "source": [
    "s.find(\"rato\", 3)"
   ]
  },
  {
   "cell_type": "code",
   "execution_count": null,
   "id": "imposed-learning",
   "metadata": {},
   "outputs": [],
   "source": [
    "# Programa que pesquisa *todas* as ocorrênicas\n",
    "s = \"um tigre, dois tigres, três tigres\"\n",
    "ss = \"tigre\"\n",
    "p = 0\n",
    "while p > -1:\n",
    "    p = s.find(ss, p)\n",
    "    if p >= 0:\n",
    "        print(f\"Posição: {p}\")\n",
    "        p += 1\n"
   ]
  },
  {
   "cell_type": "markdown",
   "id": "improving-locator",
   "metadata": {},
   "source": [
    "### Exercício 6\n",
    "Teste a diferença entre os métodos `.find` e `.rfind` com `.index` e `.rindex`"
   ]
  },
  {
   "cell_type": "markdown",
   "id": "breeding-cosmetic",
   "metadata": {},
   "source": [
    "### Exercício 7\n",
    "Escreva um programa que leia duas strings. Verifique se a segunda ocorre dentro da primeira e imprima sua posição de início"
   ]
  },
  {
   "cell_type": "markdown",
   "id": "distinct-manchester",
   "metadata": {},
   "source": [
    "### Exercício 8\n",
    "Escreva um programa que leia duas strings e gere uma  terceira string com todos os caracteres que aparecem nas duas strings. A ordem não interessa."
   ]
  },
  {
   "cell_type": "markdown",
   "id": "seventh-young",
   "metadata": {},
   "source": [
    "### Exercício 9\n",
    "Escreva um programa que leia uma string e imprima quantas vezes cada caracter aparece nessa string"
   ]
  },
  {
   "cell_type": "markdown",
   "id": "little-headquarters",
   "metadata": {},
   "source": [
    "### Justificação de strings"
   ]
  },
  {
   "cell_type": "code",
   "execution_count": null,
   "id": "dedicated-florence",
   "metadata": {},
   "outputs": [],
   "source": [
    "s = 'bola'\n",
    "s.center(20)"
   ]
  },
  {
   "cell_type": "code",
   "execution_count": null,
   "id": "disciplinary-seven",
   "metadata": {},
   "outputs": [],
   "source": [
    "'X' + s.center(10) + 'X'"
   ]
  },
  {
   "cell_type": "code",
   "execution_count": null,
   "id": "tender-friendly",
   "metadata": {},
   "outputs": [],
   "source": [
    "'X' + s.center(10, '.') + 'X'"
   ]
  },
  {
   "cell_type": "code",
   "execution_count": null,
   "id": "racial-brush",
   "metadata": {},
   "outputs": [],
   "source": [
    "s.ljust(10)"
   ]
  },
  {
   "cell_type": "code",
   "execution_count": null,
   "id": "organized-correspondence",
   "metadata": {},
   "outputs": [],
   "source": [
    "s.ljust(10,'.')"
   ]
  },
  {
   "cell_type": "code",
   "execution_count": null,
   "id": "gentle-portfolio",
   "metadata": {},
   "outputs": [],
   "source": [
    "s.rjust(10)"
   ]
  },
  {
   "cell_type": "code",
   "execution_count": null,
   "id": "stable-category",
   "metadata": {},
   "outputs": [],
   "source": [
    "s.rjust(10,'.')"
   ]
  },
  {
   "cell_type": "markdown",
   "id": "rural-debut",
   "metadata": {},
   "source": [
    "### Remoção de espaços em branco"
   ]
  },
  {
   "cell_type": "code",
   "execution_count": null,
   "id": "dutch-bahamas",
   "metadata": {},
   "outputs": [],
   "source": [
    "s = \"   IPT    \"\n",
    "s.strip()"
   ]
  },
  {
   "cell_type": "code",
   "execution_count": null,
   "id": "valued-version",
   "metadata": {},
   "outputs": [],
   "source": [
    "s.rstrip()"
   ]
  },
  {
   "cell_type": "code",
   "execution_count": null,
   "id": "indonesian-bernard",
   "metadata": {},
   "outputs": [],
   "source": [
    "s.lstrip()"
   ]
  },
  {
   "cell_type": "code",
   "execution_count": null,
   "id": "internal-series",
   "metadata": {},
   "outputs": [],
   "source": [
    "s.lstrip('.')"
   ]
  },
  {
   "cell_type": "code",
   "execution_count": null,
   "id": "sudden-trustee",
   "metadata": {},
   "outputs": [],
   "source": [
    "s = '....  IPT   ...  .'\n",
    "s.strip('.')"
   ]
  },
  {
   "cell_type": "code",
   "execution_count": null,
   "id": "durable-advocate",
   "metadata": {},
   "outputs": [],
   "source": [
    "s.strip('. ')\n"
   ]
  },
  {
   "cell_type": "code",
   "execution_count": null,
   "id": "measured-experience",
   "metadata": {},
   "outputs": [],
   "source": [
    "s.rstrip(' .')"
   ]
  },
  {
   "cell_type": "code",
   "execution_count": null,
   "id": "respiratory-preliminary",
   "metadata": {},
   "outputs": [],
   "source": [
    "s.lstrip(' .')"
   ]
  },
  {
   "cell_type": "markdown",
   "id": "opening-patient",
   "metadata": {},
   "source": [
    "### Quebrando strings"
   ]
  },
  {
   "cell_type": "code",
   "execution_count": null,
   "id": "macro-peripheral",
   "metadata": {},
   "outputs": [],
   "source": [
    "s = \"1,2,3,4,5,6\"\n",
    "s.split(\",\")"
   ]
  },
  {
   "cell_type": "code",
   "execution_count": null,
   "id": "bottom-bikini",
   "metadata": {},
   "outputs": [],
   "source": [
    "\"1 2 3 4 5 6\".split(\" \")"
   ]
  },
  {
   "cell_type": "code",
   "execution_count": null,
   "id": "multiple-gilbert",
   "metadata": {},
   "outputs": [],
   "source": [
    "\"1 e 2 e 3 e 4 e 5 e 6\".split(\" e \")"
   ]
  },
  {
   "cell_type": "markdown",
   "id": "planned-overhead",
   "metadata": {},
   "source": [
    "### Substituindo strings"
   ]
  },
  {
   "cell_type": "code",
   "execution_count": null,
   "id": "daily-adelaide",
   "metadata": {},
   "outputs": [],
   "source": [
    "s = \"um tigre, dois tigres, três tigres\"\n",
    "s.replace(\"tigre\", \"gato\")"
   ]
  },
  {
   "cell_type": "code",
   "execution_count": null,
   "id": "quarterly-bumper",
   "metadata": {},
   "outputs": [],
   "source": [
    "s.replace(\"tigre\", \"gato\", 1)"
   ]
  },
  {
   "cell_type": "code",
   "execution_count": null,
   "id": "answering-discharge",
   "metadata": {},
   "outputs": [],
   "source": [
    "s.replace(\"tigre\", \"gato\", 2)"
   ]
  },
  {
   "cell_type": "code",
   "execution_count": null,
   "id": "dirty-sympathy",
   "metadata": {},
   "outputs": [],
   "source": [
    "s.replace(\"tigre\", \"\")"
   ]
  },
  {
   "cell_type": "code",
   "execution_count": null,
   "id": "gross-georgia",
   "metadata": {},
   "outputs": [],
   "source": [
    "s.replace(\"\", \"-\")"
   ]
  },
  {
   "cell_type": "code",
   "execution_count": null,
   "id": "union-dynamics",
   "metadata": {},
   "outputs": [],
   "source": []
  },
  {
   "cell_type": "markdown",
   "id": "reflected-rendering",
   "metadata": {},
   "source": [
    "### Validação por tipo de conteúdo"
   ]
  },
  {
   "cell_type": "code",
   "execution_count": null,
   "id": "expired-timber",
   "metadata": {},
   "outputs": [],
   "source": [
    "s = \"125\"\n",
    "p = \"uma pequena frase\""
   ]
  },
  {
   "cell_type": "code",
   "execution_count": null,
   "id": "numeric-value",
   "metadata": {},
   "outputs": [],
   "source": [
    "s.isalnum()"
   ]
  },
  {
   "cell_type": "code",
   "execution_count": null,
   "id": "eight-bradford",
   "metadata": {},
   "outputs": [],
   "source": [
    "p.isalnum()"
   ]
  },
  {
   "cell_type": "code",
   "execution_count": null,
   "id": "ignored-announcement",
   "metadata": {},
   "outputs": [],
   "source": [
    "\"abc123\".isalnum()"
   ]
  },
  {
   "cell_type": "code",
   "execution_count": null,
   "id": "distinguished-istanbul",
   "metadata": {},
   "outputs": [],
   "source": [
    "\"125\".isalpha()"
   ]
  },
  {
   "cell_type": "code",
   "execution_count": null,
   "id": "comparative-punch",
   "metadata": {},
   "outputs": [],
   "source": [
    "\"uma frase pequena\".isalpha()"
   ]
  },
  {
   "cell_type": "code",
   "execution_count": null,
   "id": "proper-strain",
   "metadata": {},
   "outputs": [],
   "source": [
    "\"palavra\".isalpha()"
   ]
  },
  {
   "cell_type": "code",
   "execution_count": null,
   "id": "authentic-sample",
   "metadata": {},
   "outputs": [],
   "source": [
    "\"123\".isdigit()"
   ]
  },
  {
   "cell_type": "code",
   "execution_count": null,
   "id": "compliant-consumption",
   "metadata": {},
   "outputs": [],
   "source": [
    "\n",
    "\"3.14\".isdigit()"
   ]
  },
  {
   "cell_type": "code",
   "execution_count": null,
   "id": "ranking-notion",
   "metadata": {},
   "outputs": [],
   "source": [
    "\"-123\".isdigit()"
   ]
  },
  {
   "cell_type": "code",
   "execution_count": null,
   "id": "respected-terrorism",
   "metadata": {},
   "outputs": [],
   "source": [
    "\"123\".isnumeric()"
   ]
  },
  {
   "cell_type": "code",
   "execution_count": null,
   "id": "pressed-savannah",
   "metadata": {},
   "outputs": [],
   "source": [
    "\"3.14\".isnumeric()"
   ]
  },
  {
   "cell_type": "code",
   "execution_count": null,
   "id": "egyptian-camel",
   "metadata": {},
   "outputs": [],
   "source": [
    "# .isdigit() -> caracteres numéricos em Unicode"
   ]
  },
  {
   "cell_type": "code",
   "execution_count": null,
   "id": "running-career",
   "metadata": {},
   "outputs": [],
   "source": [
    "s = \"\\u2153\"\n",
    "s"
   ]
  },
  {
   "cell_type": "code",
   "execution_count": null,
   "id": "random-summer",
   "metadata": {},
   "outputs": [],
   "source": [
    "s.isnumeric()"
   ]
  },
  {
   "cell_type": "code",
   "execution_count": null,
   "id": "present-webmaster",
   "metadata": {},
   "outputs": [],
   "source": [
    "s.isdigit()"
   ]
  },
  {
   "cell_type": "markdown",
   "id": "centered-chaos",
   "metadata": {},
   "source": [
    "Como reconhecer se o número é ponto flutuante? Isso é mais chato do que parece. Mas temos aqui uma solução. Aqui introduzimos uma nova funcionalidade: exceções:\n"
   ]
  },
  {
   "cell_type": "code",
   "execution_count": null,
   "id": "dying-community",
   "metadata": {},
   "outputs": [],
   "source": [
    "s = \"123e23\"\n",
    "\n",
    "try:\n",
    "    float(s)\n",
    "    isfloat = True\n",
    "except:\n",
    "    isfloat = False\n",
    "    \n",
    "isfloat\n"
   ]
  },
  {
   "cell_type": "code",
   "execution_count": null,
   "id": "decreased-semiconductor",
   "metadata": {},
   "outputs": [],
   "source": [
    "\"  \".isspace()"
   ]
  },
  {
   "cell_type": "code",
   "execution_count": null,
   "id": "alleged-bundle",
   "metadata": {},
   "outputs": [],
   "source": [
    "\"\\n\\r\\t \".isspace()"
   ]
  },
  {
   "cell_type": "code",
   "execution_count": null,
   "id": "frank-length",
   "metadata": {},
   "outputs": [],
   "source": [
    "\"\\n\\t\\r\".isprintable()"
   ]
  },
  {
   "cell_type": "code",
   "execution_count": null,
   "id": "guided-heart",
   "metadata": {},
   "outputs": [],
   "source": [
    "\"um testo simples\".isprintable()"
   ]
  },
  {
   "cell_type": "code",
   "execution_count": null,
   "id": "loaded-truth",
   "metadata": {},
   "outputs": [],
   "source": [
    "\"ABC\".isupper()"
   ]
  },
  {
   "cell_type": "code",
   "execution_count": null,
   "id": "toxic-extent",
   "metadata": {},
   "outputs": [],
   "source": [
    "\"ABC\".islower()"
   ]
  },
  {
   "cell_type": "code",
   "execution_count": null,
   "id": "forbidden-disco",
   "metadata": {},
   "outputs": [],
   "source": [
    "\"abc\".isupper()"
   ]
  },
  {
   "cell_type": "code",
   "execution_count": null,
   "id": "floating-throat",
   "metadata": {},
   "outputs": [],
   "source": [
    "\"abc\".islower()"
   ]
  },
  {
   "cell_type": "code",
   "execution_count": null,
   "id": "sublime-maldives",
   "metadata": {},
   "outputs": [],
   "source": [
    "\"Abc\".istitle()"
   ]
  },
  {
   "cell_type": "code",
   "execution_count": null,
   "id": "later-david",
   "metadata": {},
   "outputs": [],
   "source": [
    "\"ABC\".istitle()"
   ]
  },
  {
   "cell_type": "code",
   "execution_count": null,
   "id": "sharp-employee",
   "metadata": {},
   "outputs": [],
   "source": [
    "\"abc\".istitle()"
   ]
  },
  {
   "cell_type": "markdown",
   "id": "alive-anaheim",
   "metadata": {},
   "source": [
    "### Formatação de strings\n",
    "Já temos usado bastante isso.  \n"
   ]
  },
  {
   "cell_type": "code",
   "execution_count": null,
   "id": "everyday-fourth",
   "metadata": {},
   "outputs": [],
   "source": [
    "\"{0} {1}\".format(\"Oi\", \"mundo\")"
   ]
  },
  {
   "cell_type": "code",
   "execution_count": null,
   "id": "polar-convenience",
   "metadata": {},
   "outputs": [],
   "source": [
    "\"{} {} {}\".format(1,2,3)"
   ]
  },
  {
   "cell_type": "code",
   "execution_count": null,
   "id": "inside-railway",
   "metadata": {},
   "outputs": [],
   "source": [
    "\"{2} {1} {0}\".format(1,2,3)"
   ]
  },
  {
   "cell_type": "code",
   "execution_count": null,
   "id": "abroad-instruction",
   "metadata": {},
   "outputs": [],
   "source": [
    "\"X{0:<10}X\".format(\"IPT\")"
   ]
  },
  {
   "cell_type": "code",
   "execution_count": null,
   "id": "several-position",
   "metadata": {},
   "outputs": [],
   "source": [
    "\"X{0:>10}X\".format(\"IPT\")"
   ]
  },
  {
   "cell_type": "code",
   "execution_count": null,
   "id": "associate-firewall",
   "metadata": {},
   "outputs": [],
   "source": [
    "\"X{0:^10}X\".format(\"IPT\")"
   ]
  },
  {
   "cell_type": "code",
   "execution_count": null,
   "id": "saving-luxembourg",
   "metadata": {},
   "outputs": [],
   "source": [
    "\"X{0:.<10}X\".format(\"IPT\")"
   ]
  },
  {
   "cell_type": "code",
   "execution_count": null,
   "id": "asian-subsection",
   "metadata": {},
   "outputs": [],
   "source": [
    "\"X{0:.^10}X\".format(\"IPT\")"
   ]
  },
  {
   "cell_type": "markdown",
   "id": "changed-budget",
   "metadata": {},
   "source": [
    "Os parâmetros de `format` podem ser uma lista:\n"
   ]
  },
  {
   "cell_type": "code",
   "execution_count": null,
   "id": "agricultural-beads",
   "metadata": {},
   "outputs": [],
   "source": [
    "\n",
    "\"{0[0]} {0[1]} {1[0]} {1[1]}\".format([1,2], [3,4])"
   ]
  },
  {
   "cell_type": "markdown",
   "id": "prostate-summer",
   "metadata": {},
   "source": [
    "Até mesmo um dicionário:"
   ]
  },
  {
   "cell_type": "code",
   "execution_count": null,
   "id": "streaming-nelson",
   "metadata": {},
   "outputs": [],
   "source": [
    "\"{0[nome]} {0[telefone]} {1[0]} {1[1]}\".format({\"telefone\": \"3767-0000\", \"nome\": \"João\"}, [1,2])"
   ]
  },
  {
   "cell_type": "markdown",
   "id": "national-robertson",
   "metadata": {},
   "source": [
    "Tem como formatar números. Na verdade esta formatação é quase uma minilinguagem. Para maiores informações, veja a documentação oficial do Python:\n",
    "\n",
    " * <https://docs.python.org/pt-br/3/tutorial/inputoutput.html#formatted-string-literals>"
   ]
  },
  {
   "cell_type": "markdown",
   "id": "incorrect-dressing",
   "metadata": {},
   "source": [
    "### Jogo da forca"
   ]
  },
  {
   "cell_type": "code",
   "execution_count": null,
   "id": "dying-hamburg",
   "metadata": {},
   "outputs": [],
   "source": [
    "palavra = input(\"Digite a plavra secreta: \").strip().lower()\n",
    "for x in range(100): \n",
    "    print()\n",
    "\n",
    "digitadas = []\n",
    "acertos = []\n",
    "erros = 0\n",
    "\n",
    "while True:\n",
    "    senha = \"\"\n",
    "    for letra in palavra:\n",
    "        senha += letra if letra in acertos else \".\"\n",
    "    print(senha)\n",
    "    if senha == palavra:\n",
    "        print(\"Você acertou!\")\n",
    "        break\n",
    "    tentativa = input(\"\\nDigite uma letra: \").strip().lower()\n",
    "    if tentativa in digitadas:\n",
    "        print(\"Você já tentou esta letra!\")\n",
    "        continue\n",
    "    else:\n",
    "        digitadas += tentativa\n",
    "        if tentativa in palavra:\n",
    "            acertos += tentativa\n",
    "        else:\n",
    "            erros += 1\n",
    "            print(\"Você errou!\")\n",
    "    print(\"||==:==\\n||  :  \")\n",
    "    print(\"||  O  \" if erros >= 1 else \"||\")\n",
    "    linha2 = \"\"\n",
    "    if erros == 2:\n",
    "        linha2 = \"  |  \"\n",
    "    elif erros == 3:\n",
    "        linha2 = \" \\|  \" \n",
    "    elif erros >= 4:\n",
    "        linha2 = \" \\|/ \"\n",
    "    print(f\"||{linha2}\")\n",
    "    linha3 = \"\"\n",
    "    if erros == 5:\n",
    "        linha3 += \" /  \"\n",
    "    elif erros >= 6:\n",
    "        linha3 += \" / \\ \"\n",
    "    print(f\"||{linha3}\")\n",
    "    print(\"||\\n==========\")\n",
    "    if erros == 6:\n",
    "        print(\"Enforcado!\")\n",
    "        break"
   ]
  },
  {
   "cell_type": "markdown",
   "id": "designed-fever",
   "metadata": {},
   "source": [
    "## Escrevendo scripts\n",
    "\n",
    "Scripts são pequenos programas que fazem alguma tarefa específica. Python surgiu como uma linguagem de script e é muito usada para isso.\n",
    "\n",
    "Um exemplo comum é executar um programa repetidas vezes mudando algum dado de entrada.\n",
    "\n",
    "Aqui, vamos fazer um script com o jogo de forca acima. Convenhamos, usar isso no notebook jupyter não é a melhor coisa do mundo...\n",
    "\n",
    "Para se fazer o script, você vai precisar usar um editor de texto. Pode ser o spyder, notepad++, geany, visual studio code, emacs ou qualquer editor de texto. Não processador de texto. Não vai funcionar com o Word!!!\n",
    "\n",
    "Crie um arquivo novo e copie e cole o programa acima. Chame o arquivo de `forca.py`\n",
    "\n",
    "Agora basta você executar \n",
    "```\n",
    "python forca.py\n",
    "```\n",
    "\n",
    "Tem como tornar isso um pouco melhor.\n",
    "\n",
    "### No Linux ou Unix\n",
    "\n",
    "Em linux (e mac OS?) é interessante adicionar a seguinte linha no topo:\n",
    "```\n",
    "#!/usr/bin/env python3\n",
    "```\n",
    "aí você torna o arquivo executável com a seguinte linha de comando\n",
    "```\n",
    "chmod +x forca.py\n",
    "```\n",
    "\n",
    "Agora o arquivo funciona como se fosse um executável!\n",
    "\n",
    "### No windows\n",
    "Se você instalou o python, clique duplo no arquivo forca.py já deveria funcionar. Se a associação da extensão do arquivo estiver correta. \n",
    "\n",
    "Na linha de comando você pode fazer algo parecido com o Linux. Na primeira linha, coloque o caminho para o executável do Python. No meu computador, esta primeira linha é:\n",
    "\n",
    "```\n",
    "#!\"C:\\ProgramData\\Anaconda3\\python.exe\"\n",
    "```\n",
    "\n",
    "Aí você pode usar o programa como se fosse um executável.\n",
    "\n"
   ]
  },
  {
   "cell_type": "markdown",
   "id": "relevant-friend",
   "metadata": {},
   "source": [
    "### Exercício 10\n",
    "Modifique o jogo da forca de forma que a palavra secreta seja escrita caso o jpgador perca"
   ]
  },
  {
   "cell_type": "markdown",
   "id": "casual-album",
   "metadata": {},
   "source": [
    "### Exercício 11\n",
    "Modifique o jogo da forca de forma a utilizar uma lista de palavras. No início pergunte um número e calcule o índice da palavra a utilizar pela fórmula:\n",
    "```python\n",
    "índice = (número * 776) % len(lista_de_palavras)\n",
    "```"
   ]
  },
  {
   "cell_type": "code",
   "execution_count": null,
   "id": "controlling-tracker",
   "metadata": {},
   "outputs": [],
   "source": []
  }
 ],
 "metadata": {
  "kernelspec": {
   "display_name": "Python 3 (ipykernel)",
   "language": "python",
   "name": "python3"
  },
  "language_info": {
   "codemirror_mode": {
    "name": "ipython",
    "version": 3
   },
   "file_extension": ".py",
   "mimetype": "text/x-python",
   "name": "python",
   "nbconvert_exporter": "python",
   "pygments_lexer": "ipython3",
   "version": "3.9.7"
  }
 },
 "nbformat": 4,
 "nbformat_minor": 5
}
