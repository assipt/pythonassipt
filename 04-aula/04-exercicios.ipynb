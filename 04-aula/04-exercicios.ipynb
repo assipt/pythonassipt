{
 "cells": [
  {
   "cell_type": "markdown",
   "id": "native-uncle",
   "metadata": {},
   "source": [
    "# Solução dos exercícios da aula 04\n",
    "\n"
   ]
  },
  {
   "cell_type": "markdown",
   "id": "imperial-postage",
   "metadata": {},
   "source": [
    "### Exercício 1\n",
    "Altere o programa anterior de modo que o produto e a quantidade vendida seja solicitada ao usuário. Verifique se o produto digitado existe e só então efetue a baixa no estoque. Também verifique se o estoque é o suficiente para atender ao pedido.\n",
    "<!-- TEASER_END -->\n"
   ]
  },
  {
   "cell_type": "code",
   "execution_count": null,
   "id": "heated-orbit",
   "metadata": {},
   "outputs": [],
   "source": [
    "estoque = {\"tomate\": [1000, 2.30],\n",
    "           \"alface\": [500, 0.45],\n",
    "           \"batata\": [2001, 1.20], \n",
    "           \"feijão\": [100, 1.5]}\n",
    "\n",
    "venda = []\n",
    "total = 0\n",
    "\n",
    "while True:\n",
    "    produto = input(\"Entre com o produto (fim para terminar): \").strip().lower()\n",
    "    if produto == 'fim': \n",
    "        break\n",
    "    elif produto in estoque:\n",
    "        quantidade = int(input(\"Entre com a quantidade de produto desejada: \"))\n",
    "        prod_est = estoque[produto]\n",
    "        quant_disp = prod_est[0]\n",
    "        if quantidade > quant_disp:\n",
    "            print(f\"Existe {produto} disponível para a tua demanda.\")\n",
    "        else:\n",
    "            preço = prod_est[1]\n",
    "            custo = preço * quantidade\n",
    "            prod_est[0] -= quantidade\n",
    "            print(f\"{produto:12s}: {quantidade:3d} x {preço:6.2f} = {custo:6.2f}\")        \n",
    "            total += custo\n",
    "    else:\n",
    "        print(\"Produto não disponível\")\n",
    "        \n",
    "print(f\" Custo total: {total:21.2f}\\n\")\n",
    "print(\"Estoque:\\n\")\n",
    "for chave, dados in estoque.items():\n",
    "    print(\"Descrição: \", chave)\n",
    "    print(\"Quantidade: \", dados[0])\n",
    "    print(f\"Preço: {dados[1]:6.2f}\\n\")\n"
   ]
  },
  {
   "cell_type": "markdown",
   "id": "adapted-sister",
   "metadata": {},
   "source": [
    "### Exercício 2\n",
    "Escreva um programa que que gere um dicionário a partir de uma string onde a chave seja um caracter e o valor o número de vezes que este caracter aparece no dicionário\n",
    "\n",
    "o rolo -> {'o': 3, ' ': 1, 'l': 1}\n"
   ]
  },
  {
   "cell_type": "code",
   "execution_count": null,
   "id": "broadband-marsh",
   "metadata": {},
   "outputs": [],
   "source": [
    "s = \"uma ratazana enorme\"\n",
    "caracteres = {}\n",
    "\n",
    "for c in s:\n",
    "    if c in caracteres:\n",
    "        caracteres[c] += 1\n",
    "    else:\n",
    "        caracteres[c] = 1\n",
    "caracteres        \n",
    "    \n"
   ]
  },
  {
   "cell_type": "markdown",
   "id": "healthy-patch",
   "metadata": {},
   "source": [
    "### Exercício 3\n",
    "Explore os métodos disponíveis aos dicionários. Brinque com eles"
   ]
  },
  {
   "cell_type": "markdown",
   "id": "black-sweden",
   "metadata": {},
   "source": [
    "Aí é com vocês mesmo. Não tem solução"
   ]
  },
  {
   "cell_type": "markdown",
   "id": "automotive-world",
   "metadata": {},
   "source": [
    "### Exercício 3\n",
    "Explore os métodos disponíveis aos dicionários. Brinque com eles"
   ]
  },
  {
   "cell_type": "markdown",
   "id": "stupid-reasoning",
   "metadata": {},
   "source": [
    "Aí é com vocês mesmo. Não tem solução"
   ]
  },
  {
   "cell_type": "markdown",
   "id": "metropolitan-forge",
   "metadata": {},
   "source": [
    "### Exercício 5\n",
    "Escreva um programa que compare duas listas. Utilizando operações com conjuntos, imprima:\n",
    "\n",
    " * Os valores comuns às duas listas\n",
    " * Os valores que só existem na primeira\n",
    " * Os valores que existem apenas na segunda\n",
    " * Uma lista com os elementos não repetidos das duas listas\n",
    " * A primeira lista sem os elementos repetidos na segunda"
   ]
  },
  {
   "cell_type": "code",
   "execution_count": null,
   "id": "respiratory-heaven",
   "metadata": {},
   "outputs": [],
   "source": [
    "L1 = list(range(10))\n",
    "L2 = [4,7,8, 15]"
   ]
  },
  {
   "cell_type": "code",
   "execution_count": null,
   "id": "lesbian-insight",
   "metadata": {},
   "outputs": [],
   "source": [
    "# Valores comuns às dias listas:\n",
    "S1 = set(L1)\n",
    "S2 = set(L2)\n",
    "\n",
    "S1 & S2"
   ]
  },
  {
   "cell_type": "code",
   "execution_count": null,
   "id": "radio-folder",
   "metadata": {},
   "outputs": [],
   "source": [
    "# Valores que só existem na primeira lista\n",
    "S1 - S2"
   ]
  },
  {
   "cell_type": "code",
   "execution_count": null,
   "id": "incorporate-experience",
   "metadata": {},
   "outputs": [],
   "source": [
    "# Valores que existem apenas na segunda lista:\n",
    "S2 - S1"
   ]
  },
  {
   "cell_type": "code",
   "execution_count": null,
   "id": "reduced-rates",
   "metadata": {},
   "outputs": [],
   "source": [
    "# Uma lista com os elementos não repetidos das duas listas\n",
    "(S1 | S2) - (S1 & S2)"
   ]
  },
  {
   "cell_type": "code",
   "execution_count": null,
   "id": "bearing-concern",
   "metadata": {},
   "outputs": [],
   "source": [
    "# A primeira lista sem os elementos repetidos na segunda\n",
    "S1 - (S1 & S2)\n"
   ]
  },
  {
   "cell_type": "markdown",
   "id": "broken-depth",
   "metadata": {},
   "source": [
    "### Exercício 6\n",
    "Teste a diferença entre os métodos `.find` e `.rfind` com `.index` e `.rindex`"
   ]
  },
  {
   "cell_type": "code",
   "execution_count": null,
   "id": "lightweight-statement",
   "metadata": {},
   "outputs": [],
   "source": [
    "\"uma string com uma string qualquer\".find(\"string\")"
   ]
  },
  {
   "cell_type": "code",
   "execution_count": null,
   "id": "descending-notification",
   "metadata": {},
   "outputs": [],
   "source": [
    "\"uma string com uma string qualquer\".rfind(\"string\")"
   ]
  },
  {
   "cell_type": "code",
   "execution_count": null,
   "id": "earned-shape",
   "metadata": {},
   "outputs": [],
   "source": [
    "\"uma string com uma string qualquer\".index(\"string\")"
   ]
  },
  {
   "cell_type": "code",
   "execution_count": null,
   "id": "major-moral",
   "metadata": {},
   "outputs": [],
   "source": [
    "\"uma string com uma string qualquer\".rindex(\"string\")"
   ]
  },
  {
   "cell_type": "code",
   "execution_count": null,
   "id": "undefined-earthquake",
   "metadata": {},
   "outputs": [],
   "source": [
    "\"uma string com uma string qualquer\".find(\"IPT\")"
   ]
  },
  {
   "cell_type": "code",
   "execution_count": null,
   "id": "separate-rally",
   "metadata": {},
   "outputs": [],
   "source": [
    "\"uma string com uma string qualquer\".rfind(\"IPT\")"
   ]
  },
  {
   "cell_type": "code",
   "execution_count": null,
   "id": "emerging-valuable",
   "metadata": {},
   "outputs": [],
   "source": [
    "\"uma string com uma string qualquer\".index(\"IPT\")"
   ]
  },
  {
   "cell_type": "code",
   "execution_count": null,
   "id": "quarterly-renaissance",
   "metadata": {},
   "outputs": [],
   "source": [
    "\"uma string com uma string qualquer\".rindex(\"IPT\")"
   ]
  },
  {
   "cell_type": "markdown",
   "id": "usual-headset",
   "metadata": {},
   "source": [
    "Os métodos `find` e `index` retornam o índice da posição de uma substring começando pela esquerda. Já os métodos `rfind` e `rindex` realizam a busca pela direita (**r**ight em inglês).\n",
    "\n",
    "A diferença entre `find` e `index` (e as versões com `r` no começo) é que se a substring não ocorre, `find` e `rfind` retornam -1. Já `index` e `rindex` resultam em um erro.\n"
   ]
  },
  {
   "cell_type": "markdown",
   "id": "pressing-scheduling",
   "metadata": {},
   "source": [
    "### Exercício 7\n",
    "Escreva um programa que leia duas strings. Verifique se a segunda ocorre dentro da primeira e imprima sua posição de início"
   ]
  },
  {
   "cell_type": "code",
   "execution_count": null,
   "id": "becoming-budapest",
   "metadata": {},
   "outputs": [],
   "source": [
    "s1 = \"Esta mensagem é comprida. Vamos ver o que acontece\"\n",
    "s2 = \"Vamos\"\n",
    "\n",
    "idx = s1.find(s2)\n",
    "\n",
    "if idx < 0:\n",
    "    print(f\"'{s2}' não ocorre na string '{s1}'\")\n",
    "else:\n",
    "    print(f\"'{s2}' ocorre no índice {idx} da string '{s1}'\")"
   ]
  },
  {
   "cell_type": "markdown",
   "id": "outer-frame",
   "metadata": {},
   "source": [
    "### Exercício 8\n",
    "Escreva um programa que leia duas strings e gere uma  terceira string com todos os caracteres que aparecem nas duas strings. A ordem não interessa."
   ]
  },
  {
   "cell_type": "code",
   "execution_count": null,
   "id": "stylish-token",
   "metadata": {},
   "outputs": [],
   "source": [
    "# Solução usando strings apenas:\n",
    "\n",
    "s1 = \"na rua tem ratazana\"\n",
    "s2 = \"a ratazana é enorme\"\n",
    "\n",
    "s3 = ''\n",
    "for c in s1:\n",
    "    if c not in s3:\n",
    "        s3 += c\n",
    "for c in s2:\n",
    "    if c not in s3:\n",
    "        s3 += c\n",
    "s3"
   ]
  },
  {
   "cell_type": "code",
   "execution_count": null,
   "id": "premier-tuner",
   "metadata": {},
   "outputs": [],
   "source": [
    "# Solução usando conjuntos\n",
    "\"\".join(set(s1) | set(s2))"
   ]
  },
  {
   "cell_type": "markdown",
   "id": "nasty-wells",
   "metadata": {},
   "source": [
    "### Exercício 9\n",
    "Escreva um programa que leia uma string e imprima quantas vezes cada caracter aparece nessa string"
   ]
  },
  {
   "cell_type": "code",
   "execution_count": null,
   "id": "accompanied-runner",
   "metadata": {},
   "outputs": [],
   "source": [
    "s = \"A ratazana é enorme\"\n",
    "C = set(s)\n",
    "\n",
    "for c in C:\n",
    "    n = s.count(c)\n",
    "    print(f\"O caracter '{c}' ocorre {n} vezes\")\n"
   ]
  },
  {
   "cell_type": "markdown",
   "id": "outdoor-disease",
   "metadata": {},
   "source": [
    "### Exercício 10\n",
    "Modifique o jogo da forca de forma que a palavra secreta seja escrita caso o jogador perca"
   ]
  },
  {
   "cell_type": "code",
   "execution_count": null,
   "id": "frank-technician",
   "metadata": {},
   "outputs": [],
   "source": [
    "palavra = input(\"Digite a plavra secreta: \").strip().lower()\n",
    "for x in range(100): \n",
    "    print()\n",
    "\n",
    "digitadas = []\n",
    "acertos = []\n",
    "erros = 0\n",
    "\n",
    "while True:\n",
    "    senha = \"\"\n",
    "    for letra in palavra:\n",
    "        senha += letra if letra in acertos else \".\"\n",
    "    print(senha)\n",
    "    if senha == palavra:\n",
    "        print(\"Você acertou!\")\n",
    "        break\n",
    "    tentativa = input(\"\\nDigite uma letra: \").strip().lower()\n",
    "    if tentativa in digitadas:\n",
    "        print(\"Você já tentou esta letra!\")\n",
    "        continue\n",
    "    else:\n",
    "        digitadas += tentativa\n",
    "        if tentativa in palavra:\n",
    "            acertos += tentativa\n",
    "        else:\n",
    "            erros += 1\n",
    "            print(\"Você errou!\")\n",
    "    print(\"||==:==\\n||  :  \")\n",
    "    print(\"||  O  \" if erros >= 1 else \"||\")\n",
    "    linha2 = \"\"\n",
    "    if erros == 2:\n",
    "        linha2 = \"  |  \"\n",
    "    elif erros == 3:\n",
    "        linha2 = \" \\|  \" \n",
    "    elif erros >= 4:\n",
    "        linha2 = \" \\|/ \"\n",
    "    print(f\"||{linha2}\")\n",
    "    linha3 = \"\"\n",
    "    if erros == 5:\n",
    "        linha3 += \" /  \"\n",
    "    elif erros >= 6:\n",
    "        linha3 += \" / \\ \"\n",
    "    print(f\"||{linha3}\")\n",
    "    print(\"||\\n==========\")\n",
    "    if erros == 6:\n",
    "        print(\"Enforcado!\")\n",
    "        print(f\"A palavra secreta era '{palavra}'\")\n",
    "        break"
   ]
  },
  {
   "cell_type": "markdown",
   "id": "noted-effectiveness",
   "metadata": {},
   "source": [
    "### Exercício 11\n",
    "Modifique o jogo da forca de forma a utilizar uma lista de palavras. No início pergunte um número e calcule o índice da palavra a utilizar pela fórmula:\n",
    "```python\n",
    "índice = (número * 776) % len(lista_de_palavras)\n",
    "```"
   ]
  },
  {
   "cell_type": "code",
   "execution_count": null,
   "id": "fossil-withdrawal",
   "metadata": {},
   "outputs": [],
   "source": [
    "lista_de_palavras = ['rato', 'bola', 'cachorro', 'gato', 'fogo', 'lixo', 'rosa', 'telefone', 'comida', 'carne', \n",
    "                    'bala', 'figura', 'fauna', 'escola', 'faculdade', 'museu']"
   ]
  },
  {
   "cell_type": "code",
   "execution_count": null,
   "id": "affected-transmission",
   "metadata": {},
   "outputs": [],
   "source": [
    "número = int(input(\"Entre com um número inteiro: \"))\n",
    "índice = (número * 776) % len(lista_de_palavras)\n",
    "\n",
    "palavra = lista_de_palavras[índice]\n",
    "\n",
    "digitadas = []\n",
    "acertos = []\n",
    "erros = 0\n",
    "\n",
    "while True:\n",
    "    senha = \"\"\n",
    "    for letra in palavra:\n",
    "        senha += letra if letra in acertos else \".\"\n",
    "    print(senha)\n",
    "    if senha == palavra:\n",
    "        print(\"Você acertou!\")\n",
    "        break\n",
    "    tentativa = input(\"\\nDigite uma letra: \").strip().lower()\n",
    "    if tentativa in digitadas:\n",
    "        print(\"Você já tentou esta letra!\")\n",
    "        continue\n",
    "    else:\n",
    "        digitadas += tentativa\n",
    "        if tentativa in palavra:\n",
    "            acertos += tentativa\n",
    "        else:\n",
    "            erros += 1\n",
    "            print(\"Você errou!\")\n",
    "    print(\"||==:==\\n||  :  \")\n",
    "    print(\"||  O  \" if erros >= 1 else \"||\")\n",
    "    linha2 = \"\"\n",
    "    if erros == 2:\n",
    "        linha2 = \"  |  \"\n",
    "    elif erros == 3:\n",
    "        linha2 = \" \\|  \" \n",
    "    elif erros >= 4:\n",
    "        linha2 = \" \\|/ \"\n",
    "    print(f\"||{linha2}\")\n",
    "    linha3 = \"\"\n",
    "    if erros == 5:\n",
    "        linha3 += \" /  \"\n",
    "    elif erros >= 6:\n",
    "        linha3 += \" / \\ \"\n",
    "    print(f\"||{linha3}\")\n",
    "    print(\"||\\n==========\")\n",
    "    if erros == 6:\n",
    "        print(\"Enforcado!\")\n",
    "        break"
   ]
  },
  {
   "cell_type": "markdown",
   "id": "modified-anderson",
   "metadata": {},
   "source": [
    "Qual a idéia aqui? Isso é um gerador de números pseudo-aleatórios. Parecem aleatórios mas não são. Se bem escolhidos e pode ter um bom comportamento!"
   ]
  },
  {
   "cell_type": "code",
   "execution_count": null,
   "id": "textile-military",
   "metadata": {},
   "outputs": [],
   "source": []
  }
 ],
 "metadata": {
  "kernelspec": {
   "display_name": "Python 3 (ipykernel)",
   "language": "python",
   "name": "python3"
  },
  "language_info": {
   "codemirror_mode": {
    "name": "ipython",
    "version": 3
   },
   "file_extension": ".py",
   "mimetype": "text/x-python",
   "name": "python",
   "nbconvert_exporter": "python",
   "pygments_lexer": "ipython3",
   "version": "3.10.2"
  }
 },
 "nbformat": 4,
 "nbformat_minor": 5
}
