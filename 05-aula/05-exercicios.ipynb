{
 "cells": [
  {
   "cell_type": "markdown",
   "id": "imported-software",
   "metadata": {},
   "source": [
    "# Exercícios da aula 05"
   ]
  },
  {
   "cell_type": "markdown",
   "id": "indian-pressing",
   "metadata": {},
   "source": [
    "###  Exercício 1\n",
    "O que o programa a seguir vai imprimir?\n",
    "\n",
    "```python\n",
    "a = 1\n",
    "b = 2\n",
    "soma2(a,b)\n",
    "```\n",
    "\n",
    "e o programa\n",
    "```python\n",
    "a = 1\n",
    "b = 2\n",
    "soma2(b, a)\n",
    "```\n",
    "<!-- TEASER_END -->\n"
   ]
  },
  {
   "cell_type": "code",
   "execution_count": null,
   "id": "polished-sussex",
   "metadata": {},
   "outputs": [],
   "source": [
    "def soma2(a,b):\n",
    "    print(a+2*b)"
   ]
  },
  {
   "cell_type": "code",
   "execution_count": null,
   "id": "spatial-honduras",
   "metadata": {},
   "outputs": [],
   "source": [
    "a = 1\n",
    "b = 2\n",
    "soma2(a,b)"
   ]
  },
  {
   "cell_type": "code",
   "execution_count": null,
   "id": "surface-checklist",
   "metadata": {},
   "outputs": [],
   "source": [
    "a = 1\n",
    "b = 2\n",
    "soma2(b, a)"
   ]
  },
  {
   "cell_type": "markdown",
   "id": "altered-departure",
   "metadata": {},
   "source": [
    "Existe uma diferença entre variáveis que são passadas como argumentos e os argumentos. A função `soma2` tem dois argumentos `a` e `b`. No primeiro exemplo, `a` assume o valor de `a` (definindo *fora* da função) e `b` assume o valor de `b` (definido *fora* da função). E portanto a função imprime o valor de `a + 2*2` que vale `5`.\n",
    "\n",
    "Já no segundo exemplo o `a` dentro da função assume o valor de `b` de fora da função e o `b` de dentro da função assume o valor de `a` de fora da função.\n",
    "\n",
    "O primeiro exempl equivale a `soma2(1,2)` e o segundo exemplo a `soma2(2,1)`"
   ]
  },
  {
   "cell_type": "markdown",
   "id": "cross-trainer",
   "metadata": {},
   "source": [
    "### Exercício 2\n",
    "Escreva a função `máximo` que retorna o maior de dois números"
   ]
  },
  {
   "cell_type": "code",
   "execution_count": null,
   "id": "breathing-astronomy",
   "metadata": {},
   "outputs": [],
   "source": [
    "def máximo(a,b):\n",
    "    if a > b:\n",
    "        return a\n",
    "    else:\n",
    "        return b"
   ]
  },
  {
   "cell_type": "code",
   "execution_count": null,
   "id": "indonesian-nashville",
   "metadata": {},
   "outputs": [],
   "source": [
    "máximo(1,2)"
   ]
  },
  {
   "cell_type": "code",
   "execution_count": null,
   "id": "violent-translation",
   "metadata": {},
   "outputs": [],
   "source": [
    "máximo(2,1)"
   ]
  },
  {
   "cell_type": "code",
   "execution_count": null,
   "id": "rising-overview",
   "metadata": {},
   "outputs": [],
   "source": [
    "máximo(1,1)"
   ]
  },
  {
   "cell_type": "markdown",
   "id": "looking-deficit",
   "metadata": {},
   "source": [
    "### Exercício 3\n",
    "Escreva a função `múltiplo` que retorna `True` se o primeiro argumento for um múltiplo do segundo"
   ]
  },
  {
   "cell_type": "code",
   "execution_count": null,
   "id": "refined-scratch",
   "metadata": {},
   "outputs": [],
   "source": [
    "def múltiplo(a, b):\n",
    "    return a % b == 0 and a > 0\n"
   ]
  },
  {
   "cell_type": "code",
   "execution_count": null,
   "id": "second-outside",
   "metadata": {},
   "outputs": [],
   "source": [
    "múltiplo(1,2)"
   ]
  },
  {
   "cell_type": "code",
   "execution_count": null,
   "id": "global-phone",
   "metadata": {},
   "outputs": [],
   "source": [
    "múltiplo(0,2)"
   ]
  },
  {
   "cell_type": "code",
   "execution_count": null,
   "id": "increasing-wisdom",
   "metadata": {},
   "outputs": [],
   "source": [
    "múltiplo(4,2)"
   ]
  },
  {
   "cell_type": "code",
   "execution_count": null,
   "id": "liked-nurse",
   "metadata": {},
   "outputs": [],
   "source": [
    "múltiplo(5,2)"
   ]
  },
  {
   "cell_type": "markdown",
   "id": "administrative-ridge",
   "metadata": {},
   "source": [
    "### Exercício 4\n",
    "Escreva a função `área_quadrado` que recebe o lado de um quadrado e calcula a área."
   ]
  },
  {
   "cell_type": "code",
   "execution_count": null,
   "id": "greenhouse-estonia",
   "metadata": {},
   "outputs": [],
   "source": [
    "def área_quadrado(L):\n",
    "    return L*L\n"
   ]
  },
  {
   "cell_type": "code",
   "execution_count": null,
   "id": "precious-trailer",
   "metadata": {},
   "outputs": [],
   "source": [
    "área_quadrado(1)"
   ]
  },
  {
   "cell_type": "code",
   "execution_count": null,
   "id": "sufficient-bread",
   "metadata": {},
   "outputs": [],
   "source": [
    "área_quadrado(2)"
   ]
  },
  {
   "cell_type": "code",
   "execution_count": null,
   "id": "explicit-render",
   "metadata": {},
   "outputs": [],
   "source": [
    "área_quadrado(3.3)"
   ]
  },
  {
   "cell_type": "markdown",
   "id": "whole-navigation",
   "metadata": {},
   "source": [
    "### Exercício 5\n",
    "Escreve a função `área_triângulo` que recebe a base e a altura de um triângulo e retorna a sua área"
   ]
  },
  {
   "cell_type": "code",
   "execution_count": null,
   "id": "natural-offset",
   "metadata": {},
   "outputs": [],
   "source": [
    "def área_triângulo(B,H):\n",
    "    return B*H/2"
   ]
  },
  {
   "cell_type": "code",
   "execution_count": null,
   "id": "atlantic-crazy",
   "metadata": {},
   "outputs": [],
   "source": [
    "área_triângulo(1,1)"
   ]
  },
  {
   "cell_type": "code",
   "execution_count": null,
   "id": "lyric-organic",
   "metadata": {},
   "outputs": [],
   "source": [
    "área_triângulo(1,2)"
   ]
  },
  {
   "cell_type": "markdown",
   "id": "respected-drama",
   "metadata": {},
   "source": [
    "### Exercício 6\n",
    "Reescreve a função para pesquisar uma lista (`pesquise`) acima de modo a que use os métodos de pesquisa em lista que vimos na última aula."
   ]
  },
  {
   "cell_type": "code",
   "execution_count": null,
   "id": "competent-edinburgh",
   "metadata": {},
   "outputs": [],
   "source": [
    "def pesquise(L, val):\n",
    "    return L.index(val)"
   ]
  },
  {
   "cell_type": "code",
   "execution_count": null,
   "id": "integral-richardson",
   "metadata": {},
   "outputs": [],
   "source": [
    "pesquise([1,2,3,4], 3)"
   ]
  },
  {
   "cell_type": "code",
   "execution_count": null,
   "id": "friendly-brooklyn",
   "metadata": {},
   "outputs": [],
   "source": [
    "pesquise([1,2,3,4], 4)"
   ]
  },
  {
   "cell_type": "code",
   "execution_count": null,
   "id": "angry-supervision",
   "metadata": {},
   "outputs": [],
   "source": [
    "pesquise([1,2,3,4], 5)"
   ]
  },
  {
   "cell_type": "markdown",
   "id": "quantitative-sword",
   "metadata": {},
   "source": [
    "### Exercício 7\n",
    "Defina uma função recursive que calcule o maior divisor comum (MDC) entre dois números a e b em que a > b.\n",
    "\n",
    "`mdc(a,b) = a` se `b==0` e se `a > b`, `mdc(a,b) = mdc(b, a % b)`\n"
   ]
  },
  {
   "cell_type": "code",
   "execution_count": null,
   "id": "level-optimization",
   "metadata": {},
   "outputs": [],
   "source": [
    "def mdc(a,b):\n",
    "    if b==0:\n",
    "        return a\n",
    "    elif a > b:\n",
    "        return mdc(b, a % b)\n",
    "    else:\n",
    "        return mdc(a, b % a)"
   ]
  },
  {
   "cell_type": "code",
   "execution_count": null,
   "id": "automotive-separation",
   "metadata": {},
   "outputs": [],
   "source": [
    "mdc(8,2)"
   ]
  },
  {
   "cell_type": "code",
   "execution_count": null,
   "id": "electric-chain",
   "metadata": {},
   "outputs": [],
   "source": [
    "mdc(2,8)"
   ]
  },
  {
   "cell_type": "code",
   "execution_count": null,
   "id": "medium-wireless",
   "metadata": {},
   "outputs": [],
   "source": [
    "mdc(8,8)"
   ]
  },
  {
   "cell_type": "code",
   "execution_count": null,
   "id": "everyday-contrary",
   "metadata": {},
   "outputs": [],
   "source": [
    "mdc(1*2*3*4*5, 1*2*3*4)"
   ]
  },
  {
   "cell_type": "markdown",
   "id": "pleased-elder",
   "metadata": {},
   "source": [
    "### Exercício 8\n",
    "Usando a função `mdc` do exercício anterior, defina uma função para calcular o mínimo múltiplo comum (MMC) entre dois números:\n",
    "\n",
    "$$\n",
    "mmc(a,b) = \\frac{|a\\times b|}{mdc(a,b)}\n",
    "$$\n",
    "\n",
    "Lembre que $|a \\times b|$ é escrito como `abs(a * b)` em Python."
   ]
  },
  {
   "cell_type": "code",
   "execution_count": null,
   "id": "threatened-learning",
   "metadata": {},
   "outputs": [],
   "source": [
    "def mmc(a,b):\n",
    "    return abs(a*b) // (mdc(a,b))"
   ]
  },
  {
   "cell_type": "code",
   "execution_count": null,
   "id": "anonymous-wilson",
   "metadata": {},
   "outputs": [],
   "source": [
    "mmc(4,5)"
   ]
  },
  {
   "cell_type": "code",
   "execution_count": null,
   "id": "accessory-simple",
   "metadata": {},
   "outputs": [],
   "source": [
    "mmc(5,4)"
   ]
  },
  {
   "cell_type": "code",
   "execution_count": null,
   "id": "marine-batman",
   "metadata": {},
   "outputs": [],
   "source": [
    "mmc(5,5*4)"
   ]
  },
  {
   "cell_type": "markdown",
   "id": "oriental-climb",
   "metadata": {},
   "source": [
    "### Exercício 9\n",
    "\n",
    "Reescreva o programa para calcular a sequência de Fibonacci sem utilizar recursão.\n",
    "\n",
    "Compare o desempenho com a função recursiva. Se você estiver usando o notebook do jupyter ou o ipython você pode usar a instrução %time como mostrado a seguir\n",
    "\n",
    "\n"
   ]
  },
  {
   "cell_type": "code",
   "execution_count": null,
   "id": "dramatic-delivery",
   "metadata": {},
   "outputs": [],
   "source": [
    "def fibonacci_recursivo(n):\n",
    "    if n <= 1:\n",
    "        return n\n",
    "    else:\n",
    "        return fibonacci_recursivo(n-1) + fibonacci_recursivo(n-2)"
   ]
  },
  {
   "cell_type": "code",
   "execution_count": null,
   "id": "severe-doctor",
   "metadata": {},
   "outputs": [],
   "source": [
    "def fibonacci(n):\n",
    "    if n <= 1:\n",
    "        return n\n",
    "    fib_n_menos_1 = 0\n",
    "    fib_n = 1\n",
    "    \n",
    "    for i in range(2,n+1):\n",
    "        tmp = fib_n\n",
    "        fib_n = fib_n + fib_n_menos_1\n",
    "        fib_n_menos_1 = tmp\n",
    "    return fib_n\n",
    "\n",
    "    "
   ]
  },
  {
   "cell_type": "code",
   "execution_count": null,
   "id": "partial-method",
   "metadata": {},
   "outputs": [],
   "source": [
    "[fibonacci(i) for i in range(11)]"
   ]
  },
  {
   "cell_type": "code",
   "execution_count": null,
   "id": "ecological-better",
   "metadata": {},
   "outputs": [],
   "source": [
    "[fibonacci_recursivo(i) for i in range(11)]"
   ]
  },
  {
   "cell_type": "markdown",
   "id": "entertaining-enemy",
   "metadata": {},
   "source": [
    "### Vamos medir o tempo:"
   ]
  },
  {
   "cell_type": "code",
   "execution_count": null,
   "id": "appropriate-partner",
   "metadata": {},
   "outputs": [],
   "source": [
    "%timeit fibonacci(2)"
   ]
  },
  {
   "cell_type": "code",
   "execution_count": null,
   "id": "embedded-enhancement",
   "metadata": {},
   "outputs": [],
   "source": [
    "%timeit fibonacci(5)"
   ]
  },
  {
   "cell_type": "code",
   "execution_count": null,
   "id": "handy-transcript",
   "metadata": {},
   "outputs": [],
   "source": [
    "%timeit fibonacci(10)"
   ]
  },
  {
   "cell_type": "code",
   "execution_count": null,
   "id": "loving-theorem",
   "metadata": {},
   "outputs": [],
   "source": [
    "%timeit fibonacci(15)"
   ]
  },
  {
   "cell_type": "code",
   "execution_count": null,
   "id": "reverse-basketball",
   "metadata": {},
   "outputs": [],
   "source": [
    "%timeit fibonacci(20)"
   ]
  },
  {
   "cell_type": "code",
   "execution_count": null,
   "id": "fossil-constitution",
   "metadata": {},
   "outputs": [],
   "source": [
    "%timeit fibonacci(25)"
   ]
  },
  {
   "cell_type": "code",
   "execution_count": null,
   "id": "printable-genesis",
   "metadata": {},
   "outputs": [],
   "source": [
    "%timeit fibonacci(30)"
   ]
  },
  {
   "cell_type": "code",
   "execution_count": null,
   "id": "gentle-management",
   "metadata": {},
   "outputs": [],
   "source": [
    "%timeit fibonacci(35)"
   ]
  },
  {
   "cell_type": "code",
   "execution_count": null,
   "id": "finite-header",
   "metadata": {},
   "outputs": [],
   "source": [
    "%timeit fibonacci(40)"
   ]
  },
  {
   "cell_type": "code",
   "execution_count": null,
   "id": "powered-fourth",
   "metadata": {},
   "outputs": [],
   "source": [
    "n1 = [2, 5,10,15,20,25,30,35] #,40]\n",
    "t1 = [279e-9,399e-9, 607e-9, 817e-9, 1.06e-6, 1.3e-6, 1.53e-6, 1.78e-6] #, 1.99e-6]"
   ]
  },
  {
   "cell_type": "code",
   "execution_count": null,
   "id": "internal-going",
   "metadata": {},
   "outputs": [],
   "source": [
    "from matplotlib import pyplot as plt"
   ]
  },
  {
   "cell_type": "code",
   "execution_count": null,
   "id": "meaningful-solomon",
   "metadata": {},
   "outputs": [],
   "source": [
    "plt.plot(n1, t1, \"o\")"
   ]
  },
  {
   "cell_type": "code",
   "execution_count": null,
   "id": "effective-afternoon",
   "metadata": {},
   "outputs": [],
   "source": [
    "%timeit fibonacci_recursivo(2)"
   ]
  },
  {
   "cell_type": "code",
   "execution_count": null,
   "id": "naked-surge",
   "metadata": {},
   "outputs": [],
   "source": [
    "%timeit fibonacci_recursivo(5)"
   ]
  },
  {
   "cell_type": "code",
   "execution_count": null,
   "id": "residential-thomson",
   "metadata": {},
   "outputs": [],
   "source": [
    "%timeit fibonacci_recursivo(10)"
   ]
  },
  {
   "cell_type": "code",
   "execution_count": null,
   "id": "basic-freight",
   "metadata": {},
   "outputs": [],
   "source": [
    "%timeit fibonacci_recursivo(15)"
   ]
  },
  {
   "cell_type": "code",
   "execution_count": null,
   "id": "judicial-address",
   "metadata": {},
   "outputs": [],
   "source": [
    "%timeit fibonacci_recursivo(20)"
   ]
  },
  {
   "cell_type": "code",
   "execution_count": null,
   "id": "analyzed-wings",
   "metadata": {},
   "outputs": [],
   "source": [
    "%timeit fibonacci_recursivo(25)"
   ]
  },
  {
   "cell_type": "code",
   "execution_count": null,
   "id": "cosmetic-korea",
   "metadata": {},
   "outputs": [],
   "source": [
    "%timeit fibonacci_recursivo(30)"
   ]
  },
  {
   "cell_type": "code",
   "execution_count": null,
   "id": "important-camcorder",
   "metadata": {},
   "outputs": [],
   "source": [
    "%timeit fibonacci_recursivo(35)"
   ]
  },
  {
   "cell_type": "code",
   "execution_count": null,
   "id": "lesbian-yahoo",
   "metadata": {},
   "outputs": [],
   "source": []
  },
  {
   "cell_type": "code",
   "execution_count": null,
   "id": "natural-postage",
   "metadata": {},
   "outputs": [],
   "source": [
    "n2 = [2,5,10,15,20, 25, 30, 35]\n",
    "t2 = [300e-9, 1.46e-6, 17.1e-6, 190e-6, 2.13e-3, 23.5e-3, 260e-3, 2.92]"
   ]
  },
  {
   "cell_type": "code",
   "execution_count": null,
   "id": "organizational-decimal",
   "metadata": {},
   "outputs": [],
   "source": [
    "plt.plot(n2, t2, \"o\")"
   ]
  },
  {
   "cell_type": "code",
   "execution_count": null,
   "id": "trying-niagara",
   "metadata": {},
   "outputs": [],
   "source": [
    "\n",
    "plt.semilogy(n1, t1, \"ro\", label=\"Iteração\")\n",
    "plt.semilogy(n2, t2, \"bs\", label=\"Iteração\")"
   ]
  },
  {
   "cell_type": "code",
   "execution_count": null,
   "id": "colonial-disco",
   "metadata": {},
   "outputs": [],
   "source": [
    "fator_mult = [t2[i] / t1[i] for i in range(len(t1))]"
   ]
  },
  {
   "cell_type": "code",
   "execution_count": null,
   "id": "sensitive-puzzle",
   "metadata": {},
   "outputs": [],
   "source": [
    "plt.semilogy(n1, fator_mult, \"ro\")"
   ]
  },
  {
   "cell_type": "markdown",
   "id": "characteristic-migration",
   "metadata": {},
   "source": [
    "#### Análise do custo\n",
    "\n",
    "O custo de cálculo do número de Fibonacci aumenta linearmente conforme n aumenta. \n",
    "\n",
    "Já a usando a definição recursiva, o custo aumenta de maneira considerável. No último gráfico, com eixo log em y, pode-se ver que o custo da função recursiva aumenta exponencialmente em relação à implementação usando iteração. Assim, dado um número `n`, o custo computacional pode ser descrito assim:\n",
    "\n",
    "* Algoritmo iterativo: $\\mathcal{O}(n)$\n",
    "* Algoritmo recursivo: $\\mathcal{O}(n\\cdot \\exp n)$\n"
   ]
  },
  {
   "cell_type": "markdown",
   "id": "hungarian-award",
   "metadata": {},
   "source": [
    "### Exercício 10\n",
    "Na aula 03 implementamos o algoritmo de reordenação de listas bubble sort. Crie uma função `bubble_sort` que reordena os elementos de uma lista de números em ordem crescente"
   ]
  },
  {
   "cell_type": "code",
   "execution_count": null,
   "id": "introductory-things",
   "metadata": {},
   "outputs": [],
   "source": [
    "def bubble_sort(L):\n",
    "    N = len(L)\n",
    "    for i in range(N):\n",
    "        trocou = False\n",
    "        for k in range(N-i-1):\n",
    "            if L[k] > L[k+1]: # Inverter a posição\n",
    "                trocou = True\n",
    "                tmp = L[k]\n",
    "                L[k] = L[k+1]\n",
    "                L[k+1] = tmp\n",
    "        if not trocou:\n",
    "            break\n",
    "    \n"
   ]
  },
  {
   "cell_type": "code",
   "execution_count": null,
   "id": "organizational-family",
   "metadata": {},
   "outputs": [],
   "source": [
    "L = [23,4,5,2,3,6,2345,6,32,345,4]\n",
    "bubble_sort(L)\n",
    "L"
   ]
  },
  {
   "cell_type": "markdown",
   "id": "continental-lounge",
   "metadata": {},
   "source": [
    "### Exercício 11\n",
    "Mude o programa do exercício 10 de modo que tenha um segundo parâmetro `comparador` que é uma função que compara dois elementos\n",
    "```python\n",
    "def maior(a, b):\n",
    "    return a > b\n",
    "\n",
    "def bubble_sort(L, comparador=maior)\n",
    "    # Corpo da função\n",
    "```\n",
    "Esse segundo parâmetro é o que compara os elementos da lista. Se esse parâmetros for a função `maior`, a lista será reordenada em ordem crescente.\n",
    "\n",
    "Qual seria a função passada para o parâmetro `comparador` para que a lista fosse reordenada em ordem decrescente?"
   ]
  },
  {
   "cell_type": "code",
   "execution_count": null,
   "id": "physical-mediterranean",
   "metadata": {},
   "outputs": [],
   "source": [
    "def maior(a,b):\n",
    "    return a > b\n",
    "def menor(a,b):\n",
    "    return a < b\n"
   ]
  },
  {
   "cell_type": "code",
   "execution_count": null,
   "id": "monthly-ocean",
   "metadata": {},
   "outputs": [],
   "source": [
    "def bubble_sort(L, comparador=maior):\n",
    "    N = len(L)\n",
    "    for i in range(N):\n",
    "        trocou = False\n",
    "        for k in range(N-i-1):\n",
    "            if comparador(L[k],L[k+1]): # Inverter a posição\n",
    "                trocou = True\n",
    "                tmp = L[k]\n",
    "                L[k] = L[k+1]\n",
    "                L[k+1] = tmp\n",
    "        if not trocou:\n",
    "            break\n",
    "    \n"
   ]
  },
  {
   "cell_type": "code",
   "execution_count": null,
   "id": "southeast-literacy",
   "metadata": {},
   "outputs": [],
   "source": [
    "L = [23,4,5,2,3,6,2345,6,32,345,4]\n",
    "bubble_sort(L, maior)\n",
    "L"
   ]
  },
  {
   "cell_type": "code",
   "execution_count": null,
   "id": "quarterly-ballet",
   "metadata": {},
   "outputs": [],
   "source": [
    "L = [23,4,5,2,3,6,2345,6,32,345,4]\n",
    "bubble_sort(L, menor)\n",
    "L"
   ]
  },
  {
   "cell_type": "markdown",
   "id": "planned-fault",
   "metadata": {},
   "source": [
    "### Exercício 12\n",
    "Escreva uma função `mapa` que recebe como primeiro parâmetro uma função e segundo parâmetro uma lista e cria uma nova lista aplicando esta função em cada elemento da lista. \n",
    "    \n",
    "\n",
    "Exemplo:\n",
    "```python-repl\n",
    "In [10]: def dobro(n):\n",
    "    ...:     return 2*n\n",
    "    ...: \n",
    "\n",
    "In [11]: mapa(dobro, [1,2,3])\n",
    "Out[11]: [2, 4, 6]\n",
    "```\n"
   ]
  },
  {
   "cell_type": "code",
   "execution_count": null,
   "id": "attached-rolling",
   "metadata": {},
   "outputs": [],
   "source": [
    "def mapa(fun, L):\n",
    "    Lout = []\n",
    "    for e in L:\n",
    "        v = fun(e)\n",
    "        Lout.append(v)\n",
    "    return Lout"
   ]
  },
  {
   "cell_type": "code",
   "execution_count": null,
   "id": "steady-triumph",
   "metadata": {},
   "outputs": [],
   "source": [
    "def dobro(n):\n",
    "    return 2*n\n",
    "mapa(dobro, range(10))"
   ]
  },
  {
   "cell_type": "code",
   "execution_count": null,
   "id": "forced-advocacy",
   "metadata": {},
   "outputs": [],
   "source": [
    "mapa(lambda x: x**2, range(10))"
   ]
  },
  {
   "cell_type": "code",
   "execution_count": null,
   "id": "timely-farming",
   "metadata": {},
   "outputs": [],
   "source": [
    "mapa(lambda x: x^3, range(10))"
   ]
  },
  {
   "cell_type": "markdown",
   "id": "challenging-architecture",
   "metadata": {},
   "source": [
    "#### Funções lamda\n",
    "\n",
    "São funções pequenas de uma linha que são usadas para serem passadas como argumentos"
   ]
  },
  {
   "cell_type": "code",
   "execution_count": null,
   "id": "funded-treatment",
   "metadata": {},
   "outputs": [],
   "source": []
  }
 ],
 "metadata": {
  "kernelspec": {
   "display_name": "Python 3 (ipykernel)",
   "language": "python",
   "name": "python3"
  },
  "language_info": {
   "codemirror_mode": {
    "name": "ipython",
    "version": 3
   },
   "file_extension": ".py",
   "mimetype": "text/x-python",
   "name": "python",
   "nbconvert_exporter": "python",
   "pygments_lexer": "ipython3",
   "version": "3.9.7"
  }
 },
 "nbformat": 4,
 "nbformat_minor": 5
}
