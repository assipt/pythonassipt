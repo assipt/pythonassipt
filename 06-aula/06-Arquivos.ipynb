{
 "cells": [
  {
   "cell_type": "markdown",
   "id": "standing-contrast",
   "metadata": {},
   "source": [
    "# Aula 06: Arquivos\n",
    "\n",
    "Não tenho como enfatizar a importância de saber armazenar dados em disco!\n",
    "\n",
    "Aqui vamos ver os fundamentos de como trabalhar com arquivos.\n",
    "\n",
    "Existem pacotes que permitem trabalhar com formatos de arquivos específicos:\n",
    "\n",
    " * [Na biblioteca padrão do Python](https://docs.python.org/pt-br/3/library/index.html) tem vários\n",
    "   - Bancos de dados: `sqlite3` e `dbm`\n",
    "   - Arquivos comprimidos: `zlib`, `gzip`, `bz2`, `lzma`, `zipfile`, `tarfile` \n",
    "   - `json`, `html`, `xml`\n",
    "   - `csv`\n",
    "   - Outros\n",
    " * Pacotes\n",
    "  - Tudo quanto é banco de dados\n",
    "  - Excel: [pandas](https://pandas.pydata.org/docs/reference/api/pandas.read_excel.html), [openpyxl](https://openpyxl.readthedocs.io/en/stable/), [xlrd](https://xlrd.readthedocs.io/en/latest/). Ver também <https://www.python-excel.org>\n",
    "  - HDF5: <https://docs.h5py.org/en/stable/>\n",
    "  - [Pandas](https://pandas.pydata.org/) tem um monte de coisa para diferentes formatos \n",
    "  - Figuras bitmap: [Pillow](https://pillow.readthedocs.io/en/stable/)\n",
    "  - Um monte de outras coisas...\n",
    "\n",
    "**Vamos tratar aqui dos fundamentos**\n",
    "<!-- TEASER_END -->"
   ]
  },
  {
   "cell_type": "markdown",
   "id": "alleged-ministry",
   "metadata": {},
   "source": [
    "## Abrindo arquivos\n",
    "\n",
    "Função `open` abre o arquivo:\n",
    "\n",
    "```\n",
    "f = open(nome_do_arquivo_string, modo)\n",
    "```\n",
    "Nome do arquivo deve ser uma string e a função `open` retorna um objeto do tipo `file` (arquivo em inglês).\n",
    "\n",
    "### Modo de abertura\n",
    "\n",
    "| Modo | Operações |\n",
    "| ---- | --------- |\n",
    "| r    | Leitura   |\n",
    "| w    | Escrita - apaga o conteúdo que tiver  |\n",
    "| a    | Escrita - preserva o conteúdo que tiver|\n",
    "| b    | Modo binário |\n",
    "| +    | Atualização (leitura e escrita) |\n",
    "\n"
   ]
  },
  {
   "cell_type": "code",
   "execution_count": null,
   "id": "statistical-elder",
   "metadata": {},
   "outputs": [],
   "source": [
    "# Escrevendo um arquivo\n",
    "arquivo = open(\"números.txt\", \"w\")\n",
    "for linha in range(1,101):\n",
    "    arquivo.write(f\"{linha}\\n\")\n",
    "arquivo.close()"
   ]
  },
  {
   "cell_type": "code",
   "execution_count": null,
   "id": "binding-consistency",
   "metadata": {},
   "outputs": [],
   "source": [
    "# Lendo um arquivo\n",
    "arquivo = open(\"números.txt\", \"r\")\n",
    "linhas = arquivo.readlines()\n",
    "arquivo.close()"
   ]
  },
  {
   "cell_type": "code",
   "execution_count": null,
   "id": "appointed-vitamin",
   "metadata": {},
   "outputs": [],
   "source": [
    "linhas"
   ]
  },
  {
   "cell_type": "code",
   "execution_count": null,
   "id": "respiratory-prompt",
   "metadata": {},
   "outputs": [],
   "source": [
    "arquivo = open(\"números.txt\", \"r\")\n",
    "for linha in arquivo.readlines():\n",
    "    print(linha.strip())\n",
    "arquivo.close()"
   ]
  },
  {
   "cell_type": "code",
   "execution_count": null,
   "id": "rotary-cricket",
   "metadata": {},
   "outputs": [],
   "source": [
    "# with\n",
    "with open(\"números.txt\", \"r\") as arquivo:\n",
    "    for linha in arquivo.readlines():\n",
    "        print(linha.strip())\n",
    "# Ele já fecha automaticamente o arquivo mesmo se um erro ocorrer"
   ]
  },
  {
   "cell_type": "markdown",
   "id": "consistent-neighborhood",
   "metadata": {},
   "source": [
    "## Parâmetros da linha de comando\n",
    "\n",
    "Ver o script `linhadecomando.py`\n"
   ]
  },
  {
   "cell_type": "code",
   "execution_count": null,
   "id": "molecular-holly",
   "metadata": {},
   "outputs": [],
   "source": [
    "import sys\n",
    "print(f\"Número de parâmetros: {len(sys.argv)}\")\n",
    "for n, p in enumerate(sys.argv):\n",
    "    print(f\"Parâmetro {n}: {p}\")"
   ]
  },
  {
   "cell_type": "markdown",
   "id": "danish-joshua",
   "metadata": {},
   "source": [
    "### Exercício 1\n",
    "Escreva um programa que receba o nome de um arquivo pela linha de comando e imprimia todas as linhas desse aqruivo"
   ]
  },
  {
   "cell_type": "code",
   "execution_count": null,
   "id": "soviet-estonia",
   "metadata": {},
   "outputs": [],
   "source": []
  },
  {
   "cell_type": "markdown",
   "id": "traditional-treaty",
   "metadata": {},
   "source": [
    "### Exercício 2\n",
    "Modofique o programa do exercício de tal modo que receba mais dois parâmetros: a linha de incício e a de fim de impressão. O programa deve imprimir apenas as linhas entre esses dois valores (inlcuindo as linhas de incício e fim)"
   ]
  },
  {
   "cell_type": "code",
   "execution_count": null,
   "id": "executive-choir",
   "metadata": {},
   "outputs": [],
   "source": []
  },
  {
   "cell_type": "markdown",
   "id": "related-statement",
   "metadata": {},
   "source": [
    "## Geração de arquivos\n"
   ]
  },
  {
   "cell_type": "code",
   "execution_count": null,
   "id": "opposite-tonight",
   "metadata": {},
   "outputs": [],
   "source": [
    "with open(\"ímpares.txt\", \"w\") as ímpares:\n",
    "    with open(\"pares.txt\", \"w\") as pares:\n",
    "        for n in range(1000):\n",
    "            if n % 2 == 0:\n",
    "                pares.write(f\"{n}\\n\")\n",
    "            else:\n",
    "                ímpares.write(f\"{n}\\n\")\n",
    "                "
   ]
  },
  {
   "cell_type": "code",
   "execution_count": null,
   "id": "nervous-ozone",
   "metadata": {},
   "outputs": [],
   "source": [
    "with open(\"ímpares.txt\", \"w\") as ímpares, open(\"pares.txt\", \"w\") as pares:\n",
    "    for n in range(1000):\n",
    "        if n % 2 == 0:\n",
    "            pares.write(f\"{n}\\n\")\n",
    "        else:\n",
    "            ímpares.write(f\"{n}\\n\")\n",
    "                "
   ]
  },
  {
   "cell_type": "markdown",
   "id": "australian-dinner",
   "metadata": {},
   "source": [
    "## Leitura e escrita\n",
    "\n",
    "É muito comum ler um arquivo e processá-lo e escrever em outro arquivo."
   ]
  },
  {
   "cell_type": "code",
   "execution_count": null,
   "id": "accepting-emperor",
   "metadata": {},
   "outputs": [],
   "source": [
    "with open(\"multiplos_de_4.txt\", \"w\") as múltiplos4, open(\"pares.txt\", \"r\") as pares:\n",
    "    for l in pares.readlines():\n",
    "        if int(l) % 4 == 0:\n",
    "            múltiplos4.write(l)\n",
    "            "
   ]
  },
  {
   "cell_type": "markdown",
   "id": "extraordinary-manitoba",
   "metadata": {},
   "source": [
    "### Exercício 3\n",
    "Crie um programa que receba o nome de dois arquivos como parâmetros da linha de comando e que gere um arquivo de saída com as linhas do primeiro e do segundo arquivo"
   ]
  },
  {
   "cell_type": "code",
   "execution_count": null,
   "id": "alleged-soldier",
   "metadata": {},
   "outputs": [],
   "source": []
  },
  {
   "cell_type": "markdown",
   "id": "settled-burns",
   "metadata": {},
   "source": [
    "### Exercício 4\n",
    "Crie um programa que recebe o nome de um arquivo e o nome do arquivo de saída e que inverta as linhas do primeiro arquivo e armazene no segundo."
   ]
  },
  {
   "cell_type": "code",
   "execution_count": null,
   "id": "available-light",
   "metadata": {},
   "outputs": [],
   "source": []
  },
  {
   "cell_type": "markdown",
   "id": "compatible-clause",
   "metadata": {},
   "source": [
    "## Geração de HTML\n",
    "\n",
    "Uma das operações mais importantes da web!"
   ]
  },
  {
   "cell_type": "code",
   "execution_count": null,
   "id": "analyzed-focus",
   "metadata": {},
   "outputs": [],
   "source": [
    "with open(\"página.html\", \"w\", encoding=\"utf-8\") as página:\n",
    "    página.write('<!DOCTYPE html>\\n')\n",
    "    página.write('<html lang=\"pt-br\">\\n')\n",
    "    página.write('<head>\\n')\n",
    "    página.write('<meta charset=\"utf-8\">\\n')\n",
    "    página.write('<title>Título da página</title>\\n')\n",
    "    página.write('</head>\\n')\n",
    "    página.write('<body>\\n')\n",
    "    página.write('Olá!\\n')\n",
    "    for l in range(10):\n",
    "        página.write(f\"<p>{l}</p>\\n\")\n",
    "    página.write('</body>\\n')\n",
    "    página.write('</html>\\n')\n"
   ]
  },
  {
   "cell_type": "markdown",
   "id": "fatty-liabilities",
   "metadata": {},
   "source": [
    "Algumas coisinhas importantes:\n",
    "\n",
    " * argumento `encoding = \"utf-8\"`\n",
    " * Usando `'` e/ou `\"`\n",
    " \n",
    "Mas é chato ficar escrevendo esse monte de coisa. Lembra das aspas triplas que eu falei?"
   ]
  },
  {
   "cell_type": "code",
   "execution_count": null,
   "id": "featured-coordinate",
   "metadata": {},
   "outputs": [],
   "source": [
    "with open(\"página.html\", \"w\", encoding=\"utf-8\") as página:\n",
    "    página.write(\"\"\"\n",
    "<!DOCTYPE html>\n",
    "<html lang=\"pt-br\">\n",
    "<head>\n",
    "<meta charset=\"utf-8\">\n",
    "<title>Título da página</title>\n",
    "</head>\n",
    "<body>\n",
    "Olá!\n",
    "    \"\"\")\n",
    "    for l in range(10):\n",
    "        página.write(f\"<p>{l}</p>\\n\")\n",
    "    página.write(\"\"\"\n",
    "</body>\n",
    "</html>\n",
    "    \"\"\")\n"
   ]
  },
  {
   "cell_type": "markdown",
   "id": "brown-gospel",
   "metadata": {},
   "source": [
    "Algo mais sofisticado: gerando a página web a partir de dados. No caso, um dicionário com filmes, gênero do filme, título."
   ]
  },
  {
   "cell_type": "code",
   "execution_count": null,
   "id": "clear-excess",
   "metadata": {},
   "outputs": [],
   "source": [
    "filmes = {\n",
    "    \"drama\" : [\"O Homem Elefante\", \"O Poderoso Chefão\"],\n",
    "    \"comédia\" : [\"Se beber não case\", \"O Auto da Compadecida\", \"American Pie\"],\n",
    "    \"policial\" : [\"Seven\", \"O silêncio dos inocentes\", \"Os Homens que não Amavam as Mulheres\"],\n",
    "    \"guerra\" : [\"Stalingrado\", \"O Resgate do Soldado Ryan\", \"Dunquerque\"],\n",
    "    \"ficção científica\" : [\"O Expresso do Amanhã\", \"Duna\", \"Guerra nas Estrelas\", \"A Ira de Kahn\"]\n",
    "}"
   ]
  },
  {
   "cell_type": "code",
   "execution_count": null,
   "id": "composed-coordination",
   "metadata": {},
   "outputs": [],
   "source": [
    "with open(\"filmes.html\", \"w\", encoding=\"utf-8\") as página:\n",
    "    página.write(\"\"\"\n",
    "<!DOCTYPE html>\n",
    "<html lang=\"pt-br\">\n",
    "<head>\n",
    "<meta charset=\"utf-8\">\n",
    "<title>Filmes</title>\n",
    "</head>\n",
    "<body>\n",
    "    \"\"\")\n",
    "    for c,v in filmes.items():\n",
    "        página.write(f\"<h1>{c.capitalize()}</h1>\\n\")\n",
    "        for e in v:\n",
    "            página.write(f\"<h2>{e}</h2>\\n\")\n",
    "    página.write(\"\"\"\n",
    "</body>\n",
    "</html>\n",
    "    \"\"\")\n",
    "    "
   ]
  },
  {
   "cell_type": "markdown",
   "id": "daily-shannon",
   "metadata": {},
   "source": [
    "### Exercício 5\n",
    "Modofique o programa anterior para utilizar o elemento `p` em vez de `h2`"
   ]
  },
  {
   "cell_type": "code",
   "execution_count": null,
   "id": "facial-rugby",
   "metadata": {},
   "outputs": [],
   "source": []
  },
  {
   "cell_type": "markdown",
   "id": "statistical-friendly",
   "metadata": {},
   "source": [
    "### Exercício 6\n",
    "Modofique o programa 9.8 para gerar uma lista html usando os elementos `ul` e `li`. Todos os elementos da lista devem estar dentro do elemento `ul` e cada item dentro de um elemento `li`. Exemplo:\n",
    "\n",
    "`<ul><li>Item 1</li><li>Item 2</li><li>Item 3</li></ul>`"
   ]
  },
  {
   "cell_type": "markdown",
   "id": "activated-tracy",
   "metadata": {},
   "source": [
    "## Arquivos e diretórios\n",
    "\n",
    "Sabe aqueles comandos que você usa na linha de comando? Dá para fazer o mesmo de dentro do Python."
   ]
  },
  {
   "cell_type": "code",
   "execution_count": null,
   "id": "certain-pendant",
   "metadata": {},
   "outputs": [],
   "source": [
    "import os"
   ]
  },
  {
   "cell_type": "code",
   "execution_count": null,
   "id": "rapid-citizenship",
   "metadata": {},
   "outputs": [],
   "source": [
    "# Get current working directory (qual o diretório atual?)\n",
    "os.getcwd() "
   ]
  },
  {
   "cell_type": "code",
   "execution_count": null,
   "id": "coral-ownership",
   "metadata": {},
   "outputs": [],
   "source": [
    "# Criar diretórios: make directory (mkdir)\n",
    "os.mkdir(\"a\")\n",
    "os.mkdir(\"b\")\n",
    "os.mkdir(\"c\")"
   ]
  },
  {
   "cell_type": "code",
   "execution_count": null,
   "id": "wooden-ebony",
   "metadata": {},
   "outputs": [],
   "source": [
    "# Mudar o diretório atual: change directory (chdir)\n",
    "os.chdir(\"a\")\n",
    "print(os.getcwd())"
   ]
  },
  {
   "cell_type": "code",
   "execution_count": null,
   "id": "lyric-shark",
   "metadata": {},
   "outputs": [],
   "source": [
    "os.chdir(\"..\")\n",
    "print(os.getcwd())"
   ]
  },
  {
   "cell_type": "code",
   "execution_count": null,
   "id": "proper-liberia",
   "metadata": {},
   "outputs": [],
   "source": [
    "os.chdir(\"b\")\n",
    "print(os.getcwd())"
   ]
  },
  {
   "cell_type": "code",
   "execution_count": null,
   "id": "dated-empty",
   "metadata": {},
   "outputs": [],
   "source": [
    "os.chdir(\"../c\")\n",
    "print(os.getcwd())\n",
    "os.chdir(\"..\")"
   ]
  },
  {
   "cell_type": "code",
   "execution_count": null,
   "id": "dirty-lunch",
   "metadata": {},
   "outputs": [],
   "source": [
    "# Apagar diretório **vazio**\n",
    "os.rmdir(\"a\")\n",
    "os.rmdir(\"b\")\n",
    "os.rmdir(\"c\")"
   ]
  },
  {
   "cell_type": "code",
   "execution_count": null,
   "id": "genuine-spare",
   "metadata": {},
   "outputs": [],
   "source": [
    "# mkdir cria um diretório de cada vez. makedirs cria toda a árvore:\n",
    "os.makedirs(\"a/b/c/d\")"
   ]
  },
  {
   "cell_type": "code",
   "execution_count": null,
   "id": "contrary-amplifier",
   "metadata": {},
   "outputs": [],
   "source": [
    "# Apagando os diretórios que estiverem vazios na árvore\n",
    "os.removedirs(\"a/b/c/d\")"
   ]
  },
  {
   "cell_type": "code",
   "execution_count": null,
   "id": "resistant-marine",
   "metadata": {},
   "outputs": [],
   "source": [
    "# Mudando nomes de arquivos e diretórios\n",
    "os.makedirs(\"avô/pai/filho\")"
   ]
  },
  {
   "cell_type": "code",
   "execution_count": null,
   "id": "tamil-landscape",
   "metadata": {},
   "outputs": [],
   "source": [
    "os.rename(\"avô/pai\", \"avô/mãe\")"
   ]
  },
  {
   "cell_type": "code",
   "execution_count": null,
   "id": "funded-cattle",
   "metadata": {},
   "outputs": [],
   "source": [
    "# Dá também para listar os diretórios:\n",
    "os.listdir(\".\")"
   ]
  },
  {
   "cell_type": "code",
   "execution_count": null,
   "id": "contained-assembly",
   "metadata": {},
   "outputs": [],
   "source": [
    "os.listdir(\"avô\")"
   ]
  },
  {
   "cell_type": "markdown",
   "id": "neither-universal",
   "metadata": {},
   "source": [
    "## Nomes de arquivos: `os.path`"
   ]
  },
  {
   "cell_type": "code",
   "execution_count": null,
   "id": "square-reform",
   "metadata": {},
   "outputs": [],
   "source": [
    "import os.path  # Funções que trabalham com nomes de arquivos"
   ]
  },
  {
   "cell_type": "code",
   "execution_count": null,
   "id": "overall-psychiatry",
   "metadata": {},
   "outputs": [],
   "source": [
    "for a in os.listdir(\".\"):\n",
    "    if os.path.isdir(a):  # É uma pasta?\n",
    "        print(f\"{a}/\")\n",
    "    elif os.path.isfile(a):\n",
    "        print(a)\n",
    "        "
   ]
  },
  {
   "cell_type": "code",
   "execution_count": null,
   "id": "convenient-reputation",
   "metadata": {},
   "outputs": [],
   "source": [
    "# Nome base\n",
    "os.path.basename(\"06-Arquivos.ipynb\")"
   ]
  },
  {
   "cell_type": "code",
   "execution_count": null,
   "id": "related-disclosure",
   "metadata": {},
   "outputs": [],
   "source": [
    "# Dividir o nome em partes:\n",
    "for s in os.path.split(\"/home/pjabardo/Documents/assipt/pythonassipt/06-aula/06-Arquivos.ipynb\"):\n",
    "    print(s)\n",
    "    "
   ]
  },
  {
   "cell_type": "code",
   "execution_count": null,
   "id": "buried-pillow",
   "metadata": {},
   "outputs": [],
   "source": [
    "os.path.splitext(\"06-Arquivos.ipynb\")"
   ]
  },
  {
   "cell_type": "code",
   "execution_count": null,
   "id": "extensive-cherry",
   "metadata": {},
   "outputs": [],
   "source": [
    "os.path.dirname(\"../05-aula/utilidades.py\")"
   ]
  },
  {
   "cell_type": "code",
   "execution_count": null,
   "id": "mighty-freight",
   "metadata": {},
   "outputs": [],
   "source": [
    "# Juntar os nomes:\n",
    "\n",
    "os.path.join(\"home\", \"pjabardo\", \"Documents\", \"assipt\")\n"
   ]
  },
  {
   "cell_type": "markdown",
   "id": "painted-coating",
   "metadata": {},
   "source": [
    "## Visitando todos os subdiretórios recursivamente\n"
   ]
  },
  {
   "cell_type": "code",
   "execution_count": null,
   "id": "biological-section",
   "metadata": {},
   "outputs": [],
   "source": [
    "for raiz, diretorios, arquivos in os.walk(\"../pagina-web/\"):\n",
    "    print(\"\\nCaminho:\", raiz)\n",
    "    for d in diretorios:\n",
    "        print(f\"  {d}/\")\n",
    "    for f in arquivos:\n",
    "        print(f\"  {f}\")\n",
    "    print(f\"{len(diretorios)} diretório(s), {len(arquivos)} arquivo(s)\")"
   ]
  },
  {
   "cell_type": "code",
   "execution_count": null,
   "id": "crazy-smell",
   "metadata": {},
   "outputs": [],
   "source": []
  }
 ],
 "metadata": {
  "kernelspec": {
   "display_name": "Python 3 (ipykernel)",
   "language": "python",
   "name": "python3"
  },
  "language_info": {
   "codemirror_mode": {
    "name": "ipython",
    "version": 3
   },
   "file_extension": ".py",
   "mimetype": "text/x-python",
   "name": "python",
   "nbconvert_exporter": "python",
   "pygments_lexer": "ipython3",
   "version": "3.9.7"
  }
 },
 "nbformat": 4,
 "nbformat_minor": 5
}
