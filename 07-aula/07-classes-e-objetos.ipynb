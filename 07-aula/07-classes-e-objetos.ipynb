{
 "cells": [
  {
   "cell_type": "markdown",
   "id": "significant-springfield",
   "metadata": {},
   "source": [
    "# Aula 07: Classes e objetos\n",
    "\n",
    "Nessa aula vamos introduzir o conceito de classes e objetos e os fundamentos de programação orientada por objetos.\n",
    "\n",
    "Esse é um assunto complexo e extenso e a idéia aqui é passar os fundamentos em Python. A idéia é entender a diferença entre método e função e como usar classes e objetos em Python mais do que criá-las você mesmo. \n",
    "\n",
    "<!-- TEASER_END -->\n",
    "\n",
    "Esta aula está baseadano capítulo 10 do livro [Introdução à Progamação com PYTHON](https://novatec.com.br/livros/introducao-python-3ed/) de Nilo Ney Coutinho Menezes, 3a edição, editora Novatec.\n",
    "\n",
    "Começamos o curso usando o Python como uma calculadora. Depois introduzimos variáveis, estruturas de dados e funções. Á medida que o curso avançou reutilizamos todas os conceitos anteriores. \n",
    "\n",
    "De certa maneira, qualquer programa, por maior e mais complexo ele seja, é formado de elementos básicos como os que vimos até o momento. A dificuldade na programação é enxergar a floresta sem se perder com as árvores. Qualquer linha é facilmente compreensível se a linguagem de programação for minimamente conhecida.\n"
   ]
  },
  {
   "cell_type": "markdown",
   "id": "focused-drink",
   "metadata": {},
   "source": [
    "\n",
    "## Programação orientada por objetos (POO)\n",
    "Entender o que um pedaço de código faz é bem mais complexo, assim como escrever o código. Essa dificuldade permeia toda a história da ciência da computação. Uma das \"soluções\" para este problema foi a orientação por objetos. \n",
    "\n",
    "\n",
    "Neste paradigma, *objetos* representam o problema e um programa é feito através da comunicação entre os objetos através de métodos. Em algumas linguagens como Smalltalk, esse conceito é levado literalmente.\n",
    "\n",
    "Não existe definição simples de OOP. Mas alguns conceitos são recorrentes:\n",
    "\n",
    " * Objetos\n",
    " * Classes\n",
    " * Encapsulamento\n",
    " * Herança\n",
    "\n",
    "Veremos brevemente esses conceitos aplicados a Python\n"
   ]
  },
  {
   "cell_type": "markdown",
   "id": "utility-habitat",
   "metadata": {},
   "source": [
    "## Objetos como representação do mundo real\n",
    "\n",
    "Um objeto é uma representação de algo no mundo real, uma representação idealizada e simplificada do mundo real.\n",
    "\n",
    "Imagine uma televisão. Ela tem algumas características:\n",
    "\n",
    " * Pode ser ligada ou desligada\n",
    " * Ela está sintonizada em um canal\n",
    " * Pode aumentar ou diminuir o som\n",
    " * Muitas outras coisas (numa tv moderna)\n",
    " \n",
    "Então vamos usar uma classe `Televisão` para caracterizar uma televisão:"
   ]
  },
  {
   "cell_type": "code",
   "execution_count": null,
   "id": "miniature-flexibility",
   "metadata": {},
   "outputs": [],
   "source": [
    "class Televisão:  # Definição de uma classe\n",
    "    def __init__(self):  # Método especial - construtor\n",
    "        self.ligada = False # atributo \n",
    "        self.canal = 2 # outro atributo"
   ]
  },
  {
   "cell_type": "markdown",
   "id": "convinced-continent",
   "metadata": {},
   "source": [
    "Agora podemos criar um objeto `Televisão` que pode representar uma TV:"
   ]
  },
  {
   "cell_type": "code",
   "execution_count": null,
   "id": "enhanced-slope",
   "metadata": {},
   "outputs": [],
   "source": [
    "tv = Televisão()  # Criar um objeto `Televisão`\n",
    "tv.ligada"
   ]
  },
  {
   "cell_type": "code",
   "execution_count": null,
   "id": "answering-parks",
   "metadata": {},
   "outputs": [],
   "source": [
    "tv.canal"
   ]
  },
  {
   "cell_type": "code",
   "execution_count": null,
   "id": "dangerous-bracket",
   "metadata": {},
   "outputs": [],
   "source": [
    "tv_sala = Televisão() # Outro objeto da classe televisão\n",
    "tv_sala.ligada = True  # Estou ligando a televisão\n",
    "tv_sala.canal = 4  # Mudei o canal"
   ]
  },
  {
   "cell_type": "code",
   "execution_count": null,
   "id": "christian-import",
   "metadata": {},
   "outputs": [],
   "source": [
    "tv.ligada"
   ]
  },
  {
   "cell_type": "code",
   "execution_count": null,
   "id": "spiritual-rolling",
   "metadata": {},
   "outputs": [],
   "source": [
    "tv_sala.ligada"
   ]
  },
  {
   "cell_type": "code",
   "execution_count": null,
   "id": "opening-ability",
   "metadata": {},
   "outputs": [],
   "source": [
    "tv.canal"
   ]
  },
  {
   "cell_type": "code",
   "execution_count": null,
   "id": "simplified-overhead",
   "metadata": {},
   "outputs": [],
   "source": [
    "tv_sala.canal"
   ]
  },
  {
   "cell_type": "markdown",
   "id": "animal-finder",
   "metadata": {},
   "source": [
    "O método `__init__` é um método especial usado na construção de objetos de uma classe. Ele é conhecido como construtor."
   ]
  },
  {
   "cell_type": "markdown",
   "id": "coastal-qatar",
   "metadata": {},
   "source": [
    "### Exercício 1\n",
    "Adicione atributos tamanho e marca à classe `Televisão`. Crie dois objetos `Televisão`  e atribua  tamanhos e marcas diferentes. Aí imprima  os atribuitos para ver a diferença"
   ]
  },
  {
   "cell_type": "code",
   "execution_count": null,
   "id": "opening-repair",
   "metadata": {},
   "outputs": [],
   "source": []
  },
  {
   "cell_type": "markdown",
   "id": "emerging-carpet",
   "metadata": {},
   "source": [
    "Vamos dar alguma funcionalidade à class `Televisão`:"
   ]
  },
  {
   "cell_type": "code",
   "execution_count": null,
   "id": "facial-allocation",
   "metadata": {},
   "outputs": [],
   "source": [
    "class Televisão:\n",
    "    def __init__(self):\n",
    "        self.ligada = False\n",
    "        self.canal = 2\n",
    "        \n",
    "    def muda_canal_para_baixo(self):\n",
    "        self.canal -= 1\n",
    "    def muda_canal_para_cima(self):\n",
    "        self.canal += 1\n"
   ]
  },
  {
   "cell_type": "code",
   "execution_count": null,
   "id": "rubber-lawsuit",
   "metadata": {},
   "outputs": [],
   "source": [
    "tv = Televisão()\n",
    "tv.canal"
   ]
  },
  {
   "cell_type": "code",
   "execution_count": null,
   "id": "earned-wednesday",
   "metadata": {},
   "outputs": [],
   "source": [
    "tv.muda_canal_para_cima()\n",
    "tv.muda_canal_para_cima()\n",
    "tv.canal"
   ]
  },
  {
   "cell_type": "code",
   "execution_count": null,
   "id": "complicated-representation",
   "metadata": {},
   "outputs": [],
   "source": [
    "tv.muda_canal_para_baixo()\n",
    "tv.canal"
   ]
  },
  {
   "cell_type": "code",
   "execution_count": null,
   "id": "attractive-junior",
   "metadata": {},
   "outputs": [],
   "source": []
  },
  {
   "cell_type": "markdown",
   "id": "hungarian-awareness",
   "metadata": {},
   "source": [
    "## Passagem de parâmetros\n",
    "\n",
    "Será que pode ter canal negativo? Ou o canal 8723245?"
   ]
  },
  {
   "cell_type": "code",
   "execution_count": null,
   "id": "white-covering",
   "metadata": {},
   "outputs": [],
   "source": [
    "class Televisão:\n",
    "    def __init__(self, min, max):\n",
    "        self.ligada = False\n",
    "        self.canal = 2\n",
    "        self.cmin = min\n",
    "        self.cmax = max\n",
    "        \n",
    "    def muda_canal_para_baixo(self):\n",
    "        if self.canal -1 >= self.cmin:\n",
    "            self.canal -= 1\n",
    "    \n",
    "    def muda_canal_para_cima(self):\n",
    "        if self.canal +1 <= self.cmax:\n",
    "            self.canal += 1\n",
    "\n"
   ]
  },
  {
   "cell_type": "code",
   "execution_count": null,
   "id": "accomplished-expense",
   "metadata": {},
   "outputs": [],
   "source": [
    "tv = Televisão(2,13)"
   ]
  },
  {
   "cell_type": "code",
   "execution_count": null,
   "id": "three-printer",
   "metadata": {},
   "outputs": [],
   "source": [
    "for i in range(100):\n",
    "    tv.muda_canal_para_cima()\n",
    "print(tv.canal)"
   ]
  },
  {
   "cell_type": "code",
   "execution_count": null,
   "id": "single-arbitration",
   "metadata": {},
   "outputs": [],
   "source": [
    "for i in range(100):\n",
    "    tv.muda_canal_para_baixo()\n",
    "print(tv.canal)"
   ]
  },
  {
   "cell_type": "markdown",
   "id": "executive-turning",
   "metadata": {},
   "source": [
    "### Exercício 2\n",
    "\n",
    "Atualmente a classe `Televisão` inicializa o canal com 2. Modifique a classe de forma a receber o canal inicial em seu construtor."
   ]
  },
  {
   "cell_type": "code",
   "execution_count": null,
   "id": "colored-stone",
   "metadata": {},
   "outputs": [],
   "source": []
  },
  {
   "cell_type": "markdown",
   "id": "through-effects",
   "metadata": {},
   "source": [
    "### Exercício 3\n",
    "Modifique a classe `Televisão` de modo que se pedirmos para mudar o canal para baixo, além do mínimo, ele vái para o máximo e vice e versa"
   ]
  },
  {
   "cell_type": "code",
   "execution_count": null,
   "id": "excellent-studio",
   "metadata": {},
   "outputs": [],
   "source": []
  },
  {
   "cell_type": "markdown",
   "id": "appropriate-brazilian",
   "metadata": {},
   "source": [
    "### Exercício 4\n",
    "Utilizando o que aprendemos com funções modifique o construtor de classe `Telefisão` de forma que `min` e `max` sejam parâmetros opcionais em que `min` vale 2 e `max` vale 13 caso outros valores não sejam passados"
   ]
  },
  {
   "cell_type": "code",
   "execution_count": null,
   "id": "annoying-array",
   "metadata": {},
   "outputs": [],
   "source": []
  },
  {
   "cell_type": "markdown",
   "id": "juvenile-voluntary",
   "metadata": {},
   "source": [
    "### Exercício 5\n",
    "Utilizando a classe modificada no exercício anterior (4), crie duas instâncias (objetos) especificando `min` e `max` por nome."
   ]
  },
  {
   "cell_type": "code",
   "execution_count": null,
   "id": "proved-vietnamese",
   "metadata": {},
   "outputs": [],
   "source": []
  },
  {
   "cell_type": "markdown",
   "id": "proud-cookie",
   "metadata": {},
   "source": [
    "## Exemplo de um Banco\n",
    "\n",
    "Vamos tentar modelar contas correntes de um banco"
   ]
  },
  {
   "cell_type": "code",
   "execution_count": null,
   "id": "hybrid-threshold",
   "metadata": {},
   "outputs": [],
   "source": [
    "class Cliente:\n",
    "    def __init__(self, nome, telefone):\n",
    "        self.nome = nome\n",
    "        self.telefone = telefone\n",
    "        "
   ]
  },
  {
   "cell_type": "code",
   "execution_count": null,
   "id": "russian-prompt",
   "metadata": {},
   "outputs": [],
   "source": [
    "joão = Cliente(\"João da Silva\", \"555-0178\")\n",
    "bozo = Cliente(\"Bozo Palhaço\", \"236-0873\")"
   ]
  },
  {
   "cell_type": "code",
   "execution_count": null,
   "id": "forward-lesbian",
   "metadata": {},
   "outputs": [],
   "source": [
    "joão.nome"
   ]
  },
  {
   "cell_type": "code",
   "execution_count": null,
   "id": "endless-surgery",
   "metadata": {},
   "outputs": [],
   "source": [
    "type(joão)"
   ]
  },
  {
   "cell_type": "code",
   "execution_count": null,
   "id": "mineral-venue",
   "metadata": {},
   "outputs": [],
   "source": [
    "joão.telefone"
   ]
  },
  {
   "cell_type": "code",
   "execution_count": null,
   "id": "textile-botswana",
   "metadata": {},
   "outputs": [],
   "source": [
    "bozo.nome"
   ]
  },
  {
   "cell_type": "code",
   "execution_count": null,
   "id": "acoustic-gravity",
   "metadata": {},
   "outputs": [],
   "source": [
    "bozo.telefone"
   ]
  },
  {
   "cell_type": "markdown",
   "id": "worldwide-authentication",
   "metadata": {},
   "source": [
    "Em geral vamos armazenar isso num módulo. Para isso criamos o arquivo `clientes.py` e importamos:"
   ]
  },
  {
   "cell_type": "code",
   "execution_count": null,
   "id": "theoretical-induction",
   "metadata": {},
   "outputs": [],
   "source": [
    "from clientes import Cliente"
   ]
  },
  {
   "cell_type": "code",
   "execution_count": null,
   "id": "legislative-newark",
   "metadata": {},
   "outputs": [],
   "source": [
    "joão = Cliente(\"João da Silva\", \"555-0178\")\n",
    "bozo = Cliente(\"Bozo Palhaço\", \"236-0873\")"
   ]
  },
  {
   "cell_type": "code",
   "execution_count": null,
   "id": "prostate-fields",
   "metadata": {},
   "outputs": [],
   "source": [
    "type(joão)"
   ]
  },
  {
   "cell_type": "markdown",
   "id": "pretty-package",
   "metadata": {},
   "source": [
    "Agora precisamos de um outro módulo para armazenar a class `Conta` que representa uma conta corrente."
   ]
  },
  {
   "cell_type": "code",
   "execution_count": null,
   "id": "southern-defendant",
   "metadata": {},
   "outputs": [],
   "source": [
    "# Código para recarregar automaticamente os módulos que \n",
    "\n",
    "%load_ext autoreload\n",
    "%autoreload 2\n"
   ]
  },
  {
   "cell_type": "code",
   "execution_count": null,
   "id": "reflected-illinois",
   "metadata": {},
   "outputs": [],
   "source": [
    "from contas import Conta"
   ]
  },
  {
   "cell_type": "code",
   "execution_count": null,
   "id": "express-vatican",
   "metadata": {},
   "outputs": [],
   "source": [
    "conta = Conta(joão, \"234.567-01\", 1000)"
   ]
  },
  {
   "cell_type": "code",
   "execution_count": null,
   "id": "supposed-timber",
   "metadata": {},
   "outputs": [],
   "source": [
    "conta.resumo()"
   ]
  },
  {
   "cell_type": "code",
   "execution_count": null,
   "id": "fixed-military",
   "metadata": {},
   "outputs": [],
   "source": [
    "conta.saque(100)\n",
    "conta.resumo()"
   ]
  },
  {
   "cell_type": "code",
   "execution_count": null,
   "id": "likely-acceptance",
   "metadata": {},
   "outputs": [],
   "source": [
    "conta.saque(358)\n",
    "conta.resumo()"
   ]
  },
  {
   "cell_type": "code",
   "execution_count": null,
   "id": "instructional-numbers",
   "metadata": {},
   "outputs": [],
   "source": [
    "conta.deposito(674)\n",
    "conta.resumo()"
   ]
  },
  {
   "cell_type": "code",
   "execution_count": null,
   "id": "russian-samoa",
   "metadata": {},
   "outputs": [],
   "source": [
    "conta.saque(2000)\n",
    "conta.resumo()"
   ]
  },
  {
   "cell_type": "code",
   "execution_count": null,
   "id": "dense-harmony",
   "metadata": {},
   "outputs": [],
   "source": [
    "conta.saque(900)\n",
    "conta.resumo()"
   ]
  },
  {
   "cell_type": "code",
   "execution_count": null,
   "id": "absolute-buyer",
   "metadata": {},
   "outputs": [],
   "source": [
    "conta.extrato()"
   ]
  },
  {
   "cell_type": "markdown",
   "id": "signed-sense",
   "metadata": {},
   "source": [
    "### Exercício 6\n",
    "Altere o programa de forma que a mensagem saldo insuficiente seja exibida caso haja tentativa de sacar mais dinheiro que o saldo disponível"
   ]
  },
  {
   "cell_type": "code",
   "execution_count": null,
   "id": "competent-candidate",
   "metadata": {},
   "outputs": [],
   "source": []
  },
  {
   "cell_type": "markdown",
   "id": "vanilla-regard",
   "metadata": {},
   "source": [
    "### Exercício 7\n",
    "Modifique o método `resumo` da class `Conta` para exibir o nome e o telefone de cada cliente"
   ]
  },
  {
   "cell_type": "code",
   "execution_count": null,
   "id": "precious-mills",
   "metadata": {},
   "outputs": [],
   "source": [
    "from clientes import Cliente\n",
    "from bancos import Banco\n",
    "from contas import Conta\n"
   ]
  },
  {
   "cell_type": "code",
   "execution_count": null,
   "id": "absolute-enterprise",
   "metadata": {},
   "outputs": [],
   "source": [
    "bozo = Cliente(\"Bozo Palhaço\", \"236-0873\")\n",
    "vovó = Cliente(\"Vovó Mafalda\", \"236-0873\")\n",
    "josé = Cliente(\"José Vargas\", \"3866-1234\")\n"
   ]
  },
  {
   "cell_type": "code",
   "execution_count": null,
   "id": "amino-casino",
   "metadata": {},
   "outputs": [],
   "source": [
    "contaBV = Conta([bozo, vovó], 1, 100)\n",
    "contaJ = Conta([josé], 2, 50)"
   ]
  },
  {
   "cell_type": "code",
   "execution_count": null,
   "id": "frozen-outside",
   "metadata": {},
   "outputs": [],
   "source": [
    "tatu = Banco(\"Tatú\")\n",
    "tatu.abre_conta(contaBV)\n",
    "tatu.abre_conta(contaJ)"
   ]
  },
  {
   "cell_type": "code",
   "execution_count": null,
   "id": "extreme-defeat",
   "metadata": {},
   "outputs": [],
   "source": [
    "tatu.lista_contas()"
   ]
  },
  {
   "cell_type": "code",
   "execution_count": null,
   "id": "hungry-rescue",
   "metadata": {},
   "outputs": [],
   "source": []
  },
  {
   "cell_type": "markdown",
   "id": "christian-today",
   "metadata": {},
   "source": [
    "## Herança\n",
    "\n",
    "Herança é um recurso da programação orientada por objetos que permite reutilizar código, modificando sua característica"
   ]
  },
  {
   "cell_type": "code",
   "execution_count": null,
   "id": "searching-liabilities",
   "metadata": {},
   "outputs": [],
   "source": [
    "from contas import ContaEspecial"
   ]
  },
  {
   "cell_type": "code",
   "execution_count": null,
   "id": "saved-client",
   "metadata": {},
   "outputs": [],
   "source": [
    "bozo = Cliente(\"Bozo Palhaço\", \"236-0873\")\n",
    "vovó = Cliente(\"Vovó Mafalda\", \"236-0873\")"
   ]
  },
  {
   "cell_type": "code",
   "execution_count": null,
   "id": "silver-result",
   "metadata": {},
   "outputs": [],
   "source": [
    "conta1 = Conta([\"bozo\"], 1, 1000)\n",
    "conta2 = ContaEspecial([vovó, bozo], 2, 500, 1000)"
   ]
  },
  {
   "cell_type": "code",
   "execution_count": null,
   "id": "electrical-pregnancy",
   "metadata": {},
   "outputs": [],
   "source": [
    "conta1.saque(50)\n",
    "conta1.resumo()"
   ]
  },
  {
   "cell_type": "code",
   "execution_count": null,
   "id": "premium-berry",
   "metadata": {},
   "outputs": [],
   "source": [
    "conta2.deposito(300)\n",
    "conta2.resumo()"
   ]
  },
  {
   "cell_type": "code",
   "execution_count": null,
   "id": "contained-truck",
   "metadata": {},
   "outputs": [],
   "source": [
    "conta1.saque(190)\n",
    "conta1.resumo()\n"
   ]
  },
  {
   "cell_type": "code",
   "execution_count": null,
   "id": "diagnostic-lease",
   "metadata": {},
   "outputs": [],
   "source": [
    "conta2.deposito(95.15)\n",
    "conta2.resumo()\n"
   ]
  },
  {
   "cell_type": "code",
   "execution_count": null,
   "id": "loose-mining",
   "metadata": {},
   "outputs": [],
   "source": [
    "conta2.saque(1500)\n",
    "conta2.resumo()"
   ]
  },
  {
   "cell_type": "code",
   "execution_count": null,
   "id": "interim-terminal",
   "metadata": {},
   "outputs": [],
   "source": [
    "conta1.extrato()"
   ]
  },
  {
   "cell_type": "code",
   "execution_count": null,
   "id": "consolidated-providence",
   "metadata": {},
   "outputs": [],
   "source": [
    "conta2.extrato()"
   ]
  },
  {
   "cell_type": "markdown",
   "id": "comparable-pilot",
   "metadata": {},
   "source": [
    "### Exercício 8\n",
    "Modofique as classes `Conta` e `ContaEspecial` para que a operação de saque retorne verdadeiro se o saque foi realizado e false caso contrário"
   ]
  },
  {
   "cell_type": "code",
   "execution_count": null,
   "id": "coral-access",
   "metadata": {},
   "outputs": [],
   "source": []
  },
  {
   "cell_type": "markdown",
   "id": "outdoor-initial",
   "metadata": {},
   "source": [
    "### Exercício 9\n",
    "Modifique a class `ContaEspecial` de forma que seu extrato exiba o limite e o total disponível para saque."
   ]
  },
  {
   "cell_type": "code",
   "execution_count": null,
   "id": "separate-chicken",
   "metadata": {},
   "outputs": [],
   "source": []
  },
  {
   "cell_type": "markdown",
   "id": "judicial-fashion",
   "metadata": {},
   "source": [
    "## Desenvolvendo uma classe para controlar listas"
   ]
  },
  {
   "cell_type": "code",
   "execution_count": null,
   "id": "amateur-theorem",
   "metadata": {},
   "outputs": [],
   "source": [
    "class ListaUnica:\n",
    "    def __init__(self, elem_class):\n",
    "        self.lista = []\n",
    "        self.elem_class = elem_class\n",
    "    def __len__(self):\n",
    "        return len(self.lista)\n",
    "    def __iter__(self):\n",
    "        return iter(self.lista)\n",
    "    def __getitem__(self, p):\n",
    "        return self.lista[p]\n",
    "    def indiceValido(self, i):\n",
    "        return i >= 0 and i < len(self.lista)\n",
    "    def adiciona(self, elem):\n",
    "        if self.pesquisa(elem) == -1:\n",
    "            self.lista.append(elem)\n",
    "    def remove(self, elem):\n",
    "        self.lista.remove(elem)\n",
    "    def pesquisa(self, elem):\n",
    "        self.verifica_tipo(elem)\n",
    "        try:\n",
    "            return self.lista.index(elem)\n",
    "        except ValueError:\n",
    "            return -1\n",
    "    def verifica_tipo(self, elem):\n",
    "        if not isinstance(elem, self.elem_class):\n",
    "            raise TypeError(\"Tipo inválido\")\n",
    "    def ordena(self, chave=None):\n",
    "        self.lista.sort(key=chave)\n",
    "                         \n",
    "    \n",
    "    "
   ]
  },
  {
   "cell_type": "code",
   "execution_count": null,
   "id": "potential-nicaragua",
   "metadata": {},
   "outputs": [],
   "source": [
    "lu = ListaUnica(int)"
   ]
  },
  {
   "cell_type": "code",
   "execution_count": null,
   "id": "floating-arrest",
   "metadata": {},
   "outputs": [],
   "source": [
    "lu.adiciona(5)"
   ]
  },
  {
   "cell_type": "code",
   "execution_count": null,
   "id": "legitimate-spoke",
   "metadata": {},
   "outputs": [],
   "source": [
    "lu.adiciona(3)"
   ]
  },
  {
   "cell_type": "code",
   "execution_count": null,
   "id": "attached-transition",
   "metadata": {},
   "outputs": [],
   "source": [
    "lu.adiciona(2.5)"
   ]
  },
  {
   "cell_type": "code",
   "execution_count": null,
   "id": "printable-praise",
   "metadata": {},
   "outputs": [],
   "source": [
    "len(lu)"
   ]
  },
  {
   "cell_type": "code",
   "execution_count": null,
   "id": "scenic-gilbert",
   "metadata": {},
   "outputs": [],
   "source": [
    "for e in lu:\n",
    "    print(e)"
   ]
  },
  {
   "cell_type": "code",
   "execution_count": null,
   "id": "silver-excerpt",
   "metadata": {},
   "outputs": [],
   "source": [
    "lu.adiciona(5)"
   ]
  },
  {
   "cell_type": "code",
   "execution_count": null,
   "id": "engaging-corpus",
   "metadata": {},
   "outputs": [],
   "source": [
    "len(lu)"
   ]
  },
  {
   "cell_type": "code",
   "execution_count": null,
   "id": "extraordinary-mouth",
   "metadata": {},
   "outputs": [],
   "source": [
    "lu[0]"
   ]
  },
  {
   "cell_type": "code",
   "execution_count": null,
   "id": "intellectual-spanking",
   "metadata": {},
   "outputs": [],
   "source": [
    "lu[1]"
   ]
  },
  {
   "cell_type": "code",
   "execution_count": null,
   "id": "painful-memory",
   "metadata": {},
   "outputs": [],
   "source": [
    "id(lu)"
   ]
  },
  {
   "cell_type": "markdown",
   "id": "japanese-possible",
   "metadata": {},
   "source": [
    "Outro exemplo com métodos \"mágicos\""
   ]
  },
  {
   "cell_type": "code",
   "execution_count": null,
   "id": "medieval-divide",
   "metadata": {},
   "outputs": [],
   "source": [
    "class Nome:\n",
    "    def __init__(self, nome):\n",
    "        if nome is None or not nome.strip():\n",
    "            raise ValueError(\"Nome não pode ser nulo nem um branco\")\n",
    "        self.nome = nome\n",
    "        self.chave = nome.strip().lower()\n",
    "    def __str__(self):\n",
    "        return self.nome\n",
    "    def __repr__(self):\n",
    "        return f\"<Classe {type(self).__name__} em 0x{id(self):x} Nome: {self.nome} Chave: {self.chave}>\"\n",
    "    def __eq__(self, outro):\n",
    "        print(\"__eq__ Chamado\")\n",
    "        return self.nome == outro.nome\n",
    "    def __lt__(self, outro):\n",
    "        print(\"__lt__ Chamado\")\n",
    "        return self.nome < outro.nome\n",
    "    "
   ]
  },
  {
   "cell_type": "code",
   "execution_count": null,
   "id": "portable-lobby",
   "metadata": {},
   "outputs": [],
   "source": [
    "A = Nome(\"Nilo\")"
   ]
  },
  {
   "cell_type": "code",
   "execution_count": null,
   "id": "residential-archive",
   "metadata": {},
   "outputs": [],
   "source": [
    "print(A)"
   ]
  },
  {
   "cell_type": "code",
   "execution_count": null,
   "id": "based-flavor",
   "metadata": {},
   "outputs": [],
   "source": [
    "B = Nome(\"  \")"
   ]
  },
  {
   "cell_type": "code",
   "execution_count": null,
   "id": "retired-yesterday",
   "metadata": {},
   "outputs": [],
   "source": [
    "C = Nome(None)"
   ]
  },
  {
   "cell_type": "code",
   "execution_count": null,
   "id": "graduate-wilderness",
   "metadata": {},
   "outputs": [],
   "source": [
    "A == Nome(\"Nilo\")"
   ]
  },
  {
   "cell_type": "code",
   "execution_count": null,
   "id": "corrected-original",
   "metadata": {},
   "outputs": [],
   "source": [
    "A != Nome(\"Nilo\")"
   ]
  },
  {
   "cell_type": "code",
   "execution_count": null,
   "id": "respected-eclipse",
   "metadata": {},
   "outputs": [],
   "source": [
    "A < Nome(\"Nilo\")"
   ]
  },
  {
   "cell_type": "code",
   "execution_count": null,
   "id": "incredible-terrorist",
   "metadata": {},
   "outputs": [],
   "source": [
    "A > Nome(\"Nilo\")"
   ]
  },
  {
   "cell_type": "code",
   "execution_count": null,
   "id": "rubber-elder",
   "metadata": {},
   "outputs": [],
   "source": [
    "A >= Nome(\"Nilo\")"
   ]
  },
  {
   "cell_type": "markdown",
   "id": "informed-inventory",
   "metadata": {},
   "source": [
    "## Criando exceções\n",
    "\n",
    "Podemos criar novos tipos de exceção para diferenciar os erros gerados nos nossos programas.\n",
    "\n",
    "\n",
    "Para isso, é é necessário extender a class **`Exception`**"
   ]
  },
  {
   "cell_type": "code",
   "execution_count": null,
   "id": "aboriginal-earth",
   "metadata": {},
   "outputs": [],
   "source": [
    "class NovaException(Exception):\n",
    "    pass\n"
   ]
  },
  {
   "cell_type": "code",
   "execution_count": null,
   "id": "narrow-harmony",
   "metadata": {},
   "outputs": [],
   "source": [
    "def lançar_erro():\n",
    "    raise NovaException\n",
    "    "
   ]
  },
  {
   "cell_type": "code",
   "execution_count": null,
   "id": "announced-leave",
   "metadata": {},
   "outputs": [],
   "source": [
    "try:\n",
    "    lançar_erro()\n",
    "except NovaException as n:\n",
    "    print(\"Uma excecão de tipo NovaExceção foi lançada\")"
   ]
  },
  {
   "cell_type": "markdown",
   "id": "assumed-sector",
   "metadata": {},
   "source": [
    "As exceções podem ter informações ou atributos"
   ]
  },
  {
   "cell_type": "code",
   "execution_count": null,
   "id": "saving-transport",
   "metadata": {},
   "outputs": [],
   "source": [
    "class EstoqueException(Exception):\n",
    "    def __init__(self, mensagem, codigo_de_erro):\n",
    "        super().__init__(mensagem)\n",
    "        self.codigo_de_erro = codigo_de_erro"
   ]
  },
  {
   "cell_type": "code",
   "execution_count": null,
   "id": "needed-young",
   "metadata": {},
   "outputs": [],
   "source": [
    "def verifique_quantidade(quantidade):\n",
    "    if quantidade < 0:\n",
    "        raise EstoqueException(\"Quantidade negativa\", codigo_de_erro=1)"
   ]
  },
  {
   "cell_type": "code",
   "execution_count": null,
   "id": "medieval-cooper",
   "metadata": {},
   "outputs": [],
   "source": [
    "try:\n",
    "    verifique_quantidade(-10)\n",
    "except EstoqueException as ee:\n",
    "    print(f\"Erro: {ee.codigo_de_erro} {ee}\")\n",
    "    "
   ]
  },
  {
   "cell_type": "code",
   "execution_count": null,
   "id": "challenging-track",
   "metadata": {},
   "outputs": [],
   "source": []
  },
  {
   "cell_type": "code",
   "execution_count": null,
   "id": "imperial-quarterly",
   "metadata": {},
   "outputs": [],
   "source": []
  }
 ],
 "metadata": {
  "kernelspec": {
   "display_name": "Python 3 (ipykernel)",
   "language": "python",
   "name": "python3"
  },
  "language_info": {
   "codemirror_mode": {
    "name": "ipython",
    "version": 3
   },
   "file_extension": ".py",
   "mimetype": "text/x-python",
   "name": "python",
   "nbconvert_exporter": "python",
   "pygments_lexer": "ipython3",
   "version": "3.9.7"
  }
 },
 "nbformat": 4,
 "nbformat_minor": 5
}
