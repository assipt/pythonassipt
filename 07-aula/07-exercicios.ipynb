{
 "cells": [
  {
   "cell_type": "markdown",
   "id": "bd0a1999",
   "metadata": {},
   "source": [
    "# Aula 07: Exercícios"
   ]
  },
  {
   "cell_type": "markdown",
   "id": "48482812",
   "metadata": {},
   "source": [
    "### Exercício 1\n",
    "Adicione atributos tamanho e marca à classe `Televisão`. Crie dois objetos `Televisão`  e atribua  tamanhos e marcas diferentes. Aí imprima  os atribuitos para ver a diferença.\n",
    "\n",
    "<!-- TEASER_END -->"
   ]
  },
  {
   "cell_type": "code",
   "execution_count": null,
   "id": "1fe76cb4",
   "metadata": {},
   "outputs": [],
   "source": [
    "class Televisão: # Definição de uma classe\n",
    "    def __init__(self):  # Método especial - construtor\n",
    "        self.ligada = False # atributo \n",
    "        self.canal = 2 # outro atributo\n",
    "        self.marca = \"Phillips\"\n",
    "        self.tamanho = 32"
   ]
  },
  {
   "cell_type": "code",
   "execution_count": null,
   "id": "b68b6fab",
   "metadata": {},
   "outputs": [],
   "source": [
    "tv1 = Televisão()\n",
    "tv2 = Televisão()"
   ]
  },
  {
   "cell_type": "code",
   "execution_count": null,
   "id": "25ad780c",
   "metadata": {},
   "outputs": [],
   "source": [
    "tv1.marca = \"Sony\"\n",
    "tv1.tamanho = 56\n"
   ]
  },
  {
   "cell_type": "code",
   "execution_count": null,
   "id": "c0d35402",
   "metadata": {},
   "outputs": [],
   "source": [
    "def descrever_tv(tv):\n",
    "    \"\"\"\n",
    "    Esta função retorna uma string que descreve as características da tv\n",
    "    \"\"\"\n",
    "    \n",
    "    return f\"Televisão {tv.marca} com {tv.tamanho} polegadas\""
   ]
  },
  {
   "cell_type": "code",
   "execution_count": null,
   "id": "e836363b",
   "metadata": {},
   "outputs": [],
   "source": [
    "print(descrever_tv(tv1))"
   ]
  },
  {
   "cell_type": "code",
   "execution_count": null,
   "id": "0a79c857",
   "metadata": {},
   "outputs": [],
   "source": [
    "print(descrever_tv(tv2))"
   ]
  },
  {
   "cell_type": "markdown",
   "id": "80153b20",
   "metadata": {},
   "source": [
    "### Exercício 2\n",
    "\n",
    "Atualmente a classe `Televisão` inicializa o canal com 2. Modifique a classe de forma a receber o canal inicial em seu construtor."
   ]
  },
  {
   "cell_type": "code",
   "execution_count": null,
   "id": "c2aae312",
   "metadata": {},
   "outputs": [],
   "source": [
    "class Televisão:\n",
    "    def __init__(self, canal=2, min=2, max=13):\n",
    "        self.ligada = False\n",
    "        self.canal = canal\n",
    "        self.cmin = min\n",
    "        self.cmax = max\n",
    "        \n",
    "    def muda_canal_para_baixo(self):\n",
    "        if self.canal -1 >= self.cmin:\n",
    "            self.canal -= 1\n",
    "    \n",
    "    def muda_canal_para_cima(self):\n",
    "        if self.canal +1 <= self.cmax:\n",
    "            self.canal += 1\n",
    "\n"
   ]
  },
  {
   "cell_type": "code",
   "execution_count": null,
   "id": "3da25c97",
   "metadata": {},
   "outputs": [],
   "source": [
    "tv = Televisão(7)\n",
    "tv.canal"
   ]
  },
  {
   "cell_type": "markdown",
   "id": "0f2bba60",
   "metadata": {},
   "source": [
    "### Exercício 3\n",
    "Modifique a classe `Televisão` de modo que se pedirmos para mudar o canal para baixo, além do mínimo, ele vái para o máximo e vice e versa"
   ]
  },
  {
   "cell_type": "code",
   "execution_count": null,
   "id": "a904daaa",
   "metadata": {},
   "outputs": [],
   "source": [
    "class Televisão:\n",
    "    def __init__(self, canal=2, min=2, max=13):\n",
    "        self.ligada = False\n",
    "        self.canal = canal\n",
    "        self.cmin = min\n",
    "        self.cmax = max\n",
    "        \n",
    "    def muda_canal_para_baixo(self):\n",
    "        if self.canal - 1 >= self.cmin:\n",
    "            self.canal -= 1\n",
    "        else:\n",
    "            self.canal = self.cmax\n",
    "    \n",
    "    def muda_canal_para_cima(self):\n",
    "        if self.canal +1 <= self.cmax:\n",
    "            self.canal += 1\n",
    "        else:\n",
    "            self.canal = self.cmin\n",
    "                \n",
    "\n"
   ]
  },
  {
   "cell_type": "code",
   "execution_count": null,
   "id": "ba4840ef",
   "metadata": {},
   "outputs": [],
   "source": [
    "tv = Televisão(11)\n",
    "print(f\"Canal: {tv.canal}\")\n",
    "tv.muda_canal_para_cima()\n",
    "print(f\"Canal: {tv.canal}\")\n",
    "tv.muda_canal_para_cima()\n",
    "print(f\"Canal: {tv.canal}\")\n",
    "tv.muda_canal_para_cima()\n",
    "print(f\"Canal: {tv.canal}\")\n",
    "tv.muda_canal_para_cima()\n",
    "print(f\"Canal: {tv.canal}\")\n",
    "\n",
    "tv.muda_canal_para_baixo()\n",
    "print(f\"Canal: {tv.canal}\")\n",
    "tv.muda_canal_para_baixo()\n",
    "print(f\"Canal: {tv.canal}\")\n",
    "tv.muda_canal_para_baixo()\n",
    "print(f\"Canal: {tv.canal}\")\n"
   ]
  },
  {
   "cell_type": "markdown",
   "id": "ef6ef917",
   "metadata": {},
   "source": [
    "### Exercício 4\n",
    "Utilizando o que aprendemos com funções modifique o construtor de classe `Telefisão` de forma que `min` e `max` sejam parâmetros opcionais em que `min` vale 2 e `max` vale 13 caso outros valores não sejam passados\n",
    "\n",
    "Já fiz isso nos exercícios acima!"
   ]
  },
  {
   "cell_type": "markdown",
   "id": "4b20b2c4",
   "metadata": {},
   "source": [
    "### Exercício 5\n",
    "Utilizando a classe modificada no exercício anterior (4), crie duas instâncias (objetos) especificando `min` e `max` por nome."
   ]
  },
  {
   "cell_type": "code",
   "execution_count": null,
   "id": "200b0684",
   "metadata": {},
   "outputs": [],
   "source": [
    "tv1 = Televisão(min=2, max=69)\n",
    "print(f\"Min: {tv1.cmin}, Max: {tv1.cmax}\")"
   ]
  },
  {
   "cell_type": "code",
   "execution_count": null,
   "id": "f051d1ad",
   "metadata": {},
   "outputs": [],
   "source": [
    "tv2 = Televisão(min=14, max=50)\n",
    "print(f\"Min: {tv2.cmin}, Max: {tv2.cmax}\")"
   ]
  },
  {
   "cell_type": "code",
   "execution_count": null,
   "id": "bdd216a3",
   "metadata": {},
   "outputs": [],
   "source": []
  },
  {
   "cell_type": "markdown",
   "id": "88e2a596",
   "metadata": {},
   "source": [
    "### Exercício 6\n",
    "\n",
    "Altere o programa de forma que a mensagem saldo insuficiente seja exibida caso haja tentativa de sacar mais dinheiro que o saldo disponível"
   ]
  },
  {
   "cell_type": "code",
   "execution_count": null,
   "id": "beec2223",
   "metadata": {},
   "outputs": [],
   "source": [
    "class Cliente:\n",
    "    def __init__(self, nome, telefone):\n",
    "        self.nome = nome\n",
    "        self.telefone = telefone\n",
    "\n",
    "class Conta:\n",
    "    def __init__(self, clientes, número, saldo=0):\n",
    "        self.saldo = saldo\n",
    "        self.clientes = clientes\n",
    "        self.número = número\n",
    "    def resumo(self):\n",
    "        print(f\"CC Número: {self.número}. Saldo: {self.saldo:10.2f}\")\n",
    "    def saque(self, valor):\n",
    "        if self.saldo >= valor:\n",
    "            self.saldo -= valor\n",
    "        else:\n",
    "            print(f\"Conta com saldo {self.saldo:10.2f}. Insuficiente para sque de {valor:10.2f}\")\n",
    "    def deposito(self, valor):\n",
    "        self.saldo += valor\n"
   ]
  },
  {
   "cell_type": "code",
   "execution_count": null,
   "id": "8c040886",
   "metadata": {},
   "outputs": [],
   "source": [
    "joão = Cliente(\"João de Barros\", \"555-2604\")\n",
    "conta = Conta([joão], \"01.00011\", saldo=100)\n",
    "\n",
    "conta.saque(40)\n",
    "conta.resumo()\n",
    "conta.saque(70)\n",
    "conta.resumo()"
   ]
  },
  {
   "cell_type": "markdown",
   "id": "2dbfb493",
   "metadata": {},
   "source": [
    "### Exercício 7\n",
    "Modifique o método `resumo` da class `Conta` para exibir o nome e o telefone de cada cliente"
   ]
  },
  {
   "cell_type": "code",
   "execution_count": null,
   "id": "9528fa8a",
   "metadata": {},
   "outputs": [],
   "source": [
    "\n",
    "class Conta:\n",
    "    def __init__(self, clientes, número, saldo=0):\n",
    "        self.saldo = saldo\n",
    "        self.clientes = clientes\n",
    "        self.número = número\n",
    "    def resumo(self):\n",
    "        print(f\"CC Número: {self.número}. Saldo: {self.saldo:10.2f}\")\n",
    "        for cliente in self.clientes:\n",
    "            print(f\"   Cliente: {cliente.nome}, tel. {cliente.telefone}\")\n",
    "    def saque(self, valor):\n",
    "        if self.saldo >= valor:\n",
    "            self.saldo -= valor\n",
    "        else:\n",
    "            print(f\"Conta com saldo {self.saldo:10.2f}. Insuficiente para sque de {valor:10.2f}\")\n",
    "    def deposito(self, valor):\n",
    "        self.saldo += valor\n"
   ]
  },
  {
   "cell_type": "code",
   "execution_count": null,
   "id": "9952606f",
   "metadata": {},
   "outputs": [],
   "source": [
    "joão = Cliente(\"João de Barros\", \"555-2604\")\n",
    "maria = Cliente(\"Maria de Barros\", \"555-2604\")\n",
    "\n",
    "conta = Conta([joão,maria], \"01.00011\", saldo=100)\n",
    "\n",
    "conta.saque(40)\n",
    "conta.resumo()\n",
    "conta.saque(70)\n",
    "conta.resumo()"
   ]
  },
  {
   "cell_type": "code",
   "execution_count": null,
   "id": "936b32b6",
   "metadata": {},
   "outputs": [],
   "source": []
  },
  {
   "cell_type": "markdown",
   "id": "1eea4adf",
   "metadata": {},
   "source": [
    "### Exercício 8\n",
    "Modofique as classes `Conta` e `ContaEspecial` para que a operação de saque retorne verdadeiro se o saque foi realizado e false caso contrário"
   ]
  },
  {
   "cell_type": "code",
   "execution_count": null,
   "id": "7949f2e0",
   "metadata": {},
   "outputs": [],
   "source": [
    "class Conta:\n",
    "    def __init__(self, clientes, número, saldo=0):\n",
    "        self.saldo = 0\n",
    "        self.clientes = clientes\n",
    "        self.número = número\n",
    "        self.operações = []\n",
    "        self.deposito(saldo)\n",
    "    def resumo(self):\n",
    "        print(f\"CC Número: {self.número}. Saldo: {self.saldo:10.2f}\")\n",
    "    def saque(self, valor):\n",
    "        if self.saldo >= valor:\n",
    "            self.saldo -= valor\n",
    "            self.operações.append([\"SAQUE\", valor])\n",
    "            return True\n",
    "        else:\n",
    "            return False\n",
    "    def deposito(self, valor):\n",
    "        self.saldo += valor\n",
    "        self.operações.append([\"DEPÓSITO\", valor])\n",
    "    def extrato(self):\n",
    "        print(f\"Extrato CC No {self.número}\\n\")\n",
    "        for o in self.operações:\n",
    "            print(f\"{o[0]:10s} {o[1]:10.2f}\")\n",
    "        print(f\"\\n    Saldo: {self.saldo:10.2f}\\n\")\n",
    "\n",
    "class ContaEspecial(Conta):\n",
    "    def __init__(self, clientes, número, saldo=0, limite=0):\n",
    "        Conta.__init__(self, clientes, número, saldo)\n",
    "        self.limite = limite\n",
    "\n",
    "    def saque(self, valor):\n",
    "        if self.saldo + self.limite >= valor:\n",
    "            self.saldo -= valor\n",
    "            self.operações.append([\"SAQUE\", valor])\n",
    "            return True\n",
    "        else:\n",
    "            return False\n",
    "\n",
    "            "
   ]
  },
  {
   "cell_type": "code",
   "execution_count": null,
   "id": "a21422eb",
   "metadata": {},
   "outputs": [],
   "source": [
    "bozo = Cliente(\"Bozo Palhaço\", \"236-0873\")\n",
    "vovó = Cliente(\"Vovó Mafalda\", \"236-0873\")"
   ]
  },
  {
   "cell_type": "code",
   "execution_count": null,
   "id": "1bb55751",
   "metadata": {},
   "outputs": [],
   "source": []
  },
  {
   "cell_type": "code",
   "execution_count": null,
   "id": "5a56f4bf",
   "metadata": {},
   "outputs": [],
   "source": [
    "conta1 = Conta([\"bozo\"], 1, 1000)\n",
    "conta2 = ContaEspecial([vovó, bozo], 2, 500, 1000)"
   ]
  },
  {
   "cell_type": "code",
   "execution_count": null,
   "id": "ea91495f",
   "metadata": {},
   "outputs": [],
   "source": [
    "conta1.saque(23)"
   ]
  },
  {
   "cell_type": "code",
   "execution_count": null,
   "id": "9cd81de0",
   "metadata": {},
   "outputs": [],
   "source": [
    "conta1.saque(100000)"
   ]
  },
  {
   "cell_type": "code",
   "execution_count": null,
   "id": "8a826898",
   "metadata": {},
   "outputs": [],
   "source": [
    "conta2.saque(23)"
   ]
  },
  {
   "cell_type": "code",
   "execution_count": null,
   "id": "ee6e7c6f",
   "metadata": {},
   "outputs": [],
   "source": [
    "conta2.saque(23000)"
   ]
  },
  {
   "cell_type": "code",
   "execution_count": null,
   "id": "33613e17",
   "metadata": {},
   "outputs": [],
   "source": [
    "super(ContaEspecial)"
   ]
  },
  {
   "cell_type": "markdown",
   "id": "444aee83",
   "metadata": {},
   "source": [
    "\n",
    "### Exercício 9\n",
    "Modifique a classe `ContaEspecial` de forma que seu extrato exiba o limite e o total disponível para saque."
   ]
  },
  {
   "cell_type": "code",
   "execution_count": null,
   "id": "9909a405",
   "metadata": {},
   "outputs": [],
   "source": [
    "class ContaEspecial(Conta):\n",
    "    def __init__(self, clientes, número, saldo=0, limite=0):\n",
    "        Conta.__init__(self, clientes, número, saldo)\n",
    "        self.limite = limite\n",
    "\n",
    "    def saque(self, valor):\n",
    "        if self.saldo + self.limite >= valor:\n",
    "            self.saldo -= valor\n",
    "            self.operações.append([\"SAQUE\", valor])\n",
    "            return True\n",
    "        else:\n",
    "            return False\n",
    "    def extrato(self):\n",
    "        # Vamos aproveitar O que já foi implementado\n",
    "        # na classe rConta\n",
    "        Conta.extrato(self)\n",
    "        # Vamos colocar a informação adicional:\n",
    "        print(f\"Limite: {self.limite:10.2f}\")\n",
    "        print(f\"Total disponível: {self.limite+self.saldo:10.2f}\")\n"
   ]
  },
  {
   "cell_type": "code",
   "execution_count": null,
   "id": "29600b3b",
   "metadata": {},
   "outputs": [],
   "source": [
    "conta2 = ContaEspecial([vovó, bozo], 2, 500, 1000)"
   ]
  },
  {
   "cell_type": "code",
   "execution_count": null,
   "id": "008553c1",
   "metadata": {},
   "outputs": [],
   "source": [
    "conta2.extrato()"
   ]
  },
  {
   "cell_type": "code",
   "execution_count": null,
   "id": "a805c8d6",
   "metadata": {},
   "outputs": [],
   "source": []
  }
 ],
 "metadata": {
  "@webio": {
   "lastCommId": null,
   "lastKernelId": null
  },
  "kernelspec": {
   "display_name": "Python 3 (ipykernel)",
   "language": "python",
   "name": "python3"
  },
  "language_info": {
   "codemirror_mode": {
    "name": "ipython",
    "version": 3
   },
   "file_extension": ".py",
   "mimetype": "text/x-python",
   "name": "python",
   "nbconvert_exporter": "python",
   "pygments_lexer": "ipython3",
   "version": "3.10.2"
  }
 },
 "nbformat": 4,
 "nbformat_minor": 5
}
