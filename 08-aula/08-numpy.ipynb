{
 "cells": [
  {
   "cell_type": "markdown",
   "id": "36acf19f",
   "metadata": {},
   "source": [
    "# Aula 08: Numpy/Scipy/Pandas/Matplotlib\n",
    "\n",
    "Python se tornou uma linguagem de programação amplamente usada em meios científicos. Em algumas áreas se tornou a lingua franca. Porque e como isso ocorreu.\n",
    "\n",
    "Tradicionalmente, a linguagem usada em computação científica é o FORTRAN, mais especificamente o FORTRAN 77. Também é usado o C/C++ e até hoje essa é a base de quase todas as ferramentas que se utiliza em computação científica. Essas são linguagens compiladas sem interatividade (não estritamente verdade) e o fluxo de trabalho era (ou é...) o seguinte:\n",
    "\n",
    " 1. Escreva um programa\n",
    " 2. Compile o programa\n",
    " 3. Escreva um arquivo com os dados de entrada\n",
    " 4. Execute o programa com os dados de saída\n",
    " 5. O programa escreve seus resultados em um arquivo de saída\n",
    " 6. Use um outro programa para fazer gráficos e analisar os dados\n",
    " 7. Volte para 1 até dar certo\n",
    "\n",
    "Estamos na última aula do curso de python e nunca fizemos nada parecido. Com python e seus ambientes interativos (tanto o terminal quanto o jupyter) fazem esta tarefa ser muito mais fácil, rápido e integrado.\n",
    "\n",
    "Mas aí temos alguns problemas:\n",
    "\n",
    " * Python, sozinho, não tem nenhuma das ferramentas necessárias:\n",
    "   - Matrizes\n",
    "   - Álgebra linear\n",
    "   - Equações diferenciais\n",
    "   - Plotar gráficos\n",
    "   - etc, etc, etc\n",
    " * Python é lento\n",
    "\n",
    "Este era o estado das coisas em 2000 (ou um pouco antes).\n",
    "\n",
    "Qualquer aplicação científica ou de ciência de dados precisa tratar de matrizes e álgebra linear. Isso é tão importante que existem bibliotecas básicas para isso com implementações padrão: \n",
    "  \n",
    " * [BLAS (Basic Linear Algebra Subroutines)](http://netlib.org/blas/index.html)\n",
    " * [LAPACK (Linear Algebra Package)](http://www.netlib.org/lapack/lug/)\n",
    "\n",
    "TODO mundo usa as bibliotecas acima. Se não usa deveria usar. \n"
   ]
  },
  {
   "cell_type": "markdown",
   "id": "6a15121e",
   "metadata": {},
   "source": [
    "## MATLAB e outros\n",
    "\n",
    "Um pessoal, por volta de 1980 criou um software que fazia uma interface interativa para essas bibliotecas. Esse software é o MATLAB - MATrix LABoratory. \n",
    "\n",
    "Mas o MATLAB, apesar de todo o sucesso, tem alguns problemas\n",
    "\n",
    " * É caro\n",
    " * É muito caro\n",
    " * Também é lento (para algumas coisas)\n",
    " * A linguagem de programação parece uma gambiarra\n",
    " * Existem limitações (legais) ao que se pode fazer\n",
    " \n",
    "Outras ferramentas semelhantes surgiram que competem com MATLAB ou focam em outras áreas\n",
    "\n",
    " * Mathematica\n",
    " * IDL\n",
    " * S-PLUS\n",
    " * e outras, muitas outras...\n",
    " \n"
   ]
  },
  {
   "cell_type": "markdown",
   "id": "b8034f8e",
   "metadata": {},
   "source": [
    "## Python como uma linguagem para aplicações matemáticas\n",
    "\n",
    "No final dos anos 90, python estava se tornando uma linguagem de script popular por ser uma linguagem simples, amigável e fácil de aprender. Algumas pessoas acharam interessante usar python para aplicações matemáticas e numéricas. Com isso, começaram a criar extensões que permitissem isso. Após alguns anos e alguns traumas (numeric vs numarray vs numpy) chegou-se a algumas ferramentas básicas que permitiu todo o desenvolvimento posterior:\n",
    "\n",
    " * Numpy: operação com arrays uniformes multidimensionais\n",
    " * Scipy: algoritmos numéricos básicos\n",
    " * Matplotlib: gráficos com qualidade\n",
    " * Pandas: manipulação de dados e tabelas\n",
    "\n",
    "Porque python se tornou tão popular nessa área? Porque resolve problemas! Na minha opinião, python se tornou popular pelos seguintes motivos\n",
    "\n",
    " * Software livre: você usa como quiser e onde quiser e não precisa pagar preços exorbitantes\n",
    " * Base sólida (numpy+scipy+matplotlib+pandas)\n",
    " * Linguagem de programação de verdade (não uma gambiarra)\n",
    " * Linguagem de programação agradável\n",
    " * Extensível: dá para você interfacear com C/C++/Fortran sem grandes dificuldades\n",
    " * Interage bem com a Internet - importante para a ciência de dados\n"
   ]
  },
  {
   "cell_type": "markdown",
   "id": "758dbbaa",
   "metadata": {},
   "source": [
    "## Numpy\n",
    "\n",
    "Numpy é uma biblioteca Python para trabalhar com matrizes multidimensionais.\n",
    "\n",
    "### Instalação\n",
    "\n",
    "Se você está usando a distribuição de Python Anaconda, numpy já vem. Abra um terminal, inicie o Python e execute o seguinte comando:\n",
    "\n",
    "```python\n",
    "import numpy\n",
    "```\n",
    "Se não deu erro, quer dizer o Numpy está instalado.\n",
    "\n",
    "Caso contrário, execute o comando a seguir num terminal (não do Python, o prompt ou powershell)\n",
    "\n",
    "```\n",
    "python -m pip install numpy\n",
    "```\n",
    "Isso vai baixar o numpy e instalar. \n",
    "\n"
   ]
  },
  {
   "cell_type": "markdown",
   "id": "b074e347",
   "metadata": {},
   "source": [
    "### Executando o numpy\n",
    "\n",
    "Para usar o numpy, você primeiro precisa carregar a biblioteca. Para isso existem algumas opções:\n",
    "\n",
    " 1. `import numpy`\n",
    " 2. `import numpy as np`\n",
    " 3. `from numpy import *`\n",
    "\n",
    "A primeira opção tem um problema: tem que digitar `numpy.` na frente de tudo. A última opção você acessa diretamente a funcionalidade mas vai poluir o teu namespace. Eu prefiro a opção do meio e é o que vou utilizar."
   ]
  },
  {
   "cell_type": "code",
   "execution_count": null,
   "id": "64ef9958",
   "metadata": {},
   "outputs": [],
   "source": [
    "import numpy as np"
   ]
  },
  {
   "cell_type": "markdown",
   "id": "47a94cb9",
   "metadata": {},
   "source": [
    "O tipo básico do numpy é o `ndarray`"
   ]
  },
  {
   "cell_type": "code",
   "execution_count": null,
   "id": "fdc2494c",
   "metadata": {},
   "outputs": [],
   "source": [
    "?np.ndarray"
   ]
  },
  {
   "cell_type": "markdown",
   "id": "ea5471c0",
   "metadata": {},
   "source": [
    "O `ndarray` é usado para representar uma matriz multidimensional homogênea com ítens de tamanho fixo. \n",
    "\n",
    "### Criando objetos `ndarray`\n",
    "\n",
    "Dificilmente vamos usar o `ndarray` diretamente.\n",
    "\n",
    "A função `array` cria um `ndarray` a partir de listas tuplas e coisas parecidas:"
   ]
  },
  {
   "cell_type": "code",
   "execution_count": null,
   "id": "b494c147",
   "metadata": {},
   "outputs": [],
   "source": [
    "x = np.array(range(30))"
   ]
  },
  {
   "cell_type": "code",
   "execution_count": null,
   "id": "3db343ac",
   "metadata": {},
   "outputs": [],
   "source": [
    "type(x)"
   ]
  },
  {
   "cell_type": "code",
   "execution_count": null,
   "id": "af26da6d",
   "metadata": {},
   "outputs": [],
   "source": [
    "x[0]"
   ]
  },
  {
   "cell_type": "code",
   "execution_count": null,
   "id": "1c39ba8f",
   "metadata": {},
   "outputs": [],
   "source": [
    "x[10:15]"
   ]
  },
  {
   "cell_type": "code",
   "execution_count": null,
   "id": "3a15f608",
   "metadata": {},
   "outputs": [],
   "source": [
    "x.size"
   ]
  },
  {
   "cell_type": "markdown",
   "id": "bbc63b2d",
   "metadata": {},
   "source": [
    "Usando a mesma sintaxe, é possível criar matrizes:"
   ]
  },
  {
   "cell_type": "code",
   "execution_count": null,
   "id": "3279d92d",
   "metadata": {},
   "outputs": [],
   "source": [
    "mat = np.array([[1,2,3], [4,5,6]])  # Lista de listas"
   ]
  },
  {
   "cell_type": "code",
   "execution_count": null,
   "id": "382291de",
   "metadata": {},
   "outputs": [],
   "source": [
    "mat"
   ]
  },
  {
   "cell_type": "code",
   "execution_count": null,
   "id": "c1bc959a",
   "metadata": {},
   "outputs": [],
   "source": [
    "mat[0,0]"
   ]
  },
  {
   "cell_type": "code",
   "execution_count": null,
   "id": "5b503bcf",
   "metadata": {},
   "outputs": [],
   "source": [
    "mat[1,0]"
   ]
  },
  {
   "cell_type": "code",
   "execution_count": null,
   "id": "e0340b11",
   "metadata": {},
   "outputs": [],
   "source": [
    "mat[0,:]"
   ]
  },
  {
   "cell_type": "code",
   "execution_count": null,
   "id": "12de9278",
   "metadata": {},
   "outputs": [],
   "source": [
    "mat[:,0]"
   ]
  },
  {
   "cell_type": "code",
   "execution_count": null,
   "id": "d92ae03e",
   "metadata": {},
   "outputs": [],
   "source": [
    "mat.size"
   ]
  },
  {
   "cell_type": "code",
   "execution_count": null,
   "id": "d36a0a0b",
   "metadata": {},
   "outputs": [],
   "source": [
    "mat.ndim"
   ]
  },
  {
   "cell_type": "code",
   "execution_count": null,
   "id": "4359f920",
   "metadata": {},
   "outputs": [],
   "source": [
    "mat.shape"
   ]
  },
  {
   "cell_type": "code",
   "execution_count": null,
   "id": "cffa70c0",
   "metadata": {},
   "outputs": [],
   "source": [
    "mat.dtype"
   ]
  },
  {
   "cell_type": "code",
   "execution_count": null,
   "id": "3b0ec89b",
   "metadata": {},
   "outputs": [],
   "source": [
    "# Array 3D\n",
    "arr = np.array([[[1, 2, 3], [4, 5, 6]], [[1, 2, 3], [4, 5, 6]]])"
   ]
  },
  {
   "cell_type": "code",
   "execution_count": null,
   "id": "b7f796c5",
   "metadata": {},
   "outputs": [],
   "source": [
    "arr"
   ]
  },
  {
   "cell_type": "code",
   "execution_count": null,
   "id": "eab1819e",
   "metadata": {},
   "outputs": [],
   "source": [
    "arr.ndim"
   ]
  },
  {
   "cell_type": "code",
   "execution_count": null,
   "id": "3320ba2a",
   "metadata": {},
   "outputs": [],
   "source": [
    "arr.size"
   ]
  },
  {
   "cell_type": "code",
   "execution_count": null,
   "id": "49da4204",
   "metadata": {},
   "outputs": [],
   "source": [
    "arr.shape"
   ]
  },
  {
   "cell_type": "code",
   "execution_count": null,
   "id": "effceeff",
   "metadata": {},
   "outputs": [],
   "source": [
    "arr"
   ]
  },
  {
   "cell_type": "code",
   "execution_count": null,
   "id": "e7b3919c",
   "metadata": {},
   "outputs": [],
   "source": [
    "# Indexando\n",
    "arr[0,0,0]"
   ]
  },
  {
   "cell_type": "code",
   "execution_count": null,
   "id": "b493cb0a",
   "metadata": {},
   "outputs": [],
   "source": [
    "arr[1,0,0]"
   ]
  },
  {
   "cell_type": "code",
   "execution_count": null,
   "id": "1e88e001",
   "metadata": {},
   "outputs": [],
   "source": [
    "arr[0,1,0]"
   ]
  },
  {
   "cell_type": "code",
   "execution_count": null,
   "id": "fb3357d8",
   "metadata": {},
   "outputs": [],
   "source": [
    "arr[0]"
   ]
  },
  {
   "cell_type": "code",
   "execution_count": null,
   "id": "8a4d9a88",
   "metadata": {},
   "outputs": [],
   "source": [
    "arr[0,0]"
   ]
  },
  {
   "cell_type": "code",
   "execution_count": null,
   "id": "8d64c360",
   "metadata": {},
   "outputs": [],
   "source": []
  }
 ],
 "metadata": {
  "kernelspec": {
   "display_name": "Python 3 (ipykernel)",
   "language": "python",
   "name": "python3"
  },
  "language_info": {
   "codemirror_mode": {
    "name": "ipython",
    "version": 3
   },
   "file_extension": ".py",
   "mimetype": "text/x-python",
   "name": "python",
   "nbconvert_exporter": "python",
   "pygments_lexer": "ipython3",
   "version": "3.10.2"
  }
 },
 "nbformat": 4,
 "nbformat_minor": 5
}
