{
 "cells": [
  {
   "cell_type": "markdown",
   "id": "36acf19f",
   "metadata": {},
   "source": [
    "# Aula 08: Numpy/Scipy/Pandas/Matplotlib\n",
    "\n",
    "Python se tornou uma linguagem de programação amplamente usada em meios científicos. Em algumas áreas se tornou a lingua franca. Porque e como isso ocorreu.\n",
    "\n",
    "Tradicionalmente, a linguagem usada em computação científica é o FORTRAN, mais especificamente o FORTRAN 77. Também é usado o C/C++ e até hoje essa é a base de quase todas as ferramentas que se utiliza em computação científica. Essas são linguagens compiladas sem interatividade (não estritamente verdade) e o fluxo de trabalho era (ou é...) o seguinte:\n",
    "\n",
    " 1. Escreva um programa\n",
    " 2. Compile o programa\n",
    " 3. Escreva um arquivo com os dados de entrada\n",
    " 4. Execute o programa com os dados de saída\n",
    " 5. O programa escreve seus resultados em um arquivo de saída\n",
    " 6. Use um outro programa para fazer gráficos e analisar os dados\n",
    " 7. Volte para 1 até dar certo\n",
    "\n",
    "<!-- TEASER_END -->\n",
    "\n",
    "Estamos na última aula do curso de python e nunca fizemos nada parecido. Com python e seus ambientes interativos (tanto o terminal quanto o jupyter) fazem esta tarefa ser muito mais fácil, rápido e integrado.\n",
    "\n",
    "Mas aí temos alguns problemas:\n",
    "\n",
    " * Python, sozinho, não tem nenhuma das ferramentas necessárias:\n",
    "   - Matrizes\n",
    "   - Álgebra linear\n",
    "   - Equações diferenciais\n",
    "   - Plotar gráficos\n",
    "   - etc, etc, etc\n",
    " * Python é lento\n",
    "\n",
    "Este era o estado das coisas em 2000 (ou um pouco antes).\n",
    "\n",
    "Qualquer aplicação científica ou de ciência de dados precisa tratar de matrizes e álgebra linear. Isso é tão importante que existem bibliotecas básicas para isso com implementações padrão: \n",
    "  \n",
    " * [BLAS (Basic Linear Algebra Subroutines)](http://netlib.org/blas/index.html)\n",
    " * [LAPACK (Linear Algebra Package)](http://www.netlib.org/lapack/lug/)\n",
    "\n",
    "TODO mundo usa as bibliotecas acima. Se não usa deveria usar. \n"
   ]
  },
  {
   "cell_type": "markdown",
   "id": "6a15121e",
   "metadata": {},
   "source": [
    "## MATLAB e outros\n",
    "\n",
    "Um pessoal, por volta de 1980 criou um software que fazia uma interface interativa para essas bibliotecas. Esse software é o MATLAB - MATrix LABoratory. \n",
    "\n",
    "Mas o MATLAB, apesar de todo o sucesso, tem alguns problemas\n",
    "\n",
    " * É caro\n",
    " * É muito caro\n",
    " * Também é lento (para algumas coisas)\n",
    " * A linguagem de programação parece uma gambiarra\n",
    " * Existem limitações (legais) ao que se pode fazer\n",
    " \n",
    "Outras ferramentas semelhantes surgiram que competem com MATLAB ou focam em outras áreas\n",
    "\n",
    " * Mathematica\n",
    " * IDL\n",
    " * S-PLUS\n",
    " * e outras, muitas outras...\n",
    " \n"
   ]
  },
  {
   "cell_type": "markdown",
   "id": "b8034f8e",
   "metadata": {},
   "source": [
    "## Python como uma linguagem para aplicações matemáticas\n",
    "\n",
    "No final dos anos 90, python estava se tornando uma linguagem de script popular por ser uma linguagem simples, amigável e fácil de aprender. Algumas pessoas acharam interessante usar python para aplicações matemáticas e numéricas. Com isso, começaram a criar extensões que permitissem isso. Após alguns anos e alguns traumas (numeric vs numarray vs numpy) chegou-se a algumas ferramentas básicas que permitiu todo o desenvolvimento posterior:\n",
    "\n",
    " * Numpy: operação com arrays uniformes multidimensionais\n",
    " * Scipy: algoritmos numéricos básicos\n",
    " * Matplotlib: gráficos com qualidade\n",
    " * Pandas: manipulação de dados e tabelas\n",
    "\n",
    "Porque python se tornou tão popular nessa área? Porque resolve problemas! Na minha opinião, python se tornou popular pelos seguintes motivos\n",
    "\n",
    " * Software livre: você usa como quiser e onde quiser e não precisa pagar preços exorbitantes\n",
    " * Base sólida (numpy+scipy+matplotlib+pandas)\n",
    " * Linguagem de programação de verdade (não uma gambiarra)\n",
    " * Linguagem de programação agradável\n",
    " * Extensível: dá para você interfacear com C/C++/Fortran sem grandes dificuldades\n",
    " * Interage bem com a Internet - importante para a ciência de dados\n"
   ]
  },
  {
   "cell_type": "markdown",
   "id": "758dbbaa",
   "metadata": {},
   "source": [
    "## Numpy\n",
    "\n",
    "Numpy é uma biblioteca Python para trabalhar com matrizes multidimensionais.\n",
    "\n",
    "### Instalação\n",
    "\n",
    "Se você está usando a distribuição de Python Anaconda, numpy já vem. Abra um terminal, inicie o Python e execute o seguinte comando:\n",
    "\n",
    "```python\n",
    "import numpy\n",
    "```\n",
    "Se não deu erro, quer dizer o Numpy está instalado.\n",
    "\n",
    "Caso contrário, execute o comando a seguir num terminal (não do Python, o prompt ou powershell)\n",
    "\n",
    "```\n",
    "python -m pip install numpy\n",
    "```\n",
    "Isso vai baixar o numpy e instalar. \n",
    "\n"
   ]
  },
  {
   "cell_type": "markdown",
   "id": "b074e347",
   "metadata": {},
   "source": [
    "### Executando o numpy\n",
    "\n",
    "Para usar o numpy, você primeiro precisa carregar a biblioteca. Para isso existem algumas opções:\n",
    "\n",
    " 1. `import numpy`\n",
    " 2. `import numpy as np`\n",
    " 3. `from numpy import *`\n",
    "\n",
    "A primeira opção tem um problema: tem que digitar `numpy.` na frente de tudo. A última opção você acessa diretamente a funcionalidade mas vai poluir o teu namespace. Eu prefiro a opção do meio e é o que vou utilizar."
   ]
  },
  {
   "cell_type": "code",
   "execution_count": null,
   "id": "64ef9958",
   "metadata": {},
   "outputs": [],
   "source": [
    "import numpy as np"
   ]
  },
  {
   "cell_type": "markdown",
   "id": "47a94cb9",
   "metadata": {},
   "source": [
    "O tipo básico do numpy é o `ndarray`"
   ]
  },
  {
   "cell_type": "code",
   "execution_count": null,
   "id": "fdc2494c",
   "metadata": {},
   "outputs": [],
   "source": [
    "?np.ndarray"
   ]
  },
  {
   "cell_type": "markdown",
   "id": "ea5471c0",
   "metadata": {},
   "source": [
    "O `ndarray` é usado para representar uma matriz multidimensional homogênea com ítens de tamanho fixo. \n",
    "\n",
    "### Criando objetos `ndarray`\n",
    "\n",
    "Dificilmente vamos usar o `ndarray` diretamente.\n",
    "\n",
    "A função `array` cria um `ndarray` a partir de listas tuplas e coisas parecidas:"
   ]
  },
  {
   "cell_type": "code",
   "execution_count": null,
   "id": "b494c147",
   "metadata": {},
   "outputs": [],
   "source": [
    "x = np.array(range(30))"
   ]
  },
  {
   "cell_type": "code",
   "execution_count": null,
   "id": "3db343ac",
   "metadata": {},
   "outputs": [],
   "source": [
    "type(x)"
   ]
  },
  {
   "cell_type": "code",
   "execution_count": null,
   "id": "af26da6d",
   "metadata": {},
   "outputs": [],
   "source": [
    "x[0]"
   ]
  },
  {
   "cell_type": "code",
   "execution_count": null,
   "id": "1c39ba8f",
   "metadata": {},
   "outputs": [],
   "source": [
    "x[10:15]"
   ]
  },
  {
   "cell_type": "code",
   "execution_count": null,
   "id": "3a15f608",
   "metadata": {},
   "outputs": [],
   "source": [
    "x.size"
   ]
  },
  {
   "cell_type": "code",
   "execution_count": null,
   "id": "wired-juvenile",
   "metadata": {},
   "outputs": [],
   "source": [
    "# Dá para fatiar!\n",
    "y = x[3:15:3]\n",
    "y"
   ]
  },
  {
   "cell_type": "code",
   "execution_count": null,
   "id": "worse-dictionary",
   "metadata": {},
   "outputs": [],
   "source": [
    "# y faz referência à mesma memória que x\n",
    "y[0] = 123\n",
    "y[0], x[3]"
   ]
  },
  {
   "cell_type": "code",
   "execution_count": null,
   "id": "alpine-traffic",
   "metadata": {},
   "outputs": [],
   "source": [
    "x.strides"
   ]
  },
  {
   "cell_type": "code",
   "execution_count": null,
   "id": "purple-violation",
   "metadata": {},
   "outputs": [],
   "source": [
    "y.strides"
   ]
  },
  {
   "cell_type": "code",
   "execution_count": null,
   "id": "sitting-classic",
   "metadata": {},
   "outputs": [],
   "source": [
    "x.dtype"
   ]
  },
  {
   "cell_type": "markdown",
   "id": "bbc63b2d",
   "metadata": {},
   "source": [
    "Usando a mesma sintaxe, é possível criar matrizes:"
   ]
  },
  {
   "cell_type": "code",
   "execution_count": null,
   "id": "3279d92d",
   "metadata": {},
   "outputs": [],
   "source": [
    "mat = np.array([[1,2,3], [4,5,6]])  # Lista de listas"
   ]
  },
  {
   "cell_type": "code",
   "execution_count": null,
   "id": "382291de",
   "metadata": {},
   "outputs": [],
   "source": [
    "mat"
   ]
  },
  {
   "cell_type": "code",
   "execution_count": null,
   "id": "c1bc959a",
   "metadata": {},
   "outputs": [],
   "source": [
    "mat[0,0]"
   ]
  },
  {
   "cell_type": "code",
   "execution_count": null,
   "id": "5b503bcf",
   "metadata": {},
   "outputs": [],
   "source": [
    "mat[1,0]"
   ]
  },
  {
   "cell_type": "code",
   "execution_count": null,
   "id": "e0340b11",
   "metadata": {},
   "outputs": [],
   "source": [
    "mat[0,:]"
   ]
  },
  {
   "cell_type": "code",
   "execution_count": null,
   "id": "12de9278",
   "metadata": {},
   "outputs": [],
   "source": [
    "mat[:,0]"
   ]
  },
  {
   "cell_type": "code",
   "execution_count": null,
   "id": "d92ae03e",
   "metadata": {},
   "outputs": [],
   "source": [
    "mat.size"
   ]
  },
  {
   "cell_type": "code",
   "execution_count": null,
   "id": "d36a0a0b",
   "metadata": {},
   "outputs": [],
   "source": [
    "mat.ndim"
   ]
  },
  {
   "cell_type": "code",
   "execution_count": null,
   "id": "4359f920",
   "metadata": {},
   "outputs": [],
   "source": [
    "mat.shape"
   ]
  },
  {
   "cell_type": "code",
   "execution_count": null,
   "id": "cffa70c0",
   "metadata": {},
   "outputs": [],
   "source": [
    "mat.dtype"
   ]
  },
  {
   "cell_type": "code",
   "execution_count": null,
   "id": "3b0ec89b",
   "metadata": {},
   "outputs": [],
   "source": [
    "# Array 3D\n",
    "arr = np.array([[[1, 2, 3], [4, 5, 6]], [[1, 2, 3], [4, 5, 6]]])"
   ]
  },
  {
   "cell_type": "code",
   "execution_count": null,
   "id": "b7f796c5",
   "metadata": {},
   "outputs": [],
   "source": [
    "arr"
   ]
  },
  {
   "cell_type": "code",
   "execution_count": null,
   "id": "eab1819e",
   "metadata": {},
   "outputs": [],
   "source": [
    "arr.ndim"
   ]
  },
  {
   "cell_type": "code",
   "execution_count": null,
   "id": "3320ba2a",
   "metadata": {},
   "outputs": [],
   "source": [
    "arr.size"
   ]
  },
  {
   "cell_type": "code",
   "execution_count": null,
   "id": "49da4204",
   "metadata": {},
   "outputs": [],
   "source": [
    "arr.shape"
   ]
  },
  {
   "cell_type": "code",
   "execution_count": null,
   "id": "effceeff",
   "metadata": {},
   "outputs": [],
   "source": [
    "arr"
   ]
  },
  {
   "cell_type": "code",
   "execution_count": null,
   "id": "e7b3919c",
   "metadata": {},
   "outputs": [],
   "source": [
    "# Indexando\n",
    "arr[0,0,0]"
   ]
  },
  {
   "cell_type": "code",
   "execution_count": null,
   "id": "b493cb0a",
   "metadata": {},
   "outputs": [],
   "source": [
    "arr[1,0,0]"
   ]
  },
  {
   "cell_type": "code",
   "execution_count": null,
   "id": "1e88e001",
   "metadata": {},
   "outputs": [],
   "source": [
    "arr[0,1,0]"
   ]
  },
  {
   "cell_type": "code",
   "execution_count": null,
   "id": "fb3357d8",
   "metadata": {},
   "outputs": [],
   "source": [
    "arr[0]"
   ]
  },
  {
   "cell_type": "code",
   "execution_count": null,
   "id": "8a4d9a88",
   "metadata": {},
   "outputs": [],
   "source": [
    "arr[0,0]"
   ]
  },
  {
   "cell_type": "code",
   "execution_count": null,
   "id": "8d64c360",
   "metadata": {},
   "outputs": [],
   "source": [
    "arr.strides"
   ]
  },
  {
   "cell_type": "markdown",
   "id": "relevant-referral",
   "metadata": {},
   "source": [
    "#### Melhor jeito para criar os `ndarray`s"
   ]
  },
  {
   "cell_type": "code",
   "execution_count": null,
   "id": "sized-stranger",
   "metadata": {},
   "outputs": [],
   "source": [
    "np.zeros( (3,4) )"
   ]
  },
  {
   "cell_type": "code",
   "execution_count": null,
   "id": "charming-hindu",
   "metadata": {},
   "outputs": [],
   "source": [
    "np.zeros( (2,3,4), dtype='int64')"
   ]
  },
  {
   "cell_type": "code",
   "execution_count": null,
   "id": "medium-atlanta",
   "metadata": {},
   "outputs": [],
   "source": [
    "np.ones((2,3,4))"
   ]
  },
  {
   "cell_type": "code",
   "execution_count": null,
   "id": "light-reset",
   "metadata": {},
   "outputs": [],
   "source": [
    "np.ones((2,3,4), dtype='int64')"
   ]
  },
  {
   "cell_type": "markdown",
   "id": "handled-asset",
   "metadata": {},
   "source": [
    "#### Arrays igualmente espaçados"
   ]
  },
  {
   "cell_type": "code",
   "execution_count": null,
   "id": "enormous-implement",
   "metadata": {},
   "outputs": [],
   "source": [
    "np.arange(0, 1, 0.01)"
   ]
  },
  {
   "cell_type": "code",
   "execution_count": null,
   "id": "engaged-instruction",
   "metadata": {},
   "outputs": [],
   "source": [
    "np.linspace(0,1,num=11)"
   ]
  },
  {
   "cell_type": "code",
   "execution_count": null,
   "id": "hired-coral",
   "metadata": {},
   "outputs": [],
   "source": [
    "np.logspace(1,10, num=11)"
   ]
  },
  {
   "cell_type": "code",
   "execution_count": null,
   "id": "deadly-advocate",
   "metadata": {},
   "outputs": [],
   "source": [
    "np.geomspace(1,100,num=4)"
   ]
  },
  {
   "cell_type": "markdown",
   "id": "polish-preliminary",
   "metadata": {},
   "source": [
    "### Os objetos `ndarray` têm *um monte* de métodos interessantes\n",
    "\n",
    "#### Soma de tudo quanto é tipo"
   ]
  },
  {
   "cell_type": "code",
   "execution_count": null,
   "id": "incomplete-thread",
   "metadata": {},
   "outputs": [],
   "source": [
    "x = np.array(range(1,13))\n",
    "x"
   ]
  },
  {
   "cell_type": "code",
   "execution_count": null,
   "id": "indonesian-device",
   "metadata": {},
   "outputs": [],
   "source": [
    "y = x.reshape(3,4)\n",
    "y"
   ]
  },
  {
   "cell_type": "code",
   "execution_count": null,
   "id": "utility-portfolio",
   "metadata": {},
   "outputs": [],
   "source": [
    "y.sum()"
   ]
  },
  {
   "cell_type": "code",
   "execution_count": null,
   "id": "applied-lightning",
   "metadata": {},
   "outputs": [],
   "source": [
    "y.sum(0)"
   ]
  },
  {
   "cell_type": "code",
   "execution_count": null,
   "id": "japanese-comparison",
   "metadata": {},
   "outputs": [],
   "source": [
    "y.sum(1)"
   ]
  },
  {
   "cell_type": "code",
   "execution_count": null,
   "id": "continent-carbon",
   "metadata": {},
   "outputs": [],
   "source": [
    "z = np.array(range(1,25)).reshape(2,3,4)\n",
    "z"
   ]
  },
  {
   "cell_type": "code",
   "execution_count": null,
   "id": "laden-doubt",
   "metadata": {},
   "outputs": [],
   "source": [
    "z.sum()"
   ]
  },
  {
   "cell_type": "code",
   "execution_count": null,
   "id": "norwegian-aberdeen",
   "metadata": {},
   "outputs": [],
   "source": [
    "z.sum(0)"
   ]
  },
  {
   "cell_type": "code",
   "execution_count": null,
   "id": "right-survey",
   "metadata": {},
   "outputs": [],
   "source": [
    "z.sum(1)"
   ]
  },
  {
   "cell_type": "code",
   "execution_count": null,
   "id": "boolean-accuracy",
   "metadata": {},
   "outputs": [],
   "source": [
    "z.sum(2)"
   ]
  },
  {
   "cell_type": "code",
   "execution_count": null,
   "id": "significant-corruption",
   "metadata": {},
   "outputs": [],
   "source": [
    "z.sum((0,1))"
   ]
  },
  {
   "cell_type": "code",
   "execution_count": null,
   "id": "magnetic-corner",
   "metadata": {},
   "outputs": [],
   "source": [
    "z.sum((0,2))"
   ]
  },
  {
   "cell_type": "code",
   "execution_count": null,
   "id": "satisfactory-commissioner",
   "metadata": {},
   "outputs": [],
   "source": [
    "z.sum((1,2))"
   ]
  },
  {
   "cell_type": "markdown",
   "id": "rational-apparel",
   "metadata": {},
   "source": [
    "#### Média e desvio padrão"
   ]
  },
  {
   "cell_type": "code",
   "execution_count": null,
   "id": "orange-jerusalem",
   "metadata": {},
   "outputs": [],
   "source": [
    "z.mean()"
   ]
  },
  {
   "cell_type": "code",
   "execution_count": null,
   "id": "divine-convertible",
   "metadata": {},
   "outputs": [],
   "source": [
    "z.mean(0)"
   ]
  },
  {
   "cell_type": "code",
   "execution_count": null,
   "id": "brutal-relief",
   "metadata": {},
   "outputs": [],
   "source": [
    "z.mean(1)\n"
   ]
  },
  {
   "cell_type": "code",
   "execution_count": null,
   "id": "radical-throat",
   "metadata": {},
   "outputs": [],
   "source": [
    "z.std()"
   ]
  },
  {
   "cell_type": "code",
   "execution_count": null,
   "id": "christian-greeting",
   "metadata": {},
   "outputs": [],
   "source": [
    "z.std(0)"
   ]
  },
  {
   "cell_type": "markdown",
   "id": "optimum-uncertainty",
   "metadata": {},
   "source": [
    "#### Máximos e mínimos"
   ]
  },
  {
   "cell_type": "code",
   "execution_count": null,
   "id": "severe-duplicate",
   "metadata": {},
   "outputs": [],
   "source": [
    "z.max()"
   ]
  },
  {
   "cell_type": "code",
   "execution_count": null,
   "id": "smooth-meditation",
   "metadata": {},
   "outputs": [],
   "source": [
    "z.max(0)"
   ]
  },
  {
   "cell_type": "code",
   "execution_count": null,
   "id": "located-benchmark",
   "metadata": {},
   "outputs": [],
   "source": [
    "z.min(1)"
   ]
  },
  {
   "cell_type": "markdown",
   "id": "smoking-separation",
   "metadata": {},
   "source": [
    "## Números aleatórios"
   ]
  },
  {
   "cell_type": "code",
   "execution_count": null,
   "id": "saving-consultancy",
   "metadata": {},
   "outputs": [],
   "source": [
    "import numpy.random as rnd"
   ]
  },
  {
   "cell_type": "code",
   "execution_count": null,
   "id": "complimentary-simon",
   "metadata": {},
   "outputs": [],
   "source": [
    "x = rnd.randn(1000)"
   ]
  },
  {
   "cell_type": "code",
   "execution_count": null,
   "id": "double-election",
   "metadata": {},
   "outputs": [],
   "source": [
    "x.mean()"
   ]
  },
  {
   "cell_type": "code",
   "execution_count": null,
   "id": "enormous-jonathan",
   "metadata": {},
   "outputs": [],
   "source": [
    "x.std()"
   ]
  },
  {
   "cell_type": "code",
   "execution_count": null,
   "id": "early-drill",
   "metadata": {},
   "outputs": [],
   "source": [
    "import matplotlib.pyplot as plt"
   ]
  },
  {
   "cell_type": "code",
   "execution_count": null,
   "id": "demographic-integer",
   "metadata": {},
   "outputs": [],
   "source": [
    "plt.plot(x)"
   ]
  },
  {
   "cell_type": "code",
   "execution_count": null,
   "id": "deluxe-ordinance",
   "metadata": {},
   "outputs": [],
   "source": [
    "plt.plot(x, \"o\")"
   ]
  },
  {
   "cell_type": "code",
   "execution_count": null,
   "id": "hollow-tulsa",
   "metadata": {},
   "outputs": [],
   "source": [
    "plt.hist(x)"
   ]
  },
  {
   "cell_type": "code",
   "execution_count": null,
   "id": "foster-florida",
   "metadata": {},
   "outputs": [],
   "source": [
    "y = rnd.gumbel(size=1000)"
   ]
  },
  {
   "cell_type": "code",
   "execution_count": null,
   "id": "broken-scott",
   "metadata": {},
   "outputs": [],
   "source": [
    "plt.hist(y)"
   ]
  },
  {
   "cell_type": "markdown",
   "id": "caring-belize",
   "metadata": {},
   "source": [
    "## Operações vetorizadas e broadcasting"
   ]
  },
  {
   "cell_type": "code",
   "execution_count": null,
   "id": "accessory-victor",
   "metadata": {},
   "outputs": [],
   "source": [
    "x = np.linspace(0,1,num=51)\n",
    "y = np.sin(2*np.pi*x)"
   ]
  },
  {
   "cell_type": "code",
   "execution_count": null,
   "id": "coated-avatar",
   "metadata": {},
   "outputs": [],
   "source": [
    "plt.plot(x,y)"
   ]
  },
  {
   "cell_type": "code",
   "execution_count": null,
   "id": "urban-chambers",
   "metadata": {},
   "outputs": [],
   "source": [
    "plt.plot(x, x**2*np.cos(6*x) + np.exp(x))"
   ]
  },
  {
   "cell_type": "code",
   "execution_count": null,
   "id": "available-receipt",
   "metadata": {},
   "outputs": [],
   "source": [
    "x + 1"
   ]
  },
  {
   "cell_type": "code",
   "execution_count": null,
   "id": "parental-entrance",
   "metadata": {},
   "outputs": [],
   "source": [
    "x * 2"
   ]
  },
  {
   "cell_type": "markdown",
   "id": "latin-repair",
   "metadata": {},
   "source": [
    "### Outros tipos de indexações\n",
    "\n",
    "#### Indexando usando variáveis lógicas"
   ]
  },
  {
   "cell_type": "code",
   "execution_count": null,
   "id": "cathedral-ambassador",
   "metadata": {},
   "outputs": [],
   "source": [
    "x = rnd.randn(10)\n",
    "x"
   ]
  },
  {
   "cell_type": "code",
   "execution_count": null,
   "id": "previous-guidance",
   "metadata": {},
   "outputs": [],
   "source": [
    "positivo = x > 0\n",
    "positivo"
   ]
  },
  {
   "cell_type": "code",
   "execution_count": null,
   "id": "indoor-beverage",
   "metadata": {},
   "outputs": [],
   "source": [
    "x[positivo]"
   ]
  },
  {
   "cell_type": "code",
   "execution_count": null,
   "id": "geographic-retail",
   "metadata": {},
   "outputs": [],
   "source": [
    "x[~positivo]"
   ]
  },
  {
   "cell_type": "code",
   "execution_count": null,
   "id": "abandoned-memory",
   "metadata": {},
   "outputs": [],
   "source": [
    "y = rnd.randn(5,8)\n",
    "y[y > 0]"
   ]
  },
  {
   "cell_type": "markdown",
   "id": "threaded-works",
   "metadata": {},
   "source": [
    "#### Já tínhamos visto fatiamento"
   ]
  },
  {
   "cell_type": "code",
   "execution_count": null,
   "id": "suspected-utilization",
   "metadata": {},
   "outputs": [],
   "source": [
    "x = np.array(range(50))"
   ]
  },
  {
   "cell_type": "code",
   "execution_count": null,
   "id": "stopped-barcelona",
   "metadata": {},
   "outputs": [],
   "source": [
    "x[ [10,15,20]]"
   ]
  },
  {
   "cell_type": "markdown",
   "id": "advisory-renewal",
   "metadata": {},
   "source": [
    "## Álgebra linear"
   ]
  },
  {
   "cell_type": "code",
   "execution_count": null,
   "id": "lesser-diploma",
   "metadata": {},
   "outputs": [],
   "source": [
    "A0 = rnd.randn(5,5)\n",
    "A0"
   ]
  },
  {
   "cell_type": "code",
   "execution_count": null,
   "id": "traditional-zoning",
   "metadata": {},
   "outputs": [],
   "source": [
    "# Matriz diagonal com diagonal = 10\n",
    "A1 = np.diag(10*np.ones(5))\n",
    "A1"
   ]
  },
  {
   "cell_type": "code",
   "execution_count": null,
   "id": "refined-assumption",
   "metadata": {},
   "outputs": [],
   "source": [
    "A = A0 + A1"
   ]
  },
  {
   "cell_type": "code",
   "execution_count": null,
   "id": "auburn-jonathan",
   "metadata": {},
   "outputs": [],
   "source": [
    "b = np.ones(5)"
   ]
  },
  {
   "cell_type": "code",
   "execution_count": null,
   "id": "congressional-pizza",
   "metadata": {},
   "outputs": [],
   "source": [
    "import numpy.linalg as linalg"
   ]
  },
  {
   "cell_type": "code",
   "execution_count": null,
   "id": "copyrighted-conditioning",
   "metadata": {},
   "outputs": [],
   "source": [
    "# Resolvendo o sistema linear A*x = b\n",
    "x = linalg.solve(A, b)\n",
    "x"
   ]
  },
  {
   "cell_type": "code",
   "execution_count": null,
   "id": "typical-latex",
   "metadata": {},
   "outputs": [],
   "source": [
    "np.dot(A,x)"
   ]
  },
  {
   "cell_type": "code",
   "execution_count": null,
   "id": "express-endorsement",
   "metadata": {},
   "outputs": [],
   "source": [
    "A.dot(x)"
   ]
  },
  {
   "cell_type": "code",
   "execution_count": null,
   "id": "fifth-richmond",
   "metadata": {},
   "outputs": [],
   "source": [
    "# Matriz transposta\n",
    "A.T"
   ]
  },
  {
   "cell_type": "code",
   "execution_count": null,
   "id": "comic-halloween",
   "metadata": {},
   "outputs": [],
   "source": [
    "# Inversa da matriz\n",
    "iA = linalg.inv(A)"
   ]
  },
  {
   "cell_type": "code",
   "execution_count": null,
   "id": "rotary-proposition",
   "metadata": {},
   "outputs": [],
   "source": [
    "np.dot(iA,A)"
   ]
  },
  {
   "cell_type": "code",
   "execution_count": null,
   "id": "lucky-numbers",
   "metadata": {},
   "outputs": [],
   "source": [
    "# Determinante da matriz\n",
    "linalg.det(A)"
   ]
  },
  {
   "cell_type": "code",
   "execution_count": null,
   "id": "efficient-knock",
   "metadata": {},
   "outputs": [],
   "source": [
    "1 / linalg.det(iA)"
   ]
  },
  {
   "cell_type": "code",
   "execution_count": null,
   "id": "actual-print",
   "metadata": {},
   "outputs": [],
   "source": [
    "# Vamos criar uma matriz simétrica\n",
    "B = A + A.T"
   ]
  },
  {
   "cell_type": "code",
   "execution_count": null,
   "id": "charming-margin",
   "metadata": {},
   "outputs": [],
   "source": [
    "B"
   ]
  },
  {
   "cell_type": "code",
   "execution_count": null,
   "id": "subject-thursday",
   "metadata": {
    "slideshow": {
     "slide_type": "subslide"
    }
   },
   "outputs": [],
   "source": [
    "linalg.cholesky(B)"
   ]
  },
  {
   "cell_type": "markdown",
   "id": "fitted-christian",
   "metadata": {},
   "source": [
    "# [Scipy](https://scipy.org/)\n",
    "\n",
    "Pacote construído sobre o numpy que tem um monte de funcionalidade.\n",
    "\n",
    "Em particular essa biblioteca tem as seguintes áreas:\n",
    "\n",
    " * [Funções especiais](https://docs.scipy.org/doc/scipy/tutorial/special.html)\n",
    " * [Integração numérica (funções e EDO)](https://docs.scipy.org/doc/scipy/tutorial/integrate.html)\n",
    " * [Interpolação](https://docs.scipy.org/doc/scipy/tutorial/interpolate.html)\n",
    " * [Optimização](https://docs.scipy.org/doc/scipy/tutorial/optimize.html)\n",
    " * [Transformadas de Fourier](https://docs.scipy.org/doc/scipy/tutorial/fft.html)\n",
    " * [Processamento de sinais](https://docs.scipy.org/doc/scipy/tutorial/signal.html)\n",
    " * [Álgebra linear](https://docs.scipy.org/doc/scipy/tutorial/linalg.html)\n",
    " * [Problemas de autovalor esparsos com ARPACK](https://docs.scipy.org/doc/scipy/tutorial/arpack.html)\n",
    " * [Rotinas para grafos esparsos](https://docs.scipy.org/doc/scipy/tutorial/csgraph.html)\n",
    " * [Estruturas espaciais](https://docs.scipy.org/doc/scipy/tutorial/spatial.html)\n",
    " * [Estatística](https://docs.scipy.org/doc/scipy/tutorial/stats.html)\n",
    " * [Imagens multidimensionais](https://docs.scipy.org/doc/scipy/tutorial/ndimage.html)\n",
    " * [Entrada e saída](https://docs.scipy.org/doc/scipy/tutorial/io.html)"
   ]
  },
  {
   "cell_type": "markdown",
   "id": "adverse-arrangement",
   "metadata": {},
   "source": [
    "\n",
    "## Álgebra linear\n",
    "\n",
    "Bem mais completo que o `numpy`!"
   ]
  },
  {
   "cell_type": "code",
   "execution_count": null,
   "id": "meaningful-march",
   "metadata": {},
   "outputs": [],
   "source": [
    "import scipy.linalg as lin"
   ]
  },
  {
   "cell_type": "code",
   "execution_count": null,
   "id": "patient-default",
   "metadata": {},
   "outputs": [],
   "source": [
    "# Problema de autovalor\n",
    "λ, ϕ = lin.eig(B)"
   ]
  },
  {
   "cell_type": "code",
   "execution_count": null,
   "id": "marked-geography",
   "metadata": {},
   "outputs": [],
   "source": [
    "Λ = np.diag(λ)"
   ]
  },
  {
   "cell_type": "code",
   "execution_count": null,
   "id": "greatest-bahamas",
   "metadata": {},
   "outputs": [],
   "source": [
    "i = 3\n",
    "np.abs(B.dot(ϕ[:,i]) - λ[i] * ϕ[:,i]).max()"
   ]
  },
  {
   "cell_type": "code",
   "execution_count": null,
   "id": "ahead-binary",
   "metadata": {},
   "outputs": [],
   "source": [
    "# Decomposição LU\n",
    "P,L,U = lin.lu(A)"
   ]
  },
  {
   "cell_type": "code",
   "execution_count": null,
   "id": "unique-fisher",
   "metadata": {},
   "outputs": [],
   "source": [
    "P"
   ]
  },
  {
   "cell_type": "code",
   "execution_count": null,
   "id": "pursuant-wagner",
   "metadata": {},
   "outputs": [],
   "source": [
    "L"
   ]
  },
  {
   "cell_type": "code",
   "execution_count": null,
   "id": "pursuant-charlotte",
   "metadata": {},
   "outputs": [],
   "source": [
    "U"
   ]
  },
  {
   "cell_type": "code",
   "execution_count": null,
   "id": "wanted-pathology",
   "metadata": {},
   "outputs": [],
   "source": [
    "lu, piv = lin.lu_factor(A)"
   ]
  },
  {
   "cell_type": "code",
   "execution_count": null,
   "id": "iraqi-pregnancy",
   "metadata": {},
   "outputs": [],
   "source": [
    "lu"
   ]
  },
  {
   "cell_type": "code",
   "execution_count": null,
   "id": "impressive-prototype",
   "metadata": {},
   "outputs": [],
   "source": [
    "lin.lu_solve( (lu,piv), b) "
   ]
  },
  {
   "cell_type": "code",
   "execution_count": null,
   "id": "necessary-verse",
   "metadata": {},
   "outputs": [],
   "source": []
  },
  {
   "cell_type": "markdown",
   "id": "bearing-swing",
   "metadata": {},
   "source": [
    "## Integração numérica (funções)"
   ]
  },
  {
   "cell_type": "code",
   "execution_count": null,
   "id": "electric-environment",
   "metadata": {},
   "outputs": [],
   "source": [
    "import scipy.integrate as integr"
   ]
  },
  {
   "cell_type": "markdown",
   "id": "cloudy-attribute",
   "metadata": {},
   "source": [
    "Quero calcular a seguinte integral:\n",
    "\n",
    "$$\n",
    "\\int_0^1 \\cos(x) \\: dx = \\sin(1)\n",
    "$$"
   ]
  },
  {
   "cell_type": "code",
   "execution_count": null,
   "id": "distant-prevention",
   "metadata": {},
   "outputs": [],
   "source": [
    "I1 = integr.romberg(np.cos, 0, 1)\n",
    "I1"
   ]
  },
  {
   "cell_type": "code",
   "execution_count": null,
   "id": "retired-denmark",
   "metadata": {},
   "outputs": [],
   "source": [
    "Ie = np.sin(1)\n",
    "Ie"
   ]
  },
  {
   "cell_type": "code",
   "execution_count": null,
   "id": "photographic-truth",
   "metadata": {},
   "outputs": [],
   "source": [
    "erro = I1 - Ie\n",
    "erro"
   ]
  },
  {
   "cell_type": "code",
   "execution_count": null,
   "id": "outstanding-indonesian",
   "metadata": {},
   "outputs": [],
   "source": [
    "# Funçãosinha bem chata para integrar na mão...\n",
    "def minhafun(x):\n",
    "    return np.cos(x**2)"
   ]
  },
  {
   "cell_type": "code",
   "execution_count": null,
   "id": "aware-consequence",
   "metadata": {},
   "outputs": [],
   "source": [
    "integr.romberg(minhafun, 0, 1)"
   ]
  },
  {
   "cell_type": "markdown",
   "id": "governing-winter",
   "metadata": {},
   "source": [
    "# Exemplo Camada limite\n",
    "\n",
    "A camada limite foi medida no túnel de vento. Vamos analisar estes dados.\n",
    "Os dados estão armazenados em um arquivo no format HDF5, um formato binário\n",
    "adequado para armazenar arrays de grandes dimensões"
   ]
  },
  {
   "cell_type": "markdown",
   "id": "sporting-marriage",
   "metadata": {},
   "source": [
    "## Ler os dados de um arquivo HDF5"
   ]
  },
  {
   "cell_type": "code",
   "execution_count": null,
   "id": "photographic-pipeline",
   "metadata": {},
   "outputs": [],
   "source": [
    "# Carregar a biblioteca python para ler arquivos HDF5:\n",
    "import h5py"
   ]
  },
  {
   "cell_type": "code",
   "execution_count": null,
   "id": "irish-julian",
   "metadata": {},
   "outputs": [],
   "source": [
    "# Abrir o arquivo:\n",
    "f = h5py.File(\"camada-limite.h5\", \"r\")"
   ]
  },
  {
   "cell_type": "code",
   "execution_count": null,
   "id": "developmental-accommodation",
   "metadata": {},
   "outputs": [],
   "source": [
    "# Vamos ver o que tem dentro deste arquivo\n",
    "f.keys()"
   ]
  },
  {
   "cell_type": "code",
   "execution_count": null,
   "id": "multiple-chest",
   "metadata": {},
   "outputs": [],
   "source": [
    "U = f['U'][:]\n",
    "z = f['z'][:]"
   ]
  },
  {
   "cell_type": "code",
   "execution_count": null,
   "id": "electoral-colonial",
   "metadata": {},
   "outputs": [],
   "source": [
    "U.shape"
   ]
  },
  {
   "cell_type": "code",
   "execution_count": null,
   "id": "spatial-matter",
   "metadata": {},
   "outputs": [],
   "source": [
    "z.shape"
   ]
  },
  {
   "cell_type": "code",
   "execution_count": null,
   "id": "sustainable-intellectual",
   "metadata": {},
   "outputs": [],
   "source": [
    "# Vamos ler a taxa de amostragem a partir dos atributos de U\n",
    "fs = f['U'].attrs['rate'][0]"
   ]
  },
  {
   "cell_type": "markdown",
   "id": "subsequent-quick",
   "metadata": {},
   "source": [
    "## Plotar os perfis de velocidade\n",
    "Vamos plotar o perfil de velocidades e intensidade de turbulência:"
   ]
  },
  {
   "cell_type": "code",
   "execution_count": null,
   "id": "dental-while",
   "metadata": {},
   "outputs": [],
   "source": [
    "Um = U.mean(1)\n",
    "sU = U.std(1)\n",
    "I = sU / Um * 100"
   ]
  },
  {
   "cell_type": "code",
   "execution_count": null,
   "id": "modern-interval",
   "metadata": {},
   "outputs": [],
   "source": [
    "plt.figure(figsize=(12,6))\n",
    "plt.subplot(1,2,1)\n",
    "plt.plot(Um, z, \"o\")\n",
    "plt.xlabel(\"Velocidade (m/s)\")\n",
    "plt.ylabel(\"Altura (m)\")\n",
    "plt.subplot(1,2,2)\n",
    "plt.plot(I, z, \"o\")\n",
    "plt.xlabel(\"Intensidade de turb. (%)\")\n",
    "plt.ylabel(\"Altura (m)\")\n"
   ]
  },
  {
   "cell_type": "code",
   "execution_count": null,
   "id": "noted-rescue",
   "metadata": {},
   "outputs": [],
   "source": [
    "fig, (ax1, ax2) = plt.subplots(1, 2, sharey=True, figsize=(12,8))\n",
    "ax1.plot(Um, z, \"o\")\n",
    "ax1.grid()\n",
    "ax1.set_xlabel(\"Velocidade (m/s)\")\n",
    "ax1.set_ylabel(\"Altura (m)\")\n",
    "ax1.set_title(\"Perfil de velocidade\")\n",
    "ax2.plot(I, z, \"o\")\n",
    "ax2.grid()\n",
    "ax2.set_xlabel(\"Intensidade de turb. (%)\")\n",
    "ax2.set_title(\"Turbulência\")\n",
    "#plt.ylabel(\"Altura (m)\")"
   ]
  },
  {
   "cell_type": "markdown",
   "id": "informed-fossil",
   "metadata": {},
   "source": [
    "## Espectro de turbulência"
   ]
  },
  {
   "cell_type": "code",
   "execution_count": null,
   "id": "foreign-consultancy",
   "metadata": {},
   "outputs": [],
   "source": [
    "iref = 14\n",
    "zref = z[iref]\n",
    "u = U[iref]\n",
    "N = len(u)\n",
    "dt = 1/fs"
   ]
  },
  {
   "cell_type": "code",
   "execution_count": null,
   "id": "personalized-forwarding",
   "metadata": {},
   "outputs": [],
   "source": [
    "t = np.arange(N) * dt\n",
    "ū = u.mean()\n",
    "σ = u.std()"
   ]
  },
  {
   "cell_type": "code",
   "execution_count": null,
   "id": "incomplete-catholic",
   "metadata": {},
   "outputs": [],
   "source": [
    "plt.figure(figsize=(12,6))\n",
    "plt.plot(t, u, label=\"$U(t)$\", color='k')\n",
    "plt.axhline(y=ū, linewidth=3, color='g', label=\"$\\\\bar{U}$\")\n",
    "plt.axhline(y = ū+2*σ, color='r', linestyle='--', linewidth=2, label='$\\\\bar{U} + 2\\\\sigma$')\n",
    "plt.axhline(y = ū-2*σ, color='b', linestyle='--', linewidth=2, label='$\\\\bar{U} - 2\\\\sigma$')\n",
    "\n",
    "plt.legend(loc='upper right')\n",
    "plt.xlabel(\"Tempo (s)\")\n",
    "plt.ylabel(\"Velocidade (m/s)\")"
   ]
  },
  {
   "cell_type": "code",
   "execution_count": null,
   "id": "intensive-wagner",
   "metadata": {},
   "outputs": [],
   "source": [
    "plt.figure(figsize=(12,6))\n",
    "plt.xlim( (18,20))\n",
    "plt.plot(t, u, label=\"$U(t)$\", color='k')\n",
    "plt.axhline(y=ū, linewidth=3, color='g', label=\"$\\\\bar{U}$\")\n",
    "plt.axhline(y = ū+2*σ, color='r', linestyle='--', linewidth=2, label='$\\\\bar{U} + 2\\\\sigma$')\n",
    "plt.axhline(y = ū-2*σ, color='b', linestyle='--', linewidth=2, label='$\\\\bar{U} - 2\\\\sigma$')\n",
    "\n",
    "plt.legend(loc='upper right')\n",
    "plt.xlabel(\"Tempo (s)\")\n",
    "plt.ylabel(\"Velocidade (m/s)\")"
   ]
  },
  {
   "cell_type": "markdown",
   "id": "positive-workplace",
   "metadata": {},
   "source": [
    "## Análise espectral da velocidade"
   ]
  },
  {
   "cell_type": "code",
   "execution_count": null,
   "id": "impossible-boards",
   "metadata": {},
   "outputs": [],
   "source": [
    "import scipy.signal as signal"
   ]
  },
  {
   "cell_type": "code",
   "execution_count": null,
   "id": "cutting-netscape",
   "metadata": {},
   "outputs": [],
   "source": [
    "f, S = signal.welch(u, fs, scaling='spectrum', nperseg=1000)"
   ]
  },
  {
   "cell_type": "code",
   "execution_count": null,
   "id": "marked-salad",
   "metadata": {},
   "outputs": [],
   "source": [
    "f1 = f[1:]\n",
    "S1 = S[1:]"
   ]
  },
  {
   "cell_type": "code",
   "execution_count": null,
   "id": "presidential-vision",
   "metadata": {},
   "outputs": [],
   "source": [
    "plt.figure(figsize=(12,6))\n",
    "plt.grid()\n",
    "plt.loglog(f1, S1, label=\"Medido\")\n",
    "plt.xlabel(\"Frequência (Hz)\")\n",
    "plt.ylabel(\"PSD\")\n",
    "ff = 10.0\n",
    "ss = 1.0\n",
    "a = ss / (ff**(-5/3))\n",
    "plt.plot(f1, a*f1**(-5/3), \"r--\", label=\"Espectro de Kolmogorov $f^{-5/3}$\")\n",
    "plt.legend()"
   ]
  },
  {
   "cell_type": "markdown",
   "id": "economic-korea",
   "metadata": {},
   "source": [
    "# Exemplo: Equações de Lorenz\n",
    "\n",
    "<https://jupyter.org/try-jupyter/retro/notebooks/?path=notebooks/Lorenz.ipynb>\n",
    "\n",
    "$$\n",
    "\\begin{aligned}\n",
    "\\dot{x} & = \\sigma(y-x) \\\\\n",
    "\\dot{y} & = \\rho x - y - xz \\\\\n",
    "\\dot{z} & = -\\beta z + xy\n",
    "\\end{aligned}\n",
    "$$\n"
   ]
  },
  {
   "cell_type": "code",
   "execution_count": null,
   "id": "immune-crown",
   "metadata": {},
   "outputs": [],
   "source": [
    "\n",
    "import numpy as np\n",
    "from matplotlib import pyplot as plt\n",
    "from scipy import integrate\n",
    "np.random.seed(1)\n",
    "x0 = -15 + 30 * np.random.random((N, 3))\n"
   ]
  },
  {
   "cell_type": "code",
   "execution_count": null,
   "id": "advised-warrant",
   "metadata": {},
   "outputs": [],
   "source": []
  },
  {
   "cell_type": "code",
   "execution_count": null,
   "id": "infinite-evans",
   "metadata": {},
   "outputs": [],
   "source": [
    "\n",
    "def lorenz_deriv(x_y_z, t0, sigma=10.0, beta=8./3., rho=28.0):\n",
    "    \"\"\"Compute the time-derivative of a Lorenz system.\"\"\"\n",
    "    x, y, z = x_y_z\n",
    "    return [sigma * (y - x), x * (rho - z) - y, x * y - beta * z]\n"
   ]
  },
  {
   "cell_type": "code",
   "execution_count": null,
   "id": "exempt-jonathan",
   "metadata": {},
   "outputs": [],
   "source": [
    "max_time = 100.0\n",
    "t = np.linspace(0, max_time, int(250*max_time))\n",
    "    "
   ]
  },
  {
   "cell_type": "code",
   "execution_count": null,
   "id": "material-standard",
   "metadata": {},
   "outputs": [],
   "source": [
    "x1 = integrate.odeint(lorenz_deriv, [0.5, 0.4, 0.6], t)\n",
    "x2 = integrate.odeint(lorenz_deriv, [0.50000001, 0.4, 0.6], t)                      "
   ]
  },
  {
   "cell_type": "code",
   "execution_count": null,
   "id": "viral-incentive",
   "metadata": {},
   "outputs": [],
   "source": [
    "plt.figure(figsize=(18,10))\n",
    "\n",
    "plt.plot(t, x1[:,2])\n",
    "plt.plot(t, x2[:,2])"
   ]
  },
  {
   "cell_type": "markdown",
   "id": "hairy-london",
   "metadata": {},
   "source": [
    "# Pandas\n",
    "\n",
    "Biblioteca para análise de dados. Dados em forma de tabelas. Pode-se pensar nisso como se fosse uma planilha.\n",
    "\n",
    "Referência: [Análise de dados com Python e Pandas](https://novatec.com.br/livros/analise-dados-com-python-pandas/) de Daniel Y. Chen\n"
   ]
  },
  {
   "cell_type": "code",
   "execution_count": null,
   "id": "homeless-array",
   "metadata": {},
   "outputs": [],
   "source": []
  },
  {
   "cell_type": "code",
   "execution_count": null,
   "id": "protecting-cartoon",
   "metadata": {},
   "outputs": [],
   "source": [
    "import pandas as pd"
   ]
  },
  {
   "cell_type": "code",
   "execution_count": null,
   "id": "attempted-typing",
   "metadata": {},
   "outputs": [],
   "source": [
    "df = pd.read_csv('gapminder.tsv', sep='\\t')"
   ]
  },
  {
   "cell_type": "code",
   "execution_count": null,
   "id": "pediatric-theology",
   "metadata": {},
   "outputs": [],
   "source": [
    "df"
   ]
  },
  {
   "cell_type": "code",
   "execution_count": null,
   "id": "weekly-nashville",
   "metadata": {},
   "outputs": [],
   "source": [
    "type(df)"
   ]
  },
  {
   "cell_type": "code",
   "execution_count": null,
   "id": "efficient-lebanon",
   "metadata": {},
   "outputs": [],
   "source": [
    "df.shape"
   ]
  },
  {
   "cell_type": "code",
   "execution_count": null,
   "id": "vocational-ecuador",
   "metadata": {},
   "outputs": [],
   "source": [
    "df.columns"
   ]
  },
  {
   "cell_type": "code",
   "execution_count": null,
   "id": "cardiovascular-workstation",
   "metadata": {},
   "outputs": [],
   "source": [
    "df.dtypes"
   ]
  },
  {
   "cell_type": "code",
   "execution_count": null,
   "id": "perceived-mixture",
   "metadata": {},
   "outputs": [],
   "source": [
    "df.info()"
   ]
  },
  {
   "cell_type": "code",
   "execution_count": null,
   "id": "tested-blackberry",
   "metadata": {},
   "outputs": [],
   "source": [
    "df.head()"
   ]
  },
  {
   "cell_type": "code",
   "execution_count": null,
   "id": "ignored-vessel",
   "metadata": {},
   "outputs": [],
   "source": [
    "df.tail()"
   ]
  },
  {
   "cell_type": "code",
   "execution_count": null,
   "id": "selective-pierre",
   "metadata": {},
   "outputs": [],
   "source": [
    "country_df = df['country']"
   ]
  },
  {
   "cell_type": "code",
   "execution_count": null,
   "id": "frozen-danish",
   "metadata": {},
   "outputs": [],
   "source": [
    "country_df"
   ]
  },
  {
   "cell_type": "code",
   "execution_count": null,
   "id": "distinct-maximum",
   "metadata": {},
   "outputs": [],
   "source": [
    "type(country_df)"
   ]
  },
  {
   "cell_type": "code",
   "execution_count": null,
   "id": "offshore-courage",
   "metadata": {},
   "outputs": [],
   "source": [
    "# Pegar linhas de acordo com o rótulo\n",
    "df.loc[0]"
   ]
  },
  {
   "cell_type": "code",
   "execution_count": null,
   "id": "headed-dodge",
   "metadata": {},
   "outputs": [],
   "source": [
    "df.loc[10:20]"
   ]
  },
  {
   "cell_type": "code",
   "execution_count": null,
   "id": "revised-bowling",
   "metadata": {},
   "outputs": [],
   "source": [
    "# Pegar linhas de acordo com o índice\n",
    "df.iloc[0]"
   ]
  },
  {
   "cell_type": "code",
   "execution_count": null,
   "id": "random-mechanics",
   "metadata": {},
   "outputs": [],
   "source": [
    "df.iloc[10:20]"
   ]
  },
  {
   "cell_type": "code",
   "execution_count": null,
   "id": "danish-african",
   "metadata": {},
   "outputs": [],
   "source": [
    "df.loc[-1]"
   ]
  },
  {
   "cell_type": "code",
   "execution_count": null,
   "id": "threatened-minnesota",
   "metadata": {},
   "outputs": [],
   "source": [
    "df.iloc[-1]"
   ]
  },
  {
   "cell_type": "markdown",
   "id": "baking-buffer",
   "metadata": {},
   "source": [
    "## Agrupando e agregando dados\n",
    "\n",
    "Perguntas.\n",
    "\n",
    " 1. Para cada ano qual era a expectativa de vida média\n",
    " 2. Podemos ver isso por continente?\n",
    " 3. Quantos países estão listados por continente?"
   ]
  },
  {
   "cell_type": "code",
   "execution_count": null,
   "id": "attempted-definition",
   "metadata": {},
   "outputs": [],
   "source": [
    "df.groupby('year')['lifeExp'].mean()"
   ]
  },
  {
   "cell_type": "markdown",
   "id": "automatic-sound",
   "metadata": {},
   "source": [
    "Vamos detalhar isso."
   ]
  },
  {
   "cell_type": "code",
   "execution_count": null,
   "id": "decent-gender",
   "metadata": {},
   "outputs": [],
   "source": [
    "grouped_by_year_df = df.groupby('year')\n",
    "type(grouped_by_year_df)"
   ]
  },
  {
   "cell_type": "code",
   "execution_count": null,
   "id": "incident-directory",
   "metadata": {},
   "outputs": [],
   "source": [
    "grouped_by_year_lifeExp = grouped_by_year_df['lifeExp']\n",
    "type(grouped_by_year_lifeExp)"
   ]
  },
  {
   "cell_type": "code",
   "execution_count": null,
   "id": "norwegian-accommodation",
   "metadata": {},
   "outputs": [],
   "source": [
    "b = df['year'] == 1960\n",
    "b"
   ]
  },
  {
   "cell_type": "code",
   "execution_count": null,
   "id": "statewide-participant",
   "metadata": {},
   "outputs": [],
   "source": [
    "df60 = df[b]"
   ]
  },
  {
   "cell_type": "code",
   "execution_count": null,
   "id": "numeric-multiple",
   "metadata": {},
   "outputs": [],
   "source": [
    "df60['lifeExp']"
   ]
  },
  {
   "cell_type": "code",
   "execution_count": null,
   "id": "distant-affiliation",
   "metadata": {},
   "outputs": [],
   "source": [
    "df60['lifeExp'].mean()"
   ]
  },
  {
   "cell_type": "markdown",
   "id": "compact-payroll",
   "metadata": {},
   "source": [
    "Vamos fazer por continente"
   ]
  },
  {
   "cell_type": "code",
   "execution_count": null,
   "id": "timely-stuff",
   "metadata": {},
   "outputs": [],
   "source": [
    "multi_group_var = df.groupby(['year', 'continent'])[['lifeExp', 'gdpPercap']].mean()\n",
    "multi_group_var"
   ]
  }
 ],
 "metadata": {
  "kernelspec": {
   "display_name": "Python 3 (ipykernel)",
   "language": "python",
   "name": "python3"
  },
  "language_info": {
   "codemirror_mode": {
    "name": "ipython",
    "version": 3
   },
   "file_extension": ".py",
   "mimetype": "text/x-python",
   "name": "python",
   "nbconvert_exporter": "python",
   "pygments_lexer": "ipython3",
   "version": "3.9.7"
  }
 },
 "nbformat": 4,
 "nbformat_minor": 5
}
