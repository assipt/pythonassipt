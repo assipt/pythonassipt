{
 "cells": [
  {
   "cell_type": "markdown",
   "id": "36acf19f",
   "metadata": {},
   "source": [
    "# Aula 08: Numpy/Scipy/Pandas/Matplotlib\n",
    "\n",
    "Python se tornou uma linguagem de programação amplamente usada em meios científicos. Em algumas áreas se tornou a lingua franca. Porque e como isso ocorreu.\n",
    "\n",
    "Tradicionalmente, a linguagem usada em computação científica é o FORTRAN, mais especificamente o FORTRAN 77. Também é usado o C/C++ e até hoje essa é a base de quase todas as ferramentas que se utiliza em computação científica. Essas são linguagens compiladas sem interatividade (não estritamente verdade) e o fluxo de trabalho era (ou é...) o seguinte:\n",
    "\n",
    " 1. Escreva um programa\n",
    " 2. Compile o programa\n",
    " 3. Escreva um arquivo com os dados de entrada\n",
    " 4. Execute o programa com os dados de saída\n",
    " 5. O programa escreve seus resultados em um arquivo de saída\n",
    " 6. Use um outro programa para fazer gráficos e analisar os dados\n",
    " 7. Volte para 1 até dar certo\n",
    "\n",
    "<!-- TEASER_END -->\n",
    "\n",
    "Estamos na última aula do curso de python e nunca fizemos nada parecido. Com python e seus ambientes interativos (tanto o terminal quanto o jupyter) fazem esta tarefa ser muito mais fácil, rápido e integrado.\n",
    "\n",
    "Mas aí temos alguns problemas:\n",
    "\n",
    " * Python, sozinho, não tem nenhuma das ferramentas necessárias:\n",
    "   - Matrizes\n",
    "   - Álgebra linear\n",
    "   - Equações diferenciais\n",
    "   - Plotar gráficos\n",
    "   - etc, etc, etc\n",
    " * Python é lento\n",
    "\n",
    "Este era o estado das coisas em 2000 (ou um pouco antes).\n",
    "\n",
    "Qualquer aplicação científica ou de ciência de dados precisa tratar de matrizes e álgebra linear. Isso é tão importante que existem bibliotecas básicas para isso com implementações padrão: \n",
    "  \n",
    " * [BLAS (Basic Linear Algebra Subroutines)](http://netlib.org/blas/index.html)\n",
    " * [LAPACK (Linear Algebra Package)](http://www.netlib.org/lapack/lug/)\n",
    "\n",
    "TODO mundo usa as bibliotecas acima. Se não usa deveria usar. \n"
   ]
  },
  {
   "cell_type": "markdown",
   "id": "6a15121e",
   "metadata": {},
   "source": [
    "## MATLAB e outros\n",
    "\n",
    "Um pessoal, por volta de 1980 criou um software que fazia uma interface interativa para essas bibliotecas. Esse software é o MATLAB - MATrix LABoratory. \n",
    "\n",
    "Mas o MATLAB, apesar de todo o sucesso, tem alguns problemas\n",
    "\n",
    " * É caro\n",
    " * É muito caro\n",
    " * Também é lento (para algumas coisas)\n",
    " * A linguagem de programação parece uma gambiarra\n",
    " * Existem limitações (legais) ao que se pode fazer\n",
    " \n",
    "Outras ferramentas semelhantes surgiram que competem com MATLAB ou focam em outras áreas\n",
    "\n",
    " * Mathematica\n",
    " * IDL\n",
    " * S-PLUS\n",
    " * e outras, muitas outras...\n",
    " \n"
   ]
  },
  {
   "cell_type": "markdown",
   "id": "b8034f8e",
   "metadata": {},
   "source": [
    "## Python como uma linguagem para aplicações matemáticas\n",
    "\n",
    "No final dos anos 90, python estava se tornando uma linguagem de script popular por ser uma linguagem simples, amigável e fácil de aprender. Algumas pessoas acharam interessante usar python para aplicações matemáticas e numéricas. Com isso, começaram a criar extensões que permitissem isso. Após alguns anos e alguns traumas (numeric vs numarray vs numpy) chegou-se a algumas ferramentas básicas que permitiu todo o desenvolvimento posterior:\n",
    "\n",
    " * Numpy: operação com arrays uniformes multidimensionais\n",
    " * Scipy: algoritmos numéricos básicos\n",
    " * Matplotlib: gráficos com qualidade\n",
    " * Pandas: manipulação de dados e tabelas\n",
    "\n",
    "Porque python se tornou tão popular nessa área? Porque resolve problemas! Na minha opinião, python se tornou popular pelos seguintes motivos\n",
    "\n",
    " * Software livre: você usa como quiser e onde quiser e não precisa pagar preços exorbitantes\n",
    " * Base sólida (numpy+scipy+matplotlib+pandas)\n",
    " * Linguagem de programação de verdade (não uma gambiarra)\n",
    " * Linguagem de programação agradável\n",
    " * Extensível: dá para você interfacear com C/C++/Fortran sem grandes dificuldades\n",
    " * Interage bem com a Internet - importante para a ciência de dados\n"
   ]
  },
  {
   "cell_type": "markdown",
   "id": "758dbbaa",
   "metadata": {},
   "source": [
    "## Numpy\n",
    "\n",
    "Numpy é uma biblioteca Python para trabalhar com matrizes multidimensionais.\n",
    "\n",
    "### Instalação\n",
    "\n",
    "Se você está usando a distribuição de Python Anaconda, numpy já vem. Abra um terminal, inicie o Python e execute o seguinte comando:\n",
    "\n",
    "```python\n",
    "import numpy\n",
    "```\n",
    "Se não deu erro, quer dizer o Numpy está instalado.\n",
    "\n",
    "Caso contrário, execute o comando a seguir num terminal (não do Python, o prompt ou powershell)\n",
    "\n",
    "```\n",
    "python -m pip install numpy\n",
    "```\n",
    "Isso vai baixar o numpy e instalar. \n",
    "\n"
   ]
  },
  {
   "cell_type": "markdown",
   "id": "b074e347",
   "metadata": {},
   "source": [
    "### Executando o numpy\n",
    "\n",
    "Para usar o numpy, você primeiro precisa carregar a biblioteca. Para isso existem algumas opções:\n",
    "\n",
    " 1. `import numpy`\n",
    " 2. `import numpy as np`\n",
    " 3. `from numpy import *`\n",
    "\n",
    "A primeira opção tem um problema: tem que digitar `numpy.` na frente de tudo. A última opção você acessa diretamente a funcionalidade mas vai poluir o teu namespace. Eu prefiro a opção do meio e é o que vou utilizar."
   ]
  },
  {
   "cell_type": "code",
   "execution_count": 1,
   "id": "64ef9958",
   "metadata": {},
   "outputs": [],
   "source": [
    "import numpy as np"
   ]
  },
  {
   "cell_type": "markdown",
   "id": "47a94cb9",
   "metadata": {},
   "source": [
    "O tipo básico do numpy é o `ndarray`"
   ]
  },
  {
   "cell_type": "code",
   "execution_count": 2,
   "id": "fdc2494c",
   "metadata": {},
   "outputs": [],
   "source": [
    "?np.ndarray"
   ]
  },
  {
   "cell_type": "markdown",
   "id": "ea5471c0",
   "metadata": {},
   "source": [
    "O `ndarray` é usado para representar uma matriz multidimensional homogênea com ítens de tamanho fixo. \n",
    "\n",
    "### Criando objetos `ndarray`\n",
    "\n",
    "Dificilmente vamos usar o `ndarray` diretamente.\n",
    "\n",
    "A função `array` cria um `ndarray` a partir de listas tuplas e coisas parecidas:"
   ]
  },
  {
   "cell_type": "code",
   "execution_count": 3,
   "id": "b494c147",
   "metadata": {},
   "outputs": [],
   "source": [
    "x = np.array(range(30))"
   ]
  },
  {
   "cell_type": "code",
   "execution_count": 4,
   "id": "3db343ac",
   "metadata": {},
   "outputs": [
    {
     "data": {
      "text/plain": [
       "numpy.ndarray"
      ]
     },
     "execution_count": 4,
     "metadata": {},
     "output_type": "execute_result"
    }
   ],
   "source": [
    "type(x)"
   ]
  },
  {
   "cell_type": "code",
   "execution_count": 5,
   "id": "af26da6d",
   "metadata": {},
   "outputs": [
    {
     "data": {
      "text/plain": [
       "0"
      ]
     },
     "execution_count": 5,
     "metadata": {},
     "output_type": "execute_result"
    }
   ],
   "source": [
    "x[0]"
   ]
  },
  {
   "cell_type": "code",
   "execution_count": 6,
   "id": "1c39ba8f",
   "metadata": {},
   "outputs": [
    {
     "data": {
      "text/plain": [
       "array([10, 11, 12, 13, 14])"
      ]
     },
     "execution_count": 6,
     "metadata": {},
     "output_type": "execute_result"
    }
   ],
   "source": [
    "x[10:15]"
   ]
  },
  {
   "cell_type": "code",
   "execution_count": 7,
   "id": "3a15f608",
   "metadata": {},
   "outputs": [
    {
     "data": {
      "text/plain": [
       "30"
      ]
     },
     "execution_count": 7,
     "metadata": {},
     "output_type": "execute_result"
    }
   ],
   "source": [
    "x.size"
   ]
  },
  {
   "cell_type": "code",
   "execution_count": 8,
   "id": "freelance-sydney",
   "metadata": {},
   "outputs": [
    {
     "data": {
      "text/plain": [
       "array([ 3,  6,  9, 12])"
      ]
     },
     "execution_count": 8,
     "metadata": {},
     "output_type": "execute_result"
    }
   ],
   "source": [
    "# Dá para fatiar!\n",
    "y = x[3:15:3]\n",
    "y"
   ]
  },
  {
   "cell_type": "code",
   "execution_count": 9,
   "id": "improved-shoot",
   "metadata": {},
   "outputs": [
    {
     "data": {
      "text/plain": [
       "(123, 123)"
      ]
     },
     "execution_count": 9,
     "metadata": {},
     "output_type": "execute_result"
    }
   ],
   "source": [
    "# y faz referência à mesma memória que x\n",
    "y[0] = 123\n",
    "y[0], x[3]"
   ]
  },
  {
   "cell_type": "code",
   "execution_count": 10,
   "id": "confident-block",
   "metadata": {},
   "outputs": [
    {
     "data": {
      "text/plain": [
       "(8,)"
      ]
     },
     "execution_count": 10,
     "metadata": {},
     "output_type": "execute_result"
    }
   ],
   "source": [
    "x.strides"
   ]
  },
  {
   "cell_type": "code",
   "execution_count": 11,
   "id": "terminal-gibraltar",
   "metadata": {},
   "outputs": [
    {
     "data": {
      "text/plain": [
       "(24,)"
      ]
     },
     "execution_count": 11,
     "metadata": {},
     "output_type": "execute_result"
    }
   ],
   "source": [
    "y.strides"
   ]
  },
  {
   "cell_type": "code",
   "execution_count": 12,
   "id": "little-midnight",
   "metadata": {},
   "outputs": [
    {
     "data": {
      "text/plain": [
       "dtype('int64')"
      ]
     },
     "execution_count": 12,
     "metadata": {},
     "output_type": "execute_result"
    }
   ],
   "source": [
    "x.dtype"
   ]
  },
  {
   "cell_type": "markdown",
   "id": "bbc63b2d",
   "metadata": {},
   "source": [
    "Usando a mesma sintaxe, é possível criar matrizes:"
   ]
  },
  {
   "cell_type": "code",
   "execution_count": 13,
   "id": "3279d92d",
   "metadata": {},
   "outputs": [],
   "source": [
    "mat = np.array([[1,2,3], [4,5,6]])  # Lista de listas"
   ]
  },
  {
   "cell_type": "code",
   "execution_count": 14,
   "id": "382291de",
   "metadata": {},
   "outputs": [
    {
     "data": {
      "text/plain": [
       "array([[1, 2, 3],\n",
       "       [4, 5, 6]])"
      ]
     },
     "execution_count": 14,
     "metadata": {},
     "output_type": "execute_result"
    }
   ],
   "source": [
    "mat"
   ]
  },
  {
   "cell_type": "code",
   "execution_count": 15,
   "id": "c1bc959a",
   "metadata": {},
   "outputs": [
    {
     "data": {
      "text/plain": [
       "1"
      ]
     },
     "execution_count": 15,
     "metadata": {},
     "output_type": "execute_result"
    }
   ],
   "source": [
    "mat[0,0]"
   ]
  },
  {
   "cell_type": "code",
   "execution_count": 16,
   "id": "5b503bcf",
   "metadata": {},
   "outputs": [
    {
     "data": {
      "text/plain": [
       "4"
      ]
     },
     "execution_count": 16,
     "metadata": {},
     "output_type": "execute_result"
    }
   ],
   "source": [
    "mat[1,0]"
   ]
  },
  {
   "cell_type": "code",
   "execution_count": 17,
   "id": "e0340b11",
   "metadata": {},
   "outputs": [
    {
     "data": {
      "text/plain": [
       "array([1, 2, 3])"
      ]
     },
     "execution_count": 17,
     "metadata": {},
     "output_type": "execute_result"
    }
   ],
   "source": [
    "mat[0,:]"
   ]
  },
  {
   "cell_type": "code",
   "execution_count": 18,
   "id": "12de9278",
   "metadata": {},
   "outputs": [
    {
     "data": {
      "text/plain": [
       "array([1, 4])"
      ]
     },
     "execution_count": 18,
     "metadata": {},
     "output_type": "execute_result"
    }
   ],
   "source": [
    "mat[:,0]"
   ]
  },
  {
   "cell_type": "code",
   "execution_count": 19,
   "id": "d92ae03e",
   "metadata": {},
   "outputs": [
    {
     "data": {
      "text/plain": [
       "6"
      ]
     },
     "execution_count": 19,
     "metadata": {},
     "output_type": "execute_result"
    }
   ],
   "source": [
    "mat.size"
   ]
  },
  {
   "cell_type": "code",
   "execution_count": 20,
   "id": "d36a0a0b",
   "metadata": {},
   "outputs": [
    {
     "data": {
      "text/plain": [
       "2"
      ]
     },
     "execution_count": 20,
     "metadata": {},
     "output_type": "execute_result"
    }
   ],
   "source": [
    "mat.ndim"
   ]
  },
  {
   "cell_type": "code",
   "execution_count": 21,
   "id": "4359f920",
   "metadata": {},
   "outputs": [
    {
     "data": {
      "text/plain": [
       "(2, 3)"
      ]
     },
     "execution_count": 21,
     "metadata": {},
     "output_type": "execute_result"
    }
   ],
   "source": [
    "mat.shape"
   ]
  },
  {
   "cell_type": "code",
   "execution_count": 22,
   "id": "cffa70c0",
   "metadata": {},
   "outputs": [
    {
     "data": {
      "text/plain": [
       "dtype('int64')"
      ]
     },
     "execution_count": 22,
     "metadata": {},
     "output_type": "execute_result"
    }
   ],
   "source": [
    "mat.dtype"
   ]
  },
  {
   "cell_type": "code",
   "execution_count": 23,
   "id": "3b0ec89b",
   "metadata": {},
   "outputs": [],
   "source": [
    "# Array 3D\n",
    "arr = np.array([[[1, 2, 3], [4, 5, 6]], [[1, 2, 3], [4, 5, 6]]])"
   ]
  },
  {
   "cell_type": "code",
   "execution_count": 24,
   "id": "b7f796c5",
   "metadata": {},
   "outputs": [
    {
     "data": {
      "text/plain": [
       "array([[[1, 2, 3],\n",
       "        [4, 5, 6]],\n",
       "\n",
       "       [[1, 2, 3],\n",
       "        [4, 5, 6]]])"
      ]
     },
     "execution_count": 24,
     "metadata": {},
     "output_type": "execute_result"
    }
   ],
   "source": [
    "arr"
   ]
  },
  {
   "cell_type": "code",
   "execution_count": 25,
   "id": "eab1819e",
   "metadata": {},
   "outputs": [
    {
     "data": {
      "text/plain": [
       "3"
      ]
     },
     "execution_count": 25,
     "metadata": {},
     "output_type": "execute_result"
    }
   ],
   "source": [
    "arr.ndim"
   ]
  },
  {
   "cell_type": "code",
   "execution_count": 26,
   "id": "3320ba2a",
   "metadata": {},
   "outputs": [
    {
     "data": {
      "text/plain": [
       "12"
      ]
     },
     "execution_count": 26,
     "metadata": {},
     "output_type": "execute_result"
    }
   ],
   "source": [
    "arr.size"
   ]
  },
  {
   "cell_type": "code",
   "execution_count": 27,
   "id": "49da4204",
   "metadata": {},
   "outputs": [
    {
     "data": {
      "text/plain": [
       "(2, 2, 3)"
      ]
     },
     "execution_count": 27,
     "metadata": {},
     "output_type": "execute_result"
    }
   ],
   "source": [
    "arr.shape"
   ]
  },
  {
   "cell_type": "code",
   "execution_count": 28,
   "id": "effceeff",
   "metadata": {},
   "outputs": [
    {
     "data": {
      "text/plain": [
       "array([[[1, 2, 3],\n",
       "        [4, 5, 6]],\n",
       "\n",
       "       [[1, 2, 3],\n",
       "        [4, 5, 6]]])"
      ]
     },
     "execution_count": 28,
     "metadata": {},
     "output_type": "execute_result"
    }
   ],
   "source": [
    "arr"
   ]
  },
  {
   "cell_type": "code",
   "execution_count": 29,
   "id": "e7b3919c",
   "metadata": {},
   "outputs": [
    {
     "data": {
      "text/plain": [
       "1"
      ]
     },
     "execution_count": 29,
     "metadata": {},
     "output_type": "execute_result"
    }
   ],
   "source": [
    "# Indexando\n",
    "arr[0,0,0]"
   ]
  },
  {
   "cell_type": "code",
   "execution_count": 30,
   "id": "b493cb0a",
   "metadata": {},
   "outputs": [
    {
     "data": {
      "text/plain": [
       "1"
      ]
     },
     "execution_count": 30,
     "metadata": {},
     "output_type": "execute_result"
    }
   ],
   "source": [
    "arr[1,0,0]"
   ]
  },
  {
   "cell_type": "code",
   "execution_count": 31,
   "id": "1e88e001",
   "metadata": {},
   "outputs": [
    {
     "data": {
      "text/plain": [
       "4"
      ]
     },
     "execution_count": 31,
     "metadata": {},
     "output_type": "execute_result"
    }
   ],
   "source": [
    "arr[0,1,0]"
   ]
  },
  {
   "cell_type": "code",
   "execution_count": 32,
   "id": "fb3357d8",
   "metadata": {},
   "outputs": [
    {
     "data": {
      "text/plain": [
       "array([[1, 2, 3],\n",
       "       [4, 5, 6]])"
      ]
     },
     "execution_count": 32,
     "metadata": {},
     "output_type": "execute_result"
    }
   ],
   "source": [
    "arr[0]"
   ]
  },
  {
   "cell_type": "code",
   "execution_count": 33,
   "id": "8a4d9a88",
   "metadata": {},
   "outputs": [
    {
     "data": {
      "text/plain": [
       "array([1, 2, 3])"
      ]
     },
     "execution_count": 33,
     "metadata": {},
     "output_type": "execute_result"
    }
   ],
   "source": [
    "arr[0,0]"
   ]
  },
  {
   "cell_type": "code",
   "execution_count": 34,
   "id": "8d64c360",
   "metadata": {},
   "outputs": [
    {
     "data": {
      "text/plain": [
       "(48, 24, 8)"
      ]
     },
     "execution_count": 34,
     "metadata": {},
     "output_type": "execute_result"
    }
   ],
   "source": [
    "arr.strides"
   ]
  },
  {
   "cell_type": "markdown",
   "id": "increasing-server",
   "metadata": {},
   "source": [
    "#### Melhor jeito para criar os `ndarray`s"
   ]
  },
  {
   "cell_type": "code",
   "execution_count": 35,
   "id": "committed-belfast",
   "metadata": {},
   "outputs": [
    {
     "data": {
      "text/plain": [
       "array([[0., 0., 0., 0.],\n",
       "       [0., 0., 0., 0.],\n",
       "       [0., 0., 0., 0.]])"
      ]
     },
     "execution_count": 35,
     "metadata": {},
     "output_type": "execute_result"
    }
   ],
   "source": [
    "np.zeros( (3,4) )"
   ]
  },
  {
   "cell_type": "code",
   "execution_count": 36,
   "id": "finished-queue",
   "metadata": {},
   "outputs": [
    {
     "data": {
      "text/plain": [
       "array([[[0, 0, 0, 0],\n",
       "        [0, 0, 0, 0],\n",
       "        [0, 0, 0, 0]],\n",
       "\n",
       "       [[0, 0, 0, 0],\n",
       "        [0, 0, 0, 0],\n",
       "        [0, 0, 0, 0]]])"
      ]
     },
     "execution_count": 36,
     "metadata": {},
     "output_type": "execute_result"
    }
   ],
   "source": [
    "np.zeros( (2,3,4), dtype='int64')"
   ]
  },
  {
   "cell_type": "code",
   "execution_count": 37,
   "id": "nearby-chocolate",
   "metadata": {},
   "outputs": [
    {
     "data": {
      "text/plain": [
       "array([[[1., 1., 1., 1.],\n",
       "        [1., 1., 1., 1.],\n",
       "        [1., 1., 1., 1.]],\n",
       "\n",
       "       [[1., 1., 1., 1.],\n",
       "        [1., 1., 1., 1.],\n",
       "        [1., 1., 1., 1.]]])"
      ]
     },
     "execution_count": 37,
     "metadata": {},
     "output_type": "execute_result"
    }
   ],
   "source": [
    "np.ones((2,3,4))"
   ]
  },
  {
   "cell_type": "code",
   "execution_count": 38,
   "id": "suited-brunei",
   "metadata": {},
   "outputs": [
    {
     "data": {
      "text/plain": [
       "array([[[1, 1, 1, 1],\n",
       "        [1, 1, 1, 1],\n",
       "        [1, 1, 1, 1]],\n",
       "\n",
       "       [[1, 1, 1, 1],\n",
       "        [1, 1, 1, 1],\n",
       "        [1, 1, 1, 1]]])"
      ]
     },
     "execution_count": 38,
     "metadata": {},
     "output_type": "execute_result"
    }
   ],
   "source": [
    "np.ones((2,3,4), dtype='int64')"
   ]
  },
  {
   "cell_type": "markdown",
   "id": "matched-number",
   "metadata": {},
   "source": [
    "#### Arrays igualmente espaçados"
   ]
  },
  {
   "cell_type": "code",
   "execution_count": 39,
   "id": "equipped-employee",
   "metadata": {},
   "outputs": [
    {
     "data": {
      "text/plain": [
       "array([0.  , 0.01, 0.02, 0.03, 0.04, 0.05, 0.06, 0.07, 0.08, 0.09, 0.1 ,\n",
       "       0.11, 0.12, 0.13, 0.14, 0.15, 0.16, 0.17, 0.18, 0.19, 0.2 , 0.21,\n",
       "       0.22, 0.23, 0.24, 0.25, 0.26, 0.27, 0.28, 0.29, 0.3 , 0.31, 0.32,\n",
       "       0.33, 0.34, 0.35, 0.36, 0.37, 0.38, 0.39, 0.4 , 0.41, 0.42, 0.43,\n",
       "       0.44, 0.45, 0.46, 0.47, 0.48, 0.49, 0.5 , 0.51, 0.52, 0.53, 0.54,\n",
       "       0.55, 0.56, 0.57, 0.58, 0.59, 0.6 , 0.61, 0.62, 0.63, 0.64, 0.65,\n",
       "       0.66, 0.67, 0.68, 0.69, 0.7 , 0.71, 0.72, 0.73, 0.74, 0.75, 0.76,\n",
       "       0.77, 0.78, 0.79, 0.8 , 0.81, 0.82, 0.83, 0.84, 0.85, 0.86, 0.87,\n",
       "       0.88, 0.89, 0.9 , 0.91, 0.92, 0.93, 0.94, 0.95, 0.96, 0.97, 0.98,\n",
       "       0.99])"
      ]
     },
     "execution_count": 39,
     "metadata": {},
     "output_type": "execute_result"
    }
   ],
   "source": [
    "np.arange(0, 1, 0.01)"
   ]
  },
  {
   "cell_type": "code",
   "execution_count": 40,
   "id": "valid-payroll",
   "metadata": {},
   "outputs": [
    {
     "data": {
      "text/plain": [
       "array([0. , 0.1, 0.2, 0.3, 0.4, 0.5, 0.6, 0.7, 0.8, 0.9, 1. ])"
      ]
     },
     "execution_count": 40,
     "metadata": {},
     "output_type": "execute_result"
    }
   ],
   "source": [
    "np.linspace(0,1,num=11)"
   ]
  },
  {
   "cell_type": "code",
   "execution_count": 41,
   "id": "ranging-belle",
   "metadata": {},
   "outputs": [
    {
     "data": {
      "text/plain": [
       "array([1.00000000e+01, 7.94328235e+01, 6.30957344e+02, 5.01187234e+03,\n",
       "       3.98107171e+04, 3.16227766e+05, 2.51188643e+06, 1.99526231e+07,\n",
       "       1.58489319e+08, 1.25892541e+09, 1.00000000e+10])"
      ]
     },
     "execution_count": 41,
     "metadata": {},
     "output_type": "execute_result"
    }
   ],
   "source": [
    "np.logspace(1,10, num=11)"
   ]
  },
  {
   "cell_type": "code",
   "execution_count": 42,
   "id": "level-while",
   "metadata": {},
   "outputs": [
    {
     "data": {
      "text/plain": [
       "array([  1.        ,   4.64158883,  21.5443469 , 100.        ])"
      ]
     },
     "execution_count": 42,
     "metadata": {},
     "output_type": "execute_result"
    }
   ],
   "source": [
    "np.geomspace(1,100,num=4)"
   ]
  },
  {
   "cell_type": "markdown",
   "id": "cosmetic-injection",
   "metadata": {},
   "source": [
    "### Os objetos `ndarray` têm *um monte* de métodos interessantes\n",
    "\n",
    "#### Soma de tudo quanto é tipo"
   ]
  },
  {
   "cell_type": "code",
   "execution_count": 43,
   "id": "personalized-broadcasting",
   "metadata": {},
   "outputs": [
    {
     "data": {
      "text/plain": [
       "array([ 1,  2,  3,  4,  5,  6,  7,  8,  9, 10, 11, 12])"
      ]
     },
     "execution_count": 43,
     "metadata": {},
     "output_type": "execute_result"
    }
   ],
   "source": [
    "x = np.array(range(1,13))\n",
    "x"
   ]
  },
  {
   "cell_type": "code",
   "execution_count": 44,
   "id": "undefined-grade",
   "metadata": {},
   "outputs": [
    {
     "data": {
      "text/plain": [
       "array([[ 1,  2,  3,  4],\n",
       "       [ 5,  6,  7,  8],\n",
       "       [ 9, 10, 11, 12]])"
      ]
     },
     "execution_count": 44,
     "metadata": {},
     "output_type": "execute_result"
    }
   ],
   "source": [
    "y = x.reshape(3,4)\n",
    "y"
   ]
  },
  {
   "cell_type": "code",
   "execution_count": 45,
   "id": "prospective-asian",
   "metadata": {},
   "outputs": [
    {
     "data": {
      "text/plain": [
       "78"
      ]
     },
     "execution_count": 45,
     "metadata": {},
     "output_type": "execute_result"
    }
   ],
   "source": [
    "y.sum()"
   ]
  },
  {
   "cell_type": "code",
   "execution_count": 46,
   "id": "successful-blackberry",
   "metadata": {},
   "outputs": [
    {
     "data": {
      "text/plain": [
       "array([15, 18, 21, 24])"
      ]
     },
     "execution_count": 46,
     "metadata": {},
     "output_type": "execute_result"
    }
   ],
   "source": [
    "y.sum(0)"
   ]
  },
  {
   "cell_type": "code",
   "execution_count": 47,
   "id": "received-latvia",
   "metadata": {},
   "outputs": [
    {
     "data": {
      "text/plain": [
       "array([10, 26, 42])"
      ]
     },
     "execution_count": 47,
     "metadata": {},
     "output_type": "execute_result"
    }
   ],
   "source": [
    "y.sum(1)"
   ]
  },
  {
   "cell_type": "code",
   "execution_count": 48,
   "id": "approved-mining",
   "metadata": {},
   "outputs": [
    {
     "data": {
      "text/plain": [
       "array([[[ 1,  2,  3,  4],\n",
       "        [ 5,  6,  7,  8],\n",
       "        [ 9, 10, 11, 12]],\n",
       "\n",
       "       [[13, 14, 15, 16],\n",
       "        [17, 18, 19, 20],\n",
       "        [21, 22, 23, 24]]])"
      ]
     },
     "execution_count": 48,
     "metadata": {},
     "output_type": "execute_result"
    }
   ],
   "source": [
    "z = np.array(range(1,25)).reshape(2,3,4)\n",
    "z"
   ]
  },
  {
   "cell_type": "code",
   "execution_count": 49,
   "id": "cosmetic-diary",
   "metadata": {},
   "outputs": [
    {
     "data": {
      "text/plain": [
       "300"
      ]
     },
     "execution_count": 49,
     "metadata": {},
     "output_type": "execute_result"
    }
   ],
   "source": [
    "z.sum()"
   ]
  },
  {
   "cell_type": "code",
   "execution_count": 50,
   "id": "narrative-brush",
   "metadata": {},
   "outputs": [
    {
     "data": {
      "text/plain": [
       "array([[14, 16, 18, 20],\n",
       "       [22, 24, 26, 28],\n",
       "       [30, 32, 34, 36]])"
      ]
     },
     "execution_count": 50,
     "metadata": {},
     "output_type": "execute_result"
    }
   ],
   "source": [
    "z.sum(0)"
   ]
  },
  {
   "cell_type": "code",
   "execution_count": 51,
   "id": "deadly-discrimination",
   "metadata": {},
   "outputs": [
    {
     "data": {
      "text/plain": [
       "array([[15, 18, 21, 24],\n",
       "       [51, 54, 57, 60]])"
      ]
     },
     "execution_count": 51,
     "metadata": {},
     "output_type": "execute_result"
    }
   ],
   "source": [
    "z.sum(1)"
   ]
  },
  {
   "cell_type": "code",
   "execution_count": 52,
   "id": "delayed-montreal",
   "metadata": {},
   "outputs": [
    {
     "data": {
      "text/plain": [
       "array([[10, 26, 42],\n",
       "       [58, 74, 90]])"
      ]
     },
     "execution_count": 52,
     "metadata": {},
     "output_type": "execute_result"
    }
   ],
   "source": [
    "z.sum(2)"
   ]
  },
  {
   "cell_type": "code",
   "execution_count": 53,
   "id": "confidential-skiing",
   "metadata": {},
   "outputs": [
    {
     "data": {
      "text/plain": [
       "array([66, 72, 78, 84])"
      ]
     },
     "execution_count": 53,
     "metadata": {},
     "output_type": "execute_result"
    }
   ],
   "source": [
    "z.sum((0,1))"
   ]
  },
  {
   "cell_type": "code",
   "execution_count": 54,
   "id": "level-shift",
   "metadata": {},
   "outputs": [
    {
     "data": {
      "text/plain": [
       "array([ 68, 100, 132])"
      ]
     },
     "execution_count": 54,
     "metadata": {},
     "output_type": "execute_result"
    }
   ],
   "source": [
    "z.sum((0,2))"
   ]
  },
  {
   "cell_type": "code",
   "execution_count": 55,
   "id": "improving-broad",
   "metadata": {},
   "outputs": [
    {
     "data": {
      "text/plain": [
       "array([ 78, 222])"
      ]
     },
     "execution_count": 55,
     "metadata": {},
     "output_type": "execute_result"
    }
   ],
   "source": [
    "z.sum((1,2))"
   ]
  },
  {
   "cell_type": "markdown",
   "id": "complete-empty",
   "metadata": {},
   "source": [
    "#### Média e desvio padrão"
   ]
  },
  {
   "cell_type": "code",
   "execution_count": 56,
   "id": "standard-hunter",
   "metadata": {},
   "outputs": [
    {
     "data": {
      "text/plain": [
       "12.5"
      ]
     },
     "execution_count": 56,
     "metadata": {},
     "output_type": "execute_result"
    }
   ],
   "source": [
    "z.mean()"
   ]
  },
  {
   "cell_type": "code",
   "execution_count": 57,
   "id": "polar-inventory",
   "metadata": {},
   "outputs": [
    {
     "data": {
      "text/plain": [
       "array([[ 7.,  8.,  9., 10.],\n",
       "       [11., 12., 13., 14.],\n",
       "       [15., 16., 17., 18.]])"
      ]
     },
     "execution_count": 57,
     "metadata": {},
     "output_type": "execute_result"
    }
   ],
   "source": [
    "z.mean(0)"
   ]
  },
  {
   "cell_type": "code",
   "execution_count": 58,
   "id": "european-quantum",
   "metadata": {},
   "outputs": [
    {
     "data": {
      "text/plain": [
       "array([[ 5.,  6.,  7.,  8.],\n",
       "       [17., 18., 19., 20.]])"
      ]
     },
     "execution_count": 58,
     "metadata": {},
     "output_type": "execute_result"
    }
   ],
   "source": [
    "z.mean(1)\n"
   ]
  },
  {
   "cell_type": "code",
   "execution_count": 59,
   "id": "responsible-sharp",
   "metadata": {},
   "outputs": [
    {
     "data": {
      "text/plain": [
       "6.922186552431729"
      ]
     },
     "execution_count": 59,
     "metadata": {},
     "output_type": "execute_result"
    }
   ],
   "source": [
    "z.std()"
   ]
  },
  {
   "cell_type": "code",
   "execution_count": 60,
   "id": "breathing-immunology",
   "metadata": {},
   "outputs": [
    {
     "data": {
      "text/plain": [
       "array([[6., 6., 6., 6.],\n",
       "       [6., 6., 6., 6.],\n",
       "       [6., 6., 6., 6.]])"
      ]
     },
     "execution_count": 60,
     "metadata": {},
     "output_type": "execute_result"
    }
   ],
   "source": [
    "z.std(0)"
   ]
  },
  {
   "cell_type": "markdown",
   "id": "sharing-coalition",
   "metadata": {},
   "source": [
    "#### Máximos e mínimos"
   ]
  },
  {
   "cell_type": "code",
   "execution_count": 61,
   "id": "apparent-walker",
   "metadata": {},
   "outputs": [
    {
     "data": {
      "text/plain": [
       "24"
      ]
     },
     "execution_count": 61,
     "metadata": {},
     "output_type": "execute_result"
    }
   ],
   "source": [
    "z.max()"
   ]
  },
  {
   "cell_type": "code",
   "execution_count": 62,
   "id": "victorian-saturn",
   "metadata": {},
   "outputs": [
    {
     "data": {
      "text/plain": [
       "array([[13, 14, 15, 16],\n",
       "       [17, 18, 19, 20],\n",
       "       [21, 22, 23, 24]])"
      ]
     },
     "execution_count": 62,
     "metadata": {},
     "output_type": "execute_result"
    }
   ],
   "source": [
    "z.max(0)"
   ]
  },
  {
   "cell_type": "code",
   "execution_count": 63,
   "id": "valuable-array",
   "metadata": {},
   "outputs": [
    {
     "data": {
      "text/plain": [
       "array([[ 1,  2,  3,  4],\n",
       "       [13, 14, 15, 16]])"
      ]
     },
     "execution_count": 63,
     "metadata": {},
     "output_type": "execute_result"
    }
   ],
   "source": [
    "z.min(1)"
   ]
  },
  {
   "cell_type": "markdown",
   "id": "former-surprise",
   "metadata": {},
   "source": [
    "## Números aleatórios"
   ]
  },
  {
   "cell_type": "code",
   "execution_count": 64,
   "id": "specified-moscow",
   "metadata": {},
   "outputs": [],
   "source": [
    "import numpy.random as rnd"
   ]
  },
  {
   "cell_type": "code",
   "execution_count": 65,
   "id": "opened-plastic",
   "metadata": {},
   "outputs": [],
   "source": [
    "x = rnd.randn(1000)"
   ]
  },
  {
   "cell_type": "code",
   "execution_count": 66,
   "id": "middle-research",
   "metadata": {},
   "outputs": [
    {
     "data": {
      "text/plain": [
       "0.014018602934028006"
      ]
     },
     "execution_count": 66,
     "metadata": {},
     "output_type": "execute_result"
    }
   ],
   "source": [
    "x.mean()"
   ]
  },
  {
   "cell_type": "code",
   "execution_count": 67,
   "id": "catholic-cornell",
   "metadata": {},
   "outputs": [
    {
     "data": {
      "text/plain": [
       "0.9904797535277062"
      ]
     },
     "execution_count": 67,
     "metadata": {},
     "output_type": "execute_result"
    }
   ],
   "source": [
    "x.std()"
   ]
  },
  {
   "cell_type": "code",
   "execution_count": 68,
   "id": "refined-testimony",
   "metadata": {},
   "outputs": [],
   "source": [
    "import matplotlib.pyplot as plt"
   ]
  },
  {
   "cell_type": "code",
   "execution_count": 69,
   "id": "related-extent",
   "metadata": {},
   "outputs": [
    {
     "data": {
      "text/plain": [
       "[<matplotlib.lines.Line2D at 0x7f051936ea60>]"
      ]
     },
     "execution_count": 69,
     "metadata": {},
     "output_type": "execute_result"
    },
    {
     "data": {
      "image/png": "[encoded data removed]",
      "text/plain": [
       "<Figure size 432x288 with 1 Axes>"
      ]
     },
     "metadata": {
      "needs_background": "light"
     },
     "output_type": "display_data"
    }
   ],
   "source": [
    "plt.plot(x)"
   ]
  },
  {
   "cell_type": "code",
   "execution_count": 70,
   "id": "caroline-sample",
   "metadata": {},
   "outputs": [
    {
     "data": {
      "text/plain": [
       "[<matplotlib.lines.Line2D at 0x7f0519254490>]"
      ]
     },
     "execution_count": 70,
     "metadata": {},
     "output_type": "execute_result"
    },
    {
     "data": {
      "image/png": "[encoded data removed]",
      "text/plain": [
       "<Figure size 432x288 with 1 Axes>"
      ]
     },
     "metadata": {
      "needs_background": "light"
     },
     "output_type": "display_data"
    }
   ],
   "source": [
    "plt.plot(x, \"o\")"
   ]
  },
  {
   "cell_type": "code",
   "execution_count": 71,
   "id": "altered-polymer",
   "metadata": {},
   "outputs": [
    {
     "data": {
      "text/plain": [
       "(array([  7.,  27.,  85., 161., 235., 237., 165.,  64.,  15.,   4.]),\n",
       " array([-3.09730862, -2.46438094, -1.83145326, -1.19852558, -0.56559791,\n",
       "         0.06732977,  0.70025745,  1.33318513,  1.9661128 ,  2.59904048,\n",
       "         3.23196816]),\n",
       " <BarContainer object of 10 artists>)"
      ]
     },
     "execution_count": 71,
     "metadata": {},
     "output_type": "execute_result"
    },
    {
     "data": {
      "image/png": "[encoded data removed]",
      "text/plain": [
       "<Figure size 432x288 with 1 Axes>"
      ]
     },
     "metadata": {
      "needs_background": "light"
     },
     "output_type": "display_data"
    }
   ],
   "source": [
    "plt.hist(x)"
   ]
  },
  {
   "cell_type": "code",
   "execution_count": 72,
   "id": "final-proceeding",
   "metadata": {},
   "outputs": [],
   "source": [
    "y = rnd.gumbel(size=1000)"
   ]
  },
  {
   "cell_type": "code",
   "execution_count": 73,
   "id": "innovative-student",
   "metadata": {},
   "outputs": [
    {
     "data": {
      "text/plain": [
       "(array([ 38., 218., 322., 217., 115.,  50.,  28.,   6.,   4.,   2.]),\n",
       " array([-2.1885189 , -1.25522222, -0.32192555,  0.61137113,  1.54466781,\n",
       "         2.47796448,  3.41126116,  4.34455783,  5.27785451,  6.21115118,\n",
       "         7.14444786]),\n",
       " <BarContainer object of 10 artists>)"
      ]
     },
     "execution_count": 73,
     "metadata": {},
     "output_type": "execute_result"
    },
    {
     "data": {
      "image/png": "[encoded data removed]",
      "text/plain": [
       "<Figure size 432x288 with 1 Axes>"
      ]
     },
     "metadata": {
      "needs_background": "light"
     },
     "output_type": "display_data"
    }
   ],
   "source": [
    "plt.hist(y)"
   ]
  },
  {
   "cell_type": "markdown",
   "id": "roman-drain",
   "metadata": {},
   "source": [
    "## Operações vetorizadas e broadcasting"
   ]
  },
  {
   "cell_type": "code",
   "execution_count": 74,
   "id": "comprehensive-purchase",
   "metadata": {},
   "outputs": [],
   "source": [
    "x = np.linspace(0,1,num=51)\n",
    "y = np.sin(2*np.pi*x)"
   ]
  },
  {
   "cell_type": "code",
   "execution_count": 75,
   "id": "twelve-primary",
   "metadata": {},
   "outputs": [
    {
     "data": {
      "text/plain": [
       "[<matplotlib.lines.Line2D at 0x7f051911c1f0>]"
      ]
     },
     "execution_count": 75,
     "metadata": {},
     "output_type": "execute_result"
    },
    {
     "data": {
      "image/png": "[encoded data removed]",
      "text/plain": [
       "<Figure size 432x288 with 1 Axes>"
      ]
     },
     "metadata": {
      "needs_background": "light"
     },
     "output_type": "display_data"
    }
   ],
   "source": [
    "plt.plot(x,y)"
   ]
  },
  {
   "cell_type": "code",
   "execution_count": 76,
   "id": "female-montreal",
   "metadata": {},
   "outputs": [
    {
     "data": {
      "text/plain": [
       "[<matplotlib.lines.Line2D at 0x7f05190f3d90>]"
      ]
     },
     "execution_count": 76,
     "metadata": {},
     "output_type": "execute_result"
    },
    {
     "data": {
      "image/png": "[encoded data removed]",
      "text/plain": [
       "<Figure size 432x288 with 1 Axes>"
      ]
     },
     "metadata": {
      "needs_background": "light"
     },
     "output_type": "display_data"
    }
   ],
   "source": [
    "plt.plot(x, x**2*np.cos(6*x) + np.exp(x))"
   ]
  },
  {
   "cell_type": "code",
   "execution_count": 77,
   "id": "textile-volunteer",
   "metadata": {},
   "outputs": [
    {
     "data": {
      "text/plain": [
       "array([1.  , 1.02, 1.04, 1.06, 1.08, 1.1 , 1.12, 1.14, 1.16, 1.18, 1.2 ,\n",
       "       1.22, 1.24, 1.26, 1.28, 1.3 , 1.32, 1.34, 1.36, 1.38, 1.4 , 1.42,\n",
       "       1.44, 1.46, 1.48, 1.5 , 1.52, 1.54, 1.56, 1.58, 1.6 , 1.62, 1.64,\n",
       "       1.66, 1.68, 1.7 , 1.72, 1.74, 1.76, 1.78, 1.8 , 1.82, 1.84, 1.86,\n",
       "       1.88, 1.9 , 1.92, 1.94, 1.96, 1.98, 2.  ])"
      ]
     },
     "execution_count": 77,
     "metadata": {},
     "output_type": "execute_result"
    }
   ],
   "source": [
    "x + 1"
   ]
  },
  {
   "cell_type": "code",
   "execution_count": 78,
   "id": "identified-market",
   "metadata": {},
   "outputs": [
    {
     "data": {
      "text/plain": [
       "array([0.  , 0.04, 0.08, 0.12, 0.16, 0.2 , 0.24, 0.28, 0.32, 0.36, 0.4 ,\n",
       "       0.44, 0.48, 0.52, 0.56, 0.6 , 0.64, 0.68, 0.72, 0.76, 0.8 , 0.84,\n",
       "       0.88, 0.92, 0.96, 1.  , 1.04, 1.08, 1.12, 1.16, 1.2 , 1.24, 1.28,\n",
       "       1.32, 1.36, 1.4 , 1.44, 1.48, 1.52, 1.56, 1.6 , 1.64, 1.68, 1.72,\n",
       "       1.76, 1.8 , 1.84, 1.88, 1.92, 1.96, 2.  ])"
      ]
     },
     "execution_count": 78,
     "metadata": {},
     "output_type": "execute_result"
    }
   ],
   "source": [
    "x * 2"
   ]
  },
  {
   "cell_type": "markdown",
   "id": "occasional-complaint",
   "metadata": {},
   "source": [
    "### Outros tipos de indexações\n",
    "\n",
    "#### Indexando usando variáveis lógicas"
   ]
  },
  {
   "cell_type": "code",
   "execution_count": 79,
   "id": "fitted-psychiatry",
   "metadata": {},
   "outputs": [
    {
     "data": {
      "text/plain": [
       "array([ 0.77997741,  1.04347792, -2.54628676,  1.24286073, -1.69926903,\n",
       "       -1.24987317,  2.38368852, -0.19999258,  1.58995438,  0.4589341 ])"
      ]
     },
     "execution_count": 79,
     "metadata": {},
     "output_type": "execute_result"
    }
   ],
   "source": [
    "x = rnd.randn(10)\n",
    "x"
   ]
  },
  {
   "cell_type": "code",
   "execution_count": 80,
   "id": "smaller-disco",
   "metadata": {},
   "outputs": [
    {
     "data": {
      "text/plain": [
       "array([ True,  True, False,  True, False, False,  True, False,  True,\n",
       "        True])"
      ]
     },
     "execution_count": 80,
     "metadata": {},
     "output_type": "execute_result"
    }
   ],
   "source": [
    "positivo = x > 0\n",
    "positivo"
   ]
  },
  {
   "cell_type": "code",
   "execution_count": 81,
   "id": "skilled-version",
   "metadata": {},
   "outputs": [
    {
     "data": {
      "text/plain": [
       "array([0.77997741, 1.04347792, 1.24286073, 2.38368852, 1.58995438,\n",
       "       0.4589341 ])"
      ]
     },
     "execution_count": 81,
     "metadata": {},
     "output_type": "execute_result"
    }
   ],
   "source": [
    "x[positivo]"
   ]
  },
  {
   "cell_type": "code",
   "execution_count": 82,
   "id": "provincial-sequence",
   "metadata": {},
   "outputs": [
    {
     "data": {
      "text/plain": [
       "array([-2.54628676, -1.69926903, -1.24987317, -0.19999258])"
      ]
     },
     "execution_count": 82,
     "metadata": {},
     "output_type": "execute_result"
    }
   ],
   "source": [
    "x[~positivo]"
   ]
  },
  {
   "cell_type": "code",
   "execution_count": 83,
   "id": "subject-patch",
   "metadata": {},
   "outputs": [
    {
     "data": {
      "text/plain": [
       "array([1.51323665e+00, 6.60425522e-01, 7.81835392e-02, 1.76947247e-01,\n",
       "       2.71410749e-01, 3.87662914e-01, 6.00594630e-01, 7.12319894e-01,\n",
       "       1.44725779e+00, 1.34976924e+00, 8.69802835e-02, 9.76557367e-01,\n",
       "       2.84019557e-05, 5.88129534e-01, 1.10595408e+00, 4.94789833e-01,\n",
       "       2.29261008e-01, 1.37328334e+00])"
      ]
     },
     "execution_count": 83,
     "metadata": {},
     "output_type": "execute_result"
    }
   ],
   "source": [
    "y = rnd.randn(5,8)\n",
    "y[y > 0]"
   ]
  },
  {
   "cell_type": "markdown",
   "id": "surprising-japan",
   "metadata": {},
   "source": [
    "#### Já tínhamos visto fatiamento"
   ]
  },
  {
   "cell_type": "code",
   "execution_count": 84,
   "id": "concerned-visit",
   "metadata": {},
   "outputs": [],
   "source": [
    "x = np.array(range(50))"
   ]
  },
  {
   "cell_type": "code",
   "execution_count": 85,
   "id": "committed-maryland",
   "metadata": {},
   "outputs": [
    {
     "data": {
      "text/plain": [
       "array([10, 15, 20])"
      ]
     },
     "execution_count": 85,
     "metadata": {},
     "output_type": "execute_result"
    }
   ],
   "source": [
    "x[ [10,15,20]]"
   ]
  },
  {
   "cell_type": "markdown",
   "id": "unauthorized-entity",
   "metadata": {},
   "source": [
    "## Álgebra linear"
   ]
  },
  {
   "cell_type": "code",
   "execution_count": 86,
   "id": "sharp-oracle",
   "metadata": {},
   "outputs": [
    {
     "data": {
      "text/plain": [
       "array([[ 0.61369072, -0.74715209, -1.18625723, -0.09583723, -1.42886673],\n",
       "       [-0.67965437,  1.63275252, -2.5878914 ,  0.59475804, -1.02750672],\n",
       "       [ 1.07161319, -0.51377731, -0.45160769,  0.59791653, -2.45569912],\n",
       "       [-0.94591804, -0.0476593 ,  0.7482287 ,  2.31135166,  0.00738173],\n",
       "       [ 0.06073121, -1.49248878,  1.10102178,  1.19930112, -1.74138814]])"
      ]
     },
     "execution_count": 86,
     "metadata": {},
     "output_type": "execute_result"
    }
   ],
   "source": [
    "A0 = rnd.randn(5,5)\n",
    "A0"
   ]
  },
  {
   "cell_type": "code",
   "execution_count": 87,
   "id": "neither-boost",
   "metadata": {},
   "outputs": [
    {
     "data": {
      "text/plain": [
       "array([[10.,  0.,  0.,  0.,  0.],\n",
       "       [ 0., 10.,  0.,  0.,  0.],\n",
       "       [ 0.,  0., 10.,  0.,  0.],\n",
       "       [ 0.,  0.,  0., 10.,  0.],\n",
       "       [ 0.,  0.,  0.,  0., 10.]])"
      ]
     },
     "execution_count": 87,
     "metadata": {},
     "output_type": "execute_result"
    }
   ],
   "source": [
    "# Matriz diagonal com diagonal = 10\n",
    "A1 = np.diag(10*np.ones(5))\n",
    "A1"
   ]
  },
  {
   "cell_type": "code",
   "execution_count": 88,
   "id": "superior-cabin",
   "metadata": {},
   "outputs": [],
   "source": [
    "A = A0 + A1"
   ]
  },
  {
   "cell_type": "code",
   "execution_count": 89,
   "id": "amazing-freeware",
   "metadata": {},
   "outputs": [],
   "source": [
    "b = np.ones(5)"
   ]
  },
  {
   "cell_type": "code",
   "execution_count": 90,
   "id": "passing-myrtle",
   "metadata": {},
   "outputs": [],
   "source": [
    "import numpy.linalg as linalg"
   ]
  },
  {
   "cell_type": "code",
   "execution_count": 91,
   "id": "inappropriate-variable",
   "metadata": {},
   "outputs": [
    {
     "data": {
      "text/plain": [
       "array([0.13280483, 0.12639701, 0.12080103, 0.08450851, 0.11457434])"
      ]
     },
     "execution_count": 91,
     "metadata": {},
     "output_type": "execute_result"
    }
   ],
   "source": [
    "# Resolvendo o sistema linear A*x = b\n",
    "x = linalg.solve(A, b)\n",
    "x"
   ]
  },
  {
   "cell_type": "code",
   "execution_count": 92,
   "id": "acute-valuable",
   "metadata": {},
   "outputs": [
    {
     "data": {
      "text/plain": [
       "array([1., 1., 1., 1., 1.])"
      ]
     },
     "execution_count": 92,
     "metadata": {},
     "output_type": "execute_result"
    }
   ],
   "source": [
    "np.dot(A,x)"
   ]
  },
  {
   "cell_type": "code",
   "execution_count": 93,
   "id": "fiscal-catering",
   "metadata": {},
   "outputs": [
    {
     "data": {
      "text/plain": [
       "array([1., 1., 1., 1., 1.])"
      ]
     },
     "execution_count": 93,
     "metadata": {},
     "output_type": "execute_result"
    }
   ],
   "source": [
    "A.dot(x)"
   ]
  },
  {
   "cell_type": "code",
   "execution_count": 94,
   "id": "suffering-appliance",
   "metadata": {},
   "outputs": [
    {
     "data": {
      "text/plain": [
       "array([[ 1.06136907e+01, -6.79654373e-01,  1.07161319e+00,\n",
       "        -9.45918036e-01,  6.07312127e-02],\n",
       "       [-7.47152094e-01,  1.16327525e+01, -5.13777312e-01,\n",
       "        -4.76593049e-02, -1.49248878e+00],\n",
       "       [-1.18625723e+00, -2.58789140e+00,  9.54839231e+00,\n",
       "         7.48228700e-01,  1.10102178e+00],\n",
       "       [-9.58372280e-02,  5.94758040e-01,  5.97916531e-01,\n",
       "         1.23113517e+01,  1.19930112e+00],\n",
       "       [-1.42886673e+00, -1.02750672e+00, -2.45569912e+00,\n",
       "         7.38173448e-03,  8.25861186e+00]])"
      ]
     },
     "execution_count": 94,
     "metadata": {},
     "output_type": "execute_result"
    }
   ],
   "source": [
    "# Matriz transposta\n",
    "A.T"
   ]
  },
  {
   "cell_type": "code",
   "execution_count": 95,
   "id": "another-tanzania",
   "metadata": {},
   "outputs": [],
   "source": [
    "# Inversa da matriz\n",
    "iA = linalg.inv(A)"
   ]
  },
  {
   "cell_type": "code",
   "execution_count": 96,
   "id": "reverse-stick",
   "metadata": {},
   "outputs": [
    {
     "data": {
      "text/plain": [
       "array([[ 1.00000000e+00,  0.00000000e+00,  6.93889390e-18,\n",
       "         0.00000000e+00, -5.55111512e-17],\n",
       "       [-7.37257477e-18,  1.00000000e+00, -3.12250226e-17,\n",
       "        -6.93889390e-18, -2.77555756e-17],\n",
       "       [ 1.30104261e-18, -1.38777878e-17,  1.00000000e+00,\n",
       "         6.93889390e-18, -2.77555756e-17],\n",
       "       [-4.73322011e-18, -6.50521303e-19, -1.31459513e-17,\n",
       "         1.00000000e+00, -2.16840434e-19],\n",
       "       [-8.67361738e-19,  0.00000000e+00,  0.00000000e+00,\n",
       "         0.00000000e+00,  1.00000000e+00]])"
      ]
     },
     "execution_count": 96,
     "metadata": {},
     "output_type": "execute_result"
    }
   ],
   "source": [
    "np.dot(iA,A)"
   ]
  },
  {
   "cell_type": "code",
   "execution_count": 97,
   "id": "intense-afghanistan",
   "metadata": {},
   "outputs": [
    {
     "data": {
      "text/plain": [
       "119920.46580368283"
      ]
     },
     "execution_count": 97,
     "metadata": {},
     "output_type": "execute_result"
    }
   ],
   "source": [
    "# Determinante da matriz\n",
    "linalg.det(A)"
   ]
  },
  {
   "cell_type": "code",
   "execution_count": 98,
   "id": "asian-occasions",
   "metadata": {},
   "outputs": [
    {
     "data": {
      "text/plain": [
       "119920.46580368285"
      ]
     },
     "execution_count": 98,
     "metadata": {},
     "output_type": "execute_result"
    }
   ],
   "source": [
    "1 / linalg.det(iA)"
   ]
  },
  {
   "cell_type": "code",
   "execution_count": 99,
   "id": "alleged-irrigation",
   "metadata": {},
   "outputs": [],
   "source": [
    "# Vamos criar uma matriz simétrica\n",
    "B = A + A.T"
   ]
  },
  {
   "cell_type": "code",
   "execution_count": 100,
   "id": "bronze-communist",
   "metadata": {},
   "outputs": [
    {
     "data": {
      "text/plain": [
       "array([[21.22738143, -1.42680647, -0.11464403, -1.04175526, -1.36813551],\n",
       "       [-1.42680647, 23.26550503, -3.10166871,  0.54709873, -2.5199955 ],\n",
       "       [-0.11464403, -3.10166871, 19.09678463,  1.34614523, -1.35467734],\n",
       "       [-1.04175526,  0.54709873,  1.34614523, 24.62270331,  1.20668286],\n",
       "       [-1.36813551, -2.5199955 , -1.35467734,  1.20668286, 16.51722371]])"
      ]
     },
     "execution_count": 100,
     "metadata": {},
     "output_type": "execute_result"
    }
   ],
   "source": [
    "B"
   ]
  },
  {
   "cell_type": "code",
   "execution_count": 101,
   "id": "sensitive-guidance",
   "metadata": {
    "slideshow": {
     "slide_type": "subslide"
    }
   },
   "outputs": [
    {
     "data": {
      "text/plain": [
       "array([[ 4.60731825,  0.        ,  0.        ,  0.        ,  0.        ],\n",
       "       [-0.30968264,  4.81348124,  0.        ,  0.        ,  0.        ],\n",
       "       [-0.02488303, -0.64597209,  4.32190762,  0.        ,  0.        ],\n",
       "       [-0.22610881,  0.09911262,  0.32498218,  4.94531509,  0.        ],\n",
       "       [-0.29694834, -0.54263331, -0.39625842,  0.26734372,  3.98824536]])"
      ]
     },
     "execution_count": 101,
     "metadata": {},
     "output_type": "execute_result"
    }
   ],
   "source": [
    "linalg.cholesky(B)"
   ]
  },
  {
   "cell_type": "markdown",
   "id": "interesting-discrimination",
   "metadata": {},
   "source": [
    "# [Scipy](https://scipy.org/)\n",
    "\n",
    "Pacote construído sobre o numpy que tem um monte de funcionalidade.\n",
    "\n",
    "Em particular essa biblioteca tem as seguintes áreas:\n",
    "\n",
    " * [Funções especiais](https://docs.scipy.org/doc/scipy/tutorial/special.html)\n",
    " * [Integração numérica (funções e EDO)](https://docs.scipy.org/doc/scipy/tutorial/integrate.html)\n",
    " * [Interpolação](https://docs.scipy.org/doc/scipy/tutorial/interpolate.html)\n",
    " * [Optimização](https://docs.scipy.org/doc/scipy/tutorial/optimize.html)\n",
    " * [Transformadas de Fourier](https://docs.scipy.org/doc/scipy/tutorial/fft.html)\n",
    " * [Processamento de sinais](https://docs.scipy.org/doc/scipy/tutorial/signal.html)\n",
    " * [Álgebra linear](https://docs.scipy.org/doc/scipy/tutorial/linalg.html)\n",
    " * [Problemas de autovalor esparsos com ARPACK](https://docs.scipy.org/doc/scipy/tutorial/arpack.html)\n",
    " * [Rotinas para grafos esparsos](https://docs.scipy.org/doc/scipy/tutorial/csgraph.html)\n",
    " * [Estruturas espaciais](https://docs.scipy.org/doc/scipy/tutorial/spatial.html)\n",
    " * [Estatística](https://docs.scipy.org/doc/scipy/tutorial/stats.html)\n",
    " * [Imagens multidimensionais](https://docs.scipy.org/doc/scipy/tutorial/ndimage.html)\n",
    " * [Entrada e saída](https://docs.scipy.org/doc/scipy/tutorial/io.html)"
   ]
  },
  {
   "cell_type": "markdown",
   "id": "coated-pixel",
   "metadata": {},
   "source": [
    "\n",
    "## Álgebra linear\n",
    "\n",
    "Bem mais completo que o `numpy`!"
   ]
  },
  {
   "cell_type": "code",
   "execution_count": 102,
   "id": "fiscal-training",
   "metadata": {},
   "outputs": [],
   "source": [
    "import scipy.linalg as lin"
   ]
  },
  {
   "cell_type": "code",
   "execution_count": 103,
   "id": "missing-exclusive",
   "metadata": {},
   "outputs": [],
   "source": [
    "# Problema de autovalor\n",
    "λ, ϕ = lin.eig(B)"
   ]
  },
  {
   "cell_type": "code",
   "execution_count": 104,
   "id": "classical-trailer",
   "metadata": {},
   "outputs": [],
   "source": [
    "Λ = np.diag(λ)"
   ]
  },
  {
   "cell_type": "code",
   "execution_count": 105,
   "id": "stuffed-civilization",
   "metadata": {},
   "outputs": [
    {
     "data": {
      "text/plain": [
       "3.552713678800501e-15"
      ]
     },
     "execution_count": 105,
     "metadata": {},
     "output_type": "execute_result"
    }
   ],
   "source": [
    "i = 3\n",
    "np.abs(B.dot(ϕ[:,i]) - λ[i] * ϕ[:,i]).max()"
   ]
  },
  {
   "cell_type": "code",
   "execution_count": 106,
   "id": "fluid-usage",
   "metadata": {},
   "outputs": [],
   "source": [
    "# Decomposição LU\n",
    "P,L,U = lin.lu(A)"
   ]
  },
  {
   "cell_type": "code",
   "execution_count": 107,
   "id": "subject-lebanon",
   "metadata": {},
   "outputs": [
    {
     "data": {
      "text/plain": [
       "array([[1., 0., 0., 0., 0.],\n",
       "       [0., 1., 0., 0., 0.],\n",
       "       [0., 0., 1., 0., 0.],\n",
       "       [0., 0., 0., 1., 0.],\n",
       "       [0., 0., 0., 0., 1.]])"
      ]
     },
     "execution_count": 107,
     "metadata": {},
     "output_type": "execute_result"
    }
   ],
   "source": [
    "P"
   ]
  },
  {
   "cell_type": "code",
   "execution_count": 108,
   "id": "plastic-burton",
   "metadata": {},
   "outputs": [
    {
     "data": {
      "text/plain": [
       "array([[ 1.        ,  0.        ,  0.        ,  0.        ,  0.        ],\n",
       "       [-0.06403563,  1.        ,  0.        ,  0.        ,  0.        ],\n",
       "       [ 0.10096518, -0.03783724,  1.        ,  0.        ,  0.        ],\n",
       "       [-0.08912244, -0.00986174,  0.06441021,  1.        ,  0.        ],\n",
       "       [ 0.00572197, -0.12846141,  0.08002273,  0.09985789,  1.        ]])"
      ]
     },
     "execution_count": 108,
     "metadata": {},
     "output_type": "execute_result"
    }
   ],
   "source": [
    "L"
   ]
  },
  {
   "cell_type": "code",
   "execution_count": 109,
   "id": "complex-plant",
   "metadata": {},
   "outputs": [
    {
     "data": {
      "text/plain": [
       "array([[10.61369072, -0.74715209, -1.18625723, -0.09583723, -1.42886673],\n",
       "       [ 0.        , 11.58490816, -2.66385413,  0.58862104, -1.11900511],\n",
       "       [ 0.        ,  0.        ,  9.5673701 ,  0.62986455, -2.3537734 ],\n",
       "       [ 0.        ,  0.        ,  0.        , 12.26804553,  0.02060935],\n",
       "       [ 0.        ,  0.        ,  0.        ,  0.        ,  8.30933618]])"
      ]
     },
     "execution_count": 109,
     "metadata": {},
     "output_type": "execute_result"
    }
   ],
   "source": [
    "U"
   ]
  },
  {
   "cell_type": "code",
   "execution_count": 110,
   "id": "municipal-invasion",
   "metadata": {},
   "outputs": [],
   "source": [
    "lu, piv = lin.lu_factor(A)"
   ]
  },
  {
   "cell_type": "code",
   "execution_count": 111,
   "id": "extreme-precipitation",
   "metadata": {},
   "outputs": [
    {
     "data": {
      "text/plain": [
       "array([[ 1.06136907e+01, -7.47152094e-01, -1.18625723e+00,\n",
       "        -9.58372280e-02, -1.42886673e+00],\n",
       "       [-6.40356301e-02,  1.15849082e+01, -2.66385413e+00,\n",
       "         5.88621042e-01, -1.11900511e+00],\n",
       "       [ 1.00965180e-01, -3.78372414e-02,  9.56737010e+00,\n",
       "         6.29864550e-01, -2.35377340e+00],\n",
       "       [-8.91224420e-02, -9.86173757e-03,  6.44102112e-02,\n",
       "         1.22680455e+01,  2.06093500e-02],\n",
       "       [ 5.72196932e-03, -1.28461406e-01,  8.00227288e-02,\n",
       "         9.98578873e-02,  8.30933618e+00]])"
      ]
     },
     "execution_count": 111,
     "metadata": {},
     "output_type": "execute_result"
    }
   ],
   "source": [
    "lu"
   ]
  },
  {
   "cell_type": "code",
   "execution_count": 112,
   "id": "identified-birmingham",
   "metadata": {},
   "outputs": [
    {
     "data": {
      "text/plain": [
       "array([0.13280483, 0.12639701, 0.12080103, 0.08450851, 0.11457434])"
      ]
     },
     "execution_count": 112,
     "metadata": {},
     "output_type": "execute_result"
    }
   ],
   "source": [
    "lin.lu_solve( (lu,piv), b) "
   ]
  },
  {
   "cell_type": "code",
   "execution_count": null,
   "id": "experienced-matter",
   "metadata": {},
   "outputs": [],
   "source": []
  },
  {
   "cell_type": "markdown",
   "id": "touched-mapping",
   "metadata": {},
   "source": [
    "## Integração numérica (funções)"
   ]
  },
  {
   "cell_type": "code",
   "execution_count": 113,
   "id": "historical-aurora",
   "metadata": {},
   "outputs": [],
   "source": [
    "import scipy.integrate as integr"
   ]
  },
  {
   "cell_type": "markdown",
   "id": "occupational-advancement",
   "metadata": {},
   "source": [
    "Quero calcular a seguinte integral:\n",
    "\n",
    "$$\n",
    "\\int_0^1 \\cos(x) \\: dx = \\sin(1)\n",
    "$$"
   ]
  },
  {
   "cell_type": "code",
   "execution_count": 114,
   "id": "closing-rates",
   "metadata": {},
   "outputs": [
    {
     "data": {
      "text/plain": [
       "0.841470984807879"
      ]
     },
     "execution_count": 114,
     "metadata": {},
     "output_type": "execute_result"
    }
   ],
   "source": [
    "I1 = integr.romberg(np.cos, 0, 1)\n",
    "I1"
   ]
  },
  {
   "cell_type": "code",
   "execution_count": 115,
   "id": "featured-morocco",
   "metadata": {},
   "outputs": [
    {
     "data": {
      "text/plain": [
       "0.8414709848078965"
      ]
     },
     "execution_count": 115,
     "metadata": {},
     "output_type": "execute_result"
    }
   ],
   "source": [
    "Ie = np.sin(1)\n",
    "Ie"
   ]
  },
  {
   "cell_type": "code",
   "execution_count": 116,
   "id": "golden-armenia",
   "metadata": {},
   "outputs": [
    {
     "data": {
      "text/plain": [
       "-1.7541523789077473e-14"
      ]
     },
     "execution_count": 116,
     "metadata": {},
     "output_type": "execute_result"
    }
   ],
   "source": [
    "erro = I1 - Ie\n",
    "erro"
   ]
  },
  {
   "cell_type": "code",
   "execution_count": 117,
   "id": "identical-import",
   "metadata": {},
   "outputs": [],
   "source": [
    "# Funçãosinha bem chata para integrar na mão...\n",
    "def minhafun(x):\n",
    "    return np.cos(x**2)"
   ]
  },
  {
   "cell_type": "code",
   "execution_count": 118,
   "id": "serious-juvenile",
   "metadata": {},
   "outputs": [
    {
     "data": {
      "text/plain": [
       "0.9045242379007594"
      ]
     },
     "execution_count": 118,
     "metadata": {},
     "output_type": "execute_result"
    }
   ],
   "source": [
    "integr.romberg(minhafun, 0, 1)"
   ]
  },
  {
   "cell_type": "markdown",
   "id": "beneficial-eugene",
   "metadata": {},
   "source": [
    "# Exemplo Camada limite\n",
    "\n",
    "A camada limite foi medida no túnel de vento. Vamos analisar estes dados.\n",
    "Os dados estão armazenados em um arquivo no format HDF5, um formato binário\n",
    "adequado para armazenar arrays de grandes dimensões"
   ]
  },
  {
   "cell_type": "markdown",
   "id": "double-cambridge",
   "metadata": {},
   "source": [
    "## Ler os dados de um arquivo HDF5"
   ]
  },
  {
   "cell_type": "code",
   "execution_count": 119,
   "id": "confidential-teacher",
   "metadata": {},
   "outputs": [],
   "source": [
    "# Carregar a biblioteca python para ler arquivos HDF5:\n",
    "import h5py"
   ]
  },
  {
   "cell_type": "code",
   "execution_count": 120,
   "id": "accurate-prize",
   "metadata": {},
   "outputs": [],
   "source": [
    "# Abrir o arquivo:\n",
    "f = h5py.File(\"camada-limite.h5\", \"r\")"
   ]
  },
  {
   "cell_type": "code",
   "execution_count": 121,
   "id": "medieval-laser",
   "metadata": {},
   "outputs": [
    {
     "data": {
      "text/plain": [
       "<KeysViewHDF5 ['U', 'z']>"
      ]
     },
     "execution_count": 121,
     "metadata": {},
     "output_type": "execute_result"
    }
   ],
   "source": [
    "# Vamos ver o que tem dentro deste arquivo\n",
    "f.keys()"
   ]
  },
  {
   "cell_type": "code",
   "execution_count": 122,
   "id": "impossible-institute",
   "metadata": {},
   "outputs": [],
   "source": [
    "U = f['U'][:]\n",
    "z = f['z'][:]"
   ]
  },
  {
   "cell_type": "code",
   "execution_count": 123,
   "id": "beautiful-youth",
   "metadata": {},
   "outputs": [
    {
     "data": {
      "text/plain": [
       "(39, 80000)"
      ]
     },
     "execution_count": 123,
     "metadata": {},
     "output_type": "execute_result"
    }
   ],
   "source": [
    "U.shape"
   ]
  },
  {
   "cell_type": "code",
   "execution_count": 124,
   "id": "committed-voltage",
   "metadata": {},
   "outputs": [
    {
     "data": {
      "text/plain": [
       "(39,)"
      ]
     },
     "execution_count": 124,
     "metadata": {},
     "output_type": "execute_result"
    }
   ],
   "source": [
    "z.shape"
   ]
  },
  {
   "cell_type": "code",
   "execution_count": 125,
   "id": "orange-pizza",
   "metadata": {},
   "outputs": [],
   "source": [
    "# Vamos ler a taxa de amostragem a partir dos atributos de U\n",
    "fs = f['U'].attrs['rate'][0]"
   ]
  },
  {
   "cell_type": "markdown",
   "id": "found-album",
   "metadata": {},
   "source": [
    "## Plotar os perfis de velocidade\n",
    "Vamos plotar o perfil de velocidades e intensidade de turbulência:"
   ]
  },
  {
   "cell_type": "code",
   "execution_count": 126,
   "id": "tired-trust",
   "metadata": {},
   "outputs": [],
   "source": [
    "Um = U.mean(1)\n",
    "sU = U.std(1)\n",
    "I = sU / Um * 100"
   ]
  },
  {
   "cell_type": "code",
   "execution_count": 127,
   "id": "liable-wildlife",
   "metadata": {},
   "outputs": [
    {
     "data": {
      "text/plain": [
       "Text(0, 0.5, 'Altura (m)')"
      ]
     },
     "execution_count": 127,
     "metadata": {},
     "output_type": "execute_result"
    },
    {
     "data": {
      "image/png": "[encoded data removed]",
      "text/plain": [
       "<Figure size 864x432 with 2 Axes>"
      ]
     },
     "metadata": {
      "needs_background": "light"
     },
     "output_type": "display_data"
    }
   ],
   "source": [
    "plt.figure(figsize=(12,6))\n",
    "plt.subplot(1,2,1)\n",
    "plt.plot(Um, z, \"o\")\n",
    "plt.xlabel(\"Velocidade (m/s)\")\n",
    "plt.ylabel(\"Altura (m)\")\n",
    "plt.subplot(1,2,2)\n",
    "plt.plot(I, z, \"o\")\n",
    "plt.xlabel(\"Intensidade de turb. (%)\")\n",
    "plt.ylabel(\"Altura (m)\")\n"
   ]
  },
  {
   "cell_type": "code",
   "execution_count": 128,
   "id": "later-government",
   "metadata": {},
   "outputs": [
    {
     "data": {
      "text/plain": [
       "Text(0.5, 1.0, 'Turbulência')"
      ]
     },
     "execution_count": 128,
     "metadata": {},
     "output_type": "execute_result"
    },
    {
     "data": {
      "image/png": "[encoded data removed]",
      "text/plain": [
       "<Figure size 864x576 with 2 Axes>"
      ]
     },
     "metadata": {
      "needs_background": "light"
     },
     "output_type": "display_data"
    }
   ],
   "source": [
    "fig, (ax1, ax2) = plt.subplots(1, 2, sharey=True, figsize=(12,8))\n",
    "ax1.plot(Um, z, \"o\")\n",
    "ax1.grid()\n",
    "ax1.set_xlabel(\"Velocidade (m/s)\")\n",
    "ax1.set_ylabel(\"Altura (m)\")\n",
    "ax1.set_title(\"Perfil de velocidade\")\n",
    "ax2.plot(I, z, \"o\")\n",
    "ax2.grid()\n",
    "ax2.set_xlabel(\"Intensidade de turb. (%)\")\n",
    "ax2.set_title(\"Turbulência\")\n",
    "#plt.ylabel(\"Altura (m)\")"
   ]
  },
  {
   "cell_type": "markdown",
   "id": "limiting-lesbian",
   "metadata": {},
   "source": [
    "## Espectro de turbulência"
   ]
  },
  {
   "cell_type": "code",
   "execution_count": 129,
   "id": "bearing-syndicate",
   "metadata": {},
   "outputs": [],
   "source": [
    "iref = 14\n",
    "zref = z[iref]\n",
    "u = U[iref]\n",
    "N = len(u)\n",
    "dt = 1/fs"
   ]
  },
  {
   "cell_type": "code",
   "execution_count": 130,
   "id": "published-clock",
   "metadata": {},
   "outputs": [],
   "source": [
    "t = np.arange(N) * dt\n",
    "ū = u.mean()\n",
    "σ = u.std()"
   ]
  },
  {
   "cell_type": "code",
   "execution_count": 131,
   "id": "criminal-figure",
   "metadata": {},
   "outputs": [
    {
     "data": {
      "text/plain": [
       "Text(0, 0.5, 'Velocidade (m/s)')"
      ]
     },
     "execution_count": 131,
     "metadata": {},
     "output_type": "execute_result"
    },
    {
     "data": {
      "image/png": "[encoded data removed]",
      "text/plain": [
       "<Figure size 864x432 with 1 Axes>"
      ]
     },
     "metadata": {
      "needs_background": "light"
     },
     "output_type": "display_data"
    }
   ],
   "source": [
    "plt.figure(figsize=(12,6))\n",
    "plt.plot(t, u, label=\"$U(t)$\", color='k')\n",
    "plt.axhline(y=ū, linewidth=3, color='g', label=\"$\\\\bar{U}$\")\n",
    "plt.axhline(y = ū+2*σ, color='r', linestyle='--', linewidth=2, label='$\\\\bar{U} + 2\\\\sigma$')\n",
    "plt.axhline(y = ū-2*σ, color='b', linestyle='--', linewidth=2, label='$\\\\bar{U} - 2\\\\sigma$')\n",
    "\n",
    "plt.legend(loc='upper right')\n",
    "plt.xlabel(\"Tempo (s)\")\n",
    "plt.ylabel(\"Velocidade (m/s)\")"
   ]
  },
  {
   "cell_type": "code",
   "execution_count": 132,
   "id": "motivated-buyer",
   "metadata": {},
   "outputs": [
    {
     "data": {
      "text/plain": [
       "Text(0, 0.5, 'Velocidade (m/s)')"
      ]
     },
     "execution_count": 132,
     "metadata": {},
     "output_type": "execute_result"
    },
    {
     "data": {
      "image/png": "[encoded data removed]",
      "text/plain": [
       "<Figure size 864x432 with 1 Axes>"
      ]
     },
     "metadata": {
      "needs_background": "light"
     },
     "output_type": "display_data"
    }
   ],
   "source": [
    "plt.figure(figsize=(12,6))\n",
    "plt.xlim( (18,20))\n",
    "plt.plot(t, u, label=\"$U(t)$\", color='k')\n",
    "plt.axhline(y=ū, linewidth=3, color='g', label=\"$\\\\bar{U}$\")\n",
    "plt.axhline(y = ū+2*σ, color='r', linestyle='--', linewidth=2, label='$\\\\bar{U} + 2\\\\sigma$')\n",
    "plt.axhline(y = ū-2*σ, color='b', linestyle='--', linewidth=2, label='$\\\\bar{U} - 2\\\\sigma$')\n",
    "\n",
    "plt.legend(loc='upper right')\n",
    "plt.xlabel(\"Tempo (s)\")\n",
    "plt.ylabel(\"Velocidade (m/s)\")"
   ]
  },
  {
   "cell_type": "markdown",
   "id": "liberal-contents",
   "metadata": {},
   "source": [
    "## Análise espectral da velocidade"
   ]
  },
  {
   "cell_type": "code",
   "execution_count": 133,
   "id": "sunrise-mediterranean",
   "metadata": {},
   "outputs": [],
   "source": [
    "import scipy.signal as signal"
   ]
  },
  {
   "cell_type": "code",
   "execution_count": 134,
   "id": "growing-lebanon",
   "metadata": {},
   "outputs": [],
   "source": [
    "f, S = signal.welch(u, fs, scaling='spectrum', nperseg=1000)"
   ]
  },
  {
   "cell_type": "code",
   "execution_count": 135,
   "id": "fundamental-thailand",
   "metadata": {},
   "outputs": [],
   "source": [
    "f1 = f[1:]\n",
    "S1 = S[1:]"
   ]
  },
  {
   "cell_type": "code",
   "execution_count": 136,
   "id": "productive-cherry",
   "metadata": {},
   "outputs": [
    {
     "data": {
      "text/plain": [
       "<matplotlib.legend.Legend at 0x7f050c9ff5e0>"
      ]
     },
     "execution_count": 136,
     "metadata": {},
     "output_type": "execute_result"
    },
    {
     "data": {
      "image/png": "[encoded data removed]",
      "text/plain": [
       "<Figure size 864x432 with 1 Axes>"
      ]
     },
     "metadata": {
      "needs_background": "light"
     },
     "output_type": "display_data"
    }
   ],
   "source": [
    "plt.figure(figsize=(12,6))\n",
    "plt.grid()\n",
    "plt.loglog(f1, S1, label=\"Medido\")\n",
    "plt.xlabel(\"Frequência (Hz)\")\n",
    "plt.ylabel(\"PSD\")\n",
    "ff = 10.0\n",
    "ss = 1.0\n",
    "a = ss / (ff**(-5/3))\n",
    "plt.plot(f1, a*f1**(-5/3), \"r--\", label=\"Espectro de Kolmogorov $f^{-5/3}$\")\n",
    "plt.legend()"
   ]
  },
  {
   "cell_type": "markdown",
   "id": "healthy-compression",
   "metadata": {},
   "source": [
    "# Exemplo: Equações de Lorenz\n",
    "\n",
    "<https://jupyter.org/try-jupyter/retro/notebooks/?path=notebooks/Lorenz.ipynb>\n",
    "\n",
    "$$\n",
    "\\begin{aligned}\n",
    "\\dot{x} & = \\sigma(y-x) \\\\\n",
    "\\dot{y} & = \\rho x - y - xz \\\\\n",
    "\\dot{z} & = -\\beta z + xy\n",
    "\\end{aligned}\n",
    "$$\n"
   ]
  },
  {
   "cell_type": "code",
   "execution_count": 137,
   "id": "understanding-ballot",
   "metadata": {},
   "outputs": [],
   "source": [
    "\n",
    "import numpy as np\n",
    "from matplotlib import pyplot as plt\n",
    "from scipy import integrate\n",
    "np.random.seed(1)\n",
    "x0 = -15 + 30 * np.random.random((N, 3))\n"
   ]
  },
  {
   "cell_type": "code",
   "execution_count": null,
   "id": "designed-documentary",
   "metadata": {},
   "outputs": [],
   "source": []
  },
  {
   "cell_type": "code",
   "execution_count": 138,
   "id": "billion-cardiff",
   "metadata": {},
   "outputs": [],
   "source": [
    "\n",
    "def lorenz_deriv(x_y_z, t0, sigma=10.0, beta=8./3., rho=28.0):\n",
    "    \"\"\"Compute the time-derivative of a Lorenz system.\"\"\"\n",
    "    x, y, z = x_y_z\n",
    "    return [sigma * (y - x), x * (rho - z) - y, x * y - beta * z]\n"
   ]
  },
  {
   "cell_type": "code",
   "execution_count": 139,
   "id": "better-dragon",
   "metadata": {},
   "outputs": [],
   "source": [
    "max_time = 100.0\n",
    "t = np.linspace(0, max_time, int(250*max_time))\n",
    "    "
   ]
  },
  {
   "cell_type": "code",
   "execution_count": 140,
   "id": "varying-edinburgh",
   "metadata": {},
   "outputs": [],
   "source": [
    "x1 = integrate.odeint(lorenz_deriv, [0.5, 0.4, 0.6], t)\n",
    "x2 = integrate.odeint(lorenz_deriv, [0.50000001, 0.4, 0.6], t)                      "
   ]
  },
  {
   "cell_type": "code",
   "execution_count": 141,
   "id": "recognized-education",
   "metadata": {},
   "outputs": [
    {
     "data": {
      "text/plain": [
       "[<matplotlib.lines.Line2D at 0x7f050c7d67c0>]"
      ]
     },
     "execution_count": 141,
     "metadata": {},
     "output_type": "execute_result"
    },
    {
     "data": {
      "image/png": "[encoded data removed]",
      "text/plain": [
       "<Figure size 1296x720 with 1 Axes>"
      ]
     },
     "metadata": {
      "needs_background": "light"
     },
     "output_type": "display_data"
    }
   ],
   "source": [
    "plt.figure(figsize=(18,10))\n",
    "\n",
    "plt.plot(t, x1[:,2])\n",
    "plt.plot(t, x2[:,2])"
   ]
  },
  {
   "cell_type": "markdown",
   "id": "healthy-bottle",
   "metadata": {},
   "source": [
    "# Pandas\n",
    "\n",
    "Biblioteca para análise de dados. Dados em forma de tabelas. Pode-se pensar nisso como se fosse uma planilha.\n",
    "\n",
    "Referência: [Análise de dados com Python e Pandas](https://novatec.com.br/livros/analise-dados-com-python-pandas/) de Daniel Y. Chen\n"
   ]
  },
  {
   "cell_type": "code",
   "execution_count": null,
   "id": "smooth-pilot",
   "metadata": {},
   "outputs": [],
   "source": []
  },
  {
   "cell_type": "code",
   "execution_count": 142,
   "id": "primary-distinction",
   "metadata": {},
   "outputs": [],
   "source": [
    "import pandas as pd"
   ]
  },
  {
   "cell_type": "code",
   "execution_count": 143,
   "id": "conscious-choice",
   "metadata": {},
   "outputs": [],
   "source": [
    "df = pd.read_csv('gapminder.tsv', sep='\\t')"
   ]
  },
  {
   "cell_type": "code",
   "execution_count": 144,
   "id": "continuing-leone",
   "metadata": {},
   "outputs": [
    {
     "data": {
      "text/html": [
       "<div>\n",
       "<style scoped>\n",
       "    .dataframe tbody tr th:only-of-type {\n",
       "        vertical-align: middle;\n",
       "    }\n",
       "\n",
       "    .dataframe tbody tr th {\n",
       "        vertical-align: top;\n",
       "    }\n",
       "\n",
       "    .dataframe thead th {\n",
       "        text-align: right;\n",
       "    }\n",
       "</style>\n",
       "<table border=\"1\" class=\"dataframe\">\n",
       "  <thead>\n",
       "    <tr style=\"text-align: right;\">\n",
       "      <th></th>\n",
       "      <th>country</th>\n",
       "      <th>continent</th>\n",
       "      <th>year</th>\n",
       "      <th>lifeExp</th>\n",
       "      <th>pop</th>\n",
       "      <th>gdpPercap</th>\n",
       "    </tr>\n",
       "  </thead>\n",
       "  <tbody>\n",
       "    <tr>\n",
       "      <th>0</th>\n",
       "      <td>Afghanistan</td>\n",
       "      <td>Asia</td>\n",
       "      <td>1952</td>\n",
       "      <td>28.801</td>\n",
       "      <td>8425333</td>\n",
       "      <td>779.445314</td>\n",
       "    </tr>\n",
       "    <tr>\n",
       "      <th>1</th>\n",
       "      <td>Afghanistan</td>\n",
       "      <td>Asia</td>\n",
       "      <td>1957</td>\n",
       "      <td>30.332</td>\n",
       "      <td>9240934</td>\n",
       "      <td>820.853030</td>\n",
       "    </tr>\n",
       "    <tr>\n",
       "      <th>2</th>\n",
       "      <td>Afghanistan</td>\n",
       "      <td>Asia</td>\n",
       "      <td>1962</td>\n",
       "      <td>31.997</td>\n",
       "      <td>10267083</td>\n",
       "      <td>853.100710</td>\n",
       "    </tr>\n",
       "    <tr>\n",
       "      <th>3</th>\n",
       "      <td>Afghanistan</td>\n",
       "      <td>Asia</td>\n",
       "      <td>1967</td>\n",
       "      <td>34.020</td>\n",
       "      <td>11537966</td>\n",
       "      <td>836.197138</td>\n",
       "    </tr>\n",
       "    <tr>\n",
       "      <th>4</th>\n",
       "      <td>Afghanistan</td>\n",
       "      <td>Asia</td>\n",
       "      <td>1972</td>\n",
       "      <td>36.088</td>\n",
       "      <td>13079460</td>\n",
       "      <td>739.981106</td>\n",
       "    </tr>\n",
       "    <tr>\n",
       "      <th>...</th>\n",
       "      <td>...</td>\n",
       "      <td>...</td>\n",
       "      <td>...</td>\n",
       "      <td>...</td>\n",
       "      <td>...</td>\n",
       "      <td>...</td>\n",
       "    </tr>\n",
       "    <tr>\n",
       "      <th>3308</th>\n",
       "      <td>Zimbabwe</td>\n",
       "      <td>Africa</td>\n",
       "      <td>1987</td>\n",
       "      <td>62.351</td>\n",
       "      <td>9216418</td>\n",
       "      <td>706.157306</td>\n",
       "    </tr>\n",
       "    <tr>\n",
       "      <th>3309</th>\n",
       "      <td>Zimbabwe</td>\n",
       "      <td>Africa</td>\n",
       "      <td>1992</td>\n",
       "      <td>60.377</td>\n",
       "      <td>10704340</td>\n",
       "      <td>693.420786</td>\n",
       "    </tr>\n",
       "    <tr>\n",
       "      <th>3310</th>\n",
       "      <td>Zimbabwe</td>\n",
       "      <td>Africa</td>\n",
       "      <td>1997</td>\n",
       "      <td>46.809</td>\n",
       "      <td>11404948</td>\n",
       "      <td>792.449960</td>\n",
       "    </tr>\n",
       "    <tr>\n",
       "      <th>3311</th>\n",
       "      <td>Zimbabwe</td>\n",
       "      <td>Africa</td>\n",
       "      <td>2002</td>\n",
       "      <td>39.989</td>\n",
       "      <td>11926563</td>\n",
       "      <td>672.038623</td>\n",
       "    </tr>\n",
       "    <tr>\n",
       "      <th>3312</th>\n",
       "      <td>Zimbabwe</td>\n",
       "      <td>Africa</td>\n",
       "      <td>2007</td>\n",
       "      <td>43.487</td>\n",
       "      <td>12311143</td>\n",
       "      <td>469.709298</td>\n",
       "    </tr>\n",
       "  </tbody>\n",
       "</table>\n",
       "<p>3313 rows × 6 columns</p>\n",
       "</div>"
      ],
      "text/plain": [
       "          country continent  year  lifeExp       pop   gdpPercap\n",
       "0     Afghanistan      Asia  1952   28.801   8425333  779.445314\n",
       "1     Afghanistan      Asia  1957   30.332   9240934  820.853030\n",
       "2     Afghanistan      Asia  1962   31.997  10267083  853.100710\n",
       "3     Afghanistan      Asia  1967   34.020  11537966  836.197138\n",
       "4     Afghanistan      Asia  1972   36.088  13079460  739.981106\n",
       "...           ...       ...   ...      ...       ...         ...\n",
       "3308     Zimbabwe    Africa  1987   62.351   9216418  706.157306\n",
       "3309     Zimbabwe    Africa  1992   60.377  10704340  693.420786\n",
       "3310     Zimbabwe    Africa  1997   46.809  11404948  792.449960\n",
       "3311     Zimbabwe    Africa  2002   39.989  11926563  672.038623\n",
       "3312     Zimbabwe    Africa  2007   43.487  12311143  469.709298\n",
       "\n",
       "[3313 rows x 6 columns]"
      ]
     },
     "execution_count": 144,
     "metadata": {},
     "output_type": "execute_result"
    }
   ],
   "source": [
    "df"
   ]
  },
  {
   "cell_type": "code",
   "execution_count": 145,
   "id": "freelance-curve",
   "metadata": {},
   "outputs": [
    {
     "data": {
      "text/plain": [
       "pandas.core.frame.DataFrame"
      ]
     },
     "execution_count": 145,
     "metadata": {},
     "output_type": "execute_result"
    }
   ],
   "source": [
    "type(df)"
   ]
  },
  {
   "cell_type": "code",
   "execution_count": 146,
   "id": "marine-delight",
   "metadata": {},
   "outputs": [
    {
     "data": {
      "text/plain": [
       "(3313, 6)"
      ]
     },
     "execution_count": 146,
     "metadata": {},
     "output_type": "execute_result"
    }
   ],
   "source": [
    "df.shape"
   ]
  },
  {
   "cell_type": "code",
   "execution_count": 147,
   "id": "understood-czech",
   "metadata": {},
   "outputs": [
    {
     "data": {
      "text/plain": [
       "Index(['country', 'continent', 'year', 'lifeExp', 'pop', 'gdpPercap'], dtype='object')"
      ]
     },
     "execution_count": 147,
     "metadata": {},
     "output_type": "execute_result"
    }
   ],
   "source": [
    "df.columns"
   ]
  },
  {
   "cell_type": "code",
   "execution_count": 148,
   "id": "czech-manitoba",
   "metadata": {},
   "outputs": [
    {
     "data": {
      "text/plain": [
       "country       object\n",
       "continent     object\n",
       "year           int64\n",
       "lifeExp      float64\n",
       "pop            int64\n",
       "gdpPercap    float64\n",
       "dtype: object"
      ]
     },
     "execution_count": 148,
     "metadata": {},
     "output_type": "execute_result"
    }
   ],
   "source": [
    "df.dtypes"
   ]
  },
  {
   "cell_type": "code",
   "execution_count": 149,
   "id": "healthy-thong",
   "metadata": {},
   "outputs": [
    {
     "name": "stdout",
     "output_type": "stream",
     "text": [
      "<class 'pandas.core.frame.DataFrame'>\n",
      "RangeIndex: 3313 entries, 0 to 3312\n",
      "Data columns (total 6 columns):\n",
      " #   Column     Non-Null Count  Dtype  \n",
      "---  ------     --------------  -----  \n",
      " 0   country    3313 non-null   object \n",
      " 1   continent  3313 non-null   object \n",
      " 2   year       3313 non-null   int64  \n",
      " 3   lifeExp    3313 non-null   float64\n",
      " 4   pop        3313 non-null   int64  \n",
      " 5   gdpPercap  3313 non-null   float64\n",
      "dtypes: float64(2), int64(2), object(2)\n",
      "memory usage: 155.4+ KB\n"
     ]
    }
   ],
   "source": [
    "df.info()"
   ]
  },
  {
   "cell_type": "code",
   "execution_count": 150,
   "id": "tired-beast",
   "metadata": {},
   "outputs": [
    {
     "data": {
      "text/html": [
       "<div>\n",
       "<style scoped>\n",
       "    .dataframe tbody tr th:only-of-type {\n",
       "        vertical-align: middle;\n",
       "    }\n",
       "\n",
       "    .dataframe tbody tr th {\n",
       "        vertical-align: top;\n",
       "    }\n",
       "\n",
       "    .dataframe thead th {\n",
       "        text-align: right;\n",
       "    }\n",
       "</style>\n",
       "<table border=\"1\" class=\"dataframe\">\n",
       "  <thead>\n",
       "    <tr style=\"text-align: right;\">\n",
       "      <th></th>\n",
       "      <th>country</th>\n",
       "      <th>continent</th>\n",
       "      <th>year</th>\n",
       "      <th>lifeExp</th>\n",
       "      <th>pop</th>\n",
       "      <th>gdpPercap</th>\n",
       "    </tr>\n",
       "  </thead>\n",
       "  <tbody>\n",
       "    <tr>\n",
       "      <th>0</th>\n",
       "      <td>Afghanistan</td>\n",
       "      <td>Asia</td>\n",
       "      <td>1952</td>\n",
       "      <td>28.801</td>\n",
       "      <td>8425333</td>\n",
       "      <td>779.445314</td>\n",
       "    </tr>\n",
       "    <tr>\n",
       "      <th>1</th>\n",
       "      <td>Afghanistan</td>\n",
       "      <td>Asia</td>\n",
       "      <td>1957</td>\n",
       "      <td>30.332</td>\n",
       "      <td>9240934</td>\n",
       "      <td>820.853030</td>\n",
       "    </tr>\n",
       "    <tr>\n",
       "      <th>2</th>\n",
       "      <td>Afghanistan</td>\n",
       "      <td>Asia</td>\n",
       "      <td>1962</td>\n",
       "      <td>31.997</td>\n",
       "      <td>10267083</td>\n",
       "      <td>853.100710</td>\n",
       "    </tr>\n",
       "    <tr>\n",
       "      <th>3</th>\n",
       "      <td>Afghanistan</td>\n",
       "      <td>Asia</td>\n",
       "      <td>1967</td>\n",
       "      <td>34.020</td>\n",
       "      <td>11537966</td>\n",
       "      <td>836.197138</td>\n",
       "    </tr>\n",
       "    <tr>\n",
       "      <th>4</th>\n",
       "      <td>Afghanistan</td>\n",
       "      <td>Asia</td>\n",
       "      <td>1972</td>\n",
       "      <td>36.088</td>\n",
       "      <td>13079460</td>\n",
       "      <td>739.981106</td>\n",
       "    </tr>\n",
       "  </tbody>\n",
       "</table>\n",
       "</div>"
      ],
      "text/plain": [
       "       country continent  year  lifeExp       pop   gdpPercap\n",
       "0  Afghanistan      Asia  1952   28.801   8425333  779.445314\n",
       "1  Afghanistan      Asia  1957   30.332   9240934  820.853030\n",
       "2  Afghanistan      Asia  1962   31.997  10267083  853.100710\n",
       "3  Afghanistan      Asia  1967   34.020  11537966  836.197138\n",
       "4  Afghanistan      Asia  1972   36.088  13079460  739.981106"
      ]
     },
     "execution_count": 150,
     "metadata": {},
     "output_type": "execute_result"
    }
   ],
   "source": [
    "df.head()"
   ]
  },
  {
   "cell_type": "code",
   "execution_count": 151,
   "id": "compressed-explorer",
   "metadata": {},
   "outputs": [
    {
     "data": {
      "text/html": [
       "<div>\n",
       "<style scoped>\n",
       "    .dataframe tbody tr th:only-of-type {\n",
       "        vertical-align: middle;\n",
       "    }\n",
       "\n",
       "    .dataframe tbody tr th {\n",
       "        vertical-align: top;\n",
       "    }\n",
       "\n",
       "    .dataframe thead th {\n",
       "        text-align: right;\n",
       "    }\n",
       "</style>\n",
       "<table border=\"1\" class=\"dataframe\">\n",
       "  <thead>\n",
       "    <tr style=\"text-align: right;\">\n",
       "      <th></th>\n",
       "      <th>country</th>\n",
       "      <th>continent</th>\n",
       "      <th>year</th>\n",
       "      <th>lifeExp</th>\n",
       "      <th>pop</th>\n",
       "      <th>gdpPercap</th>\n",
       "    </tr>\n",
       "  </thead>\n",
       "  <tbody>\n",
       "    <tr>\n",
       "      <th>3308</th>\n",
       "      <td>Zimbabwe</td>\n",
       "      <td>Africa</td>\n",
       "      <td>1987</td>\n",
       "      <td>62.351</td>\n",
       "      <td>9216418</td>\n",
       "      <td>706.157306</td>\n",
       "    </tr>\n",
       "    <tr>\n",
       "      <th>3309</th>\n",
       "      <td>Zimbabwe</td>\n",
       "      <td>Africa</td>\n",
       "      <td>1992</td>\n",
       "      <td>60.377</td>\n",
       "      <td>10704340</td>\n",
       "      <td>693.420786</td>\n",
       "    </tr>\n",
       "    <tr>\n",
       "      <th>3310</th>\n",
       "      <td>Zimbabwe</td>\n",
       "      <td>Africa</td>\n",
       "      <td>1997</td>\n",
       "      <td>46.809</td>\n",
       "      <td>11404948</td>\n",
       "      <td>792.449960</td>\n",
       "    </tr>\n",
       "    <tr>\n",
       "      <th>3311</th>\n",
       "      <td>Zimbabwe</td>\n",
       "      <td>Africa</td>\n",
       "      <td>2002</td>\n",
       "      <td>39.989</td>\n",
       "      <td>11926563</td>\n",
       "      <td>672.038623</td>\n",
       "    </tr>\n",
       "    <tr>\n",
       "      <th>3312</th>\n",
       "      <td>Zimbabwe</td>\n",
       "      <td>Africa</td>\n",
       "      <td>2007</td>\n",
       "      <td>43.487</td>\n",
       "      <td>12311143</td>\n",
       "      <td>469.709298</td>\n",
       "    </tr>\n",
       "  </tbody>\n",
       "</table>\n",
       "</div>"
      ],
      "text/plain": [
       "       country continent  year  lifeExp       pop   gdpPercap\n",
       "3308  Zimbabwe    Africa  1987   62.351   9216418  706.157306\n",
       "3309  Zimbabwe    Africa  1992   60.377  10704340  693.420786\n",
       "3310  Zimbabwe    Africa  1997   46.809  11404948  792.449960\n",
       "3311  Zimbabwe    Africa  2002   39.989  11926563  672.038623\n",
       "3312  Zimbabwe    Africa  2007   43.487  12311143  469.709298"
      ]
     },
     "execution_count": 151,
     "metadata": {},
     "output_type": "execute_result"
    }
   ],
   "source": [
    "df.tail()"
   ]
  },
  {
   "cell_type": "code",
   "execution_count": 152,
   "id": "straight-alliance",
   "metadata": {},
   "outputs": [],
   "source": [
    "country_df = df['country']"
   ]
  },
  {
   "cell_type": "code",
   "execution_count": 153,
   "id": "tough-jerusalem",
   "metadata": {},
   "outputs": [
    {
     "data": {
      "text/plain": [
       "0       Afghanistan\n",
       "1       Afghanistan\n",
       "2       Afghanistan\n",
       "3       Afghanistan\n",
       "4       Afghanistan\n",
       "           ...     \n",
       "3308       Zimbabwe\n",
       "3309       Zimbabwe\n",
       "3310       Zimbabwe\n",
       "3311       Zimbabwe\n",
       "3312       Zimbabwe\n",
       "Name: country, Length: 3313, dtype: object"
      ]
     },
     "execution_count": 153,
     "metadata": {},
     "output_type": "execute_result"
    }
   ],
   "source": [
    "country_df"
   ]
  },
  {
   "cell_type": "code",
   "execution_count": 154,
   "id": "prospective-ready",
   "metadata": {},
   "outputs": [
    {
     "data": {
      "text/plain": [
       "pandas.core.series.Series"
      ]
     },
     "execution_count": 154,
     "metadata": {},
     "output_type": "execute_result"
    }
   ],
   "source": [
    "type(country_df)"
   ]
  },
  {
   "cell_type": "code",
   "execution_count": 155,
   "id": "breeding-evening",
   "metadata": {},
   "outputs": [
    {
     "data": {
      "text/plain": [
       "country      Afghanistan\n",
       "continent           Asia\n",
       "year                1952\n",
       "lifeExp           28.801\n",
       "pop              8425333\n",
       "gdpPercap        779.445\n",
       "Name: 0, dtype: object"
      ]
     },
     "execution_count": 155,
     "metadata": {},
     "output_type": "execute_result"
    }
   ],
   "source": [
    "# Pegar linhas de acordo com o rótulo\n",
    "df.loc[0]"
   ]
  },
  {
   "cell_type": "code",
   "execution_count": 156,
   "id": "skilled-console",
   "metadata": {},
   "outputs": [
    {
     "data": {
      "text/html": [
       "<div>\n",
       "<style scoped>\n",
       "    .dataframe tbody tr th:only-of-type {\n",
       "        vertical-align: middle;\n",
       "    }\n",
       "\n",
       "    .dataframe tbody tr th {\n",
       "        vertical-align: top;\n",
       "    }\n",
       "\n",
       "    .dataframe thead th {\n",
       "        text-align: right;\n",
       "    }\n",
       "</style>\n",
       "<table border=\"1\" class=\"dataframe\">\n",
       "  <thead>\n",
       "    <tr style=\"text-align: right;\">\n",
       "      <th></th>\n",
       "      <th>country</th>\n",
       "      <th>continent</th>\n",
       "      <th>year</th>\n",
       "      <th>lifeExp</th>\n",
       "      <th>pop</th>\n",
       "      <th>gdpPercap</th>\n",
       "    </tr>\n",
       "  </thead>\n",
       "  <tbody>\n",
       "    <tr>\n",
       "      <th>10</th>\n",
       "      <td>Afghanistan</td>\n",
       "      <td>Asia</td>\n",
       "      <td>2002</td>\n",
       "      <td>42.129</td>\n",
       "      <td>25268405</td>\n",
       "      <td>726.734055</td>\n",
       "    </tr>\n",
       "    <tr>\n",
       "      <th>11</th>\n",
       "      <td>Afghanistan</td>\n",
       "      <td>Asia</td>\n",
       "      <td>2007</td>\n",
       "      <td>43.828</td>\n",
       "      <td>31889923</td>\n",
       "      <td>974.580338</td>\n",
       "    </tr>\n",
       "    <tr>\n",
       "      <th>12</th>\n",
       "      <td>Albania</td>\n",
       "      <td>Europe</td>\n",
       "      <td>1952</td>\n",
       "      <td>55.230</td>\n",
       "      <td>1282697</td>\n",
       "      <td>1601.056136</td>\n",
       "    </tr>\n",
       "    <tr>\n",
       "      <th>13</th>\n",
       "      <td>Albania</td>\n",
       "      <td>Europe</td>\n",
       "      <td>1957</td>\n",
       "      <td>59.280</td>\n",
       "      <td>1476505</td>\n",
       "      <td>1942.284244</td>\n",
       "    </tr>\n",
       "    <tr>\n",
       "      <th>14</th>\n",
       "      <td>Albania</td>\n",
       "      <td>Europe</td>\n",
       "      <td>1962</td>\n",
       "      <td>64.820</td>\n",
       "      <td>1728137</td>\n",
       "      <td>2312.888958</td>\n",
       "    </tr>\n",
       "    <tr>\n",
       "      <th>15</th>\n",
       "      <td>Albania</td>\n",
       "      <td>Europe</td>\n",
       "      <td>1967</td>\n",
       "      <td>66.220</td>\n",
       "      <td>1984060</td>\n",
       "      <td>2760.196931</td>\n",
       "    </tr>\n",
       "    <tr>\n",
       "      <th>16</th>\n",
       "      <td>Albania</td>\n",
       "      <td>Europe</td>\n",
       "      <td>1972</td>\n",
       "      <td>67.690</td>\n",
       "      <td>2263554</td>\n",
       "      <td>3313.422188</td>\n",
       "    </tr>\n",
       "    <tr>\n",
       "      <th>17</th>\n",
       "      <td>Albania</td>\n",
       "      <td>Europe</td>\n",
       "      <td>1977</td>\n",
       "      <td>68.930</td>\n",
       "      <td>2509048</td>\n",
       "      <td>3533.003910</td>\n",
       "    </tr>\n",
       "    <tr>\n",
       "      <th>18</th>\n",
       "      <td>Albania</td>\n",
       "      <td>Europe</td>\n",
       "      <td>1982</td>\n",
       "      <td>70.420</td>\n",
       "      <td>2780097</td>\n",
       "      <td>3630.880722</td>\n",
       "    </tr>\n",
       "    <tr>\n",
       "      <th>19</th>\n",
       "      <td>Albania</td>\n",
       "      <td>Europe</td>\n",
       "      <td>1987</td>\n",
       "      <td>72.000</td>\n",
       "      <td>3075321</td>\n",
       "      <td>3738.932735</td>\n",
       "    </tr>\n",
       "    <tr>\n",
       "      <th>20</th>\n",
       "      <td>Albania</td>\n",
       "      <td>Europe</td>\n",
       "      <td>1992</td>\n",
       "      <td>71.581</td>\n",
       "      <td>3326498</td>\n",
       "      <td>2497.437901</td>\n",
       "    </tr>\n",
       "  </tbody>\n",
       "</table>\n",
       "</div>"
      ],
      "text/plain": [
       "        country continent  year  lifeExp       pop    gdpPercap\n",
       "10  Afghanistan      Asia  2002   42.129  25268405   726.734055\n",
       "11  Afghanistan      Asia  2007   43.828  31889923   974.580338\n",
       "12      Albania    Europe  1952   55.230   1282697  1601.056136\n",
       "13      Albania    Europe  1957   59.280   1476505  1942.284244\n",
       "14      Albania    Europe  1962   64.820   1728137  2312.888958\n",
       "15      Albania    Europe  1967   66.220   1984060  2760.196931\n",
       "16      Albania    Europe  1972   67.690   2263554  3313.422188\n",
       "17      Albania    Europe  1977   68.930   2509048  3533.003910\n",
       "18      Albania    Europe  1982   70.420   2780097  3630.880722\n",
       "19      Albania    Europe  1987   72.000   3075321  3738.932735\n",
       "20      Albania    Europe  1992   71.581   3326498  2497.437901"
      ]
     },
     "execution_count": 156,
     "metadata": {},
     "output_type": "execute_result"
    }
   ],
   "source": [
    "df.loc[10:20]"
   ]
  },
  {
   "cell_type": "code",
   "execution_count": 157,
   "id": "linear-horror",
   "metadata": {},
   "outputs": [
    {
     "data": {
      "text/plain": [
       "country      Afghanistan\n",
       "continent           Asia\n",
       "year                1952\n",
       "lifeExp           28.801\n",
       "pop              8425333\n",
       "gdpPercap        779.445\n",
       "Name: 0, dtype: object"
      ]
     },
     "execution_count": 157,
     "metadata": {},
     "output_type": "execute_result"
    }
   ],
   "source": [
    "# Pegar linhas de acordo com o índice\n",
    "df.iloc[0]"
   ]
  },
  {
   "cell_type": "code",
   "execution_count": 158,
   "id": "serious-supervision",
   "metadata": {},
   "outputs": [
    {
     "data": {
      "text/html": [
       "<div>\n",
       "<style scoped>\n",
       "    .dataframe tbody tr th:only-of-type {\n",
       "        vertical-align: middle;\n",
       "    }\n",
       "\n",
       "    .dataframe tbody tr th {\n",
       "        vertical-align: top;\n",
       "    }\n",
       "\n",
       "    .dataframe thead th {\n",
       "        text-align: right;\n",
       "    }\n",
       "</style>\n",
       "<table border=\"1\" class=\"dataframe\">\n",
       "  <thead>\n",
       "    <tr style=\"text-align: right;\">\n",
       "      <th></th>\n",
       "      <th>country</th>\n",
       "      <th>continent</th>\n",
       "      <th>year</th>\n",
       "      <th>lifeExp</th>\n",
       "      <th>pop</th>\n",
       "      <th>gdpPercap</th>\n",
       "    </tr>\n",
       "  </thead>\n",
       "  <tbody>\n",
       "    <tr>\n",
       "      <th>10</th>\n",
       "      <td>Afghanistan</td>\n",
       "      <td>Asia</td>\n",
       "      <td>2002</td>\n",
       "      <td>42.129</td>\n",
       "      <td>25268405</td>\n",
       "      <td>726.734055</td>\n",
       "    </tr>\n",
       "    <tr>\n",
       "      <th>11</th>\n",
       "      <td>Afghanistan</td>\n",
       "      <td>Asia</td>\n",
       "      <td>2007</td>\n",
       "      <td>43.828</td>\n",
       "      <td>31889923</td>\n",
       "      <td>974.580338</td>\n",
       "    </tr>\n",
       "    <tr>\n",
       "      <th>12</th>\n",
       "      <td>Albania</td>\n",
       "      <td>Europe</td>\n",
       "      <td>1952</td>\n",
       "      <td>55.230</td>\n",
       "      <td>1282697</td>\n",
       "      <td>1601.056136</td>\n",
       "    </tr>\n",
       "    <tr>\n",
       "      <th>13</th>\n",
       "      <td>Albania</td>\n",
       "      <td>Europe</td>\n",
       "      <td>1957</td>\n",
       "      <td>59.280</td>\n",
       "      <td>1476505</td>\n",
       "      <td>1942.284244</td>\n",
       "    </tr>\n",
       "    <tr>\n",
       "      <th>14</th>\n",
       "      <td>Albania</td>\n",
       "      <td>Europe</td>\n",
       "      <td>1962</td>\n",
       "      <td>64.820</td>\n",
       "      <td>1728137</td>\n",
       "      <td>2312.888958</td>\n",
       "    </tr>\n",
       "    <tr>\n",
       "      <th>15</th>\n",
       "      <td>Albania</td>\n",
       "      <td>Europe</td>\n",
       "      <td>1967</td>\n",
       "      <td>66.220</td>\n",
       "      <td>1984060</td>\n",
       "      <td>2760.196931</td>\n",
       "    </tr>\n",
       "    <tr>\n",
       "      <th>16</th>\n",
       "      <td>Albania</td>\n",
       "      <td>Europe</td>\n",
       "      <td>1972</td>\n",
       "      <td>67.690</td>\n",
       "      <td>2263554</td>\n",
       "      <td>3313.422188</td>\n",
       "    </tr>\n",
       "    <tr>\n",
       "      <th>17</th>\n",
       "      <td>Albania</td>\n",
       "      <td>Europe</td>\n",
       "      <td>1977</td>\n",
       "      <td>68.930</td>\n",
       "      <td>2509048</td>\n",
       "      <td>3533.003910</td>\n",
       "    </tr>\n",
       "    <tr>\n",
       "      <th>18</th>\n",
       "      <td>Albania</td>\n",
       "      <td>Europe</td>\n",
       "      <td>1982</td>\n",
       "      <td>70.420</td>\n",
       "      <td>2780097</td>\n",
       "      <td>3630.880722</td>\n",
       "    </tr>\n",
       "    <tr>\n",
       "      <th>19</th>\n",
       "      <td>Albania</td>\n",
       "      <td>Europe</td>\n",
       "      <td>1987</td>\n",
       "      <td>72.000</td>\n",
       "      <td>3075321</td>\n",
       "      <td>3738.932735</td>\n",
       "    </tr>\n",
       "  </tbody>\n",
       "</table>\n",
       "</div>"
      ],
      "text/plain": [
       "        country continent  year  lifeExp       pop    gdpPercap\n",
       "10  Afghanistan      Asia  2002   42.129  25268405   726.734055\n",
       "11  Afghanistan      Asia  2007   43.828  31889923   974.580338\n",
       "12      Albania    Europe  1952   55.230   1282697  1601.056136\n",
       "13      Albania    Europe  1957   59.280   1476505  1942.284244\n",
       "14      Albania    Europe  1962   64.820   1728137  2312.888958\n",
       "15      Albania    Europe  1967   66.220   1984060  2760.196931\n",
       "16      Albania    Europe  1972   67.690   2263554  3313.422188\n",
       "17      Albania    Europe  1977   68.930   2509048  3533.003910\n",
       "18      Albania    Europe  1982   70.420   2780097  3630.880722\n",
       "19      Albania    Europe  1987   72.000   3075321  3738.932735"
      ]
     },
     "execution_count": 158,
     "metadata": {},
     "output_type": "execute_result"
    }
   ],
   "source": [
    "df.iloc[10:20]"
   ]
  },
  {
   "cell_type": "code",
   "execution_count": 159,
   "id": "cleared-finnish",
   "metadata": {},
   "outputs": [
    {
     "ename": "KeyError",
     "evalue": "-1",
     "output_type": "error",
     "traceback": [
      "\u001b[0;31m---------------------------------------------------------------------------\u001b[0m",
      "\u001b[0;31mValueError\u001b[0m                                Traceback (most recent call last)",
      "\u001b[0;32m/usr/lib/python3/dist-packages/pandas/core/indexes/range.py\u001b[0m in \u001b[0;36mget_loc\u001b[0;34m(self, key, method, tolerance)\u001b[0m\n\u001b[1;32m    354\u001b[0m                 \u001b[0;32mtry\u001b[0m\u001b[0;34m:\u001b[0m\u001b[0;34m\u001b[0m\u001b[0;34m\u001b[0m\u001b[0m\n\u001b[0;32m--> 355\u001b[0;31m                     \u001b[0;32mreturn\u001b[0m \u001b[0mself\u001b[0m\u001b[0;34m.\u001b[0m\u001b[0m_range\u001b[0m\u001b[0;34m.\u001b[0m\u001b[0mindex\u001b[0m\u001b[0;34m(\u001b[0m\u001b[0mnew_key\u001b[0m\u001b[0;34m)\u001b[0m\u001b[0;34m\u001b[0m\u001b[0;34m\u001b[0m\u001b[0m\n\u001b[0m\u001b[1;32m    356\u001b[0m                 \u001b[0;32mexcept\u001b[0m \u001b[0mValueError\u001b[0m \u001b[0;32mas\u001b[0m \u001b[0merr\u001b[0m\u001b[0;34m:\u001b[0m\u001b[0;34m\u001b[0m\u001b[0;34m\u001b[0m\u001b[0m\n",
      "\u001b[0;31mValueError\u001b[0m: -1 is not in range",
      "\nThe above exception was the direct cause of the following exception:\n",
      "\u001b[0;31mKeyError\u001b[0m                                  Traceback (most recent call last)",
      "\u001b[0;32m/tmp/ipykernel_10036/1145300078.py\u001b[0m in \u001b[0;36m<module>\u001b[0;34m\u001b[0m\n\u001b[0;32m----> 1\u001b[0;31m \u001b[0mdf\u001b[0m\u001b[0;34m.\u001b[0m\u001b[0mloc\u001b[0m\u001b[0;34m[\u001b[0m\u001b[0;34m-\u001b[0m\u001b[0;36m1\u001b[0m\u001b[0;34m]\u001b[0m\u001b[0;34m\u001b[0m\u001b[0;34m\u001b[0m\u001b[0m\n\u001b[0m",
      "\u001b[0;32m/usr/lib/python3/dist-packages/pandas/core/indexing.py\u001b[0m in \u001b[0;36m__getitem__\u001b[0;34m(self, key)\u001b[0m\n\u001b[1;32m    877\u001b[0m \u001b[0;34m\u001b[0m\u001b[0m\n\u001b[1;32m    878\u001b[0m             \u001b[0mmaybe_callable\u001b[0m \u001b[0;34m=\u001b[0m \u001b[0mcom\u001b[0m\u001b[0;34m.\u001b[0m\u001b[0mapply_if_callable\u001b[0m\u001b[0;34m(\u001b[0m\u001b[0mkey\u001b[0m\u001b[0;34m,\u001b[0m \u001b[0mself\u001b[0m\u001b[0;34m.\u001b[0m\u001b[0mobj\u001b[0m\u001b[0;34m)\u001b[0m\u001b[0;34m\u001b[0m\u001b[0;34m\u001b[0m\u001b[0m\n\u001b[0;32m--> 879\u001b[0;31m             \u001b[0;32mreturn\u001b[0m \u001b[0mself\u001b[0m\u001b[0;34m.\u001b[0m\u001b[0m_getitem_axis\u001b[0m\u001b[0;34m(\u001b[0m\u001b[0mmaybe_callable\u001b[0m\u001b[0;34m,\u001b[0m \u001b[0maxis\u001b[0m\u001b[0;34m=\u001b[0m\u001b[0maxis\u001b[0m\u001b[0;34m)\u001b[0m\u001b[0;34m\u001b[0m\u001b[0;34m\u001b[0m\u001b[0m\n\u001b[0m\u001b[1;32m    880\u001b[0m \u001b[0;34m\u001b[0m\u001b[0m\n\u001b[1;32m    881\u001b[0m     \u001b[0;32mdef\u001b[0m \u001b[0m_is_scalar_access\u001b[0m\u001b[0;34m(\u001b[0m\u001b[0mself\u001b[0m\u001b[0;34m,\u001b[0m \u001b[0mkey\u001b[0m\u001b[0;34m:\u001b[0m \u001b[0mTuple\u001b[0m\u001b[0;34m)\u001b[0m\u001b[0;34m:\u001b[0m\u001b[0;34m\u001b[0m\u001b[0;34m\u001b[0m\u001b[0m\n",
      "\u001b[0;32m/usr/lib/python3/dist-packages/pandas/core/indexing.py\u001b[0m in \u001b[0;36m_getitem_axis\u001b[0;34m(self, key, axis)\u001b[0m\n\u001b[1;32m   1108\u001b[0m         \u001b[0;31m# fall thru to straight lookup\u001b[0m\u001b[0;34m\u001b[0m\u001b[0;34m\u001b[0m\u001b[0m\n\u001b[1;32m   1109\u001b[0m         \u001b[0mself\u001b[0m\u001b[0;34m.\u001b[0m\u001b[0m_validate_key\u001b[0m\u001b[0;34m(\u001b[0m\u001b[0mkey\u001b[0m\u001b[0;34m,\u001b[0m \u001b[0maxis\u001b[0m\u001b[0;34m)\u001b[0m\u001b[0;34m\u001b[0m\u001b[0;34m\u001b[0m\u001b[0m\n\u001b[0;32m-> 1110\u001b[0;31m         \u001b[0;32mreturn\u001b[0m \u001b[0mself\u001b[0m\u001b[0;34m.\u001b[0m\u001b[0m_get_label\u001b[0m\u001b[0;34m(\u001b[0m\u001b[0mkey\u001b[0m\u001b[0;34m,\u001b[0m \u001b[0maxis\u001b[0m\u001b[0;34m=\u001b[0m\u001b[0maxis\u001b[0m\u001b[0;34m)\u001b[0m\u001b[0;34m\u001b[0m\u001b[0;34m\u001b[0m\u001b[0m\n\u001b[0m\u001b[1;32m   1111\u001b[0m \u001b[0;34m\u001b[0m\u001b[0m\n\u001b[1;32m   1112\u001b[0m     \u001b[0;32mdef\u001b[0m \u001b[0m_get_slice_axis\u001b[0m\u001b[0;34m(\u001b[0m\u001b[0mself\u001b[0m\u001b[0;34m,\u001b[0m \u001b[0mslice_obj\u001b[0m\u001b[0;34m:\u001b[0m \u001b[0mslice\u001b[0m\u001b[0;34m,\u001b[0m \u001b[0maxis\u001b[0m\u001b[0;34m:\u001b[0m \u001b[0mint\u001b[0m\u001b[0;34m)\u001b[0m\u001b[0;34m:\u001b[0m\u001b[0;34m\u001b[0m\u001b[0;34m\u001b[0m\u001b[0m\n",
      "\u001b[0;32m/usr/lib/python3/dist-packages/pandas/core/indexing.py\u001b[0m in \u001b[0;36m_get_label\u001b[0;34m(self, label, axis)\u001b[0m\n\u001b[1;32m   1057\u001b[0m     \u001b[0;32mdef\u001b[0m \u001b[0m_get_label\u001b[0m\u001b[0;34m(\u001b[0m\u001b[0mself\u001b[0m\u001b[0;34m,\u001b[0m \u001b[0mlabel\u001b[0m\u001b[0;34m,\u001b[0m \u001b[0maxis\u001b[0m\u001b[0;34m:\u001b[0m \u001b[0mint\u001b[0m\u001b[0;34m)\u001b[0m\u001b[0;34m:\u001b[0m\u001b[0;34m\u001b[0m\u001b[0;34m\u001b[0m\u001b[0m\n\u001b[1;32m   1058\u001b[0m         \u001b[0;31m# GH#5667 this will fail if the label is not present in the axis.\u001b[0m\u001b[0;34m\u001b[0m\u001b[0;34m\u001b[0m\u001b[0m\n\u001b[0;32m-> 1059\u001b[0;31m         \u001b[0;32mreturn\u001b[0m \u001b[0mself\u001b[0m\u001b[0;34m.\u001b[0m\u001b[0mobj\u001b[0m\u001b[0;34m.\u001b[0m\u001b[0mxs\u001b[0m\u001b[0;34m(\u001b[0m\u001b[0mlabel\u001b[0m\u001b[0;34m,\u001b[0m \u001b[0maxis\u001b[0m\u001b[0;34m=\u001b[0m\u001b[0maxis\u001b[0m\u001b[0;34m)\u001b[0m\u001b[0;34m\u001b[0m\u001b[0;34m\u001b[0m\u001b[0m\n\u001b[0m\u001b[1;32m   1060\u001b[0m \u001b[0;34m\u001b[0m\u001b[0m\n\u001b[1;32m   1061\u001b[0m     \u001b[0;32mdef\u001b[0m \u001b[0m_handle_lowerdim_multi_index_axis0\u001b[0m\u001b[0;34m(\u001b[0m\u001b[0mself\u001b[0m\u001b[0;34m,\u001b[0m \u001b[0mtup\u001b[0m\u001b[0;34m:\u001b[0m \u001b[0mTuple\u001b[0m\u001b[0;34m)\u001b[0m\u001b[0;34m:\u001b[0m\u001b[0;34m\u001b[0m\u001b[0;34m\u001b[0m\u001b[0m\n",
      "\u001b[0;32m/usr/lib/python3/dist-packages/pandas/core/generic.py\u001b[0m in \u001b[0;36mxs\u001b[0;34m(self, key, axis, level, drop_level)\u001b[0m\n\u001b[1;32m   3491\u001b[0m             \u001b[0mloc\u001b[0m\u001b[0;34m,\u001b[0m \u001b[0mnew_index\u001b[0m \u001b[0;34m=\u001b[0m \u001b[0mself\u001b[0m\u001b[0;34m.\u001b[0m\u001b[0mindex\u001b[0m\u001b[0;34m.\u001b[0m\u001b[0mget_loc_level\u001b[0m\u001b[0;34m(\u001b[0m\u001b[0mkey\u001b[0m\u001b[0;34m,\u001b[0m \u001b[0mdrop_level\u001b[0m\u001b[0;34m=\u001b[0m\u001b[0mdrop_level\u001b[0m\u001b[0;34m)\u001b[0m\u001b[0;34m\u001b[0m\u001b[0;34m\u001b[0m\u001b[0m\n\u001b[1;32m   3492\u001b[0m         \u001b[0;32melse\u001b[0m\u001b[0;34m:\u001b[0m\u001b[0;34m\u001b[0m\u001b[0;34m\u001b[0m\u001b[0m\n\u001b[0;32m-> 3493\u001b[0;31m             \u001b[0mloc\u001b[0m \u001b[0;34m=\u001b[0m \u001b[0mself\u001b[0m\u001b[0;34m.\u001b[0m\u001b[0mindex\u001b[0m\u001b[0;34m.\u001b[0m\u001b[0mget_loc\u001b[0m\u001b[0;34m(\u001b[0m\u001b[0mkey\u001b[0m\u001b[0;34m)\u001b[0m\u001b[0;34m\u001b[0m\u001b[0;34m\u001b[0m\u001b[0m\n\u001b[0m\u001b[1;32m   3494\u001b[0m \u001b[0;34m\u001b[0m\u001b[0m\n\u001b[1;32m   3495\u001b[0m             \u001b[0;32mif\u001b[0m \u001b[0misinstance\u001b[0m\u001b[0;34m(\u001b[0m\u001b[0mloc\u001b[0m\u001b[0;34m,\u001b[0m \u001b[0mnp\u001b[0m\u001b[0;34m.\u001b[0m\u001b[0mndarray\u001b[0m\u001b[0;34m)\u001b[0m\u001b[0;34m:\u001b[0m\u001b[0;34m\u001b[0m\u001b[0;34m\u001b[0m\u001b[0m\n",
      "\u001b[0;32m/usr/lib/python3/dist-packages/pandas/core/indexes/range.py\u001b[0m in \u001b[0;36mget_loc\u001b[0;34m(self, key, method, tolerance)\u001b[0m\n\u001b[1;32m    355\u001b[0m                     \u001b[0;32mreturn\u001b[0m \u001b[0mself\u001b[0m\u001b[0;34m.\u001b[0m\u001b[0m_range\u001b[0m\u001b[0;34m.\u001b[0m\u001b[0mindex\u001b[0m\u001b[0;34m(\u001b[0m\u001b[0mnew_key\u001b[0m\u001b[0;34m)\u001b[0m\u001b[0;34m\u001b[0m\u001b[0;34m\u001b[0m\u001b[0m\n\u001b[1;32m    356\u001b[0m                 \u001b[0;32mexcept\u001b[0m \u001b[0mValueError\u001b[0m \u001b[0;32mas\u001b[0m \u001b[0merr\u001b[0m\u001b[0;34m:\u001b[0m\u001b[0;34m\u001b[0m\u001b[0;34m\u001b[0m\u001b[0m\n\u001b[0;32m--> 357\u001b[0;31m                     \u001b[0;32mraise\u001b[0m \u001b[0mKeyError\u001b[0m\u001b[0;34m(\u001b[0m\u001b[0mkey\u001b[0m\u001b[0;34m)\u001b[0m \u001b[0;32mfrom\u001b[0m \u001b[0merr\u001b[0m\u001b[0;34m\u001b[0m\u001b[0;34m\u001b[0m\u001b[0m\n\u001b[0m\u001b[1;32m    358\u001b[0m             \u001b[0;32mraise\u001b[0m \u001b[0mKeyError\u001b[0m\u001b[0;34m(\u001b[0m\u001b[0mkey\u001b[0m\u001b[0;34m)\u001b[0m\u001b[0;34m\u001b[0m\u001b[0;34m\u001b[0m\u001b[0m\n\u001b[1;32m    359\u001b[0m         \u001b[0;32mreturn\u001b[0m \u001b[0msuper\u001b[0m\u001b[0;34m(\u001b[0m\u001b[0;34m)\u001b[0m\u001b[0;34m.\u001b[0m\u001b[0mget_loc\u001b[0m\u001b[0;34m(\u001b[0m\u001b[0mkey\u001b[0m\u001b[0;34m,\u001b[0m \u001b[0mmethod\u001b[0m\u001b[0;34m=\u001b[0m\u001b[0mmethod\u001b[0m\u001b[0;34m,\u001b[0m \u001b[0mtolerance\u001b[0m\u001b[0;34m=\u001b[0m\u001b[0mtolerance\u001b[0m\u001b[0;34m)\u001b[0m\u001b[0;34m\u001b[0m\u001b[0;34m\u001b[0m\u001b[0m\n",
      "\u001b[0;31mKeyError\u001b[0m: -1"
     ]
    }
   ],
   "source": [
    "df.loc[-1]"
   ]
  },
  {
   "cell_type": "code",
   "execution_count": 160,
   "id": "digital-education",
   "metadata": {},
   "outputs": [
    {
     "data": {
      "text/plain": [
       "country      Zimbabwe\n",
       "continent      Africa\n",
       "year             2007\n",
       "lifeExp        43.487\n",
       "pop          12311143\n",
       "gdpPercap     469.709\n",
       "Name: 3312, dtype: object"
      ]
     },
     "execution_count": 160,
     "metadata": {},
     "output_type": "execute_result"
    }
   ],
   "source": [
    "df.iloc[-1]"
   ]
  },
  {
   "cell_type": "markdown",
   "id": "written-overhead",
   "metadata": {},
   "source": [
    "## Agrupando e agregando dados\n",
    "\n",
    "Perguntas.\n",
    "\n",
    " 1. Para cada ano qual era a expectativa de vida média\n",
    " 2. Podemos ver isso por continente?\n",
    " 3. Quantos países estão listados por continente?"
   ]
  },
  {
   "cell_type": "code",
   "execution_count": 161,
   "id": "heated-serbia",
   "metadata": {},
   "outputs": [
    {
     "data": {
      "text/plain": [
       "year\n",
       "1950    62.002568\n",
       "1951    65.904167\n",
       "1952    49.170708\n",
       "1953    66.674563\n",
       "1954    67.459817\n",
       "1955    67.806757\n",
       "1956    67.950637\n",
       "1957    51.614590\n",
       "1958    68.815936\n",
       "1959    68.226579\n",
       "1960    68.470837\n",
       "1961    68.862480\n",
       "1962    54.035234\n",
       "1963    69.595735\n",
       "1964    70.063105\n",
       "1965    70.259881\n",
       "1966    70.447526\n",
       "1967    56.263629\n",
       "1968    70.689081\n",
       "1969    70.653896\n",
       "1970    70.961141\n",
       "1971    71.103976\n",
       "1972    58.474481\n",
       "1973    71.500338\n",
       "1974    71.778504\n",
       "1975    71.939218\n",
       "1976    72.158050\n",
       "1977    60.429090\n",
       "1978    72.717567\n",
       "1979    73.018717\n",
       "1980    73.064524\n",
       "1981    73.337399\n",
       "1982    62.365871\n",
       "1983    73.787778\n",
       "1984    74.100741\n",
       "1985    74.112222\n",
       "1986    74.452222\n",
       "1987    63.984860\n",
       "1988    74.760000\n",
       "1989    74.924444\n",
       "1990    74.283437\n",
       "1991    74.374848\n",
       "1992    65.008443\n",
       "1993    74.324545\n",
       "1994    74.456667\n",
       "1995    74.552727\n",
       "1996    75.029394\n",
       "1997    65.873799\n",
       "1998    75.569697\n",
       "1999    75.703636\n",
       "2000    76.026364\n",
       "2001    76.257879\n",
       "2002    66.835695\n",
       "2003    76.586667\n",
       "2004    76.921563\n",
       "2005    76.718667\n",
       "2006    77.887778\n",
       "2007    67.868557\n",
       "Name: lifeExp, dtype: float64"
      ]
     },
     "execution_count": 161,
     "metadata": {},
     "output_type": "execute_result"
    }
   ],
   "source": [
    "df.groupby('year')['lifeExp'].mean()"
   ]
  },
  {
   "cell_type": "markdown",
   "id": "certain-joining",
   "metadata": {},
   "source": [
    "Vamos detalhar isso."
   ]
  },
  {
   "cell_type": "code",
   "execution_count": 162,
   "id": "religious-patent",
   "metadata": {},
   "outputs": [
    {
     "data": {
      "text/plain": [
       "pandas.core.groupby.generic.DataFrameGroupBy"
      ]
     },
     "execution_count": 162,
     "metadata": {},
     "output_type": "execute_result"
    }
   ],
   "source": [
    "grouped_by_year_df = df.groupby('year')\n",
    "type(grouped_by_year_df)"
   ]
  },
  {
   "cell_type": "code",
   "execution_count": 163,
   "id": "periodic-protection",
   "metadata": {},
   "outputs": [
    {
     "data": {
      "text/plain": [
       "pandas.core.groupby.generic.SeriesGroupBy"
      ]
     },
     "execution_count": 163,
     "metadata": {},
     "output_type": "execute_result"
    }
   ],
   "source": [
    "grouped_by_year_lifeExp = grouped_by_year_df['lifeExp']\n",
    "type(grouped_by_year_lifeExp)"
   ]
  },
  {
   "cell_type": "code",
   "execution_count": 164,
   "id": "optional-tragedy",
   "metadata": {},
   "outputs": [
    {
     "data": {
      "text/plain": [
       "0       False\n",
       "1       False\n",
       "2       False\n",
       "3       False\n",
       "4       False\n",
       "        ...  \n",
       "3308    False\n",
       "3309    False\n",
       "3310    False\n",
       "3311    False\n",
       "3312    False\n",
       "Name: year, Length: 3313, dtype: bool"
      ]
     },
     "execution_count": 164,
     "metadata": {},
     "output_type": "execute_result"
    }
   ],
   "source": [
    "b = df['year'] == 1960\n",
    "b"
   ]
  },
  {
   "cell_type": "code",
   "execution_count": 165,
   "id": "colored-hudson",
   "metadata": {},
   "outputs": [],
   "source": [
    "df60 = df[b]"
   ]
  },
  {
   "cell_type": "code",
   "execution_count": 166,
   "id": "pediatric-layout",
   "metadata": {},
   "outputs": [
    {
     "data": {
      "text/plain": [
       "82      70.89000\n",
       "138     68.78000\n",
       "261     69.65000\n",
       "405     69.18000\n",
       "510     71.04000\n",
       "612     31.63176\n",
       "756     70.46000\n",
       "814     72.21000\n",
       "996     69.01000\n",
       "1054    70.40000\n",
       "1296    68.09000\n",
       "1353    74.09000\n",
       "1484    69.21000\n",
       "1552    67.80000\n",
       "1776    69.07000\n",
       "2041    73.37000\n",
       "2116    71.26000\n",
       "2207    73.58000\n",
       "2341    67.86000\n",
       "2399    64.25000\n",
       "2613    70.35000\n",
       "2736    69.27000\n",
       "2839    73.04000\n",
       "2897    71.44000\n",
       "2967    64.40000\n",
       "3171    69.91000\n",
       "Name: lifeExp, dtype: float64"
      ]
     },
     "execution_count": 166,
     "metadata": {},
     "output_type": "execute_result"
    }
   ],
   "source": [
    "df60['lifeExp']"
   ]
  },
  {
   "cell_type": "code",
   "execution_count": 167,
   "id": "secondary-cartridge",
   "metadata": {},
   "outputs": [
    {
     "data": {
      "text/plain": [
       "68.47083692307693"
      ]
     },
     "execution_count": 167,
     "metadata": {},
     "output_type": "execute_result"
    }
   ],
   "source": [
    "df60['lifeExp'].mean()"
   ]
  },
  {
   "cell_type": "markdown",
   "id": "prepared-frontier",
   "metadata": {},
   "source": [
    "Vamos fazer por continente"
   ]
  },
  {
   "cell_type": "code",
   "execution_count": 168,
   "id": "graphic-personal",
   "metadata": {},
   "outputs": [
    {
     "data": {
      "text/html": [
       "<div>\n",
       "<style scoped>\n",
       "    .dataframe tbody tr th:only-of-type {\n",
       "        vertical-align: middle;\n",
       "    }\n",
       "\n",
       "    .dataframe tbody tr th {\n",
       "        vertical-align: top;\n",
       "    }\n",
       "\n",
       "    .dataframe thead th {\n",
       "        text-align: right;\n",
       "    }\n",
       "</style>\n",
       "<table border=\"1\" class=\"dataframe\">\n",
       "  <thead>\n",
       "    <tr style=\"text-align: right;\">\n",
       "      <th></th>\n",
       "      <th></th>\n",
       "      <th>lifeExp</th>\n",
       "      <th>gdpPercap</th>\n",
       "    </tr>\n",
       "    <tr>\n",
       "      <th>year</th>\n",
       "      <th>continent</th>\n",
       "      <th></th>\n",
       "      <th></th>\n",
       "    </tr>\n",
       "  </thead>\n",
       "  <tbody>\n",
       "    <tr>\n",
       "      <th rowspan=\"5\" valign=\"top\">1950</th>\n",
       "      <th>Africa</th>\n",
       "      <td>41.361500</td>\n",
       "      <td>1422.081643</td>\n",
       "    </tr>\n",
       "    <tr>\n",
       "      <th>Americas</th>\n",
       "      <td>59.405286</td>\n",
       "      <td>5567.245762</td>\n",
       "    </tr>\n",
       "    <tr>\n",
       "      <th>Asia</th>\n",
       "      <td>53.675000</td>\n",
       "      <td>1363.645814</td>\n",
       "    </tr>\n",
       "    <tr>\n",
       "      <th>Europe</th>\n",
       "      <td>65.755916</td>\n",
       "      <td>6804.996873</td>\n",
       "    </tr>\n",
       "    <tr>\n",
       "      <th>FSU</th>\n",
       "      <td>59.950000</td>\n",
       "      <td>3638.203164</td>\n",
       "    </tr>\n",
       "    <tr>\n",
       "      <th>...</th>\n",
       "      <th>...</th>\n",
       "      <td>...</td>\n",
       "      <td>...</td>\n",
       "    </tr>\n",
       "    <tr>\n",
       "      <th rowspan=\"5\" valign=\"top\">2007</th>\n",
       "      <th>Americas</th>\n",
       "      <td>73.400485</td>\n",
       "      <td>11940.901644</td>\n",
       "    </tr>\n",
       "    <tr>\n",
       "      <th>Asia</th>\n",
       "      <td>70.660233</td>\n",
       "      <td>15338.057326</td>\n",
       "    </tr>\n",
       "    <tr>\n",
       "      <th>Europe</th>\n",
       "      <td>77.299059</td>\n",
       "      <td>24174.152973</td>\n",
       "    </tr>\n",
       "    <tr>\n",
       "      <th>FSU</th>\n",
       "      <td>69.457333</td>\n",
       "      <td>9522.539346</td>\n",
       "    </tr>\n",
       "    <tr>\n",
       "      <th>Oceania</th>\n",
       "      <td>71.315000</td>\n",
       "      <td>13156.978742</td>\n",
       "    </tr>\n",
       "  </tbody>\n",
       "</table>\n",
       "<p>286 rows × 2 columns</p>\n",
       "</div>"
      ],
      "text/plain": [
       "                  lifeExp     gdpPercap\n",
       "year continent                         \n",
       "1950 Africa     41.361500   1422.081643\n",
       "     Americas   59.405286   5567.245762\n",
       "     Asia       53.675000   1363.645814\n",
       "     Europe     65.755916   6804.996873\n",
       "     FSU        59.950000   3638.203164\n",
       "...                   ...           ...\n",
       "2007 Americas   73.400485  11940.901644\n",
       "     Asia       70.660233  15338.057326\n",
       "     Europe     77.299059  24174.152973\n",
       "     FSU        69.457333   9522.539346\n",
       "     Oceania    71.315000  13156.978742\n",
       "\n",
       "[286 rows x 2 columns]"
      ]
     },
     "execution_count": 168,
     "metadata": {},
     "output_type": "execute_result"
    }
   ],
   "source": [
    "multi_group_var = df.groupby(['year', 'continent'])[['lifeExp', 'gdpPercap']].mean()\n",
    "multi_group_var"
   ]
  }
 ],
 "metadata": {
  "kernelspec": {
   "display_name": "Python 3 (ipykernel)",
   "language": "python",
   "name": "python3"
  },
  "language_info": {
   "codemirror_mode": {
    "name": "ipython",
    "version": 3
   },
   "file_extension": ".py",
   "mimetype": "text/x-python",
   "name": "python",
   "nbconvert_exporter": "python",
   "pygments_lexer": "ipython3",
   "version": "3.9.7"
  }
 },
 "nbformat": 4,
 "nbformat_minor": 5
}
