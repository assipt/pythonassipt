{
 "cells": [
  {
   "cell_type": "markdown",
   "id": "rising-heather",
   "metadata": {},
   "source": [
    "# Exercícios da aula 05"
   ]
  },
  {
   "cell_type": "markdown",
   "id": "moral-protection",
   "metadata": {},
   "source": [
    "###  Exercício 1\n",
    "O que o programa a seguir vai imprimir?\n",
    "\n",
    "```python\n",
    "a = 1\n",
    "b = 2\n",
    "soma2(a,b)\n",
    "```\n",
    "\n",
    "e o programa\n",
    "```python\n",
    "a = 1\n",
    "b = 2\n",
    "soma2(b, a)\n",
    "```\n",
    "<!-- TEASER_END -->\n"
   ]
  },
  {
   "cell_type": "code",
   "execution_count": 1,
   "id": "equal-transfer",
   "metadata": {},
   "outputs": [],
   "source": [
    "def soma2(a,b):\n",
    "    print(a+2*b)"
   ]
  },
  {
   "cell_type": "code",
   "execution_count": 2,
   "id": "portuguese-commercial",
   "metadata": {},
   "outputs": [
    {
     "name": "stdout",
     "output_type": "stream",
     "text": [
      "5\n"
     ]
    }
   ],
   "source": [
    "a = 1\n",
    "b = 2\n",
    "soma2(a,b)"
   ]
  },
  {
   "cell_type": "code",
   "execution_count": 3,
   "id": "awful-timothy",
   "metadata": {},
   "outputs": [
    {
     "name": "stdout",
     "output_type": "stream",
     "text": [
      "4\n"
     ]
    }
   ],
   "source": [
    "a = 1\n",
    "b = 2\n",
    "soma2(b, a)"
   ]
  },
  {
   "cell_type": "markdown",
   "id": "solved-pierre",
   "metadata": {},
   "source": [
    "Existe uma diferença entre variáveis que são passadas como argumentos e os argumentos. A função `soma2` tem dois argumentos `a` e `b`. No primeiro exemplo, `a` assume o valor de `a` (definindo *fora* da função) e `b` assume o valor de `b` (definido *fora* da função). E portanto a função imprime o valor de `a + 2*2` que vale `5`.\n",
    "\n",
    "Já no segundo exemplo o `a` dentro da função assume o valor de `b` de fora da função e o `b` de dentro da função assume o valor de `a` de fora da função.\n",
    "\n",
    "O primeiro exempl equivale a `soma2(1,2)` e o segundo exemplo a `soma2(2,1)`"
   ]
  },
  {
   "cell_type": "markdown",
   "id": "wired-stuff",
   "metadata": {},
   "source": [
    "### Exercício 2\n",
    "Escreva a função `máximo` que retorna o maior de dois números"
   ]
  },
  {
   "cell_type": "code",
   "execution_count": 5,
   "id": "tropical-paintball",
   "metadata": {},
   "outputs": [],
   "source": [
    "def máximo(a,b):\n",
    "    if a > b:\n",
    "        return a\n",
    "    else:\n",
    "        return b"
   ]
  },
  {
   "cell_type": "code",
   "execution_count": 6,
   "id": "orange-vision",
   "metadata": {},
   "outputs": [
    {
     "data": {
      "text/plain": [
       "2"
      ]
     },
     "execution_count": 6,
     "metadata": {},
     "output_type": "execute_result"
    }
   ],
   "source": [
    "máximo(1,2)"
   ]
  },
  {
   "cell_type": "code",
   "execution_count": 7,
   "id": "criminal-commonwealth",
   "metadata": {},
   "outputs": [
    {
     "data": {
      "text/plain": [
       "2"
      ]
     },
     "execution_count": 7,
     "metadata": {},
     "output_type": "execute_result"
    }
   ],
   "source": [
    "máximo(2,1)"
   ]
  },
  {
   "cell_type": "code",
   "execution_count": 8,
   "id": "intelligent-scout",
   "metadata": {},
   "outputs": [
    {
     "data": {
      "text/plain": [
       "1"
      ]
     },
     "execution_count": 8,
     "metadata": {},
     "output_type": "execute_result"
    }
   ],
   "source": [
    "máximo(1,1)"
   ]
  },
  {
   "cell_type": "markdown",
   "id": "valued-needle",
   "metadata": {},
   "source": [
    "### Exercício 3\n",
    "Escreva a função `múltiplo` que retorna `True` se o primeiro argumento for um múltiplo do segundo"
   ]
  },
  {
   "cell_type": "code",
   "execution_count": 15,
   "id": "fifth-gauge",
   "metadata": {},
   "outputs": [],
   "source": [
    "def múltiplo(a, b):\n",
    "    return a % b == 0 and a > 0\n"
   ]
  },
  {
   "cell_type": "code",
   "execution_count": 16,
   "id": "broke-glossary",
   "metadata": {},
   "outputs": [
    {
     "data": {
      "text/plain": [
       "False"
      ]
     },
     "execution_count": 16,
     "metadata": {},
     "output_type": "execute_result"
    }
   ],
   "source": [
    "múltiplo(1,2)"
   ]
  },
  {
   "cell_type": "code",
   "execution_count": 20,
   "id": "international-caution",
   "metadata": {},
   "outputs": [
    {
     "data": {
      "text/plain": [
       "False"
      ]
     },
     "execution_count": 20,
     "metadata": {},
     "output_type": "execute_result"
    }
   ],
   "source": [
    "múltiplo(0,2)"
   ]
  },
  {
   "cell_type": "code",
   "execution_count": 22,
   "id": "retired-trick",
   "metadata": {},
   "outputs": [
    {
     "data": {
      "text/plain": [
       "True"
      ]
     },
     "execution_count": 22,
     "metadata": {},
     "output_type": "execute_result"
    }
   ],
   "source": [
    "múltiplo(4,2)"
   ]
  },
  {
   "cell_type": "code",
   "execution_count": 23,
   "id": "wireless-victor",
   "metadata": {},
   "outputs": [
    {
     "data": {
      "text/plain": [
       "False"
      ]
     },
     "execution_count": 23,
     "metadata": {},
     "output_type": "execute_result"
    }
   ],
   "source": [
    "múltiplo(5,2)"
   ]
  },
  {
   "cell_type": "markdown",
   "id": "listed-transformation",
   "metadata": {},
   "source": [
    "### Exercício 4\n",
    "Escreva a função `área_quadrado` que recebe o lado de um quadrado e calcula a área."
   ]
  },
  {
   "cell_type": "code",
   "execution_count": 24,
   "id": "conceptual-fruit",
   "metadata": {},
   "outputs": [],
   "source": [
    "def área_quadrado(L):\n",
    "    return L*L\n"
   ]
  },
  {
   "cell_type": "code",
   "execution_count": 26,
   "id": "intellectual-forward",
   "metadata": {},
   "outputs": [
    {
     "data": {
      "text/plain": [
       "1"
      ]
     },
     "execution_count": 26,
     "metadata": {},
     "output_type": "execute_result"
    }
   ],
   "source": [
    "área_quadrado(1)"
   ]
  },
  {
   "cell_type": "code",
   "execution_count": 27,
   "id": "backed-going",
   "metadata": {},
   "outputs": [
    {
     "data": {
      "text/plain": [
       "4"
      ]
     },
     "execution_count": 27,
     "metadata": {},
     "output_type": "execute_result"
    }
   ],
   "source": [
    "área_quadrado(2)"
   ]
  },
  {
   "cell_type": "code",
   "execution_count": 28,
   "id": "photographic-creator",
   "metadata": {},
   "outputs": [
    {
     "data": {
      "text/plain": [
       "10.889999999999999"
      ]
     },
     "execution_count": 28,
     "metadata": {},
     "output_type": "execute_result"
    }
   ],
   "source": [
    "área_quadrado(3.3)"
   ]
  },
  {
   "cell_type": "markdown",
   "id": "spiritual-centre",
   "metadata": {},
   "source": [
    "### Exercício 5\n",
    "Escreve a função `área_triângulo` que recebe a base e a altura de um triângulo e retorna a sua área"
   ]
  },
  {
   "cell_type": "code",
   "execution_count": 29,
   "id": "biblical-position",
   "metadata": {},
   "outputs": [],
   "source": [
    "def área_triângulo(B,H):\n",
    "    return B*H/2"
   ]
  },
  {
   "cell_type": "code",
   "execution_count": 30,
   "id": "promotional-sheriff",
   "metadata": {},
   "outputs": [
    {
     "data": {
      "text/plain": [
       "0.5"
      ]
     },
     "execution_count": 30,
     "metadata": {},
     "output_type": "execute_result"
    }
   ],
   "source": [
    "área_triângulo(1,1)"
   ]
  },
  {
   "cell_type": "code",
   "execution_count": 31,
   "id": "broke-marshall",
   "metadata": {},
   "outputs": [
    {
     "data": {
      "text/plain": [
       "1.0"
      ]
     },
     "execution_count": 31,
     "metadata": {},
     "output_type": "execute_result"
    }
   ],
   "source": [
    "área_triângulo(1,2)"
   ]
  },
  {
   "cell_type": "markdown",
   "id": "inside-corner",
   "metadata": {},
   "source": [
    "### Exercício 6\n",
    "Reescreve a função para pesquisar uma lista (`pesquise`) acima de modo a que use os métodos de pesquisa em lista que vimos na última aula."
   ]
  },
  {
   "cell_type": "code",
   "execution_count": 35,
   "id": "weekly-chile",
   "metadata": {},
   "outputs": [],
   "source": [
    "def pesquise(L, val):\n",
    "    return L.index(val)"
   ]
  },
  {
   "cell_type": "code",
   "execution_count": 36,
   "id": "excessive-flight",
   "metadata": {},
   "outputs": [
    {
     "data": {
      "text/plain": [
       "2"
      ]
     },
     "execution_count": 36,
     "metadata": {},
     "output_type": "execute_result"
    }
   ],
   "source": [
    "pesquise([1,2,3,4], 3)"
   ]
  },
  {
   "cell_type": "code",
   "execution_count": 37,
   "id": "great-paris",
   "metadata": {},
   "outputs": [
    {
     "data": {
      "text/plain": [
       "3"
      ]
     },
     "execution_count": 37,
     "metadata": {},
     "output_type": "execute_result"
    }
   ],
   "source": [
    "pesquise([1,2,3,4], 4)"
   ]
  },
  {
   "cell_type": "code",
   "execution_count": 38,
   "id": "lasting-archives",
   "metadata": {},
   "outputs": [
    {
     "ename": "ValueError",
     "evalue": "5 is not in list",
     "output_type": "error",
     "traceback": [
      "\u001b[0;31m---------------------------------------------------------------------------\u001b[0m",
      "\u001b[0;31mValueError\u001b[0m                                Traceback (most recent call last)",
      "\u001b[0;32m/tmp/ipykernel_39169/664349085.py\u001b[0m in \u001b[0;36m<module>\u001b[0;34m\u001b[0m\n\u001b[0;32m----> 1\u001b[0;31m \u001b[0mpesquise\u001b[0m\u001b[0;34m(\u001b[0m\u001b[0;34m[\u001b[0m\u001b[0;36m1\u001b[0m\u001b[0;34m,\u001b[0m\u001b[0;36m2\u001b[0m\u001b[0;34m,\u001b[0m\u001b[0;36m3\u001b[0m\u001b[0;34m,\u001b[0m\u001b[0;36m4\u001b[0m\u001b[0;34m]\u001b[0m\u001b[0;34m,\u001b[0m \u001b[0;36m5\u001b[0m\u001b[0;34m)\u001b[0m\u001b[0;34m\u001b[0m\u001b[0;34m\u001b[0m\u001b[0m\n\u001b[0m",
      "\u001b[0;32m/tmp/ipykernel_39169/4221004609.py\u001b[0m in \u001b[0;36mpesquise\u001b[0;34m(L, val)\u001b[0m\n\u001b[1;32m      1\u001b[0m \u001b[0;32mdef\u001b[0m \u001b[0mpesquise\u001b[0m\u001b[0;34m(\u001b[0m\u001b[0mL\u001b[0m\u001b[0;34m,\u001b[0m \u001b[0mval\u001b[0m\u001b[0;34m)\u001b[0m\u001b[0;34m:\u001b[0m\u001b[0;34m\u001b[0m\u001b[0;34m\u001b[0m\u001b[0m\n\u001b[0;32m----> 2\u001b[0;31m     \u001b[0;32mreturn\u001b[0m \u001b[0mL\u001b[0m\u001b[0;34m.\u001b[0m\u001b[0mindex\u001b[0m\u001b[0;34m(\u001b[0m\u001b[0mval\u001b[0m\u001b[0;34m)\u001b[0m\u001b[0;34m\u001b[0m\u001b[0;34m\u001b[0m\u001b[0m\n\u001b[0m",
      "\u001b[0;31mValueError\u001b[0m: 5 is not in list"
     ]
    }
   ],
   "source": [
    "pesquise([1,2,3,4], 5)"
   ]
  },
  {
   "cell_type": "markdown",
   "id": "guided-consortium",
   "metadata": {},
   "source": [
    "### Exercício 7\n",
    "Defina uma função recursive que calcule o maior divisor comum (MDC) entre dois números a e b em que a > b.\n",
    "\n",
    "`mdc(a,b) = a` se `b==0` e se `a > b`, `mdc(a,b) = mdc(b, a % b)`\n"
   ]
  },
  {
   "cell_type": "code",
   "execution_count": 40,
   "id": "internal-dynamics",
   "metadata": {},
   "outputs": [],
   "source": [
    "def mdc(a,b):\n",
    "    if b==0:\n",
    "        return a\n",
    "    elif a > b:\n",
    "        return mdc(b, a % b)\n",
    "    else:\n",
    "        return mdc(a, b % a)"
   ]
  },
  {
   "cell_type": "code",
   "execution_count": 45,
   "id": "specialized-standard",
   "metadata": {},
   "outputs": [
    {
     "data": {
      "text/plain": [
       "2"
      ]
     },
     "execution_count": 45,
     "metadata": {},
     "output_type": "execute_result"
    }
   ],
   "source": [
    "mdc(8,2)"
   ]
  },
  {
   "cell_type": "code",
   "execution_count": 46,
   "id": "annual-dance",
   "metadata": {},
   "outputs": [
    {
     "data": {
      "text/plain": [
       "2"
      ]
     },
     "execution_count": 46,
     "metadata": {},
     "output_type": "execute_result"
    }
   ],
   "source": [
    "mdc(2,8)"
   ]
  },
  {
   "cell_type": "code",
   "execution_count": 47,
   "id": "special-sunglasses",
   "metadata": {},
   "outputs": [
    {
     "data": {
      "text/plain": [
       "8"
      ]
     },
     "execution_count": 47,
     "metadata": {},
     "output_type": "execute_result"
    }
   ],
   "source": [
    "mdc(8,8)"
   ]
  },
  {
   "cell_type": "code",
   "execution_count": 48,
   "id": "loved-preservation",
   "metadata": {},
   "outputs": [
    {
     "data": {
      "text/plain": [
       "24"
      ]
     },
     "execution_count": 48,
     "metadata": {},
     "output_type": "execute_result"
    }
   ],
   "source": [
    "mdc(1*2*3*4*5, 1*2*3*4)"
   ]
  },
  {
   "cell_type": "markdown",
   "id": "compact-voltage",
   "metadata": {},
   "source": [
    "### Exercício 8\n",
    "Usando a função `mdc` do exercício anterior, defina uma função para calcular o mínimo múltiplo comum (MMC) entre dois números:\n",
    "\n",
    "$$\n",
    "mmc(a,b) = \\frac{|a\\times b|}{mdc(a,b)}\n",
    "$$\n",
    "\n",
    "Lembre que $|a \\times b|$ é escrito como `abs(a * b)` em Python."
   ]
  },
  {
   "cell_type": "code",
   "execution_count": 49,
   "id": "smaller-invention",
   "metadata": {},
   "outputs": [],
   "source": [
    "def mmc(a,b):\n",
    "    return abs(a*b) // (mdc(a,b))"
   ]
  },
  {
   "cell_type": "code",
   "execution_count": 53,
   "id": "liable-girlfriend",
   "metadata": {},
   "outputs": [
    {
     "data": {
      "text/plain": [
       "20"
      ]
     },
     "execution_count": 53,
     "metadata": {},
     "output_type": "execute_result"
    }
   ],
   "source": [
    "mmc(4,5)"
   ]
  },
  {
   "cell_type": "code",
   "execution_count": 54,
   "id": "treated-silence",
   "metadata": {},
   "outputs": [
    {
     "data": {
      "text/plain": [
       "20"
      ]
     },
     "execution_count": 54,
     "metadata": {},
     "output_type": "execute_result"
    }
   ],
   "source": [
    "mmc(5,4)"
   ]
  },
  {
   "cell_type": "code",
   "execution_count": 55,
   "id": "optical-honor",
   "metadata": {},
   "outputs": [
    {
     "data": {
      "text/plain": [
       "20"
      ]
     },
     "execution_count": 55,
     "metadata": {},
     "output_type": "execute_result"
    }
   ],
   "source": [
    "mmc(5,5*4)"
   ]
  },
  {
   "cell_type": "markdown",
   "id": "laughing-cartridge",
   "metadata": {},
   "source": [
    "### Exercício 9\n",
    "\n",
    "Reescreva o programa para calcular a sequência de Fibonacci sem utilizar recursão.\n",
    "\n",
    "Compare o desempenho com a função recursiva. Se você estiver usando o notebook do jupyter ou o ipython você pode usar a instrução %time como mostrado a seguir\n",
    "\n",
    "\n"
   ]
  },
  {
   "cell_type": "code",
   "execution_count": 109,
   "id": "casual-proposal",
   "metadata": {},
   "outputs": [],
   "source": [
    "def fibonacci_recursivo(n):\n",
    "    if n <= 1:\n",
    "        return n\n",
    "    else:\n",
    "        return fibonacci_recursivo(n-1) + fibonacci_recursivo(n-2)"
   ]
  },
  {
   "cell_type": "code",
   "execution_count": 58,
   "id": "abstract-priest",
   "metadata": {},
   "outputs": [],
   "source": [
    "def fibonacci(n):\n",
    "    if n <= 1:\n",
    "        return n\n",
    "    fib_n_menos_1 = 0\n",
    "    fib_n = 1\n",
    "    \n",
    "    for i in range(2,n+1):\n",
    "        tmp = fib_n\n",
    "        fib_n = fib_n + fib_n_menos_1\n",
    "        fib_n_menos_1 = tmp\n",
    "    return fib_n\n",
    "\n",
    "    "
   ]
  },
  {
   "cell_type": "code",
   "execution_count": 65,
   "id": "advanced-fabric",
   "metadata": {},
   "outputs": [
    {
     "data": {
      "text/plain": [
       "[0, 1, 1, 2, 3, 5, 8, 13, 21, 34, 55]"
      ]
     },
     "execution_count": 65,
     "metadata": {},
     "output_type": "execute_result"
    }
   ],
   "source": [
    "[fibonacci(i) for i in range(11)]"
   ]
  },
  {
   "cell_type": "code",
   "execution_count": 66,
   "id": "controlled-ecuador",
   "metadata": {},
   "outputs": [
    {
     "data": {
      "text/plain": [
       "[0, 1, 1, 2, 3, 5, 8, 13, 21, 34, 55]"
      ]
     },
     "execution_count": 66,
     "metadata": {},
     "output_type": "execute_result"
    }
   ],
   "source": [
    "[fibonacci_recursivo(i) for i in range(11)]"
   ]
  },
  {
   "cell_type": "markdown",
   "id": "forbidden-relaxation",
   "metadata": {},
   "source": [
    "### Vamos medir o tempo:"
   ]
  },
  {
   "cell_type": "code",
   "execution_count": 87,
   "id": "statewide-symphony",
   "metadata": {},
   "outputs": [
    {
     "name": "stdout",
     "output_type": "stream",
     "text": [
      "279 ns ± 0.831 ns per loop (mean ± std. dev. of 7 runs, 1000000 loops each)\n"
     ]
    }
   ],
   "source": [
    "%timeit fibonacci(2)"
   ]
  },
  {
   "cell_type": "code",
   "execution_count": 88,
   "id": "limiting-liability",
   "metadata": {},
   "outputs": [
    {
     "name": "stdout",
     "output_type": "stream",
     "text": [
      "399 ns ± 2.29 ns per loop (mean ± std. dev. of 7 runs, 1000000 loops each)\n"
     ]
    }
   ],
   "source": [
    "%timeit fibonacci(5)"
   ]
  },
  {
   "cell_type": "code",
   "execution_count": 70,
   "id": "second-diamond",
   "metadata": {},
   "outputs": [
    {
     "name": "stdout",
     "output_type": "stream",
     "text": [
      "607 ns ± 1.09 ns per loop (mean ± std. dev. of 7 runs, 1000000 loops each)\n"
     ]
    }
   ],
   "source": [
    "%timeit fibonacci(10)"
   ]
  },
  {
   "cell_type": "code",
   "execution_count": 77,
   "id": "rising-detective",
   "metadata": {},
   "outputs": [
    {
     "name": "stdout",
     "output_type": "stream",
     "text": [
      "817 ns ± 1.45 ns per loop (mean ± std. dev. of 7 runs, 1000000 loops each)\n"
     ]
    }
   ],
   "source": [
    "%timeit fibonacci(15)"
   ]
  },
  {
   "cell_type": "code",
   "execution_count": 78,
   "id": "orange-constraint",
   "metadata": {},
   "outputs": [
    {
     "name": "stdout",
     "output_type": "stream",
     "text": [
      "1.06 µs ± 1.74 ns per loop (mean ± std. dev. of 7 runs, 1000000 loops each)\n"
     ]
    }
   ],
   "source": [
    "%timeit fibonacci(20)"
   ]
  },
  {
   "cell_type": "code",
   "execution_count": 79,
   "id": "seasonal-gossip",
   "metadata": {},
   "outputs": [
    {
     "name": "stdout",
     "output_type": "stream",
     "text": [
      "1.3 µs ± 4.71 ns per loop (mean ± std. dev. of 7 runs, 1000000 loops each)\n"
     ]
    }
   ],
   "source": [
    "%timeit fibonacci(25)"
   ]
  },
  {
   "cell_type": "code",
   "execution_count": 80,
   "id": "passing-authority",
   "metadata": {},
   "outputs": [
    {
     "name": "stdout",
     "output_type": "stream",
     "text": [
      "1.53 µs ± 4.33 ns per loop (mean ± std. dev. of 7 runs, 1000000 loops each)\n"
     ]
    }
   ],
   "source": [
    "%timeit fibonacci(30)"
   ]
  },
  {
   "cell_type": "code",
   "execution_count": 82,
   "id": "organized-airfare",
   "metadata": {},
   "outputs": [
    {
     "name": "stdout",
     "output_type": "stream",
     "text": [
      "1.78 µs ± 11.5 ns per loop (mean ± std. dev. of 7 runs, 1000000 loops each)\n"
     ]
    }
   ],
   "source": [
    "%timeit fibonacci(35)"
   ]
  },
  {
   "cell_type": "code",
   "execution_count": 83,
   "id": "dynamic-jungle",
   "metadata": {},
   "outputs": [
    {
     "name": "stdout",
     "output_type": "stream",
     "text": [
      "1.99 µs ± 5.67 ns per loop (mean ± std. dev. of 7 runs, 100000 loops each)\n"
     ]
    }
   ],
   "source": [
    "%timeit fibonacci(40)"
   ]
  },
  {
   "cell_type": "code",
   "execution_count": 125,
   "id": "large-moment",
   "metadata": {},
   "outputs": [],
   "source": [
    "n1 = [2, 5,10,15,20,25,30,35] #,40]\n",
    "t1 = [279e-9,399e-9, 607e-9, 817e-9, 1.06e-6, 1.3e-6, 1.53e-6, 1.78e-6] #, 1.99e-6]"
   ]
  },
  {
   "cell_type": "code",
   "execution_count": 93,
   "id": "rolled-blowing",
   "metadata": {},
   "outputs": [],
   "source": [
    "from matplotlib import pyplot as plt"
   ]
  },
  {
   "cell_type": "code",
   "execution_count": 100,
   "id": "indie-impact",
   "metadata": {},
   "outputs": [
    {
     "data": {
      "text/plain": [
       "[<matplotlib.lines.Line2D at 0x7f2781094190>]"
      ]
     },
     "execution_count": 100,
     "metadata": {},
     "output_type": "execute_result"
    },
    {
     "data": {
      "image/png": "[encoded data removed]",
      "text/plain": [
       "<Figure size 432x288 with 1 Axes>"
      ]
     },
     "metadata": {
      "needs_background": "light"
     },
     "output_type": "display_data"
    }
   ],
   "source": [
    "plt.plot(n1, t1, \"o\")"
   ]
  },
  {
   "cell_type": "code",
   "execution_count": 110,
   "id": "potential-barcelona",
   "metadata": {},
   "outputs": [
    {
     "name": "stdout",
     "output_type": "stream",
     "text": [
      "300 ns ± 0.703 ns per loop (mean ± std. dev. of 7 runs, 1000000 loops each)\n"
     ]
    }
   ],
   "source": [
    "%timeit fibonacci_recursivo(2)"
   ]
  },
  {
   "cell_type": "code",
   "execution_count": 111,
   "id": "authentic-controversy",
   "metadata": {},
   "outputs": [
    {
     "name": "stdout",
     "output_type": "stream",
     "text": [
      "1.46 µs ± 2.44 ns per loop (mean ± std. dev. of 7 runs, 1000000 loops each)\n"
     ]
    }
   ],
   "source": [
    "%timeit fibonacci_recursivo(5)"
   ]
  },
  {
   "cell_type": "code",
   "execution_count": 112,
   "id": "informative-alexandria",
   "metadata": {},
   "outputs": [
    {
     "name": "stdout",
     "output_type": "stream",
     "text": [
      "17.1 µs ± 20.9 ns per loop (mean ± std. dev. of 7 runs, 100000 loops each)\n"
     ]
    }
   ],
   "source": [
    "%timeit fibonacci_recursivo(10)"
   ]
  },
  {
   "cell_type": "code",
   "execution_count": 113,
   "id": "another-meditation",
   "metadata": {},
   "outputs": [
    {
     "name": "stdout",
     "output_type": "stream",
     "text": [
      "190 µs ± 681 ns per loop (mean ± std. dev. of 7 runs, 10000 loops each)\n"
     ]
    }
   ],
   "source": [
    "%timeit fibonacci_recursivo(15)"
   ]
  },
  {
   "cell_type": "code",
   "execution_count": 114,
   "id": "compliant-million",
   "metadata": {},
   "outputs": [
    {
     "name": "stdout",
     "output_type": "stream",
     "text": [
      "2.13 ms ± 7.45 µs per loop (mean ± std. dev. of 7 runs, 100 loops each)\n"
     ]
    }
   ],
   "source": [
    "%timeit fibonacci_recursivo(20)"
   ]
  },
  {
   "cell_type": "code",
   "execution_count": 115,
   "id": "decreased-landing",
   "metadata": {},
   "outputs": [
    {
     "name": "stdout",
     "output_type": "stream",
     "text": [
      "23.5 ms ± 89.6 µs per loop (mean ± std. dev. of 7 runs, 10 loops each)\n"
     ]
    }
   ],
   "source": [
    "%timeit fibonacci_recursivo(25)"
   ]
  },
  {
   "cell_type": "code",
   "execution_count": 116,
   "id": "imperial-range",
   "metadata": {},
   "outputs": [
    {
     "name": "stdout",
     "output_type": "stream",
     "text": [
      "260 ms ± 711 µs per loop (mean ± std. dev. of 7 runs, 1 loop each)\n"
     ]
    }
   ],
   "source": [
    "%timeit fibonacci_recursivo(30)"
   ]
  },
  {
   "cell_type": "code",
   "execution_count": 118,
   "id": "complimentary-convention",
   "metadata": {},
   "outputs": [
    {
     "name": "stdout",
     "output_type": "stream",
     "text": [
      "2.92 s ± 5.12 ms per loop (mean ± std. dev. of 7 runs, 1 loop each)\n"
     ]
    }
   ],
   "source": [
    "%timeit fibonacci_recursivo(35)"
   ]
  },
  {
   "cell_type": "code",
   "execution_count": null,
   "id": "seeing-seminar",
   "metadata": {},
   "outputs": [],
   "source": []
  },
  {
   "cell_type": "code",
   "execution_count": 119,
   "id": "every-nothing",
   "metadata": {},
   "outputs": [],
   "source": [
    "n2 = [2,5,10,15,20, 25, 30, 35]\n",
    "t2 = [300e-9, 1.46e-6, 17.1e-6, 190e-6, 2.13e-3, 23.5e-3, 260e-3, 2.92]"
   ]
  },
  {
   "cell_type": "code",
   "execution_count": 120,
   "id": "excited-fever",
   "metadata": {},
   "outputs": [
    {
     "data": {
      "text/plain": [
       "[<matplotlib.lines.Line2D at 0x7f2781079730>]"
      ]
     },
     "execution_count": 120,
     "metadata": {},
     "output_type": "execute_result"
    },
    {
     "data": {
      "image/png": "[encoded data removed]",
      "text/plain": [
       "<Figure size 432x288 with 1 Axes>"
      ]
     },
     "metadata": {
      "needs_background": "light"
     },
     "output_type": "display_data"
    }
   ],
   "source": [
    "plt.plot(n2, t2, \"o\")"
   ]
  },
  {
   "cell_type": "code",
   "execution_count": 124,
   "id": "graduate-october",
   "metadata": {},
   "outputs": [
    {
     "data": {
      "text/plain": [
       "[<matplotlib.lines.Line2D at 0x7f27810cb700>]"
      ]
     },
     "execution_count": 124,
     "metadata": {},
     "output_type": "execute_result"
    },
    {
     "data": {
      "image/png": "[encoded data removed]",
      "text/plain": [
       "<Figure size 432x288 with 1 Axes>"
      ]
     },
     "metadata": {
      "needs_background": "light"
     },
     "output_type": "display_data"
    }
   ],
   "source": [
    "\n",
    "plt.semilogy(n1, t1, \"ro\", label=\"Iteração\")\n",
    "plt.semilogy(n2, t2, \"bs\", label=\"Iteração\")"
   ]
  },
  {
   "cell_type": "code",
   "execution_count": 127,
   "id": "ambient-immune",
   "metadata": {},
   "outputs": [],
   "source": [
    "fator_mult = [t2[i] / t1[i] for i in range(len(t1))]"
   ]
  },
  {
   "cell_type": "code",
   "execution_count": 130,
   "id": "hourly-biotechnology",
   "metadata": {},
   "outputs": [
    {
     "data": {
      "text/plain": [
       "[<matplotlib.lines.Line2D at 0x7f2780cfd850>]"
      ]
     },
     "execution_count": 130,
     "metadata": {},
     "output_type": "execute_result"
    },
    {
     "data": {
      "image/png": "[encoded data removed]",
      "text/plain": [
       "<Figure size 432x288 with 1 Axes>"
      ]
     },
     "metadata": {
      "needs_background": "light"
     },
     "output_type": "display_data"
    }
   ],
   "source": [
    "plt.semilogy(n1, fator_mult, \"ro\")"
   ]
  },
  {
   "cell_type": "markdown",
   "id": "happy-hypothetical",
   "metadata": {},
   "source": [
    "#### Análise do custo\n",
    "\n",
    "O custo de cálculo do número de Fibonacci aumenta linearmente conforme n aumenta. \n",
    "\n",
    "Já a usando a definição recursiva, o custo aumenta de maneira considerável. No último gráfico, com eixo log em y, pode-se ver que o custo da função recursiva aumenta exponencialmente em relação à implementação usando iteração. Assim, dado um número `n`, o custo computacional pode ser descrito assim:\n",
    "\n",
    "* Algoritmo iterativo: $\\mathcal{O}(n)$\n",
    "* Algoritmo recursivo: $\\mathcal{O}(n\\cdot \\exp n)$\n"
   ]
  },
  {
   "cell_type": "markdown",
   "id": "specific-episode",
   "metadata": {},
   "source": [
    "### Exercício 10\n",
    "Na aula 03 implementamos o algoritmo de reordenação de listas bubble sort. Crie uma função `bubble_sort` que reordena os elementos de uma lista de números em ordem crescente"
   ]
  },
  {
   "cell_type": "code",
   "execution_count": 131,
   "id": "portuguese-methodology",
   "metadata": {},
   "outputs": [],
   "source": [
    "def bubble_sort(L):\n",
    "    N = len(L)\n",
    "    for i in range(N):\n",
    "        trocou = False\n",
    "        for k in range(N-i-1):\n",
    "            if L[k] > L[k+1]: # Inverter a posição\n",
    "                trocou = True\n",
    "                tmp = L[k]\n",
    "                L[k] = L[k+1]\n",
    "                L[k+1] = tmp\n",
    "        if not trocou:\n",
    "            break\n",
    "    \n"
   ]
  },
  {
   "cell_type": "code",
   "execution_count": 135,
   "id": "defined-recognition",
   "metadata": {},
   "outputs": [
    {
     "data": {
      "text/plain": [
       "[2, 3, 4, 4, 5, 6, 6, 23, 32, 345, 2345]"
      ]
     },
     "execution_count": 135,
     "metadata": {},
     "output_type": "execute_result"
    }
   ],
   "source": [
    "L = [23,4,5,2,3,6,2345,6,32,345,4]\n",
    "bubble_sort(L)\n",
    "L"
   ]
  },
  {
   "cell_type": "markdown",
   "id": "environmental-arizona",
   "metadata": {},
   "source": [
    "### Exercício 11\n",
    "Mude o programa do exercício 10 de modo que tenha um segundo parâmetro `comparador` que é uma função que compara dois elementos\n",
    "```python\n",
    "def maior(a, b):\n",
    "    return a > b\n",
    "\n",
    "def bubble_sort(L, comparador=maior)\n",
    "    # Corpo da função\n",
    "```\n",
    "Esse segundo parâmetro é o que compara os elementos da lista. Se esse parâmetros for a função `maior`, a lista será reordenada em ordem crescente.\n",
    "\n",
    "Qual seria a função passada para o parâmetro `comparador` para que a lista fosse reordenada em ordem decrescente?"
   ]
  },
  {
   "cell_type": "code",
   "execution_count": 136,
   "id": "adolescent-albany",
   "metadata": {},
   "outputs": [],
   "source": [
    "def maior(a,b):\n",
    "    return a > b\n",
    "def menor(a,b):\n",
    "    return a < b\n"
   ]
  },
  {
   "cell_type": "code",
   "execution_count": 137,
   "id": "solid-report",
   "metadata": {},
   "outputs": [],
   "source": [
    "def bubble_sort(L, comparador=maior):\n",
    "    N = len(L)\n",
    "    for i in range(N):\n",
    "        trocou = False\n",
    "        for k in range(N-i-1):\n",
    "            if comparador(L[k],L[k+1]): # Inverter a posição\n",
    "                trocou = True\n",
    "                tmp = L[k]\n",
    "                L[k] = L[k+1]\n",
    "                L[k+1] = tmp\n",
    "        if not trocou:\n",
    "            break\n",
    "    \n"
   ]
  },
  {
   "cell_type": "code",
   "execution_count": 138,
   "id": "surface-wallace",
   "metadata": {},
   "outputs": [
    {
     "data": {
      "text/plain": [
       "[2, 3, 4, 4, 5, 6, 6, 23, 32, 345, 2345]"
      ]
     },
     "execution_count": 138,
     "metadata": {},
     "output_type": "execute_result"
    }
   ],
   "source": [
    "L = [23,4,5,2,3,6,2345,6,32,345,4]\n",
    "bubble_sort(L, maior)\n",
    "L"
   ]
  },
  {
   "cell_type": "code",
   "execution_count": 139,
   "id": "acceptable-valuable",
   "metadata": {},
   "outputs": [
    {
     "data": {
      "text/plain": [
       "[2345, 345, 32, 23, 6, 6, 5, 4, 4, 3, 2]"
      ]
     },
     "execution_count": 139,
     "metadata": {},
     "output_type": "execute_result"
    }
   ],
   "source": [
    "L = [23,4,5,2,3,6,2345,6,32,345,4]\n",
    "bubble_sort(L, menor)\n",
    "L"
   ]
  },
  {
   "cell_type": "markdown",
   "id": "systematic-peninsula",
   "metadata": {},
   "source": [
    "### Exercício 12\n",
    "Escreva uma função `mapa` que recebe como primeiro parâmetro uma função e segundo parâmetro uma lista e cria uma nova lista aplicando esta função em cada elemento da lista. \n",
    "    \n",
    "\n",
    "Exemplo:\n",
    "```python-repl\n",
    "In [10]: def dobro(n):\n",
    "    ...:     return 2*n\n",
    "    ...: \n",
    "\n",
    "In [11]: mapa(dobro, [1,2,3])\n",
    "Out[11]: [2, 4, 6]\n",
    "```\n"
   ]
  },
  {
   "cell_type": "code",
   "execution_count": 141,
   "id": "amber-valentine",
   "metadata": {},
   "outputs": [],
   "source": [
    "def mapa(fun, L):\n",
    "    Lout = []\n",
    "    for e in L:\n",
    "        v = fun(e)\n",
    "        Lout.append(v)\n",
    "    return Lout"
   ]
  },
  {
   "cell_type": "code",
   "execution_count": 142,
   "id": "economic-carry",
   "metadata": {},
   "outputs": [
    {
     "data": {
      "text/plain": [
       "[0, 2, 4, 6, 8, 10, 12, 14, 16, 18]"
      ]
     },
     "execution_count": 142,
     "metadata": {},
     "output_type": "execute_result"
    }
   ],
   "source": [
    "def dobro(n):\n",
    "    return 2*n\n",
    "mapa(dobro, range(10))"
   ]
  },
  {
   "cell_type": "code",
   "execution_count": 144,
   "id": "revised-baker",
   "metadata": {},
   "outputs": [
    {
     "data": {
      "text/plain": [
       "[0, 1, 4, 9, 16, 25, 36, 49, 64, 81]"
      ]
     },
     "execution_count": 144,
     "metadata": {},
     "output_type": "execute_result"
    }
   ],
   "source": [
    "mapa(lambda x: x**2, range(10))"
   ]
  },
  {
   "cell_type": "code",
   "execution_count": 145,
   "id": "resident-moses",
   "metadata": {},
   "outputs": [
    {
     "data": {
      "text/plain": [
       "[3, 2, 1, 0, 7, 6, 5, 4, 11, 10]"
      ]
     },
     "execution_count": 145,
     "metadata": {},
     "output_type": "execute_result"
    }
   ],
   "source": [
    "mapa(lambda x: x^3, range(10))"
   ]
  },
  {
   "cell_type": "markdown",
   "id": "unauthorized-czech",
   "metadata": {},
   "source": [
    "#### Funções lamda\n",
    "\n",
    "São funções pequenas de uma linha que são usadas para serem passadas como argumentos"
   ]
  },
  {
   "cell_type": "code",
   "execution_count": null,
   "id": "wooden-japanese",
   "metadata": {},
   "outputs": [],
   "source": []
  }
 ],
 "metadata": {
  "kernelspec": {
   "display_name": "Python 3 (ipykernel)",
   "language": "python",
   "name": "python3"
  },
  "language_info": {
   "codemirror_mode": {
    "name": "ipython",
    "version": 3
   },
   "file_extension": ".py",
   "mimetype": "text/x-python",
   "name": "python",
   "nbconvert_exporter": "python",
   "pygments_lexer": "ipython3",
   "version": "3.9.7"
  }
 },
 "nbformat": 4,
 "nbformat_minor": 5
}
